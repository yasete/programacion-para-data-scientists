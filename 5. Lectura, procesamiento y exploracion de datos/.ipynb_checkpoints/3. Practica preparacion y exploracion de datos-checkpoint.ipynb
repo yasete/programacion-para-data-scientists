{
 "cells": [
  {
   "cell_type": "markdown",
   "metadata": {},
   "source": [
    "# 3. Práctica sobre procesamiento y exploración de datos"
   ]
  },
  {
   "cell_type": "markdown",
   "metadata": {},
   "source": [
    "    1. Importar los datos liga española de primera división posteriores al break Covid-19.(/datos/all-euro-data-2020-2021.xlsx, hoja 'SP1'.\n",
    "    \n",
    "    2. Limpiar todos los valores nulos imputando para cada uno de ellos la mediana de su columna.\n",
    "    \n",
    "    3. Calcular con funciones de dataframe la media y desviación estándar de las columnas ['HTHG','HTAG','FTHG','FTAG'] que corresponden a los goles en el descanso del equipo de casa y visitante, y al final del partido del equipo de casa y visitante, respectivamente.\n",
    "    \n",
    "    4. Calcular qué pareja de variables de las mencionadas tienen mayor correlación.\n",
    "    \n",
    "    5. Calcular la matriz de covarianza sobre las anteriores variables y hacer un ranking de mayor a menor varianza.\n",
    "    \n",
    "    6. Discutir cómo varía cada variable con respecto a las otras usando los valores de la matriz de covarianza.\n",
    "    \n",
    "    7. Hacer un label encoding con los campos 'Div' (liga), 'HomeTeam' y 'AwayTeam'.\n",
    "    \n",
    "    8. Normalizar las variables ['HTHG','HTAG','FTHG','FTAG'] y volver a calcular la matriz de covarianza. Discusión sobre la matriz de covarianza normalizada.\n",
    "    \n",
    "    9. Escribir una función que tome dos valores de score (goles home team, goles away team) y devuelva 'H' si gana el de casa, 'A' el de fuera o 'D' en caso de empate.\n",
    "    \n",
    "    10. Ejecutar la función anterior usando la función .apply(lambda) sobre toda la matriz con variables ['FTHG','FTAG'] escribiendo el resultado en una nueva columna llamada 'resultado'."
   ]
  },
  {
   "cell_type": "code",
   "execution_count": null,
   "metadata": {},
   "outputs": [],
   "source": []
  }
 ],
 "metadata": {
  "kernelspec": {
   "display_name": "Python 3",
   "language": "python",
   "name": "python3"
  },
  "language_info": {
   "codemirror_mode": {
    "name": "ipython",
    "version": 3
   },
   "file_extension": ".py",
   "mimetype": "text/x-python",
   "name": "python",
   "nbconvert_exporter": "python",
   "pygments_lexer": "ipython3",
   "version": "3.7.3"
  }
 },
 "nbformat": 4,
 "nbformat_minor": 2
}
