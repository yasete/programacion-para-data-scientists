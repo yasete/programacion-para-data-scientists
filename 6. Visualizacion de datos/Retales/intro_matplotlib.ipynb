{
 "cells": [
  {
   "cell_type": "code",
   "execution_count": 1,
   "metadata": {
    "colab": {
     "autoexec": {
      "startup": false,
      "wait_interval": 0
     }
    },
    "colab_type": "code",
    "id": "EjnYncYaUDUP"
   },
   "outputs": [],
   "source": [
    "# For compatibility between Python 2 and Python 3\n",
    "from __future__ import print_function "
   ]
  },
  {
   "cell_type": "code",
   "execution_count": 2,
   "metadata": {
    "colab": {
     "autoexec": {
      "startup": false,
      "wait_interval": 0
     }
    },
    "colab_type": "code",
    "id": "fgjaT4YpUDUS"
   },
   "outputs": [],
   "source": [
    "import numpy as np\n",
    "import matplotlib.pyplot as plt\n",
    "\n",
    "\n",
    "# To Plot matplotlib figures inline on the notebook\n",
    "%matplotlib inline"
   ]
  },
  {
   "cell_type": "code",
   "execution_count": 3,
   "metadata": {
    "colab": {
     "autoexec": {
      "startup": false,
      "wait_interval": 0
     },
     "base_uri": "https://localhost:8080/",
     "height": 85
    },
    "colab_type": "code",
    "executionInfo": {
     "elapsed": 663,
     "status": "ok",
     "timestamp": 1528465342938,
     "user": {
      "displayName": "frank sharp",
      "photoUrl": "//lh4.googleusercontent.com/-hmaN7epDm9A/AAAAAAAAAAI/AAAAAAAAAEE/4vur6S2uRNs/s50-c-k-no/photo.jpg",
      "userId": "108625797648255537312"
     },
     "user_tz": -120
    },
    "id": "ZhkeCeE9UDUU",
    "outputId": "e88e3b99-9fa1-4f1a-c680-cfb06e8402ab"
   },
   "outputs": [
    {
     "name": "stdout",
     "output_type": "stream",
     "text": [
      "Python Version: 3.6.4 |Anaconda, Inc.| (default, Jan 16 2018, 18:10:19) \n",
      "[GCC 7.2.0]\n",
      "Numpy Version: 1.14.1\n",
      "MatPlotLib Version: 2.2.0\n"
     ]
    }
   ],
   "source": [
    "# Verify our versions\n",
    "import matplotlib\n",
    "import sys\n",
    "\n",
    "print(\"Python Version:\", sys.version)\n",
    "print(\"Numpy Version:\", np.__version__)\n",
    "print(\"MatPlotLib Version:\", matplotlib.__version__)"
   ]
  },
  {
   "cell_type": "markdown",
   "metadata": {
    "colab_type": "text",
    "id": "rXy7G_dMUDUY"
   },
   "source": [
    "# Line plots\n",
    "\n",
    "**Usage**: Showing trends in data -- usually time series data with many time points.\n",
    "\n",
    "**Documentaton**: [plot(x, y)](http://matplotlib.org/api/pyplot_api.html#matplotlib.pyplot.plot)\n",
    "\n",
    "* `x`, `y`: The values for the two variables."
   ]
  },
  {
   "cell_type": "code",
   "execution_count": 5,
   "metadata": {
    "colab": {
     "autoexec": {
      "startup": false,
      "wait_interval": 0
     }
    },
    "colab_type": "code",
    "id": "wrvk2ImqUDUZ"
   },
   "outputs": [
    {
     "name": "stdout",
     "output_type": "stream",
     "text": [
      "[0, 1, 2, 3, 4, 5, 6, 7, 8, 9]\n",
      "[0, 1, 2, 3, 4, 5, 6, 7, 8, 9]\n"
     ]
    }
   ],
   "source": [
    "x = list(range(10))\n",
    "y = list(range(10))\n",
    "\n",
    "print(x)\n",
    "print(y)"
   ]
  },
  {
   "cell_type": "code",
   "execution_count": 10,
   "metadata": {
    "colab": {
     "autoexec": {
      "startup": false,
      "wait_interval": 0
     },
     "base_uri": "https://localhost:8080/",
     "height": 265
    },
    "colab_type": "code",
    "executionInfo": {
     "elapsed": 842,
     "status": "ok",
     "timestamp": 1528465361682,
     "user": {
      "displayName": "frank sharp",
      "photoUrl": "//lh4.googleusercontent.com/-hmaN7epDm9A/AAAAAAAAAAI/AAAAAAAAAEE/4vur6S2uRNs/s50-c-k-no/photo.jpg",
      "userId": "108625797648255537312"
     },
     "user_tz": -120
    },
    "id": "hRoHpa51UDUb",
    "outputId": "4a394952-0710-4f50-cced-10ee75892a5e"
   },
   "outputs": [
    {
     "data": {
      "image/png": "[encoded data removed]",
      "text/plain": [
       "<Figure size 432x288 with 1 Axes>"
      ]
     },
     "metadata": {},
     "output_type": "display_data"
    }
   ],
   "source": [
    "plt.plot(x, y);"
   ]
  },
  {
   "cell_type": "code",
   "execution_count": 11,
   "metadata": {
    "colab": {
     "autoexec": {
      "startup": false,
      "wait_interval": 0
     }
    },
    "colab_type": "code",
    "id": "y07YljbWUDUf"
   },
   "outputs": [],
   "source": [
    "# we can see that plt.plot is an incredibly flexible function\n",
    "plt.plot?"
   ]
  },
  {
   "cell_type": "code",
   "execution_count": 12,
   "metadata": {
    "colab": {
     "autoexec": {
      "startup": false,
      "wait_interval": 0
     },
     "base_uri": "https://localhost:8080/",
     "height": 282
    },
    "colab_type": "code",
    "executionInfo": {
     "elapsed": 1019,
     "status": "ok",
     "timestamp": 1525360199567,
     "user": {
      "displayName": "Georgina Bilali",
      "photoUrl": "https://lh3.googleusercontent.com/a/default-user=s128",
      "userId": "114444159360292123227"
     },
     "user_tz": -180
    },
    "id": "4-QX0X9kUDUg",
    "outputId": "c52b0a2a-a0e5-46c8-a53b-9416e42f939d"
   },
   "outputs": [
    {
     "data": {
      "image/png": "[encoded data removed]",
      "text/plain": [
       "<Figure size 432x288 with 1 Axes>"
      ]
     },
     "metadata": {},
     "output_type": "display_data"
    }
   ],
   "source": [
    "plt.plot(x, np.power(x, 2));"
   ]
  },
  {
   "cell_type": "code",
   "execution_count": 13,
   "metadata": {
    "colab": {
     "autoexec": {
      "startup": false,
      "wait_interval": 0
     },
     "base_uri": "https://localhost:8080/",
     "height": 34
    },
    "colab_type": "code",
    "executionInfo": {
     "elapsed": 974,
     "status": "ok",
     "timestamp": 1525360200616,
     "user": {
      "displayName": "Georgina Bilali",
      "photoUrl": "https://lh3.googleusercontent.com/a/default-user=s128",
      "userId": "114444159360292123227"
     },
     "user_tz": -180
    },
    "id": "_aPZRaIuUDUl",
    "outputId": "107b4e1a-ca40-44c0-bd11-e4fdc7f0d450"
   },
   "outputs": [
    {
     "data": {
      "text/plain": [
       "[0, 1, 2, 3, 4, 5, 6, 7, 8, 9]"
      ]
     },
     "execution_count": 13,
     "metadata": {},
     "output_type": "execute_result"
    }
   ],
   "source": [
    "x"
   ]
  },
  {
   "cell_type": "code",
   "execution_count": 9,
   "metadata": {
    "colab": {
     "autoexec": {
      "startup": false,
      "wait_interval": 0
     },
     "base_uri": "https://localhost:8080/",
     "height": 34
    },
    "colab_type": "code",
    "executionInfo": {
     "elapsed": 829,
     "status": "ok",
     "timestamp": 1525360201535,
     "user": {
      "displayName": "Georgina Bilali",
      "photoUrl": "https://lh3.googleusercontent.com/a/default-user=s128",
      "userId": "114444159360292123227"
     },
     "user_tz": -180
    },
    "id": "WQEkAb7bUDUn",
    "outputId": "5d59343c-e6aa-4700-b695-d6ef2d8ddf85"
   },
   "outputs": [
    {
     "data": {
      "text/plain": [
       "array([ 0,  1,  4,  9, 16, 25, 36, 49, 64, 81])"
      ]
     },
     "execution_count": 9,
     "metadata": {},
     "output_type": "execute_result"
    }
   ],
   "source": [
    "# Numpy Broadcasting\n",
    "np.power(x, 2)"
   ]
  },
  {
   "cell_type": "code",
   "execution_count": 14,
   "metadata": {
    "colab": {
     "autoexec": {
      "startup": false,
      "wait_interval": 0
     },
     "base_uri": "https://localhost:8080/",
     "height": 265
    },
    "colab_type": "code",
    "executionInfo": {
     "elapsed": 1145,
     "status": "ok",
     "timestamp": 1525360202747,
     "user": {
      "displayName": "Georgina Bilali",
      "photoUrl": "https://lh3.googleusercontent.com/a/default-user=s128",
      "userId": "114444159360292123227"
     },
     "user_tz": -180
    },
    "id": "UexpnOb-UDUr",
    "outputId": "10cd571c-fbce-49f8-d61d-5ed402eb60bd"
   },
   "outputs": [
    {
     "data": {
      "image/png": "[encoded data removed]",
      "text/plain": [
       "<Figure size 432x288 with 1 Axes>"
      ]
     },
     "metadata": {},
     "output_type": "display_data"
    }
   ],
   "source": [
    "# You can plot any math function through the functions in Numpy Module\n",
    "\n",
    "x = range(20)\n",
    "y = np.sin(x)\n",
    "\n",
    "plt.plot(x, y);"
   ]
  },
  {
   "cell_type": "code",
   "execution_count": 15,
   "metadata": {
    "colab": {
     "autoexec": {
      "startup": false,
      "wait_interval": 0
     },
     "base_uri": "https://localhost:8080/",
     "height": 265
    },
    "colab_type": "code",
    "executionInfo": {
     "elapsed": 1104,
     "status": "ok",
     "timestamp": 1525360203913,
     "user": {
      "displayName": "Georgina Bilali",
      "photoUrl": "https://lh3.googleusercontent.com/a/default-user=s128",
      "userId": "114444159360292123227"
     },
     "user_tz": -180
    },
    "id": "WIaAdxAQUDUv",
    "outputId": "04828ac6-90cf-4dc0-92c1-eb0589a3aaf5"
   },
   "outputs": [
    {
     "data": {
      "image/png": "[encoded data removed]",
      "text/plain": [
       "<Figure size 432x288 with 1 Axes>"
      ]
     },
     "metadata": {},
     "output_type": "display_data"
    }
   ],
   "source": [
    "x = np.linspace(0, 20)\n",
    "y = np.sin(x)\n",
    "\n",
    "my_sine=plt.plot(x, y);"
   ]
  },
  {
   "cell_type": "code",
   "execution_count": 17,
   "metadata": {
    "colab": {
     "autoexec": {
      "startup": false,
      "wait_interval": 0
     },
     "base_uri": "https://localhost:8080/",
     "height": 333
    },
    "colab_type": "code",
    "executionInfo": {
     "elapsed": 1110,
     "status": "ok",
     "timestamp": 1525360205093,
     "user": {
      "displayName": "Georgina Bilali",
      "photoUrl": "https://lh3.googleusercontent.com/a/default-user=s128",
      "userId": "114444159360292123227"
     },
     "user_tz": -180
    },
    "id": "iwbdJBzQUDUy",
    "outputId": "2157a4f0-8556-44ef-f708-421ec9c3cc4f"
   },
   "outputs": [
    {
     "data": {
      "text/plain": [
       "([<matplotlib.axis.YTick at 0x7fc5d9a8cc88>,\n",
       "  <matplotlib.axis.YTick at 0x7fc5d9a86cc0>,\n",
       "  <matplotlib.axis.YTick at 0x7fc5d9a42198>],\n",
       " <a list of 3 Text yticklabel objects>)"
      ]
     },
     "execution_count": 17,
     "metadata": {},
     "output_type": "execute_result"
    },
    {
     "data": {
      "image/png": "[encoded data removed]",
      "text/plain": [
       "<Figure size 432x288 with 1 Axes>"
      ]
     },
     "metadata": {},
     "output_type": "display_data"
    }
   ],
   "source": [
    "X= np.linspace(-np.pi, np.pi, 256, endpoint=True)\n",
    "C,S= np.cos(X), np.sin(X)\n",
    "plt.plot(X,C, label='line 1')\n",
    "plt.plot(X,S, label='line 2');\n",
    "\n",
    "plt.legend()\n",
    "plt.xticks([-np.pi, -np.pi/2,np.pi/2,np.pi])\n",
    "plt.yticks([-1,0,1])"
   ]
  },
  {
   "cell_type": "code",
   "execution_count": 18,
   "metadata": {
    "colab": {
     "autoexec": {
      "startup": false,
      "wait_interval": 0
     }
    },
    "colab_type": "code",
    "id": "DRmqrn4aUDU2"
   },
   "outputs": [],
   "source": [
    "plt.show()"
   ]
  },
  {
   "cell_type": "markdown",
   "metadata": {
    "colab_type": "text",
    "id": "HFegCXsWUDU4"
   },
   "source": [
    "# Scatter plots\n",
    "\n",
    "**Usage**: Displaying relationships between variables.\n",
    "\n",
    "**Documentation**: [`scatter(x, y)`](http://matplotlib.org/api/pyplot_api.html#matplotlib.pyplot.scatter)\n",
    "\n",
    "* `x`, `y`: The values for the two variables."
   ]
  },
  {
   "cell_type": "code",
   "execution_count": 19,
   "metadata": {
    "colab": {
     "autoexec": {
      "startup": false,
      "wait_interval": 0
     },
     "base_uri": "https://localhost:8080/",
     "height": 270
    },
    "colab_type": "code",
    "executionInfo": {
     "elapsed": 679,
     "status": "ok",
     "timestamp": 1528465418970,
     "user": {
      "displayName": "frank sharp",
      "photoUrl": "//lh4.googleusercontent.com/-hmaN7epDm9A/AAAAAAAAAAI/AAAAAAAAAEE/4vur6S2uRNs/s50-c-k-no/photo.jpg",
      "userId": "108625797648255537312"
     },
     "user_tz": -120
    },
    "id": "lRfs_eMPUDU5",
    "outputId": "fb810968-8dfe-45b1-f1fe-cd22743109f4"
   },
   "outputs": [
    {
     "data": {
      "image/png": "[encoded data removed]",
      "text/plain": [
       "<Figure size 432x288 with 1 Axes>"
      ]
     },
     "metadata": {},
     "output_type": "display_data"
    }
   ],
   "source": [
    "# A more realistic Example?\n",
    "\n",
    "x = range(20)\n",
    "y = range(20)\n",
    "\n",
    "plt.scatter(x, y);"
   ]
  },
  {
   "cell_type": "code",
   "execution_count": 20,
   "metadata": {
    "colab": {
     "autoexec": {
      "startup": false,
      "wait_interval": 0
     },
     "base_uri": "https://localhost:8080/",
     "height": 265
    },
    "colab_type": "code",
    "executionInfo": {
     "elapsed": 637,
     "status": "ok",
     "timestamp": 1528465423583,
     "user": {
      "displayName": "frank sharp",
      "photoUrl": "//lh4.googleusercontent.com/-hmaN7epDm9A/AAAAAAAAAAI/AAAAAAAAAEE/4vur6S2uRNs/s50-c-k-no/photo.jpg",
      "userId": "108625797648255537312"
     },
     "user_tz": -120
    },
    "id": "ROISNKGsUDU7",
    "outputId": "c96051c3-48a3-4091-958b-e2b0e955e680"
   },
   "outputs": [
    {
     "data": {
      "image/png": "[encoded data removed]",
      "text/plain": [
       "<Figure size 432x288 with 1 Axes>"
      ]
     },
     "metadata": {},
     "output_type": "display_data"
    }
   ],
   "source": [
    "# A more realistic Example?\n",
    "\n",
    "x = range(20)\n",
    "y = np.arange(20) + (np.random.randn(20) * 2)  # Add Jitter (Noise)\n",
    "\n",
    "plt.scatter(x, y);"
   ]
  },
  {
   "cell_type": "code",
   "execution_count": 16,
   "metadata": {
    "colab": {
     "autoexec": {
      "startup": false,
      "wait_interval": 0
     },
     "base_uri": "https://localhost:8080/",
     "height": 265
    },
    "colab_type": "code",
    "executionInfo": {
     "elapsed": 1099,
     "status": "ok",
     "timestamp": 1525360209408,
     "user": {
      "displayName": "Georgina Bilali",
      "photoUrl": "https://lh3.googleusercontent.com/a/default-user=s128",
      "userId": "114444159360292123227"
     },
     "user_tz": -180
    },
    "id": "qGXW2S_zUDU-",
    "outputId": "e0a63fb3-1020-408b-c54a-8c54a982f40d"
   },
   "outputs": [
    {
     "data": {
      "image/png": "[encoded data removed]",
      "text/plain": [
       "<Figure size 432x288 with 1 Axes>"
      ]
     },
     "metadata": {},
     "output_type": "display_data"
    }
   ],
   "source": [
    "# We can plot both Scatter plot and Line on the same figure\n",
    "\n",
    "# A more realistic Example?\n",
    "\n",
    "x = range(20)\n",
    "y = np.arange(20) + (np.random.randn(20) * 2)  # Add Jitter (Noise)\n",
    "\n",
    "plt.scatter(x, y);\n",
    "plt.plot(x, x, 'r--');"
   ]
  },
  {
   "cell_type": "code",
   "execution_count": 23,
   "metadata": {
    "colab": {
     "autoexec": {
      "startup": false,
      "wait_interval": 0
     },
     "base_uri": "https://localhost:8080/",
     "height": 282
    },
    "colab_type": "code",
    "executionInfo": {
     "elapsed": 1061,
     "status": "ok",
     "timestamp": 1525360210617,
     "user": {
      "displayName": "Georgina Bilali",
      "photoUrl": "https://lh3.googleusercontent.com/a/default-user=s128",
      "userId": "114444159360292123227"
     },
     "user_tz": -180
    },
    "id": "fKOnUnyeUDVC",
    "outputId": "96e0bfc5-677c-482e-bb05-9aaca7e2c20d"
   },
   "outputs": [
    {
     "data": {
      "image/png": "[encoded data removed]",
      "text/plain": [
       "<Figure size 432x288 with 1 Axes>"
      ]
     },
     "metadata": {},
     "output_type": "display_data"
    }
   ],
   "source": [
    "# Random Points - Scatter\n",
    "\n",
    "x = np.random.randn(100)\n",
    "y = np.random.randn(100)\n",
    "\n",
    "plt.scatter(x, y);"
   ]
  },
  {
   "cell_type": "code",
   "execution_count": 24,
   "metadata": {
    "colab": {
     "autoexec": {
      "startup": false,
      "wait_interval": 0
     }
    },
    "colab_type": "code",
    "id": "8AxvO7gsUDVE"
   },
   "outputs": [
    {
     "data": {
      "image/png": "[encoded data removed]",
      "text/plain": [
       "<Figure size 432x288 with 1 Axes>"
      ]
     },
     "metadata": {},
     "output_type": "display_data"
    }
   ],
   "source": [
    "# Random Points - Scatter - with Color Red\n",
    "\n",
    "x = np.random.randn(100)\n",
    "y = np.random.randn(100)\n",
    "\n",
    "plt.scatter(x, y, c=\"r\");"
   ]
  },
  {
   "cell_type": "code",
   "execution_count": null,
   "metadata": {
    "colab": {
     "autoexec": {
      "startup": false,
      "wait_interval": 0
     }
    },
    "colab_type": "code",
    "id": "lUIUYJ2PFPp3"
   },
   "outputs": [],
   "source": []
  },
  {
   "cell_type": "code",
   "execution_count": 19,
   "metadata": {
    "colab": {
     "autoexec": {
      "startup": false,
      "wait_interval": 0
     }
    },
    "colab_type": "code",
    "id": "3HA7_kg3UDVK"
   },
   "outputs": [],
   "source": []
  },
  {
   "cell_type": "markdown",
   "metadata": {
    "colab_type": "text",
    "id": "V4Yc6GzxUDVM"
   },
   "source": [
    "# Histogram\n",
    "\n",
    "**Usage**: Displaying distribution of values\n",
    "\n",
    "**Documentation**: [`hist(x)`](http://matplotlib.org/api/pyplot_api.html#matplotlib.pyplot.hist)\n",
    "\n",
    "* `x`: Numerical data array."
   ]
  },
  {
   "cell_type": "code",
   "execution_count": 26,
   "metadata": {
    "colab": {
     "autoexec": {
      "startup": false,
      "wait_interval": 0
     }
    },
    "colab_type": "code",
    "id": "1ncedtYSUDVN",
    "outputId": "c8408502-5dae-4671-e317-03d4a2ebeefb"
   },
   "outputs": [
    {
     "data": {
      "image/png": "[encoded data removed]",
      "text/plain": [
       "<Figure size 432x288 with 1 Axes>"
      ]
     },
     "metadata": {},
     "output_type": "display_data"
    }
   ],
   "source": [
    "np.random.seed(42)  # So that we all see the same plot\n",
    "\n",
    "x = np.random.randn(100)\n",
    "\n",
    "plt.hist(x);"
   ]
  },
  {
   "cell_type": "code",
   "execution_count": 21,
   "metadata": {
    "colab": {
     "autoexec": {
      "startup": false,
      "wait_interval": 0
     }
    },
    "colab_type": "code",
    "id": "mCwQG04jUDVQ"
   },
   "outputs": [],
   "source": [
    "# Does it look like Normal Distribution to you?\n",
    "\n",
    "# How would you fix it?  Discuss with your Neighbor and fix it?\n",
    "# your <code> Here"
   ]
  },
  {
   "cell_type": "code",
   "execution_count": 28,
   "metadata": {
    "colab": {
     "autoexec": {
      "startup": false,
      "wait_interval": 0
     }
    },
    "colab_type": "code",
    "id": "yH64AU5GUDVS",
    "outputId": "8851ebbe-e840-4327-bb54-a08d0e497361"
   },
   "outputs": [
    {
     "data": {
      "image/png": "[encoded data removed]",
      "text/plain": [
       "<Figure size 432x288 with 1 Axes>"
      ]
     },
     "metadata": {
      "image/png": {
       "height": 250,
       "width": 370
      }
     },
     "output_type": "display_data"
    }
   ],
   "source": [
    "# Add a semi-colon if you don't want to see the returned BIN Values in the result\n",
    "%config InlineBackend.figure_format = 'retina'\n",
    "plt.hist(x, bins=20);"
   ]
  },
  {
   "cell_type": "markdown",
   "metadata": {
    "colab_type": "text",
    "id": "lXd7PpKJUDVY"
   },
   "source": [
    "# Vertical bar charts\n",
    "\n",
    "**Usage**: Comparing categories using a metric.\n",
    "\n",
    "**Documentation**: [`bar(left, height)`](http://matplotlib.org/api/pyplot_api.html#matplotlib.pyplot.bar)\n",
    "\n",
    "* `left`: The x coordinate(s) of the left sides of the bars.\n",
    "\n",
    "* `height`: The height(s) of the bars."
   ]
  },
  {
   "cell_type": "code",
   "execution_count": 33,
   "metadata": {
    "colab": {
     "autoexec": {
      "startup": false,
      "wait_interval": 0
     }
    },
    "colab_type": "code",
    "id": "24VmBkXiUDVY",
    "outputId": "e9830ef3-4c7c-4c79-a45c-44c25c0507d6"
   },
   "outputs": [
    {
     "name": "stdout",
     "output_type": "stream",
     "text": [
      "['2012' '2013' '2014']\n",
      "[2, 5, 9]\n"
     ]
    },
    {
     "data": {
      "image/png": "[encoded data removed]",
      "text/plain": [
       "<Figure size 432x288 with 1 Axes>"
      ]
     },
     "metadata": {
      "image/png": {
       "height": 250,
       "width": 364
      }
     },
     "output_type": "display_data"
    }
   ],
   "source": [
    "years = np.arange(2012, 2015).astype(str)\n",
    "print(years)\n",
    "values = [2, 5, 9]\n",
    "print(values)\n",
    "\n",
    "plt.bar(years, values);"
   ]
  },
  {
   "cell_type": "code",
   "execution_count": 24,
   "metadata": {
    "colab": {
     "autoexec": {
      "startup": false,
      "wait_interval": 0
     }
    },
    "colab_type": "code",
    "id": "lqS_R1kqUDVb"
   },
   "outputs": [],
   "source": [
    "# Do you see any problem - Discuss?"
   ]
  },
  {
   "cell_type": "markdown",
   "metadata": {
    "colab_type": "text",
    "id": "e1uNSgESUDVd"
   },
   "source": [
    "**Commonly used parameters**:\n",
    "\n",
    "* `color`: Set the color of the bars.\n",
    "\n",
    "* `edgecolor`: Set the color of the lines on the edges of the bars.\n",
    "\n",
    "* `width`: Set the width of the bars.\n",
    "\n",
    "* `align`: Set the alignment of the bars, e.g., center them on the x coordinate(s).\n",
    "\n",
    "* `label`: Set the label for the bar that will show up in the legend."
   ]
  },
  {
   "cell_type": "code",
   "execution_count": 37,
   "metadata": {
    "colab": {
     "autoexec": {
      "startup": false,
      "wait_interval": 0
     }
    },
    "colab_type": "code",
    "id": "1HyV9gMlUDVe",
    "outputId": "2d355edb-3a3e-481c-a846-4065d532e1bb"
   },
   "outputs": [
    {
     "data": {
      "image/png": "[encoded data removed]",
      "text/plain": [
       "<Figure size 432x288 with 1 Axes>"
      ]
     },
     "metadata": {
      "image/png": {
       "height": 250,
       "width": 364
      }
     },
     "output_type": "display_data"
    }
   ],
   "source": [
    "years = np.arange(2010, 2015)\n",
    "values = [2, 5, 9, 5, 7]\n",
    "\n",
    "plt.bar(years,\n",
    "        values,\n",
    "        color='blue',\n",
    "        edgecolor='red',\n",
    "        width=.5,\n",
    "        align='center',\n",
    "        label='y1')\n",
    "plt.xticks(years, [str(year) for year in years]);"
   ]
  },
  {
   "cell_type": "markdown",
   "metadata": {
    "colab_type": "text",
    "id": "kvtCFR3ZUDVg"
   },
   "source": [
    "# Horizontal bar charts\n",
    "\n",
    "**Usage**: Comparing categories.\n",
    "\n",
    "**Documentation**: [`barh(bottom, width)`](http://matplotlib.org/api/pyplot_api.html#matplotlib.pyplot.barh)\n",
    "\n",
    "* `bottom`: The y coordinate(s) of the bars.\n",
    "\n",
    "* `width`: The width(s) of the bars."
   ]
  },
  {
   "cell_type": "code",
   "execution_count": 26,
   "metadata": {
    "colab": {
     "autoexec": {
      "startup": false,
      "wait_interval": 0
     }
    },
    "colab_type": "code",
    "id": "uQvKhUcUUDVh",
    "outputId": "6b8454f6-2e86-4696-fed7-3e10619ac2a0"
   },
   "outputs": [
    {
     "data": {
      "image/png": "[encoded data removed]",
      "text/plain": [
       "<Figure size 432x288 with 1 Axes>"
      ]
     },
     "metadata": {},
     "output_type": "display_data"
    }
   ],
   "source": [
    "years = np.arange(2010, 2015)\n",
    "values = [2, 5, 9, 5, 7]\n",
    "\n",
    "plt.figure()\n",
    "\n",
    "plt.barh(np.arange(len(years)), values)\n",
    "\n",
    "plt.yticks(np.arange(len(years)),\n",
    "           [yr for yr in years]);"
   ]
  },
  {
   "cell_type": "markdown",
   "metadata": {
    "colab_type": "text",
    "id": "LFQqfkz1UDVj"
   },
   "source": [
    "**Commonly used parameters**:\n",
    "\n",
    "* `color`: Set the color of the bars.\n",
    "\n",
    "* `edgecolor`: Set the color of the lines on the edges of the bars.\n",
    "\n",
    "* `height`: Set the height of the bars.\n",
    "\n",
    "* `align`: Set the alignment of the bars, e.g., center them on the y coordinate(s)."
   ]
  },
  {
   "cell_type": "code",
   "execution_count": 27,
   "metadata": {
    "colab": {
     "autoexec": {
      "startup": false,
      "wait_interval": 0
     }
    },
    "colab_type": "code",
    "id": "szerb0p_UDVk",
    "outputId": "9cab7b1d-8fba-4d58-e606-cb86f3d313a2"
   },
   "outputs": [
    {
     "data": {
      "image/png": "[encoded data removed]",
      "text/plain": [
       "<Figure size 432x288 with 1 Axes>"
      ]
     },
     "metadata": {},
     "output_type": "display_data"
    }
   ],
   "source": [
    "years = np.arange(2010, 2015)\n",
    "values = [2, 5, 9, 5, 7]\n",
    "\n",
    "num_years = len(years)\n",
    "\n",
    "plt.barh(range(num_years),\n",
    "         values,\n",
    "         color='blue',\n",
    "         edgecolor='red',\n",
    "         height=0.6,\n",
    "         align='center')\n",
    "\n",
    "plt.yticks(range(num_years),\n",
    "           [yr for yr in years]);"
   ]
  },
  {
   "cell_type": "markdown",
   "metadata": {
    "colab_type": "text",
    "id": "R0qgaTv5UDVq"
   },
   "source": [
    "# Subplots\n",
    "\n",
    "**Usage:** Allows you to place multiple charts in a figure.\n",
    "\n",
    "**Documentation:** [``subplot(nrows, ncols, plot_number)``](http://matplotlib.org/api/pyplot_api.html#matplotlib.pyplot.subplot)\n",
    "\n",
    "* `nrows`: The number of rows in the figure.\n",
    "\n",
    "* `ncols`: The number of columns in the figure.\n",
    "\n",
    "* `plot_number`: The placement of the chart (starts at 1)."
   ]
  },
  {
   "cell_type": "code",
   "execution_count": 28,
   "metadata": {
    "colab": {
     "autoexec": {
      "startup": false,
      "wait_interval": 0
     }
    },
    "colab_type": "code",
    "id": "YMS1PShhUDVq",
    "outputId": "cbd82612-6b77-4725-e9a8-1f6204cf3198"
   },
   "outputs": [
    {
     "data": {
      "image/png": "[encoded data removed]",
      "text/plain": [
       "<Figure size 720x288 with 2 Axes>"
      ]
     },
     "metadata": {},
     "output_type": "display_data"
    }
   ],
   "source": [
    "dist1 = np.random.normal(42, 7, 1000)\n",
    "dist2 = np.random.normal(59, 3, 1000)\n",
    "\n",
    "plt.figure(figsize=(10, 4))\n",
    "\n",
    "plt.subplot(1, 2, 1)\n",
    "plt.hist(dist1)\n",
    "plt.title('dist1')\n",
    "\n",
    "plt.subplot(1, 2, 2)\n",
    "plt.scatter(dist2, dist1)\n",
    "plt.xlabel('dist2')\n",
    "plt.ylabel('dist1')\n",
    "plt.title('Scatter Plot');"
   ]
  },
  {
   "cell_type": "markdown",
   "metadata": {
    "colab_type": "text",
    "id": "tSEUl4E0UDVz"
   },
   "source": [
    "When we import matplotlib.pyplot, matplotlib automatically created:\n",
    "\n",
    "    - a Figure instance.  When we talk about the 'figure' we're talking about the entire frame of 'stuff'. \n",
    "    \n",
    "    - an Axes element within the figure. We can think of the axes as a plotting window. Each axes has an axis, where data can be arranged by x & y coordinates.\n",
    "      \n",
    "We will specify our figure and axes explicitly as follows:\n",
    "      \n"
   ]
  },
  {
   "cell_type": "markdown",
   "metadata": {
    "colab_type": "text",
    "id": "10zxSfC1UDV0"
   },
   "source": [
    "# Subplots - Take 2 (Using Axis Object)\n",
    "\n",
    "**Usage:** Allows you to place multiple charts in a figure.\n",
    "\n",
    "**Documentation:** [``subplots(nrows, ncols)``](http://matplotlib.org/api/pyplot_api.html#matplotlib.pyplot.subplots)\n",
    "\n",
    "* `nrows`: The number of rows in the figure.\n",
    "\n",
    "* `ncols`: The number of columns in the figure."
   ]
  },
  {
   "cell_type": "code",
   "execution_count": 29,
   "metadata": {
    "colab": {
     "autoexec": {
      "startup": false,
      "wait_interval": 0
     }
    },
    "colab_type": "code",
    "id": "51mJXPYyUDV1",
    "outputId": "902882eb-03ca-4d33-8a41-cd76907d429a"
   },
   "outputs": [
    {
     "data": {
      "image/png": "[encoded data removed]",
      "text/plain": [
       "<Figure size 720x288 with 2 Axes>"
      ]
     },
     "metadata": {},
     "output_type": "display_data"
    }
   ],
   "source": [
    "dist1 = np.random.normal(42, 7, 1000)\n",
    "dist2 = np.random.normal(59, 3, 1000)\n",
    "\n",
    "fig, ax = plt.subplots(1, 2, figsize=(10, 4))\n",
    "\n",
    "ax[0].hist(dist1)\n",
    "ax[0].set_title('dist1')\n",
    "\n",
    "ax[1].scatter(dist2, dist1)\n",
    "ax[1].set_xlabel('dist2')\n",
    "ax[1].set_ylabel('dist1')\n",
    "ax[1].set_title('Scatter Plot');"
   ]
  },
  {
   "cell_type": "code",
   "execution_count": 30,
   "metadata": {
    "colab": {
     "autoexec": {
      "startup": false,
      "wait_interval": 0
     }
    },
    "colab_type": "code",
    "id": "-NKg-sDZUDV5",
    "outputId": "424ffc90-b05e-4911-acb5-6e7191aa275b"
   },
   "outputs": [
    {
     "data": {
      "image/png": "[encoded data removed]",
      "text/plain": [
       "<Figure size 720x576 with 2 Axes>"
      ]
     },
     "metadata": {},
     "output_type": "display_data"
    }
   ],
   "source": [
    "# You can stack them vertically\n",
    "dist1 = np.random.normal(42, 7, 1000)\n",
    "dist2 = np.random.normal(59, 3, 1000)\n",
    "\n",
    "fig, ax = plt.subplots(2, 1, figsize=(10, 8))  # 2 Rows, 1 Col\n",
    "\n",
    "ax[0].hist(dist1)\n",
    "ax[0].set_title('dist1')\n",
    "\n",
    "ax[1].scatter(dist2, dist1)\n",
    "ax[1].set_xlabel('dist2')\n",
    "ax[1].set_ylabel('dist1')\n",
    "ax[1].set_title('Scatter Plot');"
   ]
  },
  {
   "cell_type": "code",
   "execution_count": 38,
   "metadata": {
    "colab": {
     "autoexec": {
      "startup": false,
      "wait_interval": 0
     }
    },
    "colab_type": "code",
    "id": "H0scHH6sUDV-",
    "outputId": "b7b670dd-54cb-4446-910b-d0cfb2031fcf"
   },
   "outputs": [
    {
     "data": {
      "text/html": [
       "<div>\n",
       "<style scoped>\n",
       "    .dataframe tbody tr th:only-of-type {\n",
       "        vertical-align: middle;\n",
       "    }\n",
       "\n",
       "    .dataframe tbody tr th {\n",
       "        vertical-align: top;\n",
       "    }\n",
       "\n",
       "    .dataframe thead th {\n",
       "        text-align: right;\n",
       "    }\n",
       "</style>\n",
       "<table border=\"1\" class=\"dataframe\">\n",
       "  <thead>\n",
       "    <tr style=\"text-align: right;\">\n",
       "      <th></th>\n",
       "      <th>Age</th>\n",
       "      <th>Fare</th>\n",
       "      <th>Pclass</th>\n",
       "      <th>Survived</th>\n",
       "    </tr>\n",
       "  </thead>\n",
       "  <tbody>\n",
       "    <tr>\n",
       "      <th>count</th>\n",
       "      <td>714.000000</td>\n",
       "      <td>714.000000</td>\n",
       "      <td>714.000000</td>\n",
       "      <td>714.000000</td>\n",
       "    </tr>\n",
       "    <tr>\n",
       "      <th>mean</th>\n",
       "      <td>29.699118</td>\n",
       "      <td>34.694514</td>\n",
       "      <td>2.236695</td>\n",
       "      <td>0.406162</td>\n",
       "    </tr>\n",
       "    <tr>\n",
       "      <th>std</th>\n",
       "      <td>14.526497</td>\n",
       "      <td>52.918930</td>\n",
       "      <td>0.838250</td>\n",
       "      <td>0.491460</td>\n",
       "    </tr>\n",
       "    <tr>\n",
       "      <th>min</th>\n",
       "      <td>0.420000</td>\n",
       "      <td>0.000000</td>\n",
       "      <td>1.000000</td>\n",
       "      <td>0.000000</td>\n",
       "    </tr>\n",
       "    <tr>\n",
       "      <th>25%</th>\n",
       "      <td>20.125000</td>\n",
       "      <td>8.050000</td>\n",
       "      <td>1.000000</td>\n",
       "      <td>0.000000</td>\n",
       "    </tr>\n",
       "    <tr>\n",
       "      <th>50%</th>\n",
       "      <td>28.000000</td>\n",
       "      <td>15.741700</td>\n",
       "      <td>2.000000</td>\n",
       "      <td>0.000000</td>\n",
       "    </tr>\n",
       "    <tr>\n",
       "      <th>75%</th>\n",
       "      <td>38.000000</td>\n",
       "      <td>33.375000</td>\n",
       "      <td>3.000000</td>\n",
       "      <td>1.000000</td>\n",
       "    </tr>\n",
       "    <tr>\n",
       "      <th>max</th>\n",
       "      <td>80.000000</td>\n",
       "      <td>512.329200</td>\n",
       "      <td>3.000000</td>\n",
       "      <td>1.000000</td>\n",
       "    </tr>\n",
       "  </tbody>\n",
       "</table>\n",
       "</div>"
      ],
      "text/plain": [
       "              Age        Fare      Pclass    Survived\n",
       "count  714.000000  714.000000  714.000000  714.000000\n",
       "mean    29.699118   34.694514    2.236695    0.406162\n",
       "std     14.526497   52.918930    0.838250    0.491460\n",
       "min      0.420000    0.000000    1.000000    0.000000\n",
       "25%     20.125000    8.050000    1.000000    0.000000\n",
       "50%     28.000000   15.741700    2.000000    0.000000\n",
       "75%     38.000000   33.375000    3.000000    1.000000\n",
       "max     80.000000  512.329200    3.000000    1.000000"
      ]
     },
     "execution_count": 38,
     "metadata": {},
     "output_type": "execute_result"
    }
   ],
   "source": [
    "import pandas as pd\n",
    "\n",
    "titanic=pd.read_csv('data/titanic.csv')\n",
    "titanic.head(1)\n",
    "\n",
    "# visualize a subset of data \n",
    "titanic=titanic[['Age','Sex','Fare','Pclass','Survived']]\n",
    "titanic=titanic[titanic.Age.isnull() == False]\n",
    "titanic.describe()"
   ]
  },
  {
   "cell_type": "code",
   "execution_count": 45,
   "metadata": {
    "colab": {
     "autoexec": {
      "startup": false,
      "wait_interval": 0
     }
    },
    "colab_type": "code",
    "id": "m0CWsVh2UDWB",
    "outputId": "895613ed-f8c2-483f-c120-58d72656cd41"
   },
   "outputs": [
    {
     "data": {
      "text/html": [
       "<div>\n",
       "<style scoped>\n",
       "    .dataframe tbody tr th:only-of-type {\n",
       "        vertical-align: middle;\n",
       "    }\n",
       "\n",
       "    .dataframe tbody tr th {\n",
       "        vertical-align: top;\n",
       "    }\n",
       "\n",
       "    .dataframe thead th {\n",
       "        text-align: right;\n",
       "    }\n",
       "</style>\n",
       "<table border=\"1\" class=\"dataframe\">\n",
       "  <thead>\n",
       "    <tr style=\"text-align: right;\">\n",
       "      <th></th>\n",
       "      <th>Age</th>\n",
       "      <th>Sex</th>\n",
       "      <th>Fare</th>\n",
       "      <th>Pclass</th>\n",
       "      <th>Survived</th>\n",
       "    </tr>\n",
       "  </thead>\n",
       "  <tbody>\n",
       "    <tr>\n",
       "      <th>0</th>\n",
       "      <td>22.0</td>\n",
       "      <td>male</td>\n",
       "      <td>7.2500</td>\n",
       "      <td>3</td>\n",
       "      <td>0</td>\n",
       "    </tr>\n",
       "    <tr>\n",
       "      <th>1</th>\n",
       "      <td>38.0</td>\n",
       "      <td>female</td>\n",
       "      <td>71.2833</td>\n",
       "      <td>1</td>\n",
       "      <td>1</td>\n",
       "    </tr>\n",
       "    <tr>\n",
       "      <th>2</th>\n",
       "      <td>26.0</td>\n",
       "      <td>female</td>\n",
       "      <td>7.9250</td>\n",
       "      <td>3</td>\n",
       "      <td>1</td>\n",
       "    </tr>\n",
       "    <tr>\n",
       "      <th>3</th>\n",
       "      <td>35.0</td>\n",
       "      <td>female</td>\n",
       "      <td>53.1000</td>\n",
       "      <td>1</td>\n",
       "      <td>1</td>\n",
       "    </tr>\n",
       "    <tr>\n",
       "      <th>4</th>\n",
       "      <td>35.0</td>\n",
       "      <td>male</td>\n",
       "      <td>8.0500</td>\n",
       "      <td>3</td>\n",
       "      <td>0</td>\n",
       "    </tr>\n",
       "  </tbody>\n",
       "</table>\n",
       "</div>"
      ],
      "text/plain": [
       "    Age     Sex     Fare  Pclass  Survived\n",
       "0  22.0    male   7.2500       3         0\n",
       "1  38.0  female  71.2833       1         1\n",
       "2  26.0  female   7.9250       3         1\n",
       "3  35.0  female  53.1000       1         1\n",
       "4  35.0    male   8.0500       3         0"
      ]
     },
     "execution_count": 45,
     "metadata": {},
     "output_type": "execute_result"
    }
   ],
   "source": [
    "titanic.head()"
   ]
  },
  {
   "cell_type": "code",
   "execution_count": 42,
   "metadata": {
    "colab": {
     "autoexec": {
      "startup": false,
      "wait_interval": 0
     }
    },
    "colab_type": "code",
    "id": "Y5OWuabfUDWD",
    "outputId": "c3e33880-44fb-4691-8ca8-fc088361cfb1"
   },
   "outputs": [
    {
     "data": {
      "image/png": "[encoded data removed]",
      "text/plain": [
       "<Figure size 432x288 with 1 Axes>"
      ]
     },
     "metadata": {
      "image/png": {
       "height": 283,
       "width": 401
      }
     },
     "output_type": "display_data"
    },
    {
     "data": {
      "image/png": "[encoded data removed]",
      "text/plain": [
       "<Figure size 432x288 with 1 Axes>"
      ]
     },
     "metadata": {
      "image/png": {
       "height": 283,
       "width": 381
      }
     },
     "output_type": "display_data"
    }
   ],
   "source": [
    "titanic.boxplot('Fare',by='Survived');\n",
    "plt.ylabel('fare')\n",
    "titanic.boxplot('Age',by ='Survived');"
   ]
  },
  {
   "cell_type": "code",
   "execution_count": 34,
   "metadata": {
    "colab": {
     "autoexec": {
      "startup": false,
      "wait_interval": 0
     }
    },
    "colab_type": "code",
    "id": "y7zcMw3TUDWH"
   },
   "outputs": [
    {
     "data": {
      "image/png": "[encoded data removed]",
      "text/plain": [
       "<Figure size 432x288 with 4 Axes>"
      ]
     },
     "metadata": {},
     "output_type": "display_data"
    },
    {
     "data": {
      "image/png": "[encoded data removed]",
      "text/plain": [
       "<Figure size 432x288 with 4 Axes>"
      ]
     },
     "metadata": {},
     "output_type": "display_data"
    }
   ],
   "source": [
    "#titanic.sex=titanic.sex.replace({'female':0,'male':1})\n",
    "\n",
    "titanic.groupby('Survived').hist();"
   ]
  },
  {
   "cell_type": "code",
   "execution_count": 35,
   "metadata": {
    "colab": {
     "autoexec": {
      "startup": false,
      "wait_interval": 0
     }
    },
    "colab_type": "code",
    "id": "VV6a0GxcUDWL",
    "outputId": "25810de6-9746-4895-d456-bb0244f7cbb4"
   },
   "outputs": [
    {
     "data": {
      "image/png": "[encoded data removed]",
      "text/plain": [
       "<Figure size 720x720 with 16 Axes>"
      ]
     },
     "metadata": {},
     "output_type": "display_data"
    }
   ],
   "source": [
    "pd.plotting.scatter_matrix(titanic, figsize=[10, 10], alpha=0.2, diagonal='kde');"
   ]
  },
  {
   "cell_type": "markdown",
   "metadata": {
    "colab_type": "text",
    "id": "JTcTqnjMUDWM"
   },
   "source": [
    "# Interactive Mode\n",
    "\n",
    "**Usage:** Zoom and Pan inside the plot\n",
    "\n",
    "**Con:** It's a bit resource intensive, so I don't use it unless I need the zoom / pan.<br>\n",
    "**Update:** I'm having trouble getting this to work :/ (-Michael)"
   ]
  },
  {
   "cell_type": "code",
   "execution_count": 47,
   "metadata": {
    "colab": {
     "autoexec": {
      "startup": false,
      "wait_interval": 0
     }
    },
    "colab_type": "code",
    "id": "o4evg_OOUDWO",
    "outputId": "43937282-4a21-48ef-af4b-48bed68e681e"
   },
   "outputs": [
    {
     "data": {
      "application/javascript": [
       "/* Put everything inside the global mpl namespace */\n",
       "window.mpl = {};\n",
       "\n",
       "\n",
       "mpl.get_websocket_type = function() {\n",
       "    if (typeof(WebSocket) !== 'undefined') {\n",
       "        return WebSocket;\n",
       "    } else if (typeof(MozWebSocket) !== 'undefined') {\n",
       "        return MozWebSocket;\n",
       "    } else {\n",
       "        alert('Your browser does not have WebSocket support.' +\n",
       "              'Please try Chrome, Safari or Firefox ≥ 6. ' +\n",
       "              'Firefox 4 and 5 are also supported but you ' +\n",
       "              'have to enable WebSockets in about:config.');\n",
       "    };\n",
       "}\n",
       "\n",
       "mpl.figure = function(figure_id, websocket, ondownload, parent_element) {\n",
       "    this.id = figure_id;\n",
       "\n",
       "    this.ws = websocket;\n",
       "\n",
       "    this.supports_binary = (this.ws.binaryType != undefined);\n",
       "\n",
       "    if (!this.supports_binary) {\n",
       "        var warnings = document.getElementById(\"mpl-warnings\");\n",
       "        if (warnings) {\n",
       "            warnings.style.display = 'block';\n",
       "            warnings.textContent = (\n",
       "                \"This browser does not support binary websocket messages. \" +\n",
       "                    \"Performance may be slow.\");\n",
       "        }\n",
       "    }\n",
       "\n",
       "    this.imageObj = new Image();\n",
       "\n",
       "    this.context = undefined;\n",
       "    this.message = undefined;\n",
       "    this.canvas = undefined;\n",
       "    this.rubberband_canvas = undefined;\n",
       "    this.rubberband_context = undefined;\n",
       "    this.format_dropdown = undefined;\n",
       "\n",
       "    this.image_mode = 'full';\n",
       "\n",
       "    this.root = $('<div/>');\n",
       "    this._root_extra_style(this.root)\n",
       "    this.root.attr('style', 'display: inline-block');\n",
       "\n",
       "    $(parent_element).append(this.root);\n",
       "\n",
       "    this._init_header(this);\n",
       "    this._init_canvas(this);\n",
       "    this._init_toolbar(this);\n",
       "\n",
       "    var fig = this;\n",
       "\n",
       "    this.waiting = false;\n",
       "\n",
       "    this.ws.onopen =  function () {\n",
       "            fig.send_message(\"supports_binary\", {value: fig.supports_binary});\n",
       "            fig.send_message(\"send_image_mode\", {});\n",
       "            if (mpl.ratio != 1) {\n",
       "                fig.send_message(\"set_dpi_ratio\", {'dpi_ratio': mpl.ratio});\n",
       "            }\n",
       "            fig.send_message(\"refresh\", {});\n",
       "        }\n",
       "\n",
       "    this.imageObj.onload = function() {\n",
       "            if (fig.image_mode == 'full') {\n",
       "                // Full images could contain transparency (where diff images\n",
       "                // almost always do), so we need to clear the canvas so that\n",
       "                // there is no ghosting.\n",
       "                fig.context.clearRect(0, 0, fig.canvas.width, fig.canvas.height);\n",
       "            }\n",
       "            fig.context.drawImage(fig.imageObj, 0, 0);\n",
       "        };\n",
       "\n",
       "    this.imageObj.onunload = function() {\n",
       "        fig.ws.close();\n",
       "    }\n",
       "\n",
       "    this.ws.onmessage = this._make_on_message_function(this);\n",
       "\n",
       "    this.ondownload = ondownload;\n",
       "}\n",
       "\n",
       "mpl.figure.prototype._init_header = function() {\n",
       "    var titlebar = $(\n",
       "        '<div class=\"ui-dialog-titlebar ui-widget-header ui-corner-all ' +\n",
       "        'ui-helper-clearfix\"/>');\n",
       "    var titletext = $(\n",
       "        '<div class=\"ui-dialog-title\" style=\"width: 100%; ' +\n",
       "        'text-align: center; padding: 3px;\"/>');\n",
       "    titlebar.append(titletext)\n",
       "    this.root.append(titlebar);\n",
       "    this.header = titletext[0];\n",
       "}\n",
       "\n",
       "\n",
       "\n",
       "mpl.figure.prototype._canvas_extra_style = function(canvas_div) {\n",
       "\n",
       "}\n",
       "\n",
       "\n",
       "mpl.figure.prototype._root_extra_style = function(canvas_div) {\n",
       "\n",
       "}\n",
       "\n",
       "mpl.figure.prototype._init_canvas = function() {\n",
       "    var fig = this;\n",
       "\n",
       "    var canvas_div = $('<div/>');\n",
       "\n",
       "    canvas_div.attr('style', 'position: relative; clear: both; outline: 0');\n",
       "\n",
       "    function canvas_keyboard_event(event) {\n",
       "        return fig.key_event(event, event['data']);\n",
       "    }\n",
       "\n",
       "    canvas_div.keydown('key_press', canvas_keyboard_event);\n",
       "    canvas_div.keyup('key_release', canvas_keyboard_event);\n",
       "    this.canvas_div = canvas_div\n",
       "    this._canvas_extra_style(canvas_div)\n",
       "    this.root.append(canvas_div);\n",
       "\n",
       "    var canvas = $('<canvas/>');\n",
       "    canvas.addClass('mpl-canvas');\n",
       "    canvas.attr('style', \"left: 0; top: 0; z-index: 0; outline: 0\")\n",
       "\n",
       "    this.canvas = canvas[0];\n",
       "    this.context = canvas[0].getContext(\"2d\");\n",
       "\n",
       "    var backingStore = this.context.backingStorePixelRatio ||\n",
       "\tthis.context.webkitBackingStorePixelRatio ||\n",
       "\tthis.context.mozBackingStorePixelRatio ||\n",
       "\tthis.context.msBackingStorePixelRatio ||\n",
       "\tthis.context.oBackingStorePixelRatio ||\n",
       "\tthis.context.backingStorePixelRatio || 1;\n",
       "\n",
       "    mpl.ratio = (window.devicePixelRatio || 1) / backingStore;\n",
       "\n",
       "    var rubberband = $('<canvas/>');\n",
       "    rubberband.attr('style', \"position: absolute; left: 0; top: 0; z-index: 1;\")\n",
       "\n",
       "    var pass_mouse_events = true;\n",
       "\n",
       "    canvas_div.resizable({\n",
       "        start: function(event, ui) {\n",
       "            pass_mouse_events = false;\n",
       "        },\n",
       "        resize: function(event, ui) {\n",
       "            fig.request_resize(ui.size.width, ui.size.height);\n",
       "        },\n",
       "        stop: function(event, ui) {\n",
       "            pass_mouse_events = true;\n",
       "            fig.request_resize(ui.size.width, ui.size.height);\n",
       "        },\n",
       "    });\n",
       "\n",
       "    function mouse_event_fn(event) {\n",
       "        if (pass_mouse_events)\n",
       "            return fig.mouse_event(event, event['data']);\n",
       "    }\n",
       "\n",
       "    rubberband.mousedown('button_press', mouse_event_fn);\n",
       "    rubberband.mouseup('button_release', mouse_event_fn);\n",
       "    // Throttle sequential mouse events to 1 every 20ms.\n",
       "    rubberband.mousemove('motion_notify', mouse_event_fn);\n",
       "\n",
       "    rubberband.mouseenter('figure_enter', mouse_event_fn);\n",
       "    rubberband.mouseleave('figure_leave', mouse_event_fn);\n",
       "\n",
       "    canvas_div.on(\"wheel\", function (event) {\n",
       "        event = event.originalEvent;\n",
       "        event['data'] = 'scroll'\n",
       "        if (event.deltaY < 0) {\n",
       "            event.step = 1;\n",
       "        } else {\n",
       "            event.step = -1;\n",
       "        }\n",
       "        mouse_event_fn(event);\n",
       "    });\n",
       "\n",
       "    canvas_div.append(canvas);\n",
       "    canvas_div.append(rubberband);\n",
       "\n",
       "    this.rubberband = rubberband;\n",
       "    this.rubberband_canvas = rubberband[0];\n",
       "    this.rubberband_context = rubberband[0].getContext(\"2d\");\n",
       "    this.rubberband_context.strokeStyle = \"#000000\";\n",
       "\n",
       "    this._resize_canvas = function(width, height) {\n",
       "        // Keep the size of the canvas, canvas container, and rubber band\n",
       "        // canvas in synch.\n",
       "        canvas_div.css('width', width)\n",
       "        canvas_div.css('height', height)\n",
       "\n",
       "        canvas.attr('width', width * mpl.ratio);\n",
       "        canvas.attr('height', height * mpl.ratio);\n",
       "        canvas.attr('style', 'width: ' + width + 'px; height: ' + height + 'px;');\n",
       "\n",
       "        rubberband.attr('width', width);\n",
       "        rubberband.attr('height', height);\n",
       "    }\n",
       "\n",
       "    // Set the figure to an initial 600x600px, this will subsequently be updated\n",
       "    // upon first draw.\n",
       "    this._resize_canvas(600, 600);\n",
       "\n",
       "    // Disable right mouse context menu.\n",
       "    $(this.rubberband_canvas).bind(\"contextmenu\",function(e){\n",
       "        return false;\n",
       "    });\n",
       "\n",
       "    function set_focus () {\n",
       "        canvas.focus();\n",
       "        canvas_div.focus();\n",
       "    }\n",
       "\n",
       "    window.setTimeout(set_focus, 100);\n",
       "}\n",
       "\n",
       "mpl.figure.prototype._init_toolbar = function() {\n",
       "    var fig = this;\n",
       "\n",
       "    var nav_element = $('<div/>')\n",
       "    nav_element.attr('style', 'width: 100%');\n",
       "    this.root.append(nav_element);\n",
       "\n",
       "    // Define a callback function for later on.\n",
       "    function toolbar_event(event) {\n",
       "        return fig.toolbar_button_onclick(event['data']);\n",
       "    }\n",
       "    function toolbar_mouse_event(event) {\n",
       "        return fig.toolbar_button_onmouseover(event['data']);\n",
       "    }\n",
       "\n",
       "    for(var toolbar_ind in mpl.toolbar_items) {\n",
       "        var name = mpl.toolbar_items[toolbar_ind][0];\n",
       "        var tooltip = mpl.toolbar_items[toolbar_ind][1];\n",
       "        var image = mpl.toolbar_items[toolbar_ind][2];\n",
       "        var method_name = mpl.toolbar_items[toolbar_ind][3];\n",
       "\n",
       "        if (!name) {\n",
       "            // put a spacer in here.\n",
       "            continue;\n",
       "        }\n",
       "        var button = $('<button/>');\n",
       "        button.addClass('ui-button ui-widget ui-state-default ui-corner-all ' +\n",
       "                        'ui-button-icon-only');\n",
       "        button.attr('role', 'button');\n",
       "        button.attr('aria-disabled', 'false');\n",
       "        button.click(method_name, toolbar_event);\n",
       "        button.mouseover(tooltip, toolbar_mouse_event);\n",
       "\n",
       "        var icon_img = $('<span/>');\n",
       "        icon_img.addClass('ui-button-icon-primary ui-icon');\n",
       "        icon_img.addClass(image);\n",
       "        icon_img.addClass('ui-corner-all');\n",
       "\n",
       "        var tooltip_span = $('<span/>');\n",
       "        tooltip_span.addClass('ui-button-text');\n",
       "        tooltip_span.html(tooltip);\n",
       "\n",
       "        button.append(icon_img);\n",
       "        button.append(tooltip_span);\n",
       "\n",
       "        nav_element.append(button);\n",
       "    }\n",
       "\n",
       "    var fmt_picker_span = $('<span/>');\n",
       "\n",
       "    var fmt_picker = $('<select/>');\n",
       "    fmt_picker.addClass('mpl-toolbar-option ui-widget ui-widget-content');\n",
       "    fmt_picker_span.append(fmt_picker);\n",
       "    nav_element.append(fmt_picker_span);\n",
       "    this.format_dropdown = fmt_picker[0];\n",
       "\n",
       "    for (var ind in mpl.extensions) {\n",
       "        var fmt = mpl.extensions[ind];\n",
       "        var option = $(\n",
       "            '<option/>', {selected: fmt === mpl.default_extension}).html(fmt);\n",
       "        fmt_picker.append(option)\n",
       "    }\n",
       "\n",
       "    // Add hover states to the ui-buttons\n",
       "    $( \".ui-button\" ).hover(\n",
       "        function() { $(this).addClass(\"ui-state-hover\");},\n",
       "        function() { $(this).removeClass(\"ui-state-hover\");}\n",
       "    );\n",
       "\n",
       "    var status_bar = $('<span class=\"mpl-message\"/>');\n",
       "    nav_element.append(status_bar);\n",
       "    this.message = status_bar[0];\n",
       "}\n",
       "\n",
       "mpl.figure.prototype.request_resize = function(x_pixels, y_pixels) {\n",
       "    // Request matplotlib to resize the figure. Matplotlib will then trigger a resize in the client,\n",
       "    // which will in turn request a refresh of the image.\n",
       "    this.send_message('resize', {'width': x_pixels, 'height': y_pixels});\n",
       "}\n",
       "\n",
       "mpl.figure.prototype.send_message = function(type, properties) {\n",
       "    properties['type'] = type;\n",
       "    properties['figure_id'] = this.id;\n",
       "    this.ws.send(JSON.stringify(properties));\n",
       "}\n",
       "\n",
       "mpl.figure.prototype.send_draw_message = function() {\n",
       "    if (!this.waiting) {\n",
       "        this.waiting = true;\n",
       "        this.ws.send(JSON.stringify({type: \"draw\", figure_id: this.id}));\n",
       "    }\n",
       "}\n",
       "\n",
       "\n",
       "mpl.figure.prototype.handle_save = function(fig, msg) {\n",
       "    var format_dropdown = fig.format_dropdown;\n",
       "    var format = format_dropdown.options[format_dropdown.selectedIndex].value;\n",
       "    fig.ondownload(fig, format);\n",
       "}\n",
       "\n",
       "\n",
       "mpl.figure.prototype.handle_resize = function(fig, msg) {\n",
       "    var size = msg['size'];\n",
       "    if (size[0] != fig.canvas.width || size[1] != fig.canvas.height) {\n",
       "        fig._resize_canvas(size[0], size[1]);\n",
       "        fig.send_message(\"refresh\", {});\n",
       "    };\n",
       "}\n",
       "\n",
       "mpl.figure.prototype.handle_rubberband = function(fig, msg) {\n",
       "    var x0 = msg['x0'] / mpl.ratio;\n",
       "    var y0 = (fig.canvas.height - msg['y0']) / mpl.ratio;\n",
       "    var x1 = msg['x1'] / mpl.ratio;\n",
       "    var y1 = (fig.canvas.height - msg['y1']) / mpl.ratio;\n",
       "    x0 = Math.floor(x0) + 0.5;\n",
       "    y0 = Math.floor(y0) + 0.5;\n",
       "    x1 = Math.floor(x1) + 0.5;\n",
       "    y1 = Math.floor(y1) + 0.5;\n",
       "    var min_x = Math.min(x0, x1);\n",
       "    var min_y = Math.min(y0, y1);\n",
       "    var width = Math.abs(x1 - x0);\n",
       "    var height = Math.abs(y1 - y0);\n",
       "\n",
       "    fig.rubberband_context.clearRect(\n",
       "        0, 0, fig.canvas.width, fig.canvas.height);\n",
       "\n",
       "    fig.rubberband_context.strokeRect(min_x, min_y, width, height);\n",
       "}\n",
       "\n",
       "mpl.figure.prototype.handle_figure_label = function(fig, msg) {\n",
       "    // Updates the figure title.\n",
       "    fig.header.textContent = msg['label'];\n",
       "}\n",
       "\n",
       "mpl.figure.prototype.handle_cursor = function(fig, msg) {\n",
       "    var cursor = msg['cursor'];\n",
       "    switch(cursor)\n",
       "    {\n",
       "    case 0:\n",
       "        cursor = 'pointer';\n",
       "        break;\n",
       "    case 1:\n",
       "        cursor = 'default';\n",
       "        break;\n",
       "    case 2:\n",
       "        cursor = 'crosshair';\n",
       "        break;\n",
       "    case 3:\n",
       "        cursor = 'move';\n",
       "        break;\n",
       "    }\n",
       "    fig.rubberband_canvas.style.cursor = cursor;\n",
       "}\n",
       "\n",
       "mpl.figure.prototype.handle_message = function(fig, msg) {\n",
       "    fig.message.textContent = msg['message'];\n",
       "}\n",
       "\n",
       "mpl.figure.prototype.handle_draw = function(fig, msg) {\n",
       "    // Request the server to send over a new figure.\n",
       "    fig.send_draw_message();\n",
       "}\n",
       "\n",
       "mpl.figure.prototype.handle_image_mode = function(fig, msg) {\n",
       "    fig.image_mode = msg['mode'];\n",
       "}\n",
       "\n",
       "mpl.figure.prototype.updated_canvas_event = function() {\n",
       "    // Called whenever the canvas gets updated.\n",
       "    this.send_message(\"ack\", {});\n",
       "}\n",
       "\n",
       "// A function to construct a web socket function for onmessage handling.\n",
       "// Called in the figure constructor.\n",
       "mpl.figure.prototype._make_on_message_function = function(fig) {\n",
       "    return function socket_on_message(evt) {\n",
       "        if (evt.data instanceof Blob) {\n",
       "            /* FIXME: We get \"Resource interpreted as Image but\n",
       "             * transferred with MIME type text/plain:\" errors on\n",
       "             * Chrome.  But how to set the MIME type?  It doesn't seem\n",
       "             * to be part of the websocket stream */\n",
       "            evt.data.type = \"image/png\";\n",
       "\n",
       "            /* Free the memory for the previous frames */\n",
       "            if (fig.imageObj.src) {\n",
       "                (window.URL || window.webkitURL).revokeObjectURL(\n",
       "                    fig.imageObj.src);\n",
       "            }\n",
       "\n",
       "            fig.imageObj.src = (window.URL || window.webkitURL).createObjectURL(\n",
       "                evt.data);\n",
       "            fig.updated_canvas_event();\n",
       "            fig.waiting = false;\n",
       "            return;\n",
       "        }\n",
       "        else if (typeof evt.data === 'string' && evt.data.slice(0, 21) == \"data:image/png;base64\") {\n",
       "            fig.imageObj.src = evt.data;\n",
       "            fig.updated_canvas_event();\n",
       "            fig.waiting = false;\n",
       "            return;\n",
       "        }\n",
       "\n",
       "        var msg = JSON.parse(evt.data);\n",
       "        var msg_type = msg['type'];\n",
       "\n",
       "        // Call the  \"handle_{type}\" callback, which takes\n",
       "        // the figure and JSON message as its only arguments.\n",
       "        try {\n",
       "            var callback = fig[\"handle_\" + msg_type];\n",
       "        } catch (e) {\n",
       "            console.log(\"No handler for the '\" + msg_type + \"' message type: \", msg);\n",
       "            return;\n",
       "        }\n",
       "\n",
       "        if (callback) {\n",
       "            try {\n",
       "                // console.log(\"Handling '\" + msg_type + \"' message: \", msg);\n",
       "                callback(fig, msg);\n",
       "            } catch (e) {\n",
       "                console.log(\"Exception inside the 'handler_\" + msg_type + \"' callback:\", e, e.stack, msg);\n",
       "            }\n",
       "        }\n",
       "    };\n",
       "}\n",
       "\n",
       "// from http://stackoverflow.com/questions/1114465/getting-mouse-location-in-canvas\n",
       "mpl.findpos = function(e) {\n",
       "    //this section is from http://www.quirksmode.org/js/events_properties.html\n",
       "    var targ;\n",
       "    if (!e)\n",
       "        e = window.event;\n",
       "    if (e.target)\n",
       "        targ = e.target;\n",
       "    else if (e.srcElement)\n",
       "        targ = e.srcElement;\n",
       "    if (targ.nodeType == 3) // defeat Safari bug\n",
       "        targ = targ.parentNode;\n",
       "\n",
       "    // jQuery normalizes the pageX and pageY\n",
       "    // pageX,Y are the mouse positions relative to the document\n",
       "    // offset() returns the position of the element relative to the document\n",
       "    var x = e.pageX - $(targ).offset().left;\n",
       "    var y = e.pageY - $(targ).offset().top;\n",
       "\n",
       "    return {\"x\": x, \"y\": y};\n",
       "};\n",
       "\n",
       "/*\n",
       " * return a copy of an object with only non-object keys\n",
       " * we need this to avoid circular references\n",
       " * http://stackoverflow.com/a/24161582/3208463\n",
       " */\n",
       "function simpleKeys (original) {\n",
       "  return Object.keys(original).reduce(function (obj, key) {\n",
       "    if (typeof original[key] !== 'object')\n",
       "        obj[key] = original[key]\n",
       "    return obj;\n",
       "  }, {});\n",
       "}\n",
       "\n",
       "mpl.figure.prototype.mouse_event = function(event, name) {\n",
       "    var canvas_pos = mpl.findpos(event)\n",
       "\n",
       "    if (name === 'button_press')\n",
       "    {\n",
       "        this.canvas.focus();\n",
       "        this.canvas_div.focus();\n",
       "    }\n",
       "\n",
       "    var x = canvas_pos.x * mpl.ratio;\n",
       "    var y = canvas_pos.y * mpl.ratio;\n",
       "\n",
       "    this.send_message(name, {x: x, y: y, button: event.button,\n",
       "                             step: event.step,\n",
       "                             guiEvent: simpleKeys(event)});\n",
       "\n",
       "    /* This prevents the web browser from automatically changing to\n",
       "     * the text insertion cursor when the button is pressed.  We want\n",
       "     * to control all of the cursor setting manually through the\n",
       "     * 'cursor' event from matplotlib */\n",
       "    event.preventDefault();\n",
       "    return false;\n",
       "}\n",
       "\n",
       "mpl.figure.prototype._key_event_extra = function(event, name) {\n",
       "    // Handle any extra behaviour associated with a key event\n",
       "}\n",
       "\n",
       "mpl.figure.prototype.key_event = function(event, name) {\n",
       "\n",
       "    // Prevent repeat events\n",
       "    if (name == 'key_press')\n",
       "    {\n",
       "        if (event.which === this._key)\n",
       "            return;\n",
       "        else\n",
       "            this._key = event.which;\n",
       "    }\n",
       "    if (name == 'key_release')\n",
       "        this._key = null;\n",
       "\n",
       "    var value = '';\n",
       "    if (event.ctrlKey && event.which != 17)\n",
       "        value += \"ctrl+\";\n",
       "    if (event.altKey && event.which != 18)\n",
       "        value += \"alt+\";\n",
       "    if (event.shiftKey && event.which != 16)\n",
       "        value += \"shift+\";\n",
       "\n",
       "    value += 'k';\n",
       "    value += event.which.toString();\n",
       "\n",
       "    this._key_event_extra(event, name);\n",
       "\n",
       "    this.send_message(name, {key: value,\n",
       "                             guiEvent: simpleKeys(event)});\n",
       "    return false;\n",
       "}\n",
       "\n",
       "mpl.figure.prototype.toolbar_button_onclick = function(name) {\n",
       "    if (name == 'download') {\n",
       "        this.handle_save(this, null);\n",
       "    } else {\n",
       "        this.send_message(\"toolbar_button\", {name: name});\n",
       "    }\n",
       "};\n",
       "\n",
       "mpl.figure.prototype.toolbar_button_onmouseover = function(tooltip) {\n",
       "    this.message.textContent = tooltip;\n",
       "};\n",
       "mpl.toolbar_items = [[\"Home\", \"Reset original view\", \"fa fa-home icon-home\", \"home\"], [\"Back\", \"Back to  previous view\", \"fa fa-arrow-left icon-arrow-left\", \"back\"], [\"Forward\", \"Forward to next view\", \"fa fa-arrow-right icon-arrow-right\", \"forward\"], [\"\", \"\", \"\", \"\"], [\"Pan\", \"Pan axes with left mouse, zoom with right\", \"fa fa-arrows icon-move\", \"pan\"], [\"Zoom\", \"Zoom to rectangle\", \"fa fa-square-o icon-check-empty\", \"zoom\"], [\"\", \"\", \"\", \"\"], [\"Download\", \"Download plot\", \"fa fa-floppy-o icon-save\", \"download\"]];\n",
       "\n",
       "mpl.extensions = [\"eps\", \"jpeg\", \"pdf\", \"png\", \"ps\", \"raw\", \"svg\", \"tif\"];\n",
       "\n",
       "mpl.default_extension = \"png\";var comm_websocket_adapter = function(comm) {\n",
       "    // Create a \"websocket\"-like object which calls the given IPython comm\n",
       "    // object with the appropriate methods. Currently this is a non binary\n",
       "    // socket, so there is still some room for performance tuning.\n",
       "    var ws = {};\n",
       "\n",
       "    ws.close = function() {\n",
       "        comm.close()\n",
       "    };\n",
       "    ws.send = function(m) {\n",
       "        //console.log('sending', m);\n",
       "        comm.send(m);\n",
       "    };\n",
       "    // Register the callback with on_msg.\n",
       "    comm.on_msg(function(msg) {\n",
       "        //console.log('receiving', msg['content']['data'], msg);\n",
       "        // Pass the mpl event to the overridden (by mpl) onmessage function.\n",
       "        ws.onmessage(msg['content']['data'])\n",
       "    });\n",
       "    return ws;\n",
       "}\n",
       "\n",
       "mpl.mpl_figure_comm = function(comm, msg) {\n",
       "    // This is the function which gets called when the mpl process\n",
       "    // starts-up an IPython Comm through the \"matplotlib\" channel.\n",
       "\n",
       "    var id = msg.content.data.id;\n",
       "    // Get hold of the div created by the display call when the Comm\n",
       "    // socket was opened in Python.\n",
       "    var element = $(\"#\" + id);\n",
       "    var ws_proxy = comm_websocket_adapter(comm)\n",
       "\n",
       "    function ondownload(figure, format) {\n",
       "        window.open(figure.imageObj.src);\n",
       "    }\n",
       "\n",
       "    var fig = new mpl.figure(id, ws_proxy,\n",
       "                           ondownload,\n",
       "                           element.get(0));\n",
       "\n",
       "    // Call onopen now - mpl needs it, as it is assuming we've passed it a real\n",
       "    // web socket which is closed, not our websocket->open comm proxy.\n",
       "    ws_proxy.onopen();\n",
       "\n",
       "    fig.parent_element = element.get(0);\n",
       "    fig.cell_info = mpl.find_output_cell(\"<div id='\" + id + \"'></div>\");\n",
       "    if (!fig.cell_info) {\n",
       "        console.error(\"Failed to find cell for figure\", id, fig);\n",
       "        return;\n",
       "    }\n",
       "\n",
       "    var output_index = fig.cell_info[2]\n",
       "    var cell = fig.cell_info[0];\n",
       "\n",
       "};\n",
       "\n",
       "mpl.figure.prototype.handle_close = function(fig, msg) {\n",
       "    var width = fig.canvas.width/mpl.ratio\n",
       "    fig.root.unbind('remove')\n",
       "\n",
       "    // Update the output cell to use the data from the current canvas.\n",
       "    fig.push_to_output();\n",
       "    var dataURL = fig.canvas.toDataURL();\n",
       "    // Re-enable the keyboard manager in IPython - without this line, in FF,\n",
       "    // the notebook keyboard shortcuts fail.\n",
       "    IPython.keyboard_manager.enable()\n",
       "    $(fig.parent_element).html('<img src=\"' + dataURL + '\" width=\"' + width + '\">');\n",
       "    fig.close_ws(fig, msg);\n",
       "}\n",
       "\n",
       "mpl.figure.prototype.close_ws = function(fig, msg){\n",
       "    fig.send_message('closing', msg);\n",
       "    // fig.ws.close()\n",
       "}\n",
       "\n",
       "mpl.figure.prototype.push_to_output = function(remove_interactive) {\n",
       "    // Turn the data on the canvas into data in the output cell.\n",
       "    var width = this.canvas.width/mpl.ratio\n",
       "    var dataURL = this.canvas.toDataURL();\n",
       "    this.cell_info[1]['text/html'] = '<img src=\"' + dataURL + '\" width=\"' + width + '\">';\n",
       "}\n",
       "\n",
       "mpl.figure.prototype.updated_canvas_event = function() {\n",
       "    // Tell IPython that the notebook contents must change.\n",
       "    IPython.notebook.set_dirty(true);\n",
       "    this.send_message(\"ack\", {});\n",
       "    var fig = this;\n",
       "    // Wait a second, then push the new image to the DOM so\n",
       "    // that it is saved nicely (might be nice to debounce this).\n",
       "    setTimeout(function () { fig.push_to_output() }, 1000);\n",
       "}\n",
       "\n",
       "mpl.figure.prototype._init_toolbar = function() {\n",
       "    var fig = this;\n",
       "\n",
       "    var nav_element = $('<div/>')\n",
       "    nav_element.attr('style', 'width: 100%');\n",
       "    this.root.append(nav_element);\n",
       "\n",
       "    // Define a callback function for later on.\n",
       "    function toolbar_event(event) {\n",
       "        return fig.toolbar_button_onclick(event['data']);\n",
       "    }\n",
       "    function toolbar_mouse_event(event) {\n",
       "        return fig.toolbar_button_onmouseover(event['data']);\n",
       "    }\n",
       "\n",
       "    for(var toolbar_ind in mpl.toolbar_items){\n",
       "        var name = mpl.toolbar_items[toolbar_ind][0];\n",
       "        var tooltip = mpl.toolbar_items[toolbar_ind][1];\n",
       "        var image = mpl.toolbar_items[toolbar_ind][2];\n",
       "        var method_name = mpl.toolbar_items[toolbar_ind][3];\n",
       "\n",
       "        if (!name) { continue; };\n",
       "\n",
       "        var button = $('<button class=\"btn btn-default\" href=\"#\" title=\"' + name + '\"><i class=\"fa ' + image + ' fa-lg\"></i></button>');\n",
       "        button.click(method_name, toolbar_event);\n",
       "        button.mouseover(tooltip, toolbar_mouse_event);\n",
       "        nav_element.append(button);\n",
       "    }\n",
       "\n",
       "    // Add the status bar.\n",
       "    var status_bar = $('<span class=\"mpl-message\" style=\"text-align:right; float: right;\"/>');\n",
       "    nav_element.append(status_bar);\n",
       "    this.message = status_bar[0];\n",
       "\n",
       "    // Add the close button to the window.\n",
       "    var buttongrp = $('<div class=\"btn-group inline pull-right\"></div>');\n",
       "    var button = $('<button class=\"btn btn-mini btn-primary\" href=\"#\" title=\"Stop Interaction\"><i class=\"fa fa-power-off icon-remove icon-large\"></i></button>');\n",
       "    button.click(function (evt) { fig.handle_close(fig, {}); } );\n",
       "    button.mouseover('Stop Interaction', toolbar_mouse_event);\n",
       "    buttongrp.append(button);\n",
       "    var titlebar = this.root.find($('.ui-dialog-titlebar'));\n",
       "    titlebar.prepend(buttongrp);\n",
       "}\n",
       "\n",
       "mpl.figure.prototype._root_extra_style = function(el){\n",
       "    var fig = this\n",
       "    el.on(\"remove\", function(){\n",
       "\tfig.close_ws(fig, {});\n",
       "    });\n",
       "}\n",
       "\n",
       "mpl.figure.prototype._canvas_extra_style = function(el){\n",
       "    // this is important to make the div 'focusable\n",
       "    el.attr('tabindex', 0)\n",
       "    // reach out to IPython and tell the keyboard manager to turn it's self\n",
       "    // off when our div gets focus\n",
       "\n",
       "    // location in version 3\n",
       "    if (IPython.notebook.keyboard_manager) {\n",
       "        IPython.notebook.keyboard_manager.register_events(el);\n",
       "    }\n",
       "    else {\n",
       "        // location in version 2\n",
       "        IPython.keyboard_manager.register_events(el);\n",
       "    }\n",
       "\n",
       "}\n",
       "\n",
       "mpl.figure.prototype._key_event_extra = function(event, name) {\n",
       "    var manager = IPython.notebook.keyboard_manager;\n",
       "    if (!manager)\n",
       "        manager = IPython.keyboard_manager;\n",
       "\n",
       "    // Check for shift+enter\n",
       "    if (event.shiftKey && event.which == 13) {\n",
       "        this.canvas_div.blur();\n",
       "        event.shiftKey = false;\n",
       "        // Send a \"J\" for go to next cell\n",
       "        event.which = 74;\n",
       "        event.keyCode = 74;\n",
       "        manager.command_mode();\n",
       "        manager.handle_keydown(event);\n",
       "    }\n",
       "}\n",
       "\n",
       "mpl.figure.prototype.handle_save = function(fig, msg) {\n",
       "    fig.ondownload(fig, null);\n",
       "}\n",
       "\n",
       "\n",
       "mpl.find_output_cell = function(html_output) {\n",
       "    // Return the cell and output element which can be found *uniquely* in the notebook.\n",
       "    // Note - this is a bit hacky, but it is done because the \"notebook_saving.Notebook\"\n",
       "    // IPython event is triggered only after the cells have been serialised, which for\n",
       "    // our purposes (turning an active figure into a static one), is too late.\n",
       "    var cells = IPython.notebook.get_cells();\n",
       "    var ncells = cells.length;\n",
       "    for (var i=0; i<ncells; i++) {\n",
       "        var cell = cells[i];\n",
       "        if (cell.cell_type === 'code'){\n",
       "            for (var j=0; j<cell.output_area.outputs.length; j++) {\n",
       "                var data = cell.output_area.outputs[j];\n",
       "                if (data.data) {\n",
       "                    // IPython >= 3 moved mimebundle to data attribute of output\n",
       "                    data = data.data;\n",
       "                }\n",
       "                if (data['text/html'] == html_output) {\n",
       "                    return [cell, data, j];\n",
       "                }\n",
       "            }\n",
       "        }\n",
       "    }\n",
       "}\n",
       "\n",
       "// Register the function which deals with the matplotlib target/channel.\n",
       "// The kernel may be null if the page has been refreshed.\n",
       "if (IPython.notebook.kernel != null) {\n",
       "    IPython.notebook.kernel.comm_manager.register_target('matplotlib', mpl.mpl_figure_comm);\n",
       "}\n"
      ],
      "text/plain": [
       "<IPython.core.display.Javascript object>"
      ]
     },
     "metadata": {},
     "output_type": "display_data"
    },
    {
     "data": {
      "text/html": [
       "<img src=\"data:image/png;base64,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\" width=\"719.9999843944206\">"
      ],
      "text/plain": [
       "<IPython.core.display.HTML object>"
      ]
     },
     "metadata": {},
     "output_type": "display_data"
    }
   ],
   "source": [
    "%matplotlib notebook\n",
    "plt.ion()\n",
    "dist1 = np.random.normal(42, 7, 1000)\n",
    "dist2 = np.random.normal(59, 3, 1000)\n",
    "\n",
    "fig, ax = plt.subplots(1, 2, figsize=(10, 4))\n",
    "\n",
    "ax[0].hist(dist1)\n",
    "ax[0].set_title('dist1')\n",
    "\n",
    "ax[1].scatter(dist2, dist1)\n",
    "ax[1].set_xlabel('dist2')\n",
    "ax[1].set_ylabel('dist1')\n",
    "ax[1].set_title('Scatter Plot');"
   ]
  },
  {
   "cell_type": "markdown",
   "metadata": {
    "colab_type": "text",
    "id": "MbTlxqE-UDWR"
   },
   "source": [
    "# MatPlotLib Documentation\n",
    "\n",
    "- [Matplotlib](http://matplotlib.org)\n",
    "- [Matplotlib Gallery](http://matplotlib.org/gallery.html)\n",
    "- [Matplotlib Examples](http://matplotlib.org/examples)"
   ]
  },
  {
   "cell_type": "code",
   "execution_count": null,
   "metadata": {
    "colab": {
     "autoexec": {
      "startup": false,
      "wait_interval": 0
     }
    },
    "colab_type": "code",
    "id": "2n06VyQRUDWR"
   },
   "outputs": [],
   "source": []
  },
  {
   "cell_type": "code",
   "execution_count": null,
   "metadata": {
    "colab": {
     "autoexec": {
      "startup": false,
      "wait_interval": 0
     }
    },
    "colab_type": "code",
    "id": "Pzx7fVlNUDWS"
   },
   "outputs": [],
   "source": []
  }
 ],
 "metadata": {
  "colab": {
   "collapsed_sections": [
    "V4Yc6GzxUDVM",
    "lXd7PpKJUDVY",
    "kvtCFR3ZUDVg",
    "R0qgaTv5UDVq",
    "10zxSfC1UDV0",
    "JTcTqnjMUDWM",
    "MbTlxqE-UDWR"
   ],
   "default_view": {},
   "name": "intro-to-matplotlib.ipynb",
   "provenance": [],
   "version": "0.3.2",
   "views": {}
  },
  "kernelspec": {
   "display_name": "Python 3",
   "language": "python",
   "name": "python3"
  },
  "language_info": {
   "codemirror_mode": {
    "name": "ipython",
    "version": 3
   },
   "file_extension": ".py",
   "mimetype": "text/x-python",
   "name": "python",
   "nbconvert_exporter": "python",
   "pygments_lexer": "ipython3",
   "version": "3.7.3"
  }
 },
 "nbformat": 4,
 "nbformat_minor": 1
}
