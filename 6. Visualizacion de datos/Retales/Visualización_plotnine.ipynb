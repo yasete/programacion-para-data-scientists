{
 "cells": [
  {
   "cell_type": "markdown",
   "metadata": {},
   "source": [
    "## Introducción a plotnine"
   ]
  },
  {
   "cell_type": "code",
   "execution_count": 2,
   "metadata": {},
   "outputs": [
    {
     "ename": "ModuleNotFoundError",
     "evalue": "No module named 'plotnine'",
     "output_type": "error",
     "traceback": [
      "\u001b[1;31m---------------------------------------------------------------------------\u001b[0m",
      "\u001b[1;31mModuleNotFoundError\u001b[0m                       Traceback (most recent call last)",
      "\u001b[1;32m<ipython-input-2-e36b44751b17>\u001b[0m in \u001b[0;36m<module>\u001b[1;34m\u001b[0m\n\u001b[1;32m----> 1\u001b[1;33m \u001b[1;32mfrom\u001b[0m \u001b[0mplotnine\u001b[0m \u001b[1;32mimport\u001b[0m \u001b[1;33m*\u001b[0m\u001b[1;33m\u001b[0m\u001b[1;33m\u001b[0m\u001b[0m\n\u001b[0m",
      "\u001b[1;31mModuleNotFoundError\u001b[0m: No module named 'plotnine'"
     ]
    }
   ],
   "source": [
    "from plotnine import *"
   ]
  },
  {
   "cell_type": "code",
   "execution_count": 3,
   "metadata": {},
   "outputs": [],
   "source": [
    "import pandas as pd"
   ]
  },
  {
   "cell_type": "code",
   "execution_count": 4,
   "metadata": {},
   "outputs": [],
   "source": [
    "covid = pd.read_csv('datos/covid_19.csv', sep = ';')\n",
    "covid['Date'] = pd.to_datetime(covid['Date'])"
   ]
  },
  {
   "cell_type": "code",
   "execution_count": 5,
   "metadata": {},
   "outputs": [],
   "source": [
    "spain = covid[covid['Country/Region'] == 'Spain']\n",
    "spain = spain.sort_values('Date')\n",
    "spain = spain[spain.Confirmed > 0]\n",
    "spain['Day'] = range(1,len(spain) + 1)"
   ]
  },
  {
   "cell_type": "markdown",
   "metadata": {},
   "source": [
    "### Gráfico de puntos"
   ]
  },
  {
   "cell_type": "code",
   "execution_count": 6,
   "metadata": {},
   "outputs": [
    {
     "ename": "NameError",
     "evalue": "name 'ggplot' is not defined",
     "output_type": "error",
     "traceback": [
      "\u001b[1;31m---------------------------------------------------------------------------\u001b[0m",
      "\u001b[1;31mNameError\u001b[0m                                 Traceback (most recent call last)",
      "\u001b[1;32m<ipython-input-6-c469b41ebab0>\u001b[0m in \u001b[0;36m<module>\u001b[1;34m\u001b[0m\n\u001b[1;32m----> 1\u001b[1;33m \u001b[0mggplot\u001b[0m\u001b[1;33m(\u001b[0m\u001b[0mdata\u001b[0m \u001b[1;33m=\u001b[0m \u001b[0mspain\u001b[0m\u001b[1;33m)\u001b[0m\u001b[1;33m\u001b[0m\u001b[1;33m\u001b[0m\u001b[0m\n\u001b[0m",
      "\u001b[1;31mNameError\u001b[0m: name 'ggplot' is not defined"
     ]
    }
   ],
   "source": [
    "ggplot(data = spain)"
   ]
  },
  {
   "cell_type": "code",
   "execution_count": null,
   "metadata": {},
   "outputs": [],
   "source": [
    "ggplot(data = spain,\n",
    "           mapping = aes(x = 'Day', y = 'Confirmed'))"
   ]
  },
  {
   "cell_type": "code",
   "execution_count": null,
   "metadata": {},
   "outputs": [],
   "source": [
    "ggplot(data = spain,\n",
    "           mapping = aes(x = 'Day', y = 'Confirmed')) +  geom_point()"
   ]
  },
  {
   "cell_type": "markdown",
   "metadata": {},
   "source": [
    "## Gráfico de líneas"
   ]
  },
  {
   "cell_type": "code",
   "execution_count": null,
   "metadata": {},
   "outputs": [],
   "source": [
    "ggplot(data = spain,\n",
    "           mapping = aes(x = 'Day', y = 'Confirmed')) +  geom_line()"
   ]
  },
  {
   "cell_type": "markdown",
   "metadata": {},
   "source": [
    "A continuación, pintaremos dos líneas en el mismo gráfico."
   ]
  },
  {
   "cell_type": "code",
   "execution_count": null,
   "metadata": {},
   "outputs": [],
   "source": [
    "covid_s_i = covid[covid['Country/Region'].isin(['Spain', 'Italy'])]"
   ]
  },
  {
   "cell_type": "code",
   "execution_count": null,
   "metadata": {},
   "outputs": [],
   "source": [
    "g = ggplot(data = covid_s_i,\n",
    "           mapping = aes(x = 'Date', y = 'Confirmed', color = 'Country/Region')) +  geom_line()\n",
    "\n",
    "g"
   ]
  },
  {
   "cell_type": "code",
   "execution_count": null,
   "metadata": {},
   "outputs": [],
   "source": [
    "g +  theme(axis_text_x=element_text(rotation=90, hjust=1))\n"
   ]
  },
  {
   "cell_type": "code",
   "execution_count": null,
   "metadata": {},
   "outputs": [],
   "source": [
    "g +  theme(axis_text_x=element_text(rotation=60, hjust=1))"
   ]
  },
  {
   "cell_type": "markdown",
   "metadata": {},
   "source": [
    "### Gráfico de barras"
   ]
  },
  {
   "cell_type": "markdown",
   "metadata": {},
   "source": [
    "Veamos el número total (a nivel mundial) de casos confirmados por mes."
   ]
  },
  {
   "cell_type": "code",
   "execution_count": null,
   "metadata": {},
   "outputs": [],
   "source": [
    "covid['Month'] = covid.Date.apply(lambda x: x.month)\n",
    "covid_g = covid.groupby('Month', as_index = False).Confirmed.sum()"
   ]
  },
  {
   "cell_type": "code",
   "execution_count": null,
   "metadata": {},
   "outputs": [],
   "source": [
    "ggplot(data = covid_g,\n",
    "           mapping = aes(x = 'Month', y = 'Confirmed'))  + geom_col()"
   ]
  },
  {
   "cell_type": "code",
   "execution_count": null,
   "metadata": {},
   "outputs": [],
   "source": [
    "g = ggplot(data = covid_g,\n",
    "           mapping = aes(x = 'Month', y = 'Confirmed'))  + geom_col(fill = 'lightblue') \n",
    "\n",
    "g"
   ]
  },
  {
   "cell_type": "markdown",
   "metadata": {},
   "source": [
    "Podemos personalizar nuestro gráfico algo más. "
   ]
  },
  {
   "cell_type": "code",
   "execution_count": null,
   "metadata": {},
   "outputs": [],
   "source": [
    "dodge_text = position_dodge(width=0.9)\n",
    "\n",
    "(g +  geom_text(aes(label='Confirmed'),                                    \n",
    "             position=dodge_text,\n",
    "             size=8, va='bottom')\n",
    "+ xlab('Mes') \n",
    "+ ylab('Total casos confirmados') \n",
    "+ theme(panel_background=element_rect(fill='white'),            \n",
    "         axis_line_x=element_line(color='black'),\n",
    "         axis_text_y=element_blank(),\n",
    "         axis_ticks_major_y=element_blank(),\n",
    "         panel_grid=element_blank(),\n",
    "         panel_border=element_blank()))"
   ]
  },
  {
   "cell_type": "markdown",
   "metadata": {},
   "source": [
    "## Gráficos interactivos con Pyplot"
   ]
  },
  {
   "cell_type": "code",
   "execution_count": null,
   "metadata": {},
   "outputs": [],
   "source": [
    "from plotly.tools import mpl_to_plotly"
   ]
  },
  {
   "cell_type": "code",
   "execution_count": null,
   "metadata": {},
   "outputs": [],
   "source": [
    "g = ggplot(data = spain,\n",
    "           mapping = aes(x = 'Day', y = 'Confirmed')) +  geom_point()"
   ]
  },
  {
   "cell_type": "code",
   "execution_count": null,
   "metadata": {},
   "outputs": [],
   "source": [
    "\n",
    "g = ggplot(data = spain,\n",
    "           mapping = aes(x = 'Day', y = 'Confirmed')) +  geom_point()\n",
    "\n",
    "fig = g.draw()\n",
    "\n",
    "plotly_fig = mpl_to_plotly(fig)\n",
    "plotly_fig"
   ]
  },
  {
   "cell_type": "code",
   "execution_count": null,
   "metadata": {},
   "outputs": [],
   "source": [
    "import plotly.graph_objects as go"
   ]
  },
  {
   "cell_type": "code",
   "execution_count": null,
   "metadata": {},
   "outputs": [],
   "source": [
    "fig = go.Figure(go.Scatter(\n",
    "                x=spain.groupby('Date')['Date'].first(),\n",
    "                y=spain.groupby('Date')['Confirmed'].sum(),\n",
    "                name=\"Confirmed\",\n",
    "                mode='lines'))\n",
    "\n",
    "\n",
    "fig.update_layout(title = 'Número de casos activos en España', \n",
    "                  xaxis_title=\"Fecha\",\n",
    "                  yaxis_title=\"Número de enfermos\")\n",
    "\n",
    "fig.show()"
   ]
  },
  {
   "cell_type": "markdown",
   "metadata": {},
   "source": [
    "En el siguiente gráfico, podemos ver el número de confirmados frente a fallecidos, en el país o región que seleccionemos"
   ]
  },
  {
   "cell_type": "code",
   "execution_count": null,
   "metadata": {},
   "outputs": [],
   "source": [
    "data = pd.read_csv('covid_19_complete.csv')\n",
    "data['Date'] = pd.to_datetime(data['Date'],  format='%m/%d/%y')"
   ]
  },
  {
   "cell_type": "code",
   "execution_count": null,
   "metadata": {},
   "outputs": [],
   "source": [
    "region = 'Italy'\n",
    "\n",
    "fig = go.Figure()\n",
    "fig.add_trace(go.Scatter(\n",
    "                x=data[data['Country/Region'] == region].groupby('Date')['Date'].first(),\n",
    "                y=data[data['Country/Region'] == region].groupby('Date')['Confirmed'].sum(),\n",
    "                name=\"Casos confirmados\"))\n",
    "\n",
    "fig.add_trace(go.Scatter(\n",
    "                x=data[data['Country/Region'] == region].groupby('Date')['Date'].first(),\n",
    "                y=data[data['Country/Region'] == region].groupby('Date')['Deaths'].sum(),\n",
    "                name=\"Muertes\"))\n",
    "\n",
    "\n",
    "fig.update_layout(title=\"Número de infectados por COVID-19\".format(region),\n",
    "                  xaxis_title=\"Fecha\",\n",
    "                  yaxis_title=\"Número de enfermos\")\n",
    "\n",
    "fig.show()"
   ]
  },
  {
   "cell_type": "markdown",
   "metadata": {},
   "source": [
    "Por último, gracias a las variables longitud y latitud, podemos pintar un mapa."
   ]
  },
  {
   "cell_type": "code",
   "execution_count": null,
   "metadata": {},
   "outputs": [],
   "source": [
    "data['Province/State'][pd.isnull(data['Province/State'])] = ''"
   ]
  },
  {
   "cell_type": "code",
   "execution_count": null,
   "metadata": {},
   "outputs": [],
   "source": [
    "\n",
    "\n",
    "fig = go.Figure(data=go.Scattergeo(\n",
    "        lon = data['Long'],\n",
    "        lat = data['Lat'],\n",
    "        text = data['Province/State']+ '-' + data['Country/Region'] + ': ' + data['Confirmed'].astype(str),\n",
    "        mode = 'markers',\n",
    "       marker_size = 4.5,\n",
    "        marker = dict(reversescale = False,\n",
    "                      autocolorscale = False,\n",
    "                      symbol = 'circle',\n",
    "                      line = dict(width=1, color='rgba(102, 102, 102)'),\n",
    "                      colorscale = 'Reds',\n",
    "                      cmin = 0,\n",
    "                      color = data['Confirmed'],\n",
    "                      cmax = data['Confirmed'].max(),\n",
    "                      colorbar_title=\"Confirmed Cases\")))\n",
    "\n",
    "fig.update_layout(title = 'Números de casos activos por País/Estado',\n",
    "                  geo=dict(scope='world',\n",
    "                           showland = True,\n",
    "                           landcolor = \"rgb(145, 185, 87)\",\n",
    "                           showocean = True,\n",
    "                           oceancolor = \"rgb(223, 239, 240)\",\n",
    "                           showcountries=True,\n",
    "                           showsubunits=True,\n",
    "                           showlakes=False,))\n",
    "fig.show()"
   ]
  },
  {
   "cell_type": "code",
   "execution_count": null,
   "metadata": {},
   "outputs": [],
   "source": []
  },
  {
   "cell_type": "code",
   "execution_count": null,
   "metadata": {},
   "outputs": [],
   "source": []
  },
  {
   "cell_type": "code",
   "execution_count": null,
   "metadata": {},
   "outputs": [],
   "source": []
  }
 ],
 "metadata": {
  "kernelspec": {
   "display_name": "Python 3",
   "language": "python",
   "name": "python3"
  },
  "language_info": {
   "codemirror_mode": {
    "name": "ipython",
    "version": 3
   },
   "file_extension": ".py",
   "mimetype": "text/x-python",
   "name": "python",
   "nbconvert_exporter": "python",
   "pygments_lexer": "ipython3",
   "version": "3.7.3"
  }
 },
 "nbformat": 4,
 "nbformat_minor": 2
}
