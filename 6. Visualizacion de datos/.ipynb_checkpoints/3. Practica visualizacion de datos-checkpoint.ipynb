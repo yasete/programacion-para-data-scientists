{
 "cells": [
  {
   "cell_type": "markdown",
   "metadata": {},
   "source": [
    "# 3.- Práctica sobre visualización de datos"
   ]
  },
  {
   "cell_type": "markdown",
   "metadata": {},
   "source": [
    "1.- Importa el fichero de datos covid_19_complete.xls\n",
    "\n",
    "2.- Realiza la limpieza necesaria de nulos, imputando la media de su columna.\n",
    "\n",
    "3.- Descubre por qué algunos nulos no desaparecen.\n",
    "\n",
    "4.- Trata dichos nulos de la manera que consideres necesaria pero hazlos desaparecer.\n",
    "\n",
    "5.- Dibuja un mapa de calor de la matriz de correlación del dataframe.\n",
    "\n",
    "6.- Haz un mapa de clustering sobre dicho mapa de calor.\n",
    "\n",
    "7.- Realiza un gráfico de regresión entre las dos variables con mayor correlación.\n",
    "\n",
    "8.- Dibuja una distribución de probabilidad de la variable 'Death' por pais (hay que agregar primero por pais en el dataframe antes de realizar el gráfico)\n",
    "\n",
    "9.- Realiza dos gráficos de barras dentro del mismo área, los dos correspondiendo a los 5 paises con mayor y menor número de casos respectivamente."
   ]
  },
  {
   "cell_type": "markdown",
   "metadata": {},
   "source": [
    "## 1.- Importa el fichero de datos covid_19_complete.xls"
   ]
  },
  {
   "cell_type": "code",
   "execution_count": null,
   "metadata": {},
   "outputs": [],
   "source": []
  },
  {
   "cell_type": "markdown",
   "metadata": {},
   "source": [
    "## 2.- Realiza la limpieza necesaria de nulos, imputando la media de su columna."
   ]
  },
  {
   "cell_type": "code",
   "execution_count": null,
   "metadata": {},
   "outputs": [],
   "source": []
  },
  {
   "cell_type": "markdown",
   "metadata": {},
   "source": [
    "## 3.- Descubre por qué algunos nulos no desaparecen."
   ]
  },
  {
   "cell_type": "code",
   "execution_count": null,
   "metadata": {},
   "outputs": [],
   "source": []
  },
  {
   "cell_type": "markdown",
   "metadata": {},
   "source": [
    "## 4.- Trata dichos nulos de la manera que consideres necesaria pero hazlos desaparecer."
   ]
  },
  {
   "cell_type": "code",
   "execution_count": null,
   "metadata": {},
   "outputs": [],
   "source": []
  },
  {
   "cell_type": "markdown",
   "metadata": {},
   "source": [
    "## 5.- Dibuja un mapa de calor de la matriz de correlación del dataframe."
   ]
  },
  {
   "cell_type": "code",
   "execution_count": null,
   "metadata": {},
   "outputs": [],
   "source": []
  },
  {
   "cell_type": "markdown",
   "metadata": {},
   "source": [
    "## 6.- Haz un mapa de clustering sobre dicho mapa de calor."
   ]
  },
  {
   "cell_type": "code",
   "execution_count": null,
   "metadata": {},
   "outputs": [],
   "source": []
  },
  {
   "cell_type": "markdown",
   "metadata": {},
   "source": [
    "## 7.- Realiza un gráfico de regresión entre las dos variables con mayor correlación."
   ]
  },
  {
   "cell_type": "code",
   "execution_count": null,
   "metadata": {},
   "outputs": [],
   "source": []
  },
  {
   "cell_type": "markdown",
   "metadata": {},
   "source": [
    "## 8.- Dibuja una distribución de probabilidad de la variable 'Death' por pais"
   ]
  },
  {
   "cell_type": "code",
   "execution_count": null,
   "metadata": {},
   "outputs": [],
   "source": []
  },
  {
   "cell_type": "markdown",
   "metadata": {},
   "source": [
    "## 9.- Realiza dos gráficos de barras dentro del mismo área, los dos correspondiendo a los 5 paises con mayor y menor número de casos respectivamente."
   ]
  },
  {
   "cell_type": "code",
   "execution_count": null,
   "metadata": {},
   "outputs": [],
   "source": []
  }
 ],
 "metadata": {
  "kernelspec": {
   "display_name": "Python 3",
   "language": "python",
   "name": "python3"
  },
  "language_info": {
   "codemirror_mode": {
    "name": "ipython",
    "version": 3
   },
   "file_extension": ".py",
   "mimetype": "text/x-python",
   "name": "python",
   "nbconvert_exporter": "python",
   "pygments_lexer": "ipython3",
   "version": "3.7.3"
  }
 },
 "nbformat": 4,
 "nbformat_minor": 2
}
