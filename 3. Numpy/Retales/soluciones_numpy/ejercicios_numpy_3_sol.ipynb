{
 "cells": [
  {
   "cell_type": "code",
   "execution_count": null,
   "metadata": {},
   "outputs": [],
   "source": [
    "import numpy as np\n",
    "import pandas as pd\n"
   ]
  },
  {
   "cell_type": "markdown",
   "metadata": {},
   "source": [
    "### 1. Define una función que reciba una matriz y diga si ésta es invertible o no (puedes investigar si hay alguna función que no hayamos visto en clase pero que quizás sea útil). "
   ]
  },
  {
   "cell_type": "code",
   "execution_count": null,
   "metadata": {},
   "outputs": [],
   "source": [
    "def invertible(matriz):\n",
    "    \n",
    "    if matriz.shape[0] != matriz.shape[1]:\n",
    "        print('La matriz no es cuadrada, por tanto, no es invertible')\n",
    "    elif linalg.det(matriz) == 0:\n",
    "        print('La matriz no es invertible (su det. es 0)')\n",
    "    else: \n",
    "        print('La matriz SÍ es invertible')"
   ]
  },
  {
   "cell_type": "code",
   "execution_count": null,
   "metadata": {},
   "outputs": [],
   "source": [
    "invertible(np.arange(1,10).reshape(3,3))"
   ]
  },
  {
   "cell_type": "code",
   "execution_count": null,
   "metadata": {},
   "outputs": [],
   "source": [
    "def invertible2(matriz):\n",
    "\n",
    "    print(matriz)\n",
    "    print('\\n')\n",
    "    try:\n",
    "        linalg.inv(matriz)\n",
    "        print('La matriz SÍ es invertible')\n",
    "    except:\n",
    "        print('La matriz NO es invertible')\n",
    "        \n",
    "invertible2(np.arange(1,10).reshape(3,3))"
   ]
  },
  {
   "cell_type": "markdown",
   "metadata": {},
   "source": [
    "### 2. Define una función que dada dos matrices, A y B, calcule el resultado del sistema lineal Ax = B (sin usar la función _solve_ de NumPy. Debes tener en cuenta (y controlar) los casos en los que no exista solución."
   ]
  },
  {
   "cell_type": "code",
   "execution_count": null,
   "metadata": {},
   "outputs": [],
   "source": [
    "def funcion2(a,b):\n",
    "    n,m=np.shape(a)\n",
    "    if n!=m or linalg.det(a)==0 or n != b.shape[0]:\n",
    "        print(\"Error\")\n",
    "    else:\n",
    "        a_1=linalg.inv(a)\n",
    "        x=np.dot(a_1,b)\n",
    "        return x"
   ]
  },
  {
   "cell_type": "markdown",
   "metadata": {},
   "source": [
    "### 3. La exponencial de matrices es una función definida sobre las matrices cuadradas, parecida a la función exponencial. Si $X$ es una matriz, entonces \n",
    "\n",
    "$$ e^X = \\sum_{k=1}^{\\infty}\\dfrac{X^k}{k!} .$$\n",
    "\n",
    "##### Esta suma infinita se aproxima mediante la expansión de Taylor de orden n como sigue: \n",
    "\n",
    "$$\\sum_{k=1}^{n} \\dfrac{X^k}{k!}$$\n",
    "\n",
    "### Define una función que, dada una matriz y un número n, calcule la exponencial de la matriz según el polinomio de Taylor de orden n."
   ]
  },
  {
   "cell_type": "code",
   "execution_count": null,
   "metadata": {},
   "outputs": [],
   "source": [
    "def matrixExponentialTaylor(matrix,order):\n",
    "    suma = np.identity(matrix.shape[0])\n",
    "    product = suma\n",
    "    for i in range(1, order):\n",
    "        product = np.dot(product, matrix)/i\n",
    "        suma = suma + product\n",
    "    return suma"
   ]
  },
  {
   "cell_type": "code",
   "execution_count": null,
   "metadata": {},
   "outputs": [],
   "source": [
    "matriz = np.arange(9).reshape(3,3)\n",
    "#matriz = np.eye(3)\n",
    "matrixExponentialTaylor(matriz,24)"
   ]
  },
  {
   "cell_type": "markdown",
   "metadata": {},
   "source": [
    "### Para comprobar si lo hemos hecho bien\n",
    "Existe una función (expm) que hace lo que queremos"
   ]
  },
  {
   "cell_type": "code",
   "execution_count": null,
   "metadata": {},
   "outputs": [],
   "source": [
    "import scipy.linalg as sl\n",
    "\n",
    "sl.expm(matriz)"
   ]
  },
  {
   "cell_type": "markdown",
   "metadata": {},
   "source": [
    "### 4. En álgebra lineal, el proceso de ortonormalización de Gram–Schmidt es un algoritmo para construir, a partir de un conjunto de vectores de un espacio vectorial con producto interno, otro conjunto ortonormal de vectores que genere el mismo subespacio vectorial. \n",
    "\n",
    "**Implementa este proceso de ortonomalización, que se describe en https://es.wikipedia.org/wiki/Proceso_de_ortogonalización_de_Gram-Schmidt**"
   ]
  },
  {
   "cell_type": "code",
   "execution_count": null,
   "metadata": {},
   "outputs": [],
   "source": [
    "import numpy as np\n",
    "def gs_cofficient(v1, v2):\n",
    "    return np.dot(v2, v1) / np.dot(v1, v1)\n",
    "\n",
    "def proj(v1, v2):\n",
    "    return gs_cofficient(v1, v2) * v1\n",
    "\n",
    "def gs(X):\n",
    "    Y = []\n",
    "    for i in range(len(X)):\n",
    "        temp_vec = X[i]\n",
    "        for inY in Y :\n",
    "            proj_vec = proj(inY, X[i])\n",
    "            #temp_vec = map(lambda x, y : x - y, temp_vec, proj_vec)\n",
    "            temp_vec = temp_vec - proj_vec\n",
    "        Y.append(temp_vec)\n",
    "    return Y\n",
    "\n",
    "#Test data\n",
    "test = np.array([[2.0, 1.0], [1.0, 4.0]])\n",
    "test2 = np.array([[1.0, 1.0, 0.0], [1.0, 3.0, 1.0], [2.0, -1.0, 1.0]])\n",
    "test"
   ]
  },
  {
   "cell_type": "code",
   "execution_count": null,
   "metadata": {},
   "outputs": [],
   "source": [
    "gs(test)"
   ]
  },
  {
   "cell_type": "code",
   "execution_count": null,
   "metadata": {},
   "outputs": [],
   "source": []
  }
 ],
 "metadata": {
  "kernelspec": {
   "display_name": "Python 3",
   "language": "python",
   "name": "python3"
  },
  "language_info": {
   "codemirror_mode": {
    "name": "ipython",
    "version": 3
   },
   "file_extension": ".py",
   "mimetype": "text/x-python",
   "name": "python",
   "nbconvert_exporter": "python",
   "pygments_lexer": "ipython3",
   "version": "3.7.4"
  }
 },
 "nbformat": 4,
 "nbformat_minor": 2
}
