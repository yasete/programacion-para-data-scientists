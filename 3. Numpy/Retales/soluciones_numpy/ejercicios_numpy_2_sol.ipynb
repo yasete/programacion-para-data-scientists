{
 "cells": [
  {
   "cell_type": "markdown",
   "metadata": {},
   "source": [
    "# NumPy - Ejercicios (II)"
   ]
  },
  {
   "cell_type": "code",
   "execution_count": null,
   "metadata": {},
   "outputs": [],
   "source": [
    "import numpy as np"
   ]
  },
  {
   "cell_type": "markdown",
   "metadata": {},
   "source": [
    "### 1. Crea una función que reciba un número n, genere una matriz nxn a partir de una secuencia numérica y escriba la misma en un fichero cuyo nombre se recibirá también como parámetro. Hazlo con ficheros binarios."
   ]
  },
  {
   "cell_type": "code",
   "execution_count": null,
   "metadata": {},
   "outputs": [],
   "source": [
    "def matriz(n, nombre):\n",
    "    array = np.arange(n*n).reshape(n,n)\n",
    "    np.save(nombre, array)\n",
    "    return array\n",
    "matriz(5, 'Afi')"
   ]
  },
  {
   "cell_type": "markdown",
   "metadata": {},
   "source": [
    "### 2. Crea una función que reciba el nombre de un fichero binario de NumPy, lo lea como binario, sume el contenido del mismo por filas y guarde el resultado en un fichero de texto con el mismo nombre (pero extensión txt)."
   ]
  },
  {
   "cell_type": "code",
   "execution_count": null,
   "metadata": {},
   "outputs": [],
   "source": [
    "def ejercicio(nombre_fichero):\n",
    "    array1=np.load(nombre_fichero) #nombre_fichero + '.npy'\n",
    "    array_suma=np.sum(array1, axis=1)\n",
    "    np.savetxt(nombre_fichero[:-4]+'.txt', array_suma)  #nombre_fichero + '.txt'\n",
    "    \n",
    "ejercicio('Afi.npy')    "
   ]
  },
  {
   "cell_type": "markdown",
   "metadata": {},
   "source": [
    "### 3. Crea una función que reciba dos enteros n y m, genere dos matrices aleatorias (normales 0,1) de dimensiones nxm y mxn y haga el producto escalar de ambas para obtener una matriz nxn. Deberá devolver una tupla con las tres matrices."
   ]
  },
  {
   "cell_type": "code",
   "execution_count": null,
   "metadata": {},
   "outputs": [],
   "source": [
    "def ejercicio3 (n,m):\n",
    "    array1= np.random.randn(n*m).reshape(n,m) #np.random.randn(n,m)\n",
    "    array2=np.random.randn(n*m).reshape(m,n)\n",
    "    array3=np.dot(array1,array2)\n",
    "    return(array1,array2,array3)\n",
    "ejercicio3(4,5)\n",
    "\n",
    "\n"
   ]
  },
  {
   "cell_type": "markdown",
   "metadata": {},
   "source": [
    "### 4. Crea una función que reciba una matriz de datos y un entero n y devuelva una muestra (muestreo aleatorio simple) de n elementos."
   ]
  },
  {
   "cell_type": "code",
   "execution_count": null,
   "metadata": {},
   "outputs": [],
   "source": [
    "def fun_ex4 (array,a):\n",
    "    n,m=array.shape\n",
    "    list_ex4 = []\n",
    "    i=0\n",
    "    while i<a:\n",
    "        elemento = array[np.random.randint(0,n), np.random.randint(0,m)]\n",
    "        list_ex4.append(elemento)\n",
    "        i+=1\n",
    "    return list_ex4\n",
    "array1=np.arange(9).reshape(3,3)\n",
    "fun_ex4 (array1,5)\n",
    "\n",
    "\n",
    "\n"
   ]
  },
  {
   "cell_type": "code",
   "execution_count": null,
   "metadata": {},
   "outputs": [],
   "source": [
    "def muestreo(matriz,n):\n",
    "    a,b = matriz.shape\n",
    "    muestreo_filas = np.random.randint(0,a,n)\n",
    "    print(muestreo_filas)\n",
    "    muestreo_columnas = np.random.randint(0,b,n)\n",
    "    print(muestreo_columnas)\n",
    "    muestra = matriz[muestreo_filas,muestreo_columnas]\n",
    "    return(muestra)\n",
    "\n",
    "mat = np.random.randn(4,5)\n",
    "print(mat)\n",
    "muestreo(mat,50)"
   ]
  },
  {
   "cell_type": "code",
   "execution_count": null,
   "metadata": {},
   "outputs": [],
   "source": [
    "def ejercicio_4(matriz,numero):\n",
    "    muestra = []\n",
    "    elementos = matriz.reshape(matriz.size)\n",
    "    while len(muestra) < numero:\n",
    "        i = np.random.randint(0,matriz.size)\n",
    "        muestra.append(elementos[i])\n",
    "    return (muestra)\n",
    "\n",
    "ejercicio_4(mat,10)"
   ]
  },
  {
   "cell_type": "code",
   "execution_count": null,
   "metadata": {},
   "outputs": [],
   "source": [
    "def ejercicio_4(matriz,numero):\n",
    "    print(matriz)\n",
    "    elementos = matriz.reshape(matriz.size)\n",
    "    print(elementos)\n",
    "    m = np.random.randint(0,matriz.size,numero)\n",
    "    print(m)\n",
    "    muestra = elementos[m]\n",
    "    return muestra\n",
    "\n",
    "ejercicio_4(mat,10)"
   ]
  },
  {
   "cell_type": "code",
   "execution_count": null,
   "metadata": {},
   "outputs": [],
   "source": []
  }
 ],
 "metadata": {
  "anaconda-cloud": {},
  "kernelspec": {
   "display_name": "Python 3",
   "language": "python",
   "name": "python3"
  },
  "language_info": {
   "codemirror_mode": {
    "name": "ipython",
    "version": 3
   },
   "file_extension": ".py",
   "mimetype": "text/x-python",
   "name": "python",
   "nbconvert_exporter": "python",
   "pygments_lexer": "ipython3",
   "version": "3.7.4"
  }
 },
 "nbformat": 4,
 "nbformat_minor": 1
}
