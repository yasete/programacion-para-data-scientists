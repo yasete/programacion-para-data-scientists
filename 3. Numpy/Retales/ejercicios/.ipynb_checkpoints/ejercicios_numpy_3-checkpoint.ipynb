{
 "cells": [
  {
   "cell_type": "markdown",
   "metadata": {},
   "source": [
    "### 1. Define una función que reciba una matriz y diga si ésta es invertible o no (puedes investigar si hay alguna función que no hayamos visto en clase pero que quizás sea útil). "
   ]
  },
  {
   "cell_type": "markdown",
   "metadata": {},
   "source": [
    "### 2. Define una función que dada dos matrices, A y B, calcule el resultado del sistema lineal Ax = B (sin usar la función _solve_ de NumPy. Debes tener en cuenta (y controlar) los casos en los que no exista solución."
   ]
  },
  {
   "cell_type": "code",
   "execution_count": null,
   "metadata": {
    "collapsed": true
   },
   "outputs": [],
   "source": []
  },
  {
   "cell_type": "markdown",
   "metadata": {},
   "source": [
    "### 3. La exponencial de matrices es una función definida sobre las matrices cuadradas, parecida a la función exponencial. Si $X$ es una matriz, entonces \n",
    "\n",
    "$$ e^X = \\sum_{k=1}^{\\infty}\\dfrac{X^k}{k!} .$$\n",
    "\n",
    "##### Esta suma infinita se aproxima mediante la expansión de Taylor de orden n como sigue: \n",
    "\n",
    "$$\\sum_{k=1}^{n} \\dfrac{X^k}{k!}$$\n",
    "\n",
    "### Define una función que, dada una matriz y un número n, calcule la exponencial de la matriz según el polinomio de Taylor de orden n."
   ]
  },
  {
   "cell_type": "code",
   "execution_count": null,
   "metadata": {
    "collapsed": true
   },
   "outputs": [],
   "source": []
  },
  {
   "cell_type": "markdown",
   "metadata": {},
   "source": [
    "### 4. En álgebra lineal, el proceso de ortonormalización de Gram–Schmidt es un algoritmo para construir, a partir de un conjunto de vectores de un espacio vectorial con producto interno, otro conjunto ortonormal de vectores que genere el mismo subespacio vectorial. \n",
    "\n",
    "**Implementa este proceso de ortonomalización, que se describe en https://es.wikipedia.org/wiki/Proceso_de_ortogonalización_de_Gram-Schmidt**"
   ]
  },
  {
   "cell_type": "code",
   "execution_count": null,
   "metadata": {},
   "outputs": [],
   "source": []
  },
  {
   "cell_type": "code",
   "execution_count": null,
   "metadata": {
    "collapsed": true
   },
   "outputs": [],
   "source": []
  }
 ],
 "metadata": {
  "kernelspec": {
   "display_name": "Python 3",
   "language": "python",
   "name": "python3"
  },
  "language_info": {
   "codemirror_mode": {
    "name": "ipython",
    "version": 3
   },
   "file_extension": ".py",
   "mimetype": "text/x-python",
   "name": "python",
   "nbconvert_exporter": "python",
   "pygments_lexer": "ipython3",
   "version": "3.7.3"
  }
 },
 "nbformat": 4,
 "nbformat_minor": 2
}
