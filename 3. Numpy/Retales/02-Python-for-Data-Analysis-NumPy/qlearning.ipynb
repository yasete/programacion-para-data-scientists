{
 "cells": [
  {
   "cell_type": "code",
   "execution_count": 1,
   "metadata": {},
   "outputs": [
    {
     "name": "stdout",
     "output_type": "stream",
     "text": [
      "Collecting pyqlearning\n",
      "  Downloading https://files.pythonhosted.org/packages/fa/53/c7797c754ac77f2fbdc164697dc153800baa0138ffdc1b1ae204bf000cbb/pyqlearning-1.2.5-py3-none-any.whl (58kB)\n",
      "Requirement already satisfied: numpy in c:\\users\\juanh\\anaconda3\\lib\\site-packages (from pyqlearning) (1.17.0)\n",
      "Requirement already satisfied: pandas in c:\\users\\juanh\\anaconda3\\lib\\site-packages (from pyqlearning) (0.24.2)\n",
      "Requirement already satisfied: pytz>=2011k in c:\\users\\juanh\\anaconda3\\lib\\site-packages (from pandas->pyqlearning) (2019.1)\n",
      "Requirement already satisfied: python-dateutil>=2.5.0 in c:\\users\\juanh\\anaconda3\\lib\\site-packages (from pandas->pyqlearning) (2.8.0)\n",
      "Requirement already satisfied: six>=1.5 in c:\\users\\juanh\\anaconda3\\lib\\site-packages (from python-dateutil>=2.5.0->pandas->pyqlearning) (1.14.0)\n",
      "Installing collected packages: pyqlearning\n",
      "Successfully installed pyqlearning-1.2.5\n",
      "Note: you may need to restart the kernel to use updated packages.\n"
     ]
    }
   ],
   "source": [
    "pip install pyqlearning"
   ]
  },
  {
   "cell_type": "code",
   "execution_count": 2,
   "metadata": {},
   "outputs": [
    {
     "ename": "NameError",
     "evalue": "name 'cost_functionable' is not defined",
     "output_type": "error",
     "traceback": [
      "\u001b[1;31m---------------------------------------------------------------------------\u001b[0m",
      "\u001b[1;31mNameError\u001b[0m                                 Traceback (most recent call last)",
      "\u001b[1;32m<ipython-input-2-89b9336b082d>\u001b[0m in \u001b[0;36m<module>\u001b[1;34m\u001b[0m\n\u001b[0;32m      2\u001b[0m \u001b[1;33m\u001b[0m\u001b[0m\n\u001b[0;32m      3\u001b[0m annealing_model = AdaptiveSimulatedAnnealing(\n\u001b[1;32m----> 4\u001b[1;33m     \u001b[0mcost_functionable\u001b[0m\u001b[1;33m=\u001b[0m\u001b[0mcost_functionable\u001b[0m\u001b[1;33m,\u001b[0m\u001b[1;33m\u001b[0m\u001b[1;33m\u001b[0m\u001b[0m\n\u001b[0m\u001b[0;32m      5\u001b[0m     \u001b[0mcycles_num\u001b[0m\u001b[1;33m=\u001b[0m\u001b[1;36m33\u001b[0m\u001b[1;33m,\u001b[0m\u001b[1;33m\u001b[0m\u001b[1;33m\u001b[0m\u001b[0m\n\u001b[0;32m      6\u001b[0m     \u001b[0mtrials_per_cycle\u001b[0m\u001b[1;33m=\u001b[0m\u001b[1;36m3\u001b[0m\u001b[1;33m,\u001b[0m\u001b[1;33m\u001b[0m\u001b[1;33m\u001b[0m\u001b[0m\n",
      "\u001b[1;31mNameError\u001b[0m: name 'cost_functionable' is not defined"
     ]
    }
   ],
   "source": [
    "from pyqlearning.annealingmodel.simulatedannealing.adaptive_simulated_annealing import AdaptiveSimulatedAnnealing\n",
    "\n",
    "annealing_model = AdaptiveSimulatedAnnealing(\n",
    "    cost_functionable=cost_functionable,\n",
    "    cycles_num=33,\n",
    "    trials_per_cycle=3,\n",
    "    accepted_sol_num=0.0,\n",
    "    init_prob=0.7,\n",
    "    final_prob=0.001,\n",
    "    start_pos=0,\n",
    "    move_range=3\n",
    ")\n",
    "\n",
    "# Variability part.\n",
    "annealing_model.adaptive_set(\n",
    "    # How often will this model reanneals there per cycles.\n",
    "    reannealing_per=50,\n",
    "    # Thermostat.\n",
    "    thermostat=0.,\n",
    "    # The minimum temperature.\n",
    "    t_min=0.001,\n",
    "    # The default temperature.\n",
    "    t_default=1.0\n",
    ")\n",
    "annealing_model.var_arr = params_arr\n",
    "annealing_model.annealing()"
   ]
  }
 ],
 "metadata": {
  "kernelspec": {
   "display_name": "Python 3",
   "language": "python",
   "name": "python3"
  },
  "language_info": {
   "codemirror_mode": {
    "name": "ipython",
    "version": 3
   },
   "file_extension": ".py",
   "mimetype": "text/x-python",
   "name": "python",
   "nbconvert_exporter": "python",
   "pygments_lexer": "ipython3",
   "version": "3.7.3"
  }
 },
 "nbformat": 4,
 "nbformat_minor": 2
}
