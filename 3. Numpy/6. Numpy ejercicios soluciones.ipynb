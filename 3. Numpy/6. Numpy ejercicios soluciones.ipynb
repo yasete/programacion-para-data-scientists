{
 "cells": [
  {
   "cell_type": "markdown",
   "metadata": {},
   "source": [
    "# NumPy - Ejercicios"
   ]
  },
  {
   "cell_type": "markdown",
   "metadata": {},
   "source": [
    "### 1. Crea una matriz 3x3 con valores entre 0 y 8."
   ]
  },
  {
   "cell_type": "code",
   "execution_count": 1,
   "metadata": {},
   "outputs": [
    {
     "data": {
      "text/plain": [
       "array([[2, 0, 2],\n",
       "       [6, 1, 7],\n",
       "       [2, 4, 1]])"
      ]
     },
     "execution_count": 1,
     "metadata": {},
     "output_type": "execute_result"
    }
   ],
   "source": [
    "import numpy as np\n",
    "np.random.randint(0,8,(3,3))"
   ]
  },
  {
   "cell_type": "markdown",
   "metadata": {},
   "source": [
    "### 2. Crea una matriz 5x5 con valores enteros aleatorios tomados del intervalo [1,4] debajo de la diagonal principal."
   ]
  },
  {
   "cell_type": "code",
   "execution_count": 3,
   "metadata": {},
   "outputs": [
    {
     "name": "stdout",
     "output_type": "stream",
     "text": [
      "[[7 7 2 3 1]\n",
      " [3 8 4 5 3]\n",
      " [2 3 2 6 8]\n",
      " [4 3 3 9 3]\n",
      " [6 2 5 6 7]]\n",
      "\n"
     ]
    },
    {
     "data": {
      "text/plain": [
       "array([[7, 7, 2, 3, 1],\n",
       "       [1, 8, 4, 5, 3],\n",
       "       [1, 1, 2, 6, 8],\n",
       "       [1, 3, 2, 9, 3],\n",
       "       [3, 3, 1, 1, 7]])"
      ]
     },
     "execution_count": 3,
     "metadata": {},
     "output_type": "execute_result"
    }
   ],
   "source": [
    "a=np.random.randint(1,10,(5,5))\n",
    "print(a)\n",
    "print()\n",
    "\n",
    "for cont_line in range(0,5):\n",
    "    for cont_element in range(0,5):\n",
    "        if cont_element < cont_line:\n",
    "            a[cont_line][cont_element]=np.random.randint(1,4)\n",
    "a"
   ]
  },
  {
   "cell_type": "markdown",
   "metadata": {},
   "source": [
    "### 3. Crea una función que reciba como parámetro un número n y devuelva una matriz cuadrada (dos dimensiones) de nxn donde los elementos de la diagonal principal valgan 1 y el resto valgan n."
   ]
  },
  {
   "cell_type": "code",
   "execution_count": 16,
   "metadata": {},
   "outputs": [
    {
     "data": {
      "text/plain": [
       "array([[1., 5., 5., 5., 5.],\n",
       "       [5., 1., 5., 5., 5.],\n",
       "       [5., 5., 1., 5., 5.],\n",
       "       [5., 5., 5., 1., 5.],\n",
       "       [5., 5., 5., 5., 1.]])"
      ]
     },
     "execution_count": 16,
     "metadata": {},
     "output_type": "execute_result"
    }
   ],
   "source": [
    "def myfunction(n):\n",
    "    import numpy as np\n",
    "    a=np.eye(n)\n",
    "    a[(a!=1)]=n\n",
    "    return a\n",
    "    \n",
    "myfunction(5)"
   ]
  },
  {
   "cell_type": "markdown",
   "metadata": {},
   "source": [
    "### 4. Crea una función que reciba dos números n y m que definirán ancho y alto de una matriz de nxm elementos numéricos secuenciales y un booleano que definirá si se debe devolver la matriz generada (False) o su traspuesta (True)."
   ]
  },
  {
   "cell_type": "code",
   "execution_count": 20,
   "metadata": {},
   "outputs": [
    {
     "data": {
      "text/plain": [
       "array([[ 0,  4,  8],\n",
       "       [ 1,  5,  9],\n",
       "       [ 2,  6, 10],\n",
       "       [ 3,  7, 11]])"
      ]
     },
     "execution_count": 20,
     "metadata": {},
     "output_type": "execute_result"
    }
   ],
   "source": [
    "def myfunction(n,m,mode):\n",
    "    a=np.arange(n*m)\n",
    "    a=a.reshape(n,m)\n",
    "    if mode==False:\n",
    "        return a\n",
    "    else:\n",
    "        return a.T\n",
    "myfunction(3,4,True)"
   ]
  },
  {
   "cell_type": "markdown",
   "metadata": {},
   "source": [
    "### 5. Crea una función que reciba dos arrays y genere un array que contenga 1 en aquellos elementos del primer array que sean mayores que su equivalente del segundo array y cero en los restantes."
   ]
  },
  {
   "cell_type": "code",
   "execution_count": 22,
   "metadata": {},
   "outputs": [
    {
     "name": "stdout",
     "output_type": "stream",
     "text": [
      "[ 1.56287277 -0.69619906  0.46287828 -0.27915612  1.92701008  0.91251172\n",
      "  0.03548853  0.22380408 -0.43607131 -0.24207272]\n",
      "[0.79977043 0.03696898 0.69259083 0.40593123 0.96787283 0.04443821\n",
      " 0.27123325 0.69626185 0.80797732 0.72691717]\n"
     ]
    },
    {
     "data": {
      "text/plain": [
       "array([1, 0, 0, 0, 1, 1, 0, 0, 0, 0])"
      ]
     },
     "execution_count": 22,
     "metadata": {},
     "output_type": "execute_result"
    }
   ],
   "source": [
    "def myfunction(array1,array2):\n",
    "    output=np.where(array1>array2,1,0)\n",
    "    return output\n",
    "a=np.random.randn(10)\n",
    "b=np.random.rand(10)\n",
    "print(a)\n",
    "print(b)\n",
    "\n",
    "myfunction(a,b)"
   ]
  },
  {
   "cell_type": "markdown",
   "metadata": {
    "collapsed": true
   },
   "source": [
    "### 6. Crea una función que reciba un array unidimensional y una secuencia de enteros y devuelva el vector resultante de seleccionar los índices de la secuencia aplicados desde el final."
   ]
  },
  {
   "cell_type": "code",
   "execution_count": 5,
   "metadata": {},
   "outputs": [
    {
     "name": "stdout",
     "output_type": "stream",
     "text": [
      "[-1.00147412  0.43109391 -1.21264091 -0.2401453   0.9703491   1.14052691\n",
      " -0.85155215  1.29096855 -0.73406535 -0.21825549  1.83844989  0.28714193\n",
      "  0.40149889  0.73930547 -0.34587398 -0.02836102 -0.33306292  0.49892778\n",
      " -0.39390106  0.24016439]\n",
      "[4 4 3 5 8 7 7 6 8 7]\n"
     ]
    },
    {
     "data": {
      "text/plain": [
       "array([-0.33306292, -0.33306292,  0.49892778, -0.02836102,  0.40149889,\n",
       "        0.73930547,  0.73930547, -0.34587398,  0.40149889,  0.73930547])"
      ]
     },
     "execution_count": 5,
     "metadata": {},
     "output_type": "execute_result"
    }
   ],
   "source": [
    "def myfunction(array,secuencia):\n",
    "    a=array[-secuencia]\n",
    "    return a\n",
    "array=np.random.randn(20)\n",
    "print(array)\n",
    "secuencia=np.random.randint(1,10,10)\n",
    "print(secuencia)\n",
    "myfunction(array,secuencia)"
   ]
  },
  {
   "cell_type": "markdown",
   "metadata": {},
   "source": [
    "### 7. Replica la función del ejercicio 5 utilizando la función np.where"
   ]
  },
  {
   "cell_type": "code",
   "execution_count": null,
   "metadata": {
    "collapsed": true
   },
   "outputs": [],
   "source": []
  },
  {
   "cell_type": "markdown",
   "metadata": {},
   "source": [
    "### 8. Crea una función que reciba una matriz y chequee si hay o no algún valor negativo en la misma."
   ]
  },
  {
   "cell_type": "code",
   "execution_count": 30,
   "metadata": {},
   "outputs": [
    {
     "name": "stdout",
     "output_type": "stream",
     "text": [
      "[[-0.02639877  0.69013709  0.22336443 -0.66450008  0.60548774]\n",
      " [ 0.44833994  0.55789729  0.9507533  -0.41474896 -0.9972932 ]\n",
      " [ 0.57976098 -0.00679214  0.90465561  0.59675791 -0.45456171]\n",
      " [-0.87138052 -0.27794613 -0.32144489 -0.00737497 -0.95736239]]\n",
      "\n"
     ]
    },
    {
     "data": {
      "text/plain": [
       "True"
      ]
     },
     "execution_count": 30,
     "metadata": {},
     "output_type": "execute_result"
    }
   ],
   "source": [
    "def myfunction(A):\n",
    "    result=(A<0).any()\n",
    "    return result\n",
    "A=np.random.randn(4,5)\n",
    "print(A)\n",
    "print()\n",
    "myfunction(A)"
   ]
  },
  {
   "cell_type": "markdown",
   "metadata": {},
   "source": [
    "### 9. Crea una función que utilizando la del ejercicio anterior, sume el valor absoluto de todos los elementos negativos de una matriz recibida como parámetro o devuelve \"No hay negativos\" en caso de que no los haya."
   ]
  },
  {
   "cell_type": "code",
   "execution_count": 34,
   "metadata": {},
   "outputs": [
    {
     "name": "stdout",
     "output_type": "stream",
     "text": [
      "[[-0.59008106  1.74308721 -0.04488745 -0.21442836 -0.03925026]\n",
      " [ 1.01271336 -1.56616472 -0.68530788 -0.17376377  1.49477736]\n",
      " [ 0.6430581   1.06179345  1.33312962 -0.00358292  0.30644946]\n",
      " [ 1.03320657 -1.19018582  1.47592618 -0.03986219  0.1758527 ]]\n",
      "\n"
     ]
    },
    {
     "data": {
      "text/plain": [
       "array([0.59008106, 0.04488745, 0.21442836, 0.03925026, 1.56616472,\n",
       "       0.68530788, 0.17376377, 0.00358292, 1.19018582, 0.03986219])"
      ]
     },
     "execution_count": 34,
     "metadata": {},
     "output_type": "execute_result"
    }
   ],
   "source": [
    "def myfunction(A):\n",
    "    result=(A<0).any()\n",
    "    if result==False:\n",
    "        output='No hay negativos'\n",
    "    else:\n",
    "        negativos=A[A<0]\n",
    "        result=np.abs(negativos)\n",
    "        \n",
    "    return result\n",
    "A=np.random.randn(4,5)\n",
    "print(A)\n",
    "print()\n",
    "myfunction(A)"
   ]
  },
  {
   "cell_type": "markdown",
   "metadata": {},
   "source": [
    "### 10. Crea una función que reciba dos matrices y devuelva la secuencia ordenada de la union de los elementos únicos de ambas."
   ]
  },
  {
   "cell_type": "code",
   "execution_count": 48,
   "metadata": {},
   "outputs": [
    {
     "name": "stdout",
     "output_type": "stream",
     "text": [
      "[[96 26 10 91 14]\n",
      " [54  3 13 26 68]\n",
      " [ 4 92  4 27 55]\n",
      " [ 6 99 31 99 76]]\n",
      "\n",
      "[[84 25 23 60 78]\n",
      " [93 61 79 14 63]\n",
      " [19 84 47 46 78]\n",
      " [72 73 25  3 31]]\n",
      "\n",
      "[ 3  4  6 10 13 14 19 23 25 26 27 31 46 47 54 55 60 61 63 68 72 73 76 78\n",
      " 79 84 91 92 93 96 99]\n"
     ]
    }
   ],
   "source": [
    "def myfunction(A,B):\n",
    "    result=np.union1d(A,B)\n",
    "    print(result)\n",
    "    result=np.unique(result)\n",
    "    result=result.sort()\n",
    "    return result\n",
    "A=np.random.randint(1,100,(4,5))\n",
    "print(A)\n",
    "B=np.random.randint(1,100,(4,5))\n",
    "print()\n",
    "print(B)\n",
    "print()\n",
    "myfunction(A,B)\n"
   ]
  },
  {
   "cell_type": "markdown",
   "metadata": {},
   "source": [
    "### 11. Crea una función que reciba una matriz unidimensional con nombres, una matriz con el mismo ancho que la matriz de nombres que contenga valores numéricos y un nombre de los de la primera lista. Deberá devolver, en una tupla, los descriptivos (mínimo, máximo, media, mediana y desviación típica) del vector de valores \"asociado\" al nombre seleccionado por posición. Ten en cuenta que el nombre introducido puede no estar en el listado y contrólalo."
   ]
  },
  {
   "cell_type": "code",
   "execution_count": 81,
   "metadata": {},
   "outputs": [
    {
     "name": "stdout",
     "output_type": "stream",
     "text": [
      "[[ 1.44534572 -0.92754018 -1.24572665  0.8593534   1.25789457]\n",
      " [-0.65058583  0.50817027  0.86956467  0.02476583 -0.15947658]\n",
      " [-0.84143605 -0.09475077  1.20552827 -0.1489976  -0.09595698]\n",
      " [ 0.08508409  2.02475181 -0.11720077  0.94557177  0.04896203]\n",
      " [-1.31580587 -1.06868345  0.86180307  1.88784624  0.71961468]\n",
      " [ 0.08828723 -1.72482138  0.08001813 -0.57519201 -1.17743428]\n",
      " [-0.53222135 -1.16104209 -0.47726054 -0.43757702  0.29787127]\n",
      " [ 0.15920452  0.94322585  1.11432413 -0.10696156 -0.53542323]\n",
      " [-0.77741887  0.12292268  1.07524035  0.48474586  0.4238805 ]\n",
      " [-0.60695626 -1.10532515  0.5048834  -0.6773914   1.62520537]]\n",
      "\n",
      "[[-0.92754018  0.50817027 -0.09475077  2.02475181 -1.06868345 -1.72482138\n",
      "  -1.16104209  0.94322585  0.12292268 -1.10532515]]\n",
      "\n"
     ]
    },
    {
     "data": {
      "text/plain": [
       "(2.024751810734958,\n",
       " -1.7248213775440087,\n",
       " -0.2483092406501827,\n",
       " -0.511145476668956,\n",
       " 1.104637095761563)"
      ]
     },
     "execution_count": 81,
     "metadata": {},
     "output_type": "execute_result"
    }
   ],
   "source": [
    "def myfunction(names,B,name):\n",
    "    index=np.where(names==name)[0]\n",
    "    B=B.T\n",
    "    vector=B[index]\n",
    "    print(vector)\n",
    "    print()\n",
    "    minimo=np.max(vector)\n",
    "    maximo=np.min(vector)\n",
    "    media=np.mean(vector)\n",
    "    mediana=np.median(vector)\n",
    "    std=np.std(vector)\n",
    "    output=(minimo,maximo,media,mediana,std)\n",
    "    return output\n",
    "names=np.array(['juan','pedro','mariano','luisa','carmen'])\n",
    "array=np.random.randn(10,len(names))\n",
    "print(array)\n",
    "print()\n",
    "myfunction(names,array,\"pedro\")"
   ]
  },
  {
   "cell_type": "code",
   "execution_count": 69,
   "metadata": {},
   "outputs": [
    {
     "name": "stdout",
     "output_type": "stream",
     "text": [
      "Tuple of arrays returned :  (array([], dtype=int64),)\n",
      "Elements with value 19 exists at following indices\n",
      "[]\n"
     ]
    }
   ],
   "source": [
    "\n",
    "import numpy as np\n",
    "\n",
    "# Create a numpy array from a list of numbers\n",
    "arr = np.array([11, 12, 13, 14, 15, 16, 17, 18, 19, 20, 21])\n",
    "arr=['pedro','pepe']\n",
    "result = np.where(arr == 'pedro')\n",
    "\n",
    "\n",
    "print('Tuple of arrays returned : ', result)\n",
    "print(\"Elements with value 19 exists at following indices\", result[0], sep='\\n')"
   ]
  },
  {
   "cell_type": "code",
   "execution_count": 72,
   "metadata": {},
   "outputs": [
    {
     "name": "stdout",
     "output_type": "stream",
     "text": [
      "(array([1, 5, 8], dtype=int64),)\n"
     ]
    }
   ],
   "source": [
    "import numpy as np\n",
    "array = np.array(['A', 'D', 'A', 'A', 'A', 'D', 'A', 'A', 'D', 'A'])\n",
    "print(np.where(array == 'D'))\n"
   ]
  }
 ],
 "metadata": {
  "anaconda-cloud": {},
  "kernelspec": {
   "display_name": "Python 3",
   "language": "python",
   "name": "python3"
  },
  "language_info": {
   "codemirror_mode": {
    "name": "ipython",
    "version": 3
   },
   "file_extension": ".py",
   "mimetype": "text/x-python",
   "name": "python",
   "nbconvert_exporter": "python",
   "pygments_lexer": "ipython3",
   "version": "3.7.3"
  }
 },
 "nbformat": 4,
 "nbformat_minor": 1
}
