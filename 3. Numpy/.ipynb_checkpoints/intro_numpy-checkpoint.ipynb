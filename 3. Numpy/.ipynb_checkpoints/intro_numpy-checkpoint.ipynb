{
 "cells": [
  {
   "cell_type": "markdown",
   "metadata": {
    "colab_type": "text",
    "id": "In9uGKZrzX8k"
   },
   "source": [
    "# Numpy Intro "
   ]
  },
  {
   "cell_type": "code",
   "execution_count": 71,
   "metadata": {
    "colab": {
     "autoexec": {
      "startup": false,
      "wait_interval": 0
     }
    },
    "colab_type": "code",
    "id": "mvm0dSHBzX8l"
   },
   "outputs": [],
   "source": [
    "from __future__ import print_function, division"
   ]
  },
  {
   "cell_type": "code",
   "execution_count": 72,
   "metadata": {
    "colab": {
     "autoexec": {
      "startup": false,
      "wait_interval": 0
     }
    },
    "colab_type": "code",
    "id": "BdAvkkeXzX8p"
   },
   "outputs": [],
   "source": [
    "# Standard imports for data analysis packages in Python\n",
    "import pandas as pd\n",
    "import numpy as np\n",
    "#import seaborn as sns\n",
    "import matplotlib.pyplot as plt\n",
    "\n",
    "\n",
    "from IPython.display import Image\n",
    "\n",
    "# This enables inline Plots\n",
    "%matplotlib inline\n",
    "\n",
    "# Limit rows displayed in notebook\n",
    "pd.set_option('display.max_rows', 10)\n",
    "pd.set_option('display.precision', 2)"
   ]
  },
  {
   "cell_type": "code",
   "execution_count": 73,
   "metadata": {
    "colab": {
     "autoexec": {
      "startup": false,
      "wait_interval": 0
     },
     "base_uri": "https://localhost:8080/",
     "height": 51
    },
    "colab_type": "code",
    "executionInfo": {
     "elapsed": 1233,
     "status": "ok",
     "timestamp": 1525627425498,
     "user": {
      "displayName": "aycacanli@hotmail.com",
      "photoUrl": "https://lh3.googleusercontent.com/a/default-user=s128",
      "userId": "106415820899870547758"
     },
     "user_tz": -180
    },
    "id": "ucTvToFtzX8s",
    "outputId": "c24f7523-17c1-48d5-c73a-be2f3a06ae2d"
   },
   "outputs": [
    {
     "name": "stdout",
     "output_type": "stream",
     "text": [
      "Pandas Version:  0.22.0\n",
      "Numpy Version:  1.14.1\n"
     ]
    }
   ],
   "source": [
    "print('Pandas Version: ', pd.__version__)\n",
    "print('Numpy Version: ', np.__version__)"
   ]
  },
  {
   "cell_type": "markdown",
   "metadata": {
    "colab_type": "text",
    "id": "A_uND4-azX8y"
   },
   "source": [
    "## Numpy\n",
    "\n",
    "The numpy package is used in almost all numerical computation using Python. It is a package that provides high-performance vector, matrix and higher-dimensional data structures for Python. It implemented in C and Fortran and therefore fast when calculations are vectorized and we don't do loops in python.\n",
    "\n",
    "* Pandas is built on top of Numpy.  Each Column in a Pandas DataFrame is a Numpy Array\n",
    "* Plotting functions (matplotlib) needs Numpy Arrays as input\n",
    "* Scikit-Learn needs Numpy Data Structures as input for Features and Labels and building Models\n",
    "\n",
    "Let's do a overview of Numpy Data Structures and Functions.\n",
    "\n",
    "### Data Structures\n",
    "\n",
    "* Arrays\n",
    "* Matrices"
   ]
  },
  {
   "cell_type": "markdown",
   "metadata": {
    "colab_type": "text",
    "id": "p9k8nlGQzX8y"
   },
   "source": [
    "## Creating Numpy Arrays:\n",
    "\n",
    "There are a number of ways to initialize new numpy arrays, for example from\n",
    "\n",
    "* a Python list or tuples\n",
    "* using functions that are dedicated to generating numpy arrays, such as `arange`, `linspace`, etc.\n",
    "* reading data from files"
   ]
  },
  {
   "cell_type": "markdown",
   "metadata": {
    "colab_type": "text",
    "id": "FFEbB1VFzX8z"
   },
   "source": [
    "### Arrays"
   ]
  },
  {
   "cell_type": "code",
   "execution_count": 74,
   "metadata": {
    "colab": {
     "autoexec": {
      "startup": false,
      "wait_interval": 0
     },
     "base_uri": "https://localhost:8080/",
     "height": 34
    },
    "colab_type": "code",
    "executionInfo": {
     "elapsed": 836,
     "status": "ok",
     "timestamp": 1525627574885,
     "user": {
      "displayName": "aycacanli@hotmail.com",
      "photoUrl": "https://lh3.googleusercontent.com/a/default-user=s128",
      "userId": "106415820899870547758"
     },
     "user_tz": -180
    },
    "id": "rG1E-Gh7zX80",
    "outputId": "3590c3dc-8c2f-4f96-e052-d27bb704fc9a"
   },
   "outputs": [
    {
     "data": {
      "text/plain": [
       "array([1, 2, 3, 4, 5, 6])"
      ]
     },
     "execution_count": 74,
     "metadata": {},
     "output_type": "execute_result"
    }
   ],
   "source": [
    "# a vector: the argument to the array function is a Python list\n",
    "mylist = [1, 2, 3, 4, 5, 6]\n",
    "\n",
    "arr1 = np.array(mylist)\n",
    "\n",
    "arr1"
   ]
  },
  {
   "cell_type": "code",
   "execution_count": 75,
   "metadata": {
    "colab": {
     "autoexec": {
      "startup": false,
      "wait_interval": 0
     },
     "base_uri": "https://localhost:8080/",
     "height": 102
    },
    "colab_type": "code",
    "executionInfo": {
     "elapsed": 805,
     "status": "ok",
     "timestamp": 1525627675292,
     "user": {
      "displayName": "aycacanli@hotmail.com",
      "photoUrl": "https://lh3.googleusercontent.com/a/default-user=s128",
      "userId": "106415820899870547758"
     },
     "user_tz": -180
    },
    "id": "Lb9YWsKRzX84",
    "outputId": "67d9838e-0475-4e96-9d39-a303aecd91c9"
   },
   "outputs": [
    {
     "name": "stdout",
     "output_type": "stream",
     "text": [
      "Shape of Array:  (6,)\n",
      "Type of object:  <class 'numpy.ndarray'>\n",
      "Type of contents:  int64\n",
      "Size (elements):  6\n",
      "ndim (number of dim):  1\n"
     ]
    }
   ],
   "source": [
    "print('Shape of Array: ', arr1.shape)\n",
    "print('Type of object: ', type(arr1))\n",
    "print('Type of contents: ', arr1.dtype)\n",
    "print('Size (elements): ', arr1.size)\n",
    "print('ndim (number of dim): ', arr1.ndim)"
   ]
  },
  {
   "cell_type": "code",
   "execution_count": null,
   "metadata": {
    "colab": {
     "autoexec": {
      "startup": false,
      "wait_interval": 0
     }
    },
    "colab_type": "code",
    "id": "EPXQVD8VzX86"
   },
   "outputs": [],
   "source": []
  },
  {
   "cell_type": "code",
   "execution_count": 80,
   "metadata": {
    "colab": {
     "autoexec": {
      "startup": false,
      "wait_interval": 0
     },
     "base_uri": "https://localhost:8080/",
     "height": 51
    },
    "colab_type": "code",
    "executionInfo": {
     "elapsed": 2010,
     "status": "ok",
     "timestamp": 1525627726861,
     "user": {
      "displayName": "aycacanli@hotmail.com",
      "photoUrl": "https://lh3.googleusercontent.com/a/default-user=s128",
      "userId": "106415820899870547758"
     },
     "user_tz": -180
    },
    "id": "jd-rSTGNzX89",
    "outputId": "1261de88-1724-4a66-be22-8f87ba2549a4"
   },
   "outputs": [
    {
     "data": {
      "text/plain": [
       "array([[1, 2, 3],\n",
       "       [4, 5, 6]])"
      ]
     },
     "execution_count": 80,
     "metadata": {},
     "output_type": "execute_result"
    }
   ],
   "source": [
    "## 2D Array\n",
    "arr2 = np.array([[1, 2, 3], \n",
    "                [4, 5, 6]])\n",
    "\n",
    "arr2"
   ]
  },
  {
   "cell_type": "code",
   "execution_count": 81,
   "metadata": {
    "colab": {
     "autoexec": {
      "startup": false,
      "wait_interval": 0
     },
     "base_uri": "https://localhost:8080/",
     "height": 102
    },
    "colab_type": "code",
    "executionInfo": {
     "elapsed": 868,
     "status": "ok",
     "timestamp": 1525360313979,
     "user": {
      "displayName": "Georgina Bilali",
      "photoUrl": "https://lh3.googleusercontent.com/a/default-user=s128",
      "userId": "114444159360292123227"
     },
     "user_tz": -180
    },
    "id": "DEcBsBstzX9D",
    "outputId": "24a56848-591a-4b98-da8c-8ae6ec7f8caf"
   },
   "outputs": [
    {
     "name": "stdout",
     "output_type": "stream",
     "text": [
      "Shape of Array:  (2, 3)\n",
      "Type of object:  <class 'numpy.ndarray'>\n",
      "Type of contents:  int64\n",
      "Size (elements):  6\n",
      "ndim (number of dim):  2\n"
     ]
    }
   ],
   "source": [
    "print('Shape of Array: ', arr2.shape)\n",
    "print('Type of object: ', type(arr2))\n",
    "print('Type of contents: ', arr2.dtype)\n",
    "print('Size (elements): ', arr2.size)\n",
    "print('ndim (number of dim): ', arr2.ndim)"
   ]
  },
  {
   "cell_type": "markdown",
   "metadata": {
    "colab_type": "text",
    "id": "dOuEzCsSzX9H"
   },
   "source": [
    "## Selecting Elements in Numpy"
   ]
  },
  {
   "cell_type": "code",
   "execution_count": 8,
   "metadata": {
    "colab": {
     "autoexec": {
      "startup": false,
      "wait_interval": 0
     },
     "base_uri": "https://localhost:8080/",
     "height": 34
    },
    "colab_type": "code",
    "executionInfo": {
     "elapsed": 649,
     "status": "ok",
     "timestamp": 1525627813778,
     "user": {
      "displayName": "aycacanli@hotmail.com",
      "photoUrl": "https://lh3.googleusercontent.com/a/default-user=s128",
      "userId": "106415820899870547758"
     },
     "user_tz": -180
    },
    "id": "cCM799TUzX9H",
    "outputId": "3482fd8c-ee7f-4b86-da06-eca2cc033bc6"
   },
   "outputs": [
    {
     "data": {
      "text/plain": [
       "2"
      ]
     },
     "execution_count": 8,
     "metadata": {},
     "output_type": "execute_result"
    }
   ],
   "source": [
    "# Selecting elements from array (Slicing)\n",
    "arr1[1]\n"
   ]
  },
  {
   "cell_type": "code",
   "execution_count": 9,
   "metadata": {
    "colab": {
     "autoexec": {
      "startup": false,
      "wait_interval": 0
     },
     "base_uri": "https://localhost:8080/",
     "height": 34
    },
    "colab_type": "code",
    "executionInfo": {
     "elapsed": 549,
     "status": "ok",
     "timestamp": 1525627824954,
     "user": {
      "displayName": "aycacanli@hotmail.com",
      "photoUrl": "https://lh3.googleusercontent.com/a/default-user=s128",
      "userId": "106415820899870547758"
     },
     "user_tz": -180
    },
    "id": "y60YJMqezX9K",
    "outputId": "c6e6b897-7579-471e-dc39-adb14d1c51fd"
   },
   "outputs": [
    {
     "data": {
      "text/plain": [
       "array([2, 3])"
      ]
     },
     "execution_count": 9,
     "metadata": {},
     "output_type": "execute_result"
    }
   ],
   "source": [
    "# Selecting a range - notice that it starts at lower limit up to the upper limt (not including).  Same behavior as Python list\n",
    "arr1[1:3]"
   ]
  },
  {
   "cell_type": "markdown",
   "metadata": {
    "colab_type": "text",
    "id": "Qcmq8BouzX9P"
   },
   "source": [
    "## Assigning Values"
   ]
  },
  {
   "cell_type": "code",
   "execution_count": 10,
   "metadata": {
    "colab": {
     "autoexec": {
      "startup": false,
      "wait_interval": 0
     },
     "base_uri": "https://localhost:8080/",
     "height": 34
    },
    "colab_type": "code",
    "executionInfo": {
     "elapsed": 881,
     "status": "ok",
     "timestamp": 1525360317168,
     "user": {
      "displayName": "Georgina Bilali",
      "photoUrl": "https://lh3.googleusercontent.com/a/default-user=s128",
      "userId": "114444159360292123227"
     },
     "user_tz": -180
    },
    "id": "vxaMIpkkzX9Q",
    "outputId": "e2020dd4-8e47-4f19-e957-f1fe2865a09f"
   },
   "outputs": [
    {
     "data": {
      "text/plain": [
       "array([10,  2,  3,  4,  5,  6])"
      ]
     },
     "execution_count": 10,
     "metadata": {},
     "output_type": "execute_result"
    }
   ],
   "source": [
    "# You can assign values individually\n",
    "arr1[0] = 10\n",
    "arr1"
   ]
  },
  {
   "cell_type": "code",
   "execution_count": 11,
   "metadata": {
    "colab": {
     "autoexec": {
      "startup": false,
      "wait_interval": 0
     },
     "base_uri": "https://localhost:8080/",
     "height": 34
    },
    "colab_type": "code",
    "executionInfo": {
     "elapsed": 898,
     "status": "ok",
     "timestamp": 1525360318157,
     "user": {
      "displayName": "Georgina Bilali",
      "photoUrl": "https://lh3.googleusercontent.com/a/default-user=s128",
      "userId": "114444159360292123227"
     },
     "user_tz": -180
    },
    "id": "qV7hzhY6zX9W",
    "outputId": "83dfe3e1-40cd-4afa-f665-a502171ad100"
   },
   "outputs": [
    {
     "data": {
      "text/plain": [
       "array([10, 20, 20, 20, 20, 20])"
      ]
     },
     "execution_count": 11,
     "metadata": {},
     "output_type": "execute_result"
    }
   ],
   "source": [
    "# Or Assign a indivual value to a range\n",
    "arr1[1:] = 20  # Start at 1st element till END\n",
    "arr1"
   ]
  },
  {
   "cell_type": "code",
   "execution_count": 12,
   "metadata": {
    "colab": {
     "autoexec": {
      "startup": false,
      "wait_interval": 0
     },
     "base_uri": "https://localhost:8080/",
     "height": 51
    },
    "colab_type": "code",
    "executionInfo": {
     "elapsed": 1043,
     "status": "ok",
     "timestamp": 1525628058260,
     "user": {
      "displayName": "aycacanli@hotmail.com",
      "photoUrl": "https://lh3.googleusercontent.com/a/default-user=s128",
      "userId": "106415820899870547758"
     },
     "user_tz": -180
    },
    "id": "UidX_4CgzX9d",
    "outputId": "1f63d71c-2e16-42f6-f2f8-54a54a9718ec"
   },
   "outputs": [
    {
     "data": {
      "text/plain": [
       "array([[10, 20, 20],\n",
       "       [20, 20, 20]])"
      ]
     },
     "execution_count": 12,
     "metadata": {},
     "output_type": "execute_result"
    }
   ],
   "source": [
    "# Reshape One-D to Two-D Array\n",
    "arr1.reshape(2, 3)"
   ]
  },
  {
   "cell_type": "code",
   "execution_count": 13,
   "metadata": {
    "colab": {
     "autoexec": {
      "startup": false,
      "wait_interval": 0
     }
    },
    "colab_type": "code",
    "id": "sKtPS7X4zX9i"
   },
   "outputs": [],
   "source": [
    "my_2d_array = arr1.reshape(3, 2)"
   ]
  },
  {
   "cell_type": "code",
   "execution_count": 14,
   "metadata": {
    "colab": {
     "autoexec": {
      "startup": false,
      "wait_interval": 0
     },
     "base_uri": "https://localhost:8080/",
     "height": 34
    },
    "colab_type": "code",
    "executionInfo": {
     "elapsed": 2082,
     "status": "ok",
     "timestamp": 1525628061876,
     "user": {
      "displayName": "aycacanli@hotmail.com",
      "photoUrl": "https://lh3.googleusercontent.com/a/default-user=s128",
      "userId": "106415820899870547758"
     },
     "user_tz": -180
    },
    "id": "QEGd5jCbzX9k",
    "outputId": "4f4de68b-947a-4ced-d335-eaee0a2bad6d"
   },
   "outputs": [
    {
     "data": {
      "text/plain": [
       "array([10, 20, 20, 20, 20, 20])"
      ]
     },
     "execution_count": 14,
     "metadata": {},
     "output_type": "execute_result"
    }
   ],
   "source": [
    "arr1"
   ]
  },
  {
   "cell_type": "code",
   "execution_count": 15,
   "metadata": {
    "colab": {
     "autoexec": {
      "startup": false,
      "wait_interval": 0
     },
     "base_uri": "https://localhost:8080/",
     "height": 34
    },
    "colab_type": "code",
    "executionInfo": {
     "elapsed": 547,
     "status": "ok",
     "timestamp": 1525628042224,
     "user": {
      "displayName": "aycacanli@hotmail.com",
      "photoUrl": "https://lh3.googleusercontent.com/a/default-user=s128",
      "userId": "106415820899870547758"
     },
     "user_tz": -180
    },
    "id": "oZPFfGkbzX9n",
    "outputId": "903bdc71-83ed-43cc-ce66-df7e724a24c1"
   },
   "outputs": [
    {
     "data": {
      "text/plain": [
       "array([[10, 20, 20, 20, 20, 20]])"
      ]
     },
     "execution_count": 15,
     "metadata": {},
     "output_type": "execute_result"
    }
   ],
   "source": [
    "arr1.reshape(1, 6)"
   ]
  },
  {
   "cell_type": "code",
   "execution_count": 16,
   "metadata": {
    "colab": {
     "autoexec": {
      "startup": false,
      "wait_interval": 0
     }
    },
    "colab_type": "code",
    "id": "5OAjcvj9zX9q",
    "outputId": "403782a3-609b-446f-bd77-e49aa5e2a163"
   },
   "outputs": [
    {
     "data": {
      "text/plain": [
       "(6,)"
      ]
     },
     "execution_count": 16,
     "metadata": {},
     "output_type": "execute_result"
    }
   ],
   "source": [
    "arr1.shape"
   ]
  },
  {
   "cell_type": "code",
   "execution_count": 17,
   "metadata": {
    "colab": {
     "autoexec": {
      "startup": false,
      "wait_interval": 0
     }
    },
    "colab_type": "code",
    "id": "ZJrez7sEzX9s",
    "outputId": "7ab8b040-e1cb-49ea-977e-b422467260a0"
   },
   "outputs": [
    {
     "data": {
      "text/plain": [
       "array([15, 25, 25, 25, 25, 25])"
      ]
     },
     "execution_count": 17,
     "metadata": {},
     "output_type": "execute_result"
    }
   ],
   "source": [
    "# When you add a scalar to an array, it adds it to each element in the array.\n",
    "# This is called broadcasting\n",
    "arr1 + 5"
   ]
  },
  {
   "cell_type": "code",
   "execution_count": 18,
   "metadata": {
    "colab": {
     "autoexec": {
      "startup": false,
      "wait_interval": 0
     },
     "base_uri": "https://localhost:8080/",
     "height": 34
    },
    "colab_type": "code",
    "executionInfo": {
     "elapsed": 956,
     "status": "ok",
     "timestamp": 1525628131010,
     "user": {
      "displayName": "aycacanli@hotmail.com",
      "photoUrl": "https://lh3.googleusercontent.com/a/default-user=s128",
      "userId": "106415820899870547758"
     },
     "user_tz": -180
    },
    "id": "2xG4ZtMPzX9v",
    "outputId": "9549cba1-96b5-4699-850f-bf547562ee39"
   },
   "outputs": [
    {
     "data": {
      "text/plain": [
       "array([ 50, 100, 100, 100, 100, 100])"
      ]
     },
     "execution_count": 18,
     "metadata": {},
     "output_type": "execute_result"
    }
   ],
   "source": [
    "# Same thing with other operators on Scalar.  All operations broadcast to each element\n",
    "arr1 * 5"
   ]
  },
  {
   "cell_type": "code",
   "execution_count": 19,
   "metadata": {
    "colab": {
     "autoexec": {
      "startup": false,
      "wait_interval": 0
     },
     "base_uri": "https://localhost:8080/",
     "height": 51
    },
    "colab_type": "code",
    "executionInfo": {
     "elapsed": 626,
     "status": "ok",
     "timestamp": 1525628205934,
     "user": {
      "displayName": "aycacanli@hotmail.com",
      "photoUrl": "https://lh3.googleusercontent.com/a/default-user=s128",
      "userId": "106415820899870547758"
     },
     "user_tz": -180
    },
    "id": "T4-2tGgszX9z",
    "outputId": "cd4d09aa-2b29-48c4-fc0e-426ca58c5757"
   },
   "outputs": [
    {
     "data": {
      "text/plain": [
       "array([[10, 20, 30],\n",
       "       [40, 50, 60]])"
      ]
     },
     "execution_count": 19,
     "metadata": {},
     "output_type": "execute_result"
    }
   ],
   "source": [
    "# It works on 2-D Arrays too\n",
    "arr2 * 10"
   ]
  },
  {
   "cell_type": "code",
   "execution_count": 20,
   "metadata": {
    "colab": {
     "autoexec": {
      "startup": false,
      "wait_interval": 0
     }
    },
    "colab_type": "code",
    "id": "a1sWhWSWzX91",
    "outputId": "5e14fd53-952d-4349-a045-d7b77ea7ff36"
   },
   "outputs": [
    {
     "data": {
      "text/plain": [
       "array([5, 7, 9])"
      ]
     },
     "execution_count": 20,
     "metadata": {},
     "output_type": "execute_result"
    }
   ],
   "source": [
    "# Now, lets add two Numpy Arrays\n",
    "arr1 = np.array([1, 2, 3])\n",
    "arr2 = np.array([4, 5, 6])\n",
    "\n",
    "arr1 + arr2"
   ]
  },
  {
   "cell_type": "code",
   "execution_count": 21,
   "metadata": {
    "colab": {
     "autoexec": {
      "startup": false,
      "wait_interval": 0
     }
    },
    "colab_type": "code",
    "id": "bCg_gHmlzX95",
    "outputId": "b913602f-c45d-4b8e-c016-089f0e9d82b2"
   },
   "outputs": [
    {
     "data": {
      "text/plain": [
       "array([ 4, 10, 18])"
      ]
     },
     "execution_count": 21,
     "metadata": {},
     "output_type": "execute_result"
    }
   ],
   "source": [
    "# Multiply Two Numpy Arrays\n",
    "arr1 * arr2"
   ]
  },
  {
   "cell_type": "markdown",
   "metadata": {
    "colab_type": "text",
    "id": "mKazVYozzX97"
   },
   "source": [
    "### Main Idea: ALL Numpy Operations are element-wise operations.\n",
    "\n",
    "* Adding to Numpy Arrays, results in element-wise addition\n",
    "* Multiplying two Arrays, results in element-wise multiplication"
   ]
  },
  {
   "cell_type": "markdown",
   "metadata": {
    "colab_type": "text",
    "id": "PQo6uSDczX98"
   },
   "source": [
    "What if I want to do regular matrix multiplication?"
   ]
  },
  {
   "cell_type": "code",
   "execution_count": 22,
   "metadata": {
    "colab": {
     "autoexec": {
      "startup": false,
      "wait_interval": 0
     }
    },
    "colab_type": "code",
    "id": "N9xsLo5bzX99"
   },
   "outputs": [],
   "source": [
    "matlist1 = [[1,4],[6,2],[-1,3]]\n",
    "matlist2 = [[3,2],[1,5]]\n",
    "\n",
    "mat1 = np.array(matlist1)\n",
    "mat2 = np.array(matlist2)"
   ]
  },
  {
   "cell_type": "code",
   "execution_count": 23,
   "metadata": {
    "colab": {
     "autoexec": {
      "startup": false,
      "wait_interval": 0
     },
     "base_uri": "https://localhost:8080/",
     "height": 68
    },
    "colab_type": "code",
    "executionInfo": {
     "elapsed": 3161,
     "status": "ok",
     "timestamp": 1525628354481,
     "user": {
      "displayName": "aycacanli@hotmail.com",
      "photoUrl": "https://lh3.googleusercontent.com/a/default-user=s128",
      "userId": "106415820899870547758"
     },
     "user_tz": -180
    },
    "id": "6gPWPCIxzX9_",
    "outputId": "650d8672-4639-433c-a2fb-623e99cc8380"
   },
   "outputs": [
    {
     "data": {
      "text/plain": [
       "array([[ 1,  4],\n",
       "       [ 6,  2],\n",
       "       [-1,  3]])"
      ]
     },
     "execution_count": 23,
     "metadata": {},
     "output_type": "execute_result"
    }
   ],
   "source": [
    "mat1"
   ]
  },
  {
   "cell_type": "code",
   "execution_count": 24,
   "metadata": {
    "colab": {
     "autoexec": {
      "startup": false,
      "wait_interval": 0
     }
    },
    "colab_type": "code",
    "id": "biEQAIYOzX-F",
    "outputId": "51c9dc4f-eff8-4dde-86f1-3eb5939d9cdf"
   },
   "outputs": [
    {
     "data": {
      "text/plain": [
       "array([[3, 2],\n",
       "       [1, 5]])"
      ]
     },
     "execution_count": 24,
     "metadata": {},
     "output_type": "execute_result"
    }
   ],
   "source": [
    "mat2"
   ]
  },
  {
   "cell_type": "code",
   "execution_count": 25,
   "metadata": {
    "colab": {
     "autoexec": {
      "startup": false,
      "wait_interval": 0
     }
    },
    "colab_type": "code",
    "id": "TSaoIDxkzX-J",
    "outputId": "10420951-787a-4987-cbda-412fe6eb3510"
   },
   "outputs": [
    {
     "data": {
      "text/plain": [
       "array([[ 7, 22],\n",
       "       [20, 22],\n",
       "       [ 0, 13]])"
      ]
     },
     "execution_count": 25,
     "metadata": {},
     "output_type": "execute_result"
    }
   ],
   "source": [
    "# dot is dot product for arrays, and then is \"generalized\" for matrices\n",
    "(np.dot(mat1,mat2))"
   ]
  },
  {
   "cell_type": "code",
   "execution_count": 26,
   "metadata": {
    "colab": {
     "autoexec": {
      "startup": false,
      "wait_interval": 0
     }
    },
    "colab_type": "code",
    "id": "e1ij0Au4zX-M"
   },
   "outputs": [
    {
     "data": {
      "text/plain": [
       "array([[ 7, 22],\n",
       "       [20, 22],\n",
       "       [ 0, 13]])"
      ]
     },
     "execution_count": 26,
     "metadata": {},
     "output_type": "execute_result"
    }
   ],
   "source": [
    "# This can also be done as a method on left matrix to the right\n",
    "\n",
    "mat1.dot(mat2)"
   ]
  },
  {
   "cell_type": "code",
   "execution_count": 27,
   "metadata": {
    "colab": {
     "autoexec": {
      "startup": false,
      "wait_interval": 0
     }
    },
    "colab_type": "code",
    "id": "jOorfKMTzX-O"
   },
   "outputs": [],
   "source": [
    "matlist3 = [[5,4],[6,2],[-1,3]]\n",
    "matlist4 = [[3,1],[2,5]]\n",
    "\n",
    "mat3 = np.array(matlist3)\n",
    "mat4 = np.array(matlist4)"
   ]
  },
  {
   "cell_type": "code",
   "execution_count": 28,
   "metadata": {
    "colab": {
     "autoexec": {
      "startup": false,
      "wait_interval": 0
     }
    },
    "colab_type": "code",
    "id": "DzdI3m1VzX-P",
    "outputId": "2ddf0516-a687-479c-dfc2-0efbc6e311f9"
   },
   "outputs": [
    {
     "data": {
      "text/plain": [
       "array([[23, 25],\n",
       "       [22, 16],\n",
       "       [ 3, 14]])"
      ]
     },
     "execution_count": 28,
     "metadata": {},
     "output_type": "execute_result"
    }
   ],
   "source": [
    "mat5 =mat3.dot(mat4)\n",
    "mat5"
   ]
  },
  {
   "cell_type": "code",
   "execution_count": 29,
   "metadata": {
    "colab": {
     "autoexec": {
      "startup": false,
      "wait_interval": 0
     }
    },
    "colab_type": "code",
    "id": "YNVV7JNFzX-U",
    "outputId": "357dd0a7-a9cf-4e00-aa91-eed7413bad60"
   },
   "outputs": [
    {
     "data": {
      "text/plain": [
       "array([[ 453, 1043],\n",
       "       [ 370,  784],\n",
       "       [ 145,  426]])"
      ]
     },
     "execution_count": 29,
     "metadata": {},
     "output_type": "execute_result"
    }
   ],
   "source": [
    "mat3.dot(mat4).dot(mat2).dot(mat2)"
   ]
  },
  {
   "cell_type": "code",
   "execution_count": 30,
   "metadata": {
    "colab": {
     "autoexec": {
      "startup": false,
      "wait_interval": 0
     }
    },
    "colab_type": "code",
    "id": "WqqfLDBJzX-X",
    "outputId": "a4398c80-ae38-4c64-e4f8-4ed8934ef899"
   },
   "outputs": [
    {
     "data": {
      "text/plain": [
       "array([[ 41,  75],\n",
       "       [ 62, 167]])"
      ]
     },
     "execution_count": 30,
     "metadata": {},
     "output_type": "execute_result"
    }
   ],
   "source": [
    "(np.dot(mat4, mat2)).dot(mat2)"
   ]
  },
  {
   "cell_type": "markdown",
   "metadata": {
    "colab_type": "text",
    "id": "_bit2aXCzX-c"
   },
   "source": [
    "### Numpy Functions"
   ]
  },
  {
   "cell_type": "code",
   "execution_count": 31,
   "metadata": {
    "colab": {
     "autoexec": {
      "startup": false,
      "wait_interval": 0
     },
     "base_uri": "https://localhost:8080/",
     "height": 187
    },
    "colab_type": "code",
    "executionInfo": {
     "elapsed": 822,
     "status": "ok",
     "timestamp": 1525628545460,
     "user": {
      "displayName": "aycacanli@hotmail.com",
      "photoUrl": "https://lh3.googleusercontent.com/a/default-user=s128",
      "userId": "106415820899870547758"
     },
     "user_tz": -180
    },
    "id": "6SHhLiHkzX-e",
    "outputId": "589706cb-9925-4565-c8e9-91a468d45eae"
   },
   "outputs": [
    {
     "data": {
      "text/plain": [
       "array([[  1,   2,   3,   4,   5,   6,   7,   8,   9,  10],\n",
       "       [ 11,  12,  13,  14,  15,  16,  17,  18,  19,  20],\n",
       "       [ 21,  22,  23,  24,  25,  26,  27,  28,  29,  30],\n",
       "       [ 31,  32,  33,  34,  35,  36,  37,  38,  39,  40],\n",
       "       [ 41,  42,  43,  44,  45,  46,  47,  48,  49,  50],\n",
       "       [ 51,  52,  53,  54,  55,  56,  57,  58,  59,  60],\n",
       "       [ 61,  62,  63,  64,  65,  66,  67,  68,  69,  70],\n",
       "       [ 71,  72,  73,  74,  75,  76,  77,  78,  79,  80],\n",
       "       [ 81,  82,  83,  84,  85,  86,  87,  88,  89,  90],\n",
       "       [ 91,  92,  93,  94,  95,  96,  97,  98,  99, 100]])"
      ]
     },
     "execution_count": 31,
     "metadata": {},
     "output_type": "execute_result"
    }
   ],
   "source": [
    "# Create a Numpy array from 1-100\n",
    "np.arange(1, 101).reshape(10,10)"
   ]
  },
  {
   "cell_type": "code",
   "execution_count": 32,
   "metadata": {
    "colab": {
     "autoexec": {
      "startup": false,
      "wait_interval": 0
     }
    },
    "colab_type": "code",
    "id": "z4ssmTJizX-h",
    "outputId": "064db5cf-1b46-4075-9137-8095c6ffb62e"
   },
   "outputs": [
    {
     "data": {
      "text/plain": [
       "array([1.        , 0.88888889, 0.77777778, 0.66666667, 0.55555556,\n",
       "       0.44444444, 0.33333333, 0.22222222, 0.11111111, 0.        ])"
      ]
     },
     "execution_count": 32,
     "metadata": {},
     "output_type": "execute_result"
    }
   ],
   "source": [
    "# Enough of similarities.  Let's show some awesomeness\n",
    "# Create 10 elements between 0 and 1 - linearly separated\n",
    "np.linspace(1, 0, 10)"
   ]
  },
  {
   "cell_type": "code",
   "execution_count": 33,
   "metadata": {
    "colab": {
     "autoexec": {
      "startup": false,
      "wait_interval": 0
     }
    },
    "colab_type": "code",
    "id": "Dy1MGSSlzX-k",
    "outputId": "39c407e5-1b3c-4c30-df59-77b786773354"
   },
   "outputs": [
    {
     "data": {
      "text/plain": [
       "array([0. , 0.1, 0.2, 0.3, 0.4, 0.5, 0.6, 0.7, 0.8, 0.9, 1. ])"
      ]
     },
     "execution_count": 33,
     "metadata": {},
     "output_type": "execute_result"
    }
   ],
   "source": [
    "np.linspace(0,1,11)"
   ]
  },
  {
   "cell_type": "code",
   "execution_count": 34,
   "metadata": {
    "colab": {
     "autoexec": {
      "startup": false,
      "wait_interval": 0
     }
    },
    "colab_type": "code",
    "id": "9bumV3qwzX-q",
    "outputId": "53716d79-a9b2-4a02-9678-44052891842a"
   },
   "outputs": [
    {
     "data": {
      "text/plain": [
       "array([ 7.3890561 ,  9.0250135 , 11.02317638, 13.46373804, 16.44464677,\n",
       "       20.08553692])"
      ]
     },
     "execution_count": 34,
     "metadata": {},
     "output_type": "execute_result"
    }
   ],
   "source": [
    "np.exp(np.linspace(2,3,6))"
   ]
  },
  {
   "cell_type": "code",
   "execution_count": 35,
   "metadata": {
    "colab": {
     "autoexec": {
      "startup": false,
      "wait_interval": 0
     }
    },
    "colab_type": "code",
    "id": "RHclWT5fzX-y",
    "outputId": "ef20b5c8-029d-46ba-b323-a28adebb5936"
   },
   "outputs": [
    {
     "data": {
      "text/plain": [
       "array([ 7.3890561 ,  9.0250135 , 11.02317638, 13.46373804, 16.44464677,\n",
       "       20.08553692])"
      ]
     },
     "execution_count": 35,
     "metadata": {},
     "output_type": "execute_result"
    }
   ],
   "source": [
    "np.logspace(2,3,6, base = np.exp(1))"
   ]
  },
  {
   "cell_type": "code",
   "execution_count": 36,
   "metadata": {
    "colab": {
     "autoexec": {
      "startup": false,
      "wait_interval": 0
     }
    },
    "colab_type": "code",
    "id": "7Lb1UwxozX-5"
   },
   "outputs": [],
   "source": [
    "# Now, let's look at some distributions"
   ]
  },
  {
   "cell_type": "code",
   "execution_count": 37,
   "metadata": {
    "colab": {
     "autoexec": {
      "startup": false,
      "wait_interval": 0
     }
    },
    "colab_type": "code",
    "id": "YKV1BUuwzX-8",
    "outputId": "845686f1-43de-4349-9ac7-c4959b2740bd"
   },
   "outputs": [
    {
     "data": {
      "text/plain": [
       "array([0.99470044, 0.74343935, 1.09965318, 1.01093912, 0.99880515,\n",
       "       0.93824255, 1.05421937, 0.99653057, 1.08662854, 1.0204081 ])"
      ]
     },
     "execution_count": 37,
     "metadata": {},
     "output_type": "execute_result"
    }
   ],
   "source": [
    "# Normal Dist\n",
    "# Mean of 1, std of 0.1, 10 elements\n",
    "np.random.normal(1, 0.1, 10)"
   ]
  },
  {
   "cell_type": "code",
   "execution_count": 38,
   "metadata": {
    "colab": {
     "autoexec": {
      "startup": false,
      "wait_interval": 0
     }
    },
    "colab_type": "code",
    "id": "Y559lUAhzX_D",
    "outputId": "70bacbad-a448-4247-9c85-6989235f91c2"
   },
   "outputs": [
    {
     "data": {
      "text/plain": [
       "array([[ 0.19605019, -1.09139879, -0.96535172, -0.04399857],\n",
       "       [ 2.09896377, -0.28400621, -0.80688438,  0.06831521]])"
      ]
     },
     "execution_count": 38,
     "metadata": {},
     "output_type": "execute_result"
    }
   ],
   "source": [
    "# Standard Normal Dist - params are dimensions of array\n",
    "np.random.randn(2, 4)"
   ]
  },
  {
   "cell_type": "code",
   "execution_count": 39,
   "metadata": {
    "colab": {
     "autoexec": {
      "startup": false,
      "wait_interval": 0
     }
    },
    "colab_type": "code",
    "id": "F4Br6sAuzX_I",
    "outputId": "d0eee01a-86a8-4ebc-ef23-7fd7cb9683b8"
   },
   "outputs": [
    {
     "data": {
      "text/plain": [
       "array([[0.40106914, 0.40229465, 0.66359126],\n",
       "       [0.69268769, 0.08473302, 0.74458922],\n",
       "       [0.91374655, 0.8034578 , 0.29414241]])"
      ]
     },
     "execution_count": 39,
     "metadata": {},
     "output_type": "execute_result"
    }
   ],
   "source": [
    "## Uniform [0,1] distribution\n",
    "np.random.random((3,3))"
   ]
  },
  {
   "cell_type": "code",
   "execution_count": 40,
   "metadata": {
    "colab": {
     "autoexec": {
      "startup": false,
      "wait_interval": 0
     }
    },
    "colab_type": "code",
    "id": "ZYgWaaP2zX_K",
    "outputId": "da93f117-410a-431f-dbf0-8fc41eba876c"
   },
   "outputs": [
    {
     "data": {
      "text/plain": [
       "array([3, 3, 2, 2, 1, 1, 1, 1, 2, 0, 1, 3, 2, 2, 1, 1, 2, 2, 3, 3])"
      ]
     },
     "execution_count": 40,
     "metadata": {},
     "output_type": "execute_result"
    }
   ],
   "source": [
    "# Look at Other Distribitions - Gamma, binomial etc..\n",
    "\n",
    "# TO DO, use help, dir, google, or other tricks and figure out how to \n",
    "# create an array of 20 binomial variables with n = 7 and p = .3\n",
    "\n",
    "#dir(np.random)\n",
    "#help(np.random.binomial)\n",
    "np.random.binomial(7,.3,20)\n",
    "# np.random."
   ]
  },
  {
   "cell_type": "markdown",
   "metadata": {
    "colab_type": "text",
    "id": "HoDuUwTOzX_P"
   },
   "source": [
    "Here are some simple ways to create simple numpy arrays\n",
    "\n",
    "1.   List item\n",
    "2.   List item\n",
    "\n"
   ]
  },
  {
   "cell_type": "code",
   "execution_count": 41,
   "metadata": {
    "colab": {
     "autoexec": {
      "startup": false,
      "wait_interval": 0
     }
    },
    "colab_type": "code",
    "id": "iA2pLRPEzX_P",
    "outputId": "be38eacb-9f2c-4e40-a2d8-790041653017"
   },
   "outputs": [
    {
     "data": {
      "text/plain": [
       "['Lock',\n",
       " 'RandomState',\n",
       " '__RandomState_ctor',\n",
       " '__all__',\n",
       " '__builtins__',\n",
       " '__cached__',\n",
       " '__doc__',\n",
       " '__file__',\n",
       " '__loader__',\n",
       " '__name__',\n",
       " '__package__',\n",
       " '__path__',\n",
       " '__spec__',\n",
       " '_numpy_tester',\n",
       " 'absolute_import',\n",
       " 'bench',\n",
       " 'beta',\n",
       " 'binomial',\n",
       " 'bytes',\n",
       " 'chisquare',\n",
       " 'choice',\n",
       " 'dirichlet',\n",
       " 'division',\n",
       " 'exponential',\n",
       " 'f',\n",
       " 'gamma',\n",
       " 'geometric',\n",
       " 'get_state',\n",
       " 'gumbel',\n",
       " 'hypergeometric',\n",
       " 'info',\n",
       " 'laplace',\n",
       " 'logistic',\n",
       " 'lognormal',\n",
       " 'logseries',\n",
       " 'mtrand',\n",
       " 'multinomial',\n",
       " 'multivariate_normal',\n",
       " 'negative_binomial',\n",
       " 'noncentral_chisquare',\n",
       " 'noncentral_f',\n",
       " 'normal',\n",
       " 'np',\n",
       " 'operator',\n",
       " 'pareto',\n",
       " 'permutation',\n",
       " 'poisson',\n",
       " 'power',\n",
       " 'print_function',\n",
       " 'rand',\n",
       " 'randint',\n",
       " 'randn',\n",
       " 'random',\n",
       " 'random_integers',\n",
       " 'random_sample',\n",
       " 'ranf',\n",
       " 'rayleigh',\n",
       " 'sample',\n",
       " 'seed',\n",
       " 'set_state',\n",
       " 'shuffle',\n",
       " 'standard_cauchy',\n",
       " 'standard_exponential',\n",
       " 'standard_gamma',\n",
       " 'standard_normal',\n",
       " 'standard_t',\n",
       " 'test',\n",
       " 'triangular',\n",
       " 'uniform',\n",
       " 'vonmises',\n",
       " 'wald',\n",
       " 'warnings',\n",
       " 'weibull',\n",
       " 'zipf']"
      ]
     },
     "execution_count": 41,
     "metadata": {},
     "output_type": "execute_result"
    }
   ],
   "source": [
    "dir(np.random)"
   ]
  },
  {
   "cell_type": "code",
   "execution_count": 42,
   "metadata": {
    "colab": {
     "autoexec": {
      "startup": false,
      "wait_interval": 0
     }
    },
    "colab_type": "code",
    "id": "xkzht8RhzX_S",
    "outputId": "3c488fe2-6dbe-4e13-f1e9-eaf40eb849b0"
   },
   "outputs": [
    {
     "name": "stdout",
     "output_type": "stream",
     "text": [
      "Help on built-in function poisson:\n",
      "\n",
      "poisson(...) method of mtrand.RandomState instance\n",
      "    poisson(lam=1.0, size=None)\n",
      "    \n",
      "    Draw samples from a Poisson distribution.\n",
      "    \n",
      "    The Poisson distribution is the limit of the binomial distribution\n",
      "    for large N.\n",
      "    \n",
      "    Parameters\n",
      "    ----------\n",
      "    lam : float or array_like of floats\n",
      "        Expectation of interval, should be >= 0. A sequence of expectation\n",
      "        intervals must be broadcastable over the requested size.\n",
      "    size : int or tuple of ints, optional\n",
      "        Output shape.  If the given shape is, e.g., ``(m, n, k)``, then\n",
      "        ``m * n * k`` samples are drawn.  If size is ``None`` (default),\n",
      "        a single value is returned if ``lam`` is a scalar. Otherwise,\n",
      "        ``np.array(lam).size`` samples are drawn.\n",
      "    \n",
      "    Returns\n",
      "    -------\n",
      "    out : ndarray or scalar\n",
      "        Drawn samples from the parameterized Poisson distribution.\n",
      "    \n",
      "    Notes\n",
      "    -----\n",
      "    The Poisson distribution\n",
      "    \n",
      "    .. math:: f(k; \\lambda)=\\frac{\\lambda^k e^{-\\lambda}}{k!}\n",
      "    \n",
      "    For events with an expected separation :math:`\\lambda` the Poisson\n",
      "    distribution :math:`f(k; \\lambda)` describes the probability of\n",
      "    :math:`k` events occurring within the observed\n",
      "    interval :math:`\\lambda`.\n",
      "    \n",
      "    Because the output is limited to the range of the C long type, a\n",
      "    ValueError is raised when `lam` is within 10 sigma of the maximum\n",
      "    representable value.\n",
      "    \n",
      "    References\n",
      "    ----------\n",
      "    .. [1] Weisstein, Eric W. \"Poisson Distribution.\"\n",
      "           From MathWorld--A Wolfram Web Resource.\n",
      "           http://mathworld.wolfram.com/PoissonDistribution.html\n",
      "    .. [2] Wikipedia, \"Poisson distribution\",\n",
      "           http://en.wikipedia.org/wiki/Poisson_distribution\n",
      "    \n",
      "    Examples\n",
      "    --------\n",
      "    Draw samples from the distribution:\n",
      "    \n",
      "    >>> import numpy as np\n",
      "    >>> s = np.random.poisson(5, 10000)\n",
      "    \n",
      "    Display histogram of the sample:\n",
      "    \n",
      "    >>> import matplotlib.pyplot as plt\n",
      "    >>> count, bins, ignored = plt.hist(s, 14, normed=True)\n",
      "    >>> plt.show()\n",
      "    \n",
      "    Draw each 100 values for lambda 100 and 500:\n",
      "    \n",
      "    >>> s = np.random.poisson(lam=(100., 500.), size=(100, 2))\n",
      "\n"
     ]
    }
   ],
   "source": [
    "help(np.random.poisson)"
   ]
  },
  {
   "cell_type": "code",
   "execution_count": 43,
   "metadata": {
    "colab": {
     "autoexec": {
      "startup": false,
      "wait_interval": 0
     }
    },
    "colab_type": "code",
    "id": "fSivuQazzX_W",
    "outputId": "f3acba1c-8fa2-4617-8d3f-481407057f9e"
   },
   "outputs": [
    {
     "data": {
      "text/plain": [
       "array([[11, 15,  7,  5,  7],\n",
       "       [ 5,  7,  7,  4,  6]])"
      ]
     },
     "execution_count": 43,
     "metadata": {},
     "output_type": "execute_result"
    }
   ],
   "source": [
    "np.random.poisson(7,(2,5))"
   ]
  },
  {
   "cell_type": "code",
   "execution_count": null,
   "metadata": {
    "colab": {
     "autoexec": {
      "startup": false,
      "wait_interval": 0
     }
    },
    "colab_type": "code",
    "id": "EuFyo98izX_d"
   },
   "outputs": [],
   "source": []
  },
  {
   "cell_type": "code",
   "execution_count": null,
   "metadata": {
    "colab": {
     "autoexec": {
      "startup": false,
      "wait_interval": 0
     }
    },
    "colab_type": "code",
    "id": "8OSe8YWSzX_g"
   },
   "outputs": [],
   "source": []
  },
  {
   "cell_type": "code",
   "execution_count": 44,
   "metadata": {
    "colab": {
     "autoexec": {
      "startup": false,
      "wait_interval": 0
     }
    },
    "colab_type": "code",
    "id": "zBuk6xluzX_h",
    "outputId": "cfc203ed-f2f0-4941-8fcb-1b7e8a2b03d9"
   },
   "outputs": [
    {
     "data": {
      "text/plain": [
       "array([[0., 0., 0., 0.],\n",
       "       [0., 0., 0., 0.],\n",
       "       [0., 0., 0., 0.]])"
      ]
     },
     "execution_count": 44,
     "metadata": {},
     "output_type": "execute_result"
    }
   ],
   "source": [
    "np.zeros((3,4))"
   ]
  },
  {
   "cell_type": "code",
   "execution_count": 45,
   "metadata": {
    "colab": {
     "autoexec": {
      "startup": false,
      "wait_interval": 0
     }
    },
    "colab_type": "code",
    "id": "eEir6xGfzX_j",
    "outputId": "899b9bd1-6883-4264-eee5-62dc0cfbfb75"
   },
   "outputs": [
    {
     "data": {
      "text/plain": [
       "array([[1., 1.],\n",
       "       [1., 1.],\n",
       "       [1., 1.],\n",
       "       [1., 1.],\n",
       "       [1., 1.]])"
      ]
     },
     "execution_count": 45,
     "metadata": {},
     "output_type": "execute_result"
    }
   ],
   "source": [
    "np.ones((5,2))"
   ]
  },
  {
   "cell_type": "code",
   "execution_count": 46,
   "metadata": {
    "colab": {
     "autoexec": {
      "startup": false,
      "wait_interval": 0
     }
    },
    "colab_type": "code",
    "id": "KUvTPvMbzX_q",
    "outputId": "e102dfd8-d58c-455e-9d7e-5e735346cb99"
   },
   "outputs": [
    {
     "data": {
      "text/plain": [
       "array([[3.5, 3.5, 3.5, 3.5, 3.5, 3.5, 3.5],\n",
       "       [3.5, 3.5, 3.5, 3.5, 3.5, 3.5, 3.5],\n",
       "       [3.5, 3.5, 3.5, 3.5, 3.5, 3.5, 3.5],\n",
       "       [3.5, 3.5, 3.5, 3.5, 3.5, 3.5, 3.5],\n",
       "       [3.5, 3.5, 3.5, 3.5, 3.5, 3.5, 3.5],\n",
       "       [3.5, 3.5, 3.5, 3.5, 3.5, 3.5, 3.5],\n",
       "       [3.5, 3.5, 3.5, 3.5, 3.5, 3.5, 3.5]])"
      ]
     },
     "execution_count": 46,
     "metadata": {},
     "output_type": "execute_result"
    }
   ],
   "source": [
    "np.full((7,7),3.5)"
   ]
  },
  {
   "cell_type": "code",
   "execution_count": 47,
   "metadata": {
    "colab": {
     "autoexec": {
      "startup": false,
      "wait_interval": 0
     }
    },
    "colab_type": "code",
    "id": "46VbqABnzX_s",
    "outputId": "507031ba-5a33-4e28-bd12-fde78d67e159"
   },
   "outputs": [
    {
     "data": {
      "text/plain": [
       "array([[1., 0., 0., 0., 0.],\n",
       "       [0., 1., 0., 0., 0.],\n",
       "       [0., 0., 1., 0., 0.],\n",
       "       [0., 0., 0., 1., 0.],\n",
       "       [0., 0., 0., 0., 1.]])"
      ]
     },
     "execution_count": 47,
     "metadata": {},
     "output_type": "execute_result"
    }
   ],
   "source": [
    "np.eye(5)"
   ]
  },
  {
   "cell_type": "code",
   "execution_count": 48,
   "metadata": {
    "colab": {
     "autoexec": {
      "startup": false,
      "wait_interval": 0
     }
    },
    "colab_type": "code",
    "id": "h3zyBytrzX_w",
    "outputId": "29b22ae7-a567-4dec-ddbc-8b8cb646bc98"
   },
   "outputs": [
    {
     "data": {
      "text/plain": [
       "array([[ 1,  2,  3,  4],\n",
       "       [ 5,  6,  7,  8],\n",
       "       [ 9, 10, 11, 12]])"
      ]
     },
     "execution_count": 48,
     "metadata": {},
     "output_type": "execute_result"
    }
   ],
   "source": [
    "a = np.array([[1,2,3,4], [5,6,7,8], [9,10,11,12]])\n",
    "a"
   ]
  },
  {
   "cell_type": "code",
   "execution_count": 49,
   "metadata": {
    "colab": {
     "autoexec": {
      "startup": false,
      "wait_interval": 0
     }
    },
    "colab_type": "code",
    "id": "rJ24qZ1vzX_y",
    "outputId": "772a2708-b212-45f6-b2c1-cabbf9e46890"
   },
   "outputs": [
    {
     "name": "stdout",
     "output_type": "stream",
     "text": [
      "[5 6 7 8] (4,)\n",
      "[[5 6 7 8]] (1, 4)\n"
     ]
    }
   ],
   "source": [
    "row_r1 = a[1, :]    # Rank 1 view of the second row of a  \n",
    "row_r2 = a[1:2, :]  # Rank 2 view of the second row of a\n",
    "\n",
    "print(row_r1, row_r1.shape)\n",
    "print(row_r2, row_r2.shape)"
   ]
  },
  {
   "cell_type": "code",
   "execution_count": 50,
   "metadata": {
    "colab": {
     "autoexec": {
      "startup": false,
      "wait_interval": 0
     }
    },
    "colab_type": "code",
    "id": "58STbJ7qzX_z",
    "outputId": "4a5debf8-18d1-4ee9-e99c-2f5d71690e30"
   },
   "outputs": [
    {
     "data": {
      "text/plain": [
       "array([[False, False, False, False],\n",
       "       [False, False, False,  True],\n",
       "       [ True,  True,  True,  True]])"
      ]
     },
     "execution_count": 50,
     "metadata": {},
     "output_type": "execute_result"
    }
   ],
   "source": [
    "a>7"
   ]
  },
  {
   "cell_type": "code",
   "execution_count": 51,
   "metadata": {
    "colab": {
     "autoexec": {
      "startup": false,
      "wait_interval": 0
     }
    },
    "colab_type": "code",
    "id": "3oe7XOIszX_5",
    "outputId": "f54fca8e-b352-4efa-8991-8490727e6897"
   },
   "outputs": [
    {
     "data": {
      "text/plain": [
       "78"
      ]
     },
     "execution_count": 51,
     "metadata": {},
     "output_type": "execute_result"
    }
   ],
   "source": [
    "np.sum(a)"
   ]
  },
  {
   "cell_type": "code",
   "execution_count": 52,
   "metadata": {
    "colab": {
     "autoexec": {
      "startup": false,
      "wait_interval": 0
     }
    },
    "colab_type": "code",
    "id": "ARRJLgSKzX_9",
    "outputId": "323a52a0-8d3c-4806-b910-210b559ac477"
   },
   "outputs": [
    {
     "data": {
      "text/plain": [
       "array([[ 1,  2,  3,  4],\n",
       "       [ 5,  6,  7,  8],\n",
       "       [ 9, 10, 11, 12]])"
      ]
     },
     "execution_count": 52,
     "metadata": {},
     "output_type": "execute_result"
    }
   ],
   "source": [
    "a"
   ]
  },
  {
   "cell_type": "code",
   "execution_count": 53,
   "metadata": {
    "colab": {
     "autoexec": {
      "startup": false,
      "wait_interval": 0
     }
    },
    "colab_type": "code",
    "id": "JCFOAS_TzYAA",
    "outputId": "de5f99b0-0a79-4d51-93ef-ca5010f2e632"
   },
   "outputs": [
    {
     "data": {
      "text/plain": [
       "array([15, 18, 21, 24])"
      ]
     },
     "execution_count": 53,
     "metadata": {},
     "output_type": "execute_result"
    }
   ],
   "source": [
    "np.sum(a, axis = 0)"
   ]
  },
  {
   "cell_type": "code",
   "execution_count": 54,
   "metadata": {
    "colab": {
     "autoexec": {
      "startup": false,
      "wait_interval": 0
     }
    },
    "colab_type": "code",
    "id": "1_wbhBezzYAD",
    "outputId": "1668c5a6-13d7-4b96-d75a-60fef93c9e6d"
   },
   "outputs": [
    {
     "data": {
      "text/plain": [
       "array([10, 26, 42])"
      ]
     },
     "execution_count": 54,
     "metadata": {},
     "output_type": "execute_result"
    }
   ],
   "source": [
    "np.sum(a, axis=1)"
   ]
  },
  {
   "cell_type": "code",
   "execution_count": 55,
   "metadata": {
    "colab": {
     "autoexec": {
      "startup": false,
      "wait_interval": 0
     }
    },
    "colab_type": "code",
    "id": "MuvBtrqWzYAF",
    "outputId": "2b85d7f5-30f1-4d2a-9a1b-992bacdacb3e"
   },
   "outputs": [
    {
     "data": {
      "text/plain": [
       "array([[ 1,  5,  9],\n",
       "       [ 2,  6, 10],\n",
       "       [ 3,  7, 11],\n",
       "       [ 4,  8, 12]])"
      ]
     },
     "execution_count": 55,
     "metadata": {},
     "output_type": "execute_result"
    }
   ],
   "source": [
    "# Transpose of a matrix\n",
    "a.T"
   ]
  },
  {
   "cell_type": "code",
   "execution_count": 56,
   "metadata": {
    "colab": {
     "autoexec": {
      "startup": false,
      "wait_interval": 0
     }
    },
    "colab_type": "code",
    "id": "Y0rLoumDzYAH",
    "outputId": "2d453483-e98a-41bb-a3fd-af2589dac4b1"
   },
   "outputs": [
    {
     "data": {
      "text/plain": [
       "array([[ 1,  5,  9],\n",
       "       [ 2,  6, 10],\n",
       "       [ 3,  7, 11],\n",
       "       [ 4,  8, 12]])"
      ]
     },
     "execution_count": 56,
     "metadata": {},
     "output_type": "execute_result"
    }
   ],
   "source": [
    "x = a.T\n",
    "x"
   ]
  },
  {
   "cell_type": "code",
   "execution_count": 57,
   "metadata": {
    "colab": {
     "autoexec": {
      "startup": false,
      "wait_interval": 0
     }
    },
    "colab_type": "code",
    "id": "OMJX50qtzYAK",
    "outputId": "7cd809b0-0c9f-4731-8ef8-7823e49ba598"
   },
   "outputs": [
    {
     "data": {
      "text/plain": [
       "array([ 1, -1,  5])"
      ]
     },
     "execution_count": 57,
     "metadata": {},
     "output_type": "execute_result"
    }
   ],
   "source": [
    "v = np.array([1, -1, 5])\n",
    "v"
   ]
  },
  {
   "cell_type": "code",
   "execution_count": 58,
   "metadata": {
    "colab": {
     "autoexec": {
      "startup": false,
      "wait_interval": 0
     }
    },
    "colab_type": "code",
    "id": "lShc1WugzYAO",
    "outputId": "6ed4a16b-11e4-4df0-bef6-a855a40ad133"
   },
   "outputs": [
    {
     "data": {
      "text/plain": [
       "array([[ 2,  4, 14],\n",
       "       [ 3,  5, 15],\n",
       "       [ 4,  6, 16],\n",
       "       [ 5,  7, 17]])"
      ]
     },
     "execution_count": 58,
     "metadata": {},
     "output_type": "execute_result"
    }
   ],
   "source": [
    "y = x + v  \n",
    "y"
   ]
  },
  {
   "cell_type": "code",
   "execution_count": 59,
   "metadata": {
    "colab": {
     "autoexec": {
      "startup": false,
      "wait_interval": 0
     }
    },
    "colab_type": "code",
    "id": "rEds0sMezYAR"
   },
   "outputs": [
    {
     "data": {
      "text/plain": [
       "array([[1., 1., 1.],\n",
       "       [1., 1., 1.],\n",
       "       [1., 1., 1.],\n",
       "       [1., 1., 1.]])"
      ]
     },
     "execution_count": 59,
     "metadata": {},
     "output_type": "execute_result"
    }
   ],
   "source": [
    "mat33 = np.ones((4,3))\n",
    "mat33"
   ]
  },
  {
   "cell_type": "code",
   "execution_count": 60,
   "metadata": {
    "colab": {
     "autoexec": {
      "startup": false,
      "wait_interval": 0
     }
    },
    "colab_type": "code",
    "id": "tkSbZzC9zYAW",
    "outputId": "34782be8-a399-4692-d839-56b290d7e19e"
   },
   "outputs": [
    {
     "data": {
      "text/plain": [
       "array([[ 3.,  5., 15.],\n",
       "       [ 4.,  6., 16.],\n",
       "       [ 5.,  7., 17.],\n",
       "       [ 6.,  8., 18.]])"
      ]
     },
     "execution_count": 60,
     "metadata": {},
     "output_type": "execute_result"
    }
   ],
   "source": [
    "y+mat33"
   ]
  },
  {
   "cell_type": "code",
   "execution_count": 61,
   "metadata": {
    "colab": {
     "autoexec": {
      "startup": false,
      "wait_interval": 0
     }
    },
    "colab_type": "code",
    "id": "h62LBLAZzYAa",
    "outputId": "0e5da756-7d3b-429d-b672-c3070255d2bd"
   },
   "outputs": [
    {
     "data": {
      "text/plain": [
       "array([[ 1, -1,  5,  1, -1,  5],\n",
       "       [ 1, -1,  5,  1, -1,  5],\n",
       "       [ 1, -1,  5,  1, -1,  5]])"
      ]
     },
     "execution_count": 61,
     "metadata": {},
     "output_type": "execute_result"
    }
   ],
   "source": [
    "np.tile(v,(3,2))"
   ]
  },
  {
   "cell_type": "code",
   "execution_count": 62,
   "metadata": {
    "colab": {
     "autoexec": {
      "startup": false,
      "wait_interval": 0
     }
    },
    "colab_type": "code",
    "id": "EUMyrGd2zYAc",
    "outputId": "7a19b6fe-d395-4869-ab0f-a1658df106a3"
   },
   "outputs": [
    {
     "data": {
      "text/plain": [
       "['T',\n",
       " '__abs__',\n",
       " '__add__',\n",
       " '__and__',\n",
       " '__array__',\n",
       " '__array_finalize__',\n",
       " '__array_interface__',\n",
       " '__array_prepare__',\n",
       " '__array_priority__',\n",
       " '__array_struct__',\n",
       " '__array_ufunc__',\n",
       " '__array_wrap__',\n",
       " '__bool__',\n",
       " '__class__',\n",
       " '__complex__',\n",
       " '__contains__',\n",
       " '__copy__',\n",
       " '__deepcopy__',\n",
       " '__delattr__',\n",
       " '__delitem__',\n",
       " '__dir__',\n",
       " '__divmod__',\n",
       " '__doc__',\n",
       " '__eq__',\n",
       " '__float__',\n",
       " '__floordiv__',\n",
       " '__format__',\n",
       " '__ge__',\n",
       " '__getattribute__',\n",
       " '__getitem__',\n",
       " '__gt__',\n",
       " '__hash__',\n",
       " '__iadd__',\n",
       " '__iand__',\n",
       " '__ifloordiv__',\n",
       " '__ilshift__',\n",
       " '__imatmul__',\n",
       " '__imod__',\n",
       " '__imul__',\n",
       " '__index__',\n",
       " '__init__',\n",
       " '__init_subclass__',\n",
       " '__int__',\n",
       " '__invert__',\n",
       " '__ior__',\n",
       " '__ipow__',\n",
       " '__irshift__',\n",
       " '__isub__',\n",
       " '__iter__',\n",
       " '__itruediv__',\n",
       " '__ixor__',\n",
       " '__le__',\n",
       " '__len__',\n",
       " '__lshift__',\n",
       " '__lt__',\n",
       " '__matmul__',\n",
       " '__mod__',\n",
       " '__mul__',\n",
       " '__ne__',\n",
       " '__neg__',\n",
       " '__new__',\n",
       " '__or__',\n",
       " '__pos__',\n",
       " '__pow__',\n",
       " '__radd__',\n",
       " '__rand__',\n",
       " '__rdivmod__',\n",
       " '__reduce__',\n",
       " '__reduce_ex__',\n",
       " '__repr__',\n",
       " '__rfloordiv__',\n",
       " '__rlshift__',\n",
       " '__rmatmul__',\n",
       " '__rmod__',\n",
       " '__rmul__',\n",
       " '__ror__',\n",
       " '__rpow__',\n",
       " '__rrshift__',\n",
       " '__rshift__',\n",
       " '__rsub__',\n",
       " '__rtruediv__',\n",
       " '__rxor__',\n",
       " '__setattr__',\n",
       " '__setitem__',\n",
       " '__setstate__',\n",
       " '__sizeof__',\n",
       " '__str__',\n",
       " '__sub__',\n",
       " '__subclasshook__',\n",
       " '__truediv__',\n",
       " '__xor__',\n",
       " 'all',\n",
       " 'any',\n",
       " 'argmax',\n",
       " 'argmin',\n",
       " 'argpartition',\n",
       " 'argsort',\n",
       " 'astype',\n",
       " 'base',\n",
       " 'byteswap',\n",
       " 'choose',\n",
       " 'clip',\n",
       " 'compress',\n",
       " 'conj',\n",
       " 'conjugate',\n",
       " 'copy',\n",
       " 'ctypes',\n",
       " 'cumprod',\n",
       " 'cumsum',\n",
       " 'data',\n",
       " 'diagonal',\n",
       " 'dot',\n",
       " 'dtype',\n",
       " 'dump',\n",
       " 'dumps',\n",
       " 'fill',\n",
       " 'flags',\n",
       " 'flat',\n",
       " 'flatten',\n",
       " 'getfield',\n",
       " 'imag',\n",
       " 'item',\n",
       " 'itemset',\n",
       " 'itemsize',\n",
       " 'max',\n",
       " 'mean',\n",
       " 'min',\n",
       " 'nbytes',\n",
       " 'ndim',\n",
       " 'newbyteorder',\n",
       " 'nonzero',\n",
       " 'partition',\n",
       " 'prod',\n",
       " 'ptp',\n",
       " 'put',\n",
       " 'ravel',\n",
       " 'real',\n",
       " 'repeat',\n",
       " 'reshape',\n",
       " 'resize',\n",
       " 'round',\n",
       " 'searchsorted',\n",
       " 'setfield',\n",
       " 'setflags',\n",
       " 'shape',\n",
       " 'size',\n",
       " 'sort',\n",
       " 'squeeze',\n",
       " 'std',\n",
       " 'strides',\n",
       " 'sum',\n",
       " 'swapaxes',\n",
       " 'take',\n",
       " 'tobytes',\n",
       " 'tofile',\n",
       " 'tolist',\n",
       " 'tostring',\n",
       " 'trace',\n",
       " 'transpose',\n",
       " 'var',\n",
       " 'view']"
      ]
     },
     "execution_count": 62,
     "metadata": {},
     "output_type": "execute_result"
    }
   ],
   "source": [
    "dir(v)"
   ]
  },
  {
   "cell_type": "code",
   "execution_count": 63,
   "metadata": {
    "colab": {
     "autoexec": {
      "startup": false,
      "wait_interval": 0
     }
    },
    "colab_type": "code",
    "id": "GJ9govLOzYAd",
    "outputId": "9574610e-15bf-407e-aa53-4a5608e2b1f2"
   },
   "outputs": [
    {
     "name": "stdout",
     "output_type": "stream",
     "text": [
      "[  1  -1   5   9  -4  23 -17]\n"
     ]
    },
    {
     "data": {
      "text/plain": [
       "array([ 1,  0,  5, 14, 10, 33, 16])"
      ]
     },
     "execution_count": 63,
     "metadata": {},
     "output_type": "execute_result"
    }
   ],
   "source": [
    "v = np.array([1, -1, 5, 9, -4, 23, -17])\n",
    "print(v)\n",
    "np.cumsum(v)"
   ]
  },
  {
   "cell_type": "code",
   "execution_count": 64,
   "metadata": {
    "colab": {
     "autoexec": {
      "startup": false,
      "wait_interval": 0
     }
    },
    "colab_type": "code",
    "id": "lVyu4B5ZzYAf",
    "outputId": "999193e0-2969-446e-8c5a-f9ed09ca1e16"
   },
   "outputs": [
    {
     "data": {
      "text/plain": [
       "5"
      ]
     },
     "execution_count": 64,
     "metadata": {},
     "output_type": "execute_result"
    }
   ],
   "source": [
    "np.argmax(v)"
   ]
  },
  {
   "cell_type": "code",
   "execution_count": 65,
   "metadata": {
    "colab": {
     "autoexec": {
      "startup": false,
      "wait_interval": 0
     }
    },
    "colab_type": "code",
    "id": "fKO10KWAzYAi",
    "outputId": "05c721e6-8fb9-4142-d15d-b290a55d39a7"
   },
   "outputs": [
    {
     "data": {
      "text/plain": [
       "True"
      ]
     },
     "execution_count": 65,
     "metadata": {},
     "output_type": "execute_result"
    }
   ],
   "source": [
    "np.all(v)"
   ]
  },
  {
   "cell_type": "code",
   "execution_count": 66,
   "metadata": {
    "colab": {
     "autoexec": {
      "startup": false,
      "wait_interval": 0
     }
    },
    "colab_type": "code",
    "id": "ozW0wMTuzYAk",
    "outputId": "833d4e17-0725-4a50-98e5-71dad8dbf265"
   },
   "outputs": [
    {
     "data": {
      "text/plain": [
       "False"
      ]
     },
     "execution_count": 66,
     "metadata": {},
     "output_type": "execute_result"
    }
   ],
   "source": [
    "np.all(np.cumsum(v))"
   ]
  },
  {
   "cell_type": "code",
   "execution_count": null,
   "metadata": {
    "colab": {
     "autoexec": {
      "startup": false,
      "wait_interval": 0
     }
    },
    "colab_type": "code",
    "id": "aprfJ5T_zYAn",
    "outputId": "4fd66691-5670-4ee1-f51e-835014e7195c"
   },
   "outputs": [],
   "source": []
  },
  {
   "cell_type": "markdown",
   "metadata": {
    "colab_type": "text",
    "id": "5-C5KqjfzYAp"
   },
   "source": [
    "### One final note on numpy arrays\n",
    "\n",
    "Note that (unlike lists in Python), numpy arrays must have all of the elements be the same type."
   ]
  },
  {
   "cell_type": "code",
   "execution_count": 67,
   "metadata": {
    "colab": {
     "autoexec": {
      "startup": false,
      "wait_interval": 0
     },
     "base_uri": "https://localhost:8080/",
     "height": 197
    },
    "colab_type": "code",
    "executionInfo": {
     "elapsed": 843,
     "status": "error",
     "timestamp": 1525358202978,
     "user": {
      "displayName": "Georgina Bilali",
      "photoUrl": "https://lh3.googleusercontent.com/a/default-user=s128",
      "userId": "114444159360292123227"
     },
     "user_tz": -180
    },
    "id": "evjCaQ0ozYAp",
    "outputId": "5a34f222-b601-4bf4-9306-84d3627d0500"
   },
   "outputs": [
    {
     "data": {
      "text/plain": [
       "array(['this', 'list', 'contains', 'strings'], dtype='<U8')"
      ]
     },
     "execution_count": 67,
     "metadata": {},
     "output_type": "execute_result"
    }
   ],
   "source": [
    "stringlist = ['this','list','contains','strings']\n",
    "arrstring = np.array(stringlist)\n",
    "arrstring"
   ]
  },
  {
   "cell_type": "code",
   "execution_count": 68,
   "metadata": {
    "colab": {
     "autoexec": {
      "startup": false,
      "wait_interval": 0
     },
     "base_uri": "https://localhost:8080/",
     "height": 231
    },
    "colab_type": "code",
    "executionInfo": {
     "elapsed": 5953,
     "status": "error",
     "timestamp": 1525358195783,
     "user": {
      "displayName": "Georgina Bilali",
      "photoUrl": "https://lh3.googleusercontent.com/a/default-user=s128",
      "userId": "114444159360292123227"
     },
     "user_tz": -180
    },
    "id": "l4L8GOmZzYAr",
    "outputId": "c439f7aa-ee9d-4ad6-8ebc-e432608e98f4"
   },
   "outputs": [
    {
     "name": "stdout",
     "output_type": "stream",
     "text": [
      "Shape of Array:  (4,)\n",
      "Type of object:  <class 'numpy.ndarray'>\n",
      "Type of contents:  <U8\n",
      "Size (elements):  4\n",
      "ndim (number of dim):  1\n"
     ]
    }
   ],
   "source": [
    "print('Shape of Array: ', arrstring.shape)\n",
    "print('Type of object: ', type(arrstring))\n",
    "print('Type of contents: ', arrstring.dtype)\n",
    "print('Size (elements): ', arrstring.size)\n",
    "print('ndim (number of dim): ', arrstring.ndim)"
   ]
  },
  {
   "cell_type": "markdown",
   "metadata": {
    "colab_type": "text",
    "id": "0jWiK6TlzYAt"
   },
   "source": [
    "Below, we can see what happens when we try to mix different kinds of elements"
   ]
  },
  {
   "cell_type": "code",
   "execution_count": 69,
   "metadata": {
    "colab": {
     "autoexec": {
      "startup": false,
      "wait_interval": 0
     }
    },
    "colab_type": "code",
    "id": "3S3vQDv2zYAu",
    "outputId": "cf7f16bc-437e-40f8-b51c-aaec23fac6b3"
   },
   "outputs": [
    {
     "data": {
      "text/plain": [
       "array(['123', 'this', 'list', 'has', '54321', 'elements', 'pi', '=',\n",
       "       '3.14'], dtype='<U21')"
      ]
     },
     "execution_count": 69,
     "metadata": {},
     "output_type": "execute_result"
    }
   ],
   "source": [
    "mixedlist = [123,'this','list','has',54321,'elements','pi','=',3.14]\n",
    "arrmixed = np.array(mixedlist)\n",
    "arrmixed"
   ]
  },
  {
   "cell_type": "code",
   "execution_count": 70,
   "metadata": {
    "colab": {
     "autoexec": {
      "startup": false,
      "wait_interval": 0
     }
    },
    "colab_type": "code",
    "id": "elF6yFSTzYAv",
    "outputId": "fe67aa01-a094-48ba-a9b6-4018e1818d64"
   },
   "outputs": [
    {
     "ename": "ValueError",
     "evalue": "setting an array element with a sequence",
     "output_type": "error",
     "traceback": [
      "\u001b[0;31m---------------------------------------------------------------------------\u001b[0m",
      "\u001b[0;31mValueError\u001b[0m                                Traceback (most recent call last)",
      "\u001b[0;32m<ipython-input-70-b0d88c108965>\u001b[0m in \u001b[0;36m<module>\u001b[0;34m()\u001b[0m\n\u001b[1;32m      1\u001b[0m \u001b[0mcrazylist\u001b[0m \u001b[0;34m=\u001b[0m \u001b[0;34m[\u001b[0m\u001b[0;36m123\u001b[0m\u001b[0;34m,\u001b[0m\u001b[0;34m'strings'\u001b[0m\u001b[0;34m,\u001b[0m\u001b[0;34m[\u001b[0m\u001b[0;34m'list'\u001b[0m\u001b[0;34m,\u001b[0m\u001b[0;34m'of'\u001b[0m\u001b[0;34m,\u001b[0m\u001b[0;34m'strings'\u001b[0m\u001b[0;34m]\u001b[0m\u001b[0;34m,\u001b[0m\u001b[0;34m'more'\u001b[0m\u001b[0;34m,\u001b[0m\u001b[0;34m'text'\u001b[0m\u001b[0;34m]\u001b[0m\u001b[0;34m\u001b[0m\u001b[0m\n\u001b[0;32m----> 2\u001b[0;31m \u001b[0marrcrazy\u001b[0m \u001b[0;34m=\u001b[0m \u001b[0mnp\u001b[0m\u001b[0;34m.\u001b[0m\u001b[0marray\u001b[0m\u001b[0;34m(\u001b[0m\u001b[0mcrazylist\u001b[0m\u001b[0;34m)\u001b[0m\u001b[0;34m\u001b[0m\u001b[0m\n\u001b[0m",
      "\u001b[0;31mValueError\u001b[0m: setting an array element with a sequence"
     ]
    }
   ],
   "source": [
    "crazylist = [123,'strings',['list','of','strings'],'more','text']\n",
    "arrcrazy = np.array(crazylist)\n"
   ]
  },
  {
   "cell_type": "code",
   "execution_count": 86,
   "metadata": {},
   "outputs": [
    {
     "data": {
      "text/plain": [
       "array([ True,  True, False, False, False, False])"
      ]
     },
     "execution_count": 86,
     "metadata": {},
     "output_type": "execute_result"
    }
   ],
   "source": [
    "arr1 < 3"
   ]
  },
  {
   "cell_type": "code",
   "execution_count": null,
   "metadata": {},
   "outputs": [],
   "source": []
  }
 ],
 "metadata": {
  "colab": {
   "default_view": {},
   "name": "Intro-to-Numpy.ipynb",
   "provenance": [],
   "version": "0.3.2",
   "views": {}
  },
  "kernelspec": {
   "display_name": "Python 3",
   "language": "python",
   "name": "python3"
  },
  "language_info": {
   "codemirror_mode": {
    "name": "ipython",
    "version": 3
   },
   "file_extension": ".py",
   "mimetype": "text/x-python",
   "name": "python",
   "nbconvert_exporter": "python",
   "pygments_lexer": "ipython3",
   "version": "3.7.3"
  }
 },
 "nbformat": 4,
 "nbformat_minor": 1
}
