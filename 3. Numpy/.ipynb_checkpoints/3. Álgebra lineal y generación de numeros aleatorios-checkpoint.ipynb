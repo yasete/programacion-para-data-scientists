{
 "cells": [
  {
   "cell_type": "markdown",
   "metadata": {},
   "source": [
    "# 3.- Álgebra lineal"
   ]
  },
  {
   "cell_type": "markdown",
   "metadata": {},
   "source": [
    "Hasta el momento **hemos visto cómo aplicar funciones \"elemento a elemento\"** a matrices multidimensionales pero, en ningún caso, hemos aplicado funciones de cálculo matricial sobre las mismas. NumPy ofrece un amplio conjunto de funciones que permiten realizar multitud de **tratamientos/operaciones matriciales**. Todas estas funciones están **disponibles a través del submódulo linalg**."
   ]
  },
  {
   "cell_type": "code",
   "execution_count": null,
   "metadata": {},
   "outputs": [],
   "source": [
    "import numpy as np\n",
    "import numpy.linalg as linalg"
   ]
  },
  {
   "cell_type": "markdown",
   "metadata": {},
   "source": [
    "Algunas de las más comunes son:<br/>\n",
    "<ul>\n",
    "<li><b>diag:</b> Recupera la diagonal principal del ndarray pasado como parámetro.</li>\n",
    "<li><b>dot:</b> Realiza el producto escalar de dos ndarray.</li>\n",
    "<li><b>trace:</b> Calcula la suma de los elementos de la diagonal principal.</li>\n",
    "<li><b>det:</b> Calcula el determinante de un ndarray.</li>\n",
    "<li><b>eig:</b> Calcula los autovalores y autovectores de un ndarray.</li>\n",
    "<li><b>inv:</b> Calcula la inversa de una matriz.</li>\n",
    "<li><b>qr:</b> Calcula la descomposición QR de una matriz.</li>\n",
    "<li><b>svd:</b> Calcula la descomposición de valores singulares (Singular Value Decomposition) de una matriz.</li>\n",
    "<li><b>solve:</b> Calcula el resultado del sistema lineal Ax = B donde A y B son las matrices de entrada y x la salida.</li>\n",
    "<li><b>lstsq:</b> Calcula la solución de mínimos cuadrados a y = Xb, donde y y b son los parámetros de entrada y X la salida.</li>\n",
    "</ul>"
   ]
  },
  {
   "cell_type": "code",
   "execution_count": null,
   "metadata": {},
   "outputs": [],
   "source": [
    "array1 = np.random.randn(3, 3)\n",
    "array1"
   ]
  },
  {
   "cell_type": "code",
   "execution_count": null,
   "metadata": {},
   "outputs": [],
   "source": [
    "np.diag(array1)"
   ]
  },
  {
   "cell_type": "code",
   "execution_count": null,
   "metadata": {},
   "outputs": [],
   "source": [
    "array = np.arange(9).reshape(3,3)\n",
    "array"
   ]
  },
  {
   "cell_type": "code",
   "execution_count": null,
   "metadata": {},
   "outputs": [],
   "source": [
    "np.dot(array, array)\n"
   ]
  },
  {
   "cell_type": "code",
   "execution_count": null,
   "metadata": {},
   "outputs": [],
   "source": [
    "linalg.inv(array1)"
   ]
  },
  {
   "cell_type": "code",
   "execution_count": null,
   "metadata": {},
   "outputs": [],
   "source": [
    "linalg.solve(array1,array)"
   ]
  },
  {
   "cell_type": "code",
   "execution_count": null,
   "metadata": {},
   "outputs": [],
   "source": [
    "q,r = linalg.qr(array)\n",
    "print(q)\n",
    "print('\\n')\n",
    "print(r)"
   ]
  }
 ],
 "metadata": {
  "anaconda-cloud": {},
  "kernelspec": {
   "display_name": "Python 3",
   "language": "python",
   "name": "python3"
  },
  "language_info": {
   "codemirror_mode": {
    "name": "ipython",
    "version": 3
   },
   "file_extension": ".py",
   "mimetype": "text/x-python",
   "name": "python",
   "nbconvert_exporter": "python",
   "pygments_lexer": "ipython3",
   "version": "3.7.3"
  }
 },
 "nbformat": 4,
 "nbformat_minor": 1
}
