{
 "cells": [
  {
   "cell_type": "markdown",
   "metadata": {
    "colab_type": "text",
    "id": "In9uGKZrzX8k"
   },
   "source": [
    "# 4.- Generación de números aleatorios"
   ]
  },
  {
   "cell_type": "code",
   "execution_count": 13,
   "metadata": {
    "colab": {
     "autoexec": {
      "startup": false,
      "wait_interval": 0
     }
    },
    "colab_type": "code",
    "id": "BdAvkkeXzX8p"
   },
   "outputs": [],
   "source": [
    "import numpy as np"
   ]
  },
  {
   "cell_type": "markdown",
   "metadata": {},
   "source": [
    "## rand\n",
    "Genera números aleatorios sobre una **distribución uniforme en el intervalo** ``[0, 1)``."
   ]
  },
  {
   "cell_type": "code",
   "execution_count": null,
   "metadata": {},
   "outputs": [],
   "source": [
    "np.random.rand(2)"
   ]
  },
  {
   "cell_type": "code",
   "execution_count": null,
   "metadata": {},
   "outputs": [],
   "source": [
    "np.random.rand(4,4)"
   ]
  },
  {
   "cell_type": "code",
   "execution_count": null,
   "metadata": {},
   "outputs": [],
   "source": [
    "[a,b] #distr. uniforme\n",
    "a+(b-a)*alet"
   ]
  },
  {
   "cell_type": "markdown",
   "metadata": {},
   "source": [
    "## randn\n",
    "Genera números aletororios según una **distribución normal estándar**."
   ]
  },
  {
   "cell_type": "code",
   "execution_count": null,
   "metadata": {},
   "outputs": [],
   "source": [
    "np.random.randn(4)"
   ]
  },
  {
   "cell_type": "code",
   "execution_count": null,
   "metadata": {},
   "outputs": [],
   "source": [
    "np.random.randn(4,5)"
   ]
  },
  {
   "cell_type": "markdown",
   "metadata": {},
   "source": [
    "## randint\n",
    "Genera **enteros aleatorios dentro de un intervalo especificado**"
   ]
  },
  {
   "cell_type": "code",
   "execution_count": 14,
   "metadata": {},
   "outputs": [
    {
     "data": {
      "text/plain": [
       "array([4, 4, 5, 1, 2, 2, 5, 6, 2, 2, 4, 5, 3, 5, 6, 5, 4, 5, 3, 3, 6, 2,\n",
       "       6, 4, 3, 1, 4, 4, 1, 4, 2, 1, 2, 4, 3, 3, 4, 2, 4, 2, 6, 4, 6, 3,\n",
       "       3, 4, 6, 5, 1, 2, 5, 6, 2, 1, 4, 2, 6, 6, 1, 6, 3, 3, 2, 5, 6, 1,\n",
       "       4, 2, 5, 4, 1, 1, 3, 5, 5, 5, 5, 2, 2, 5, 3, 4, 6, 3, 4, 3, 2, 4,\n",
       "       6, 3, 3, 2, 4, 2, 5, 3, 6, 6, 3, 6])"
      ]
     },
     "execution_count": 14,
     "metadata": {},
     "output_type": "execute_result"
    }
   ],
   "source": [
    "np.random.randint(1,7,100) # 100 enteros aleatorios en el intervalo [1,7]"
   ]
  },
  {
   "cell_type": "code",
   "execution_count": null,
   "metadata": {},
   "outputs": [],
   "source": [
    "np.random.randint(1,3,(3,7)) # matriz 3x7 con números aleatorios en el intervalo [1,3]"
   ]
  },
  {
   "cell_type": "markdown",
   "metadata": {},
   "source": [
    "## normal\n",
    "Genera números aleatorios según una **distribución normal con media y desviación estándar especificada**."
   ]
  },
  {
   "cell_type": "code",
   "execution_count": 15,
   "metadata": {
    "colab": {
     "autoexec": {
      "startup": false,
      "wait_interval": 0
     }
    },
    "colab_type": "code",
    "id": "YKV1BUuwzX-8",
    "outputId": "845686f1-43de-4349-9ac7-c4959b2740bd"
   },
   "outputs": [
    {
     "data": {
      "text/plain": [
       "array([1.08233942, 0.82952834, 0.89226802, 0.98991531, 1.02283582,\n",
       "       1.03804324, 1.12693755, 0.99085893, 0.89751257, 0.96164763])"
      ]
     },
     "execution_count": 15,
     "metadata": {},
     "output_type": "execute_result"
    }
   ],
   "source": [
    "# Normal Dist\n",
    "# Mean of 1, std of 0.1, 10 elements\n",
    "np.random.normal(1, 0.1, 10)"
   ]
  },
  {
   "cell_type": "code",
   "execution_count": null,
   "metadata": {},
   "outputs": [],
   "source": [
    "np.random.normal(1,0.1,(2,2))"
   ]
  },
  {
   "cell_type": "markdown",
   "metadata": {},
   "source": [
    "## Otras distribuciones"
   ]
  },
  {
   "cell_type": "code",
   "execution_count": 16,
   "metadata": {
    "colab": {
     "autoexec": {
      "startup": false,
      "wait_interval": 0
     }
    },
    "colab_type": "code",
    "id": "iA2pLRPEzX_P",
    "outputId": "be38eacb-9f2c-4e40-a2d8-790041653017"
   },
   "outputs": [
    {
     "data": {
      "text/plain": [
       "['Generator',\n",
       " 'MT19937',\n",
       " 'PCG64',\n",
       " 'Philox',\n",
       " 'RandomState',\n",
       " 'SFC64',\n",
       " 'SeedSequence',\n",
       " '__RandomState_ctor',\n",
       " '__all__',\n",
       " '__builtins__',\n",
       " '__cached__',\n",
       " '__doc__',\n",
       " '__file__',\n",
       " '__loader__',\n",
       " '__name__',\n",
       " '__package__',\n",
       " '__path__',\n",
       " '__spec__',\n",
       " '_pickle',\n",
       " 'absolute_import',\n",
       " 'beta',\n",
       " 'binomial',\n",
       " 'bit_generator',\n",
       " 'bounded_integers',\n",
       " 'bytes',\n",
       " 'chisquare',\n",
       " 'choice',\n",
       " 'common',\n",
       " 'default_rng',\n",
       " 'dirichlet',\n",
       " 'division',\n",
       " 'exponential',\n",
       " 'f',\n",
       " 'gamma',\n",
       " 'generator',\n",
       " 'geometric',\n",
       " 'get_state',\n",
       " 'gumbel',\n",
       " 'hypergeometric',\n",
       " 'laplace',\n",
       " 'logistic',\n",
       " 'lognormal',\n",
       " 'logseries',\n",
       " 'mt19937',\n",
       " 'mtrand',\n",
       " 'multinomial',\n",
       " 'multivariate_normal',\n",
       " 'negative_binomial',\n",
       " 'noncentral_chisquare',\n",
       " 'noncentral_f',\n",
       " 'normal',\n",
       " 'pareto',\n",
       " 'pcg64',\n",
       " 'permutation',\n",
       " 'philox',\n",
       " 'poisson',\n",
       " 'power',\n",
       " 'print_function',\n",
       " 'rand',\n",
       " 'randint',\n",
       " 'randn',\n",
       " 'random',\n",
       " 'random_integers',\n",
       " 'random_sample',\n",
       " 'ranf',\n",
       " 'rayleigh',\n",
       " 'sample',\n",
       " 'seed',\n",
       " 'set_state',\n",
       " 'sfc64',\n",
       " 'shuffle',\n",
       " 'standard_cauchy',\n",
       " 'standard_exponential',\n",
       " 'standard_gamma',\n",
       " 'standard_normal',\n",
       " 'standard_t',\n",
       " 'test',\n",
       " 'triangular',\n",
       " 'uniform',\n",
       " 'vonmises',\n",
       " 'wald',\n",
       " 'weibull',\n",
       " 'zipf']"
      ]
     },
     "execution_count": 16,
     "metadata": {},
     "output_type": "execute_result"
    }
   ],
   "source": [
    "dir(np.random)"
   ]
  },
  {
   "cell_type": "code",
   "execution_count": 17,
   "metadata": {
    "colab": {
     "autoexec": {
      "startup": false,
      "wait_interval": 0
     }
    },
    "colab_type": "code",
    "id": "xkzht8RhzX_S",
    "outputId": "3c488fe2-6dbe-4e13-f1e9-eaf40eb849b0"
   },
   "outputs": [
    {
     "name": "stdout",
     "output_type": "stream",
     "text": [
      "Help on built-in function poisson:\n",
      "\n",
      "poisson(...) method of numpy.random.mtrand.RandomState instance\n",
      "    poisson(lam=1.0, size=None)\n",
      "    \n",
      "    Draw samples from a Poisson distribution.\n",
      "    \n",
      "    The Poisson distribution is the limit of the binomial distribution\n",
      "    for large N.\n",
      "    \n",
      "    Parameters\n",
      "    ----------\n",
      "    lam : float or array_like of floats\n",
      "        Expectation of interval, must be >= 0. A sequence of expectation\n",
      "        intervals must be broadcastable over the requested size.\n",
      "    size : int or tuple of ints, optional\n",
      "        Output shape.  If the given shape is, e.g., ``(m, n, k)``, then\n",
      "        ``m * n * k`` samples are drawn.  If size is ``None`` (default),\n",
      "        a single value is returned if ``lam`` is a scalar. Otherwise,\n",
      "        ``np.array(lam).size`` samples are drawn.\n",
      "    \n",
      "    Returns\n",
      "    -------\n",
      "    out : ndarray or scalar\n",
      "        Drawn samples from the parameterized Poisson distribution.\n",
      "    \n",
      "    Notes\n",
      "    -----\n",
      "    The Poisson distribution\n",
      "    \n",
      "    .. math:: f(k; \\lambda)=\\frac{\\lambda^k e^{-\\lambda}}{k!}\n",
      "    \n",
      "    For events with an expected separation :math:`\\lambda` the Poisson\n",
      "    distribution :math:`f(k; \\lambda)` describes the probability of\n",
      "    :math:`k` events occurring within the observed\n",
      "    interval :math:`\\lambda`.\n",
      "    \n",
      "    Because the output is limited to the range of the C int64 type, a\n",
      "    ValueError is raised when `lam` is within 10 sigma of the maximum\n",
      "    representable value.\n",
      "    \n",
      "    References\n",
      "    ----------\n",
      "    .. [1] Weisstein, Eric W. \"Poisson Distribution.\"\n",
      "           From MathWorld--A Wolfram Web Resource.\n",
      "           http://mathworld.wolfram.com/PoissonDistribution.html\n",
      "    .. [2] Wikipedia, \"Poisson distribution\",\n",
      "           https://en.wikipedia.org/wiki/Poisson_distribution\n",
      "    \n",
      "    Examples\n",
      "    --------\n",
      "    Draw samples from the distribution:\n",
      "    \n",
      "    >>> import numpy as np\n",
      "    >>> s = np.random.poisson(5, 10000)\n",
      "    \n",
      "    Display histogram of the sample:\n",
      "    \n",
      "    >>> import matplotlib.pyplot as plt\n",
      "    >>> count, bins, ignored = plt.hist(s, 14, density=True)\n",
      "    >>> plt.show()\n",
      "    \n",
      "    Draw each 100 values for lambda 100 and 500:\n",
      "    \n",
      "    >>> s = np.random.poisson(lam=(100., 500.), size=(100, 2))\n",
      "\n"
     ]
    }
   ],
   "source": [
    "help(np.random.poisson)"
   ]
  },
  {
   "cell_type": "code",
   "execution_count": 19,
   "metadata": {
    "colab": {
     "autoexec": {
      "startup": false,
      "wait_interval": 0
     }
    },
    "colab_type": "code",
    "id": "fSivuQazzX_W",
    "outputId": "f3acba1c-8fa2-4617-8d3f-481407057f9e"
   },
   "outputs": [
    {
     "data": {
      "text/plain": [
       "array([[ 7,  5,  9, 10,  6],\n",
       "       [12,  1,  4,  8,  4]])"
      ]
     },
     "execution_count": 19,
     "metadata": {},
     "output_type": "execute_result"
    }
   ],
   "source": [
    "np.random.poisson(7,(2,5))"
   ]
  }
 ],
 "metadata": {
  "colab": {
   "default_view": {},
   "name": "Intro-to-Numpy.ipynb",
   "provenance": [],
   "version": "0.3.2",
   "views": {}
  },
  "kernelspec": {
   "display_name": "Python 3",
   "language": "python",
   "name": "python3"
  },
  "language_info": {
   "codemirror_mode": {
    "name": "ipython",
    "version": 3
   },
   "file_extension": ".py",
   "mimetype": "text/x-python",
   "name": "python",
   "nbconvert_exporter": "python",
   "pygments_lexer": "ipython3",
   "version": "3.7.3"
  }
 },
 "nbformat": 4,
 "nbformat_minor": 1
}
