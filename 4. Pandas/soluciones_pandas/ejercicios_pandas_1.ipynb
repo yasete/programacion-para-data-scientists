{
 "cells": [
  {
   "cell_type": "markdown",
   "metadata": {},
   "source": [
    "# Pandas - Ejercicios"
   ]
  },
  {
   "cell_type": "code",
   "execution_count": null,
   "metadata": {},
   "outputs": [],
   "source": [
    "import numpy as np\n",
    "import pandas as pd"
   ]
  },
  {
   "cell_type": "markdown",
   "metadata": {},
   "source": [
    "### 1. Crea un función que reciba un número entero n y genere una serie de tamaño n cuyos valores sean una secuencia numérica de múltiplos de cinco ascendentes y su índice sea una secuencia numérica de múltiplos de cinco en orden inverso."
   ]
  },
  {
   "cell_type": "code",
   "execution_count": null,
   "metadata": {},
   "outputs": [],
   "source": [
    "def ejercicio1(n):\n",
    "    serie=pd.Series([i*5 for i in range(n)], index=[i*5 for i in range(n)][::-1])\n",
    "    return serie\n",
    "\n",
    "ejercicio1(10)"
   ]
  },
  {
   "cell_type": "markdown",
   "metadata": {
    "collapsed": true
   },
   "source": [
    "### 2. Crea una función que reciba una lista de palabras y devuelva un DataFrame en el que las filas sean las palabras y en columnas tenga la longitud de la palaba y su frecuencia en la lista."
   ]
  },
  {
   "cell_type": "code",
   "execution_count": null,
   "metadata": {},
   "outputs": [],
   "source": [
    "def ejercicio_2(palabras):\n",
    "    nombres = set(palabras)\n",
    "    diccionario ={}\n",
    "    for elemento in nombres:\n",
    "        dict_1 = {elemento : [len(elemento),palabras.count(elemento)]}\n",
    "        diccionario.update(dict_1)\n",
    "    dataframe = pd.DataFrame(diccionario)\n",
    "    dataframe.index=['Longuitud','Frecuencia']\n",
    "    return dataframe.T\n",
    "\n",
    "lista = ['coche','moto','coche','avion']\n",
    "ejercicio_2(lista)"
   ]
  },
  {
   "cell_type": "code",
   "execution_count": null,
   "metadata": {},
   "outputs": [],
   "source": [
    "def ejercicio_2(palabras):\n",
    "    diccionario = {}\n",
    "    for palabra in palabras:\n",
    "        if palabra in diccionario:\n",
    "            diccionario[palabra]['Frecuencia'] +=1\n",
    "        else:\n",
    "            diccionario[palabra] = {'Longitud': len(palabra), 'Frecuencia': 1}\n",
    "   \n",
    "    dataframe = pd.DataFrame(diccionario)\n",
    "    return dataframe.T\n",
    "ejercicio_2(lista)"
   ]
  },
  {
   "cell_type": "markdown",
   "metadata": {},
   "source": [
    "### 3. Crea una función que reciba un DataFrame cualquiera y genere otro cuyas dimensiones sean las del recibido traspuestas y su contenido sean números positivos aleatorios generados con una distribución normal."
   ]
  },
  {
   "cell_type": "code",
   "execution_count": null,
   "metadata": {},
   "outputs": [],
   "source": [
    "def ejercicio_3(df):\n",
    "    return pd.DataFrame(np.abs(np.random.randn(df.shape[1],df.shape[0])))\n",
    "\n",
    "ejercicio_3(ejercicio_2(lista))"
   ]
  },
  {
   "cell_type": "markdown",
   "metadata": {},
   "source": [
    "### 4. Crea una función que reciba una ndarray bidimensional y devuelva un DataFrame creado a partir del array recibido. Crea otra función que reciba un DataFrame y establezca como índice de filas la secuencia 'f1'...'fn' y como índice de columnas la secuencia 'c1'...'cm'. Utiliza ambas funciones de forma conjunta para obtener un DataFrame de 4x8 relleno con valores aleatorios generados con una distribución normal."
   ]
  },
  {
   "cell_type": "code",
   "execution_count": null,
   "metadata": {},
   "outputs": [],
   "source": [
    "def ej4_1(array):\n",
    "    return pd.DataFrame(array)\n",
    "\n",
    "def ej4_2(dataframe):\n",
    "    nom_filas = ['f' + str(i+1) for i in range(len(dataframe.index))]\n",
    "    nom_col = ['c' + str(i+1) for i in range(len(dataframe.columns))]\n",
    "    dataframe.index = nom_filas\n",
    "    dataframe.columns = nom_col\n",
    "    return dataframe\n",
    "\n",
    "ej4_2(ej4_1(np.random.randn(4,8)))\n",
    "\n",
    "\n",
    "\n",
    "\n",
    "\n",
    "\n",
    "\n",
    "\n",
    "\n"
   ]
  }
 ],
 "metadata": {
  "kernelspec": {
   "display_name": "Python 3",
   "language": "python",
   "name": "python3"
  },
  "language_info": {
   "codemirror_mode": {
    "name": "ipython",
    "version": 3
   },
   "file_extension": ".py",
   "mimetype": "text/x-python",
   "name": "python",
   "nbconvert_exporter": "python",
   "pygments_lexer": "ipython3",
   "version": "3.7.4"
  }
 },
 "nbformat": 4,
 "nbformat_minor": 1
}
