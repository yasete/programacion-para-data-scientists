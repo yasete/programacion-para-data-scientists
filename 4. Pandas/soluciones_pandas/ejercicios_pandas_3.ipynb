{
 "cells": [
  {
   "cell_type": "markdown",
   "metadata": {},
   "source": [
    "# Pandas (III) - Ejercicios"
   ]
  },
  {
   "cell_type": "code",
   "execution_count": null,
   "metadata": {},
   "outputs": [],
   "source": [
    "import numpy as np\n",
    "import pandas as pd"
   ]
  },
  {
   "cell_type": "markdown",
   "metadata": {},
   "source": [
    "### 1. Carga el fichero \"datos/catastro.tsv\" en un DataFrame y haz que el año sea el índice de filas de la información."
   ]
  },
  {
   "cell_type": "code",
   "execution_count": null,
   "metadata": {},
   "outputs": [],
   "source": [
    "catastro1 = pd.read_csv('catastro.tsv', sep = '\\t', index_col = ['año'])\n",
    "catastro1"
   ]
  },
  {
   "cell_type": "markdown",
   "metadata": {},
   "source": [
    "### 2. Obtén el número de registros del barrio \"PALACIO\" para el año 2014."
   ]
  },
  {
   "cell_type": "code",
   "execution_count": null,
   "metadata": {},
   "outputs": [],
   "source": [
    "sum( catastro1.index[catastro1['barrio'] == 'PALACIO'] == 2014 )"
   ]
  },
  {
   "cell_type": "code",
   "execution_count": null,
   "metadata": {},
   "outputs": [],
   "source": [
    "sum(catastro1[catastro1['barrio'] == 'PALACIO'].index  == 2014)"
   ]
  },
  {
   "cell_type": "code",
   "execution_count": null,
   "metadata": {},
   "outputs": [],
   "source": [
    "catastro1[catastro1['barrio'] == 'PALACIO'].loc[2014].shape"
   ]
  },
  {
   "cell_type": "code",
   "execution_count": null,
   "metadata": {},
   "outputs": [],
   "source": [
    "len(catastro1[catastro1['barrio'] == 'PALACIO'].loc[2014])"
   ]
  },
  {
   "cell_type": "markdown",
   "metadata": {},
   "source": [
    "### 3. Selecciona las columnas sup_cons y valor_catastral para los 15 primeros registros con año 2013 y de uso Residencial."
   ]
  },
  {
   "cell_type": "code",
   "execution_count": null,
   "metadata": {},
   "outputs": [],
   "source": [
    "catastro2 = catastro1[(catastro1.index==2013)&(catastro1.uso==\"Residencial\")].loc[:,[\"sup_cons\",\"valor_catastral\"]].head(15)\n",
    "catastro2"
   ]
  },
  {
   "cell_type": "markdown",
   "metadata": {},
   "source": [
    "### 4. Añade una columna al resultado del DataFrame anterior que contenga el valor medio por metro cuadrado."
   ]
  },
  {
   "cell_type": "code",
   "execution_count": null,
   "metadata": {},
   "outputs": [],
   "source": [
    "catastro2['valor_medio'] = catastro2.valor_catastral / catastro2.sup_cons\n",
    "catastro2"
   ]
  },
  {
   "cell_type": "markdown",
   "metadata": {},
   "source": [
    "### 5. Utilizando una pivot table obtén el total de valor catastral por uso y año."
   ]
  },
  {
   "cell_type": "code",
   "execution_count": null,
   "metadata": {},
   "outputs": [],
   "source": [
    "pd.pivot_table(catastro1, values = 'valor_catastral', index = 'uso', columns = catastro1.index, aggfunc = np.sum)"
   ]
  },
  {
   "cell_type": "markdown",
   "metadata": {},
   "source": [
    "### 6. Crea una función que a partir de un registro del fichero del catastro, calcule el valor catastral medio por inmueble y aplica esta función a los 10 últimos registros de la tabla del catastro."
   ]
  },
  {
   "cell_type": "code",
   "execution_count": null,
   "metadata": {},
   "outputs": [],
   "source": [
    "catastro1.head()"
   ]
  },
  {
   "cell_type": "code",
   "execution_count": null,
   "metadata": {},
   "outputs": [],
   "source": [
    "def exercise_8(catastro1):\n",
    "    catastro1['valor_medio'] = catastro1['valor_catastral']/catastro1['num_inmuebles']\n",
    "    return catastro1.valor_medio.tail(10)\n",
    "\n",
    "exercise_8(catastro1)"
   ]
  },
  {
   "cell_type": "code",
   "execution_count": null,
   "metadata": {},
   "outputs": [],
   "source": [
    "def exercise_8(catastro1):\n",
    "    catastro1['valor_medio'] = catastro1['valor_catastral']/catastro1['num_inmuebles']\n",
    "    return catastro1.valor_medio\n",
    "\n",
    "catastro1.tail(10).apply(exercise_8, axis = 1)"
   ]
  },
  {
   "cell_type": "markdown",
   "metadata": {},
   "source": [
    "### 7. Utilizando groupby, obtén el total de número de inmuebles y valor catastral por año y uso."
   ]
  },
  {
   "cell_type": "code",
   "execution_count": null,
   "metadata": {},
   "outputs": [],
   "source": [
    "ejercicio_7 = catastro1.groupby(['año','uso']).sum()[['num_inmuebles','valor_catastral']]\n",
    "ejercicio_7"
   ]
  },
  {
   "cell_type": "code",
   "execution_count": null,
   "metadata": {},
   "outputs": [],
   "source": [
    "ejercicio_7 = catastro1.groupby(['año','uso'])['num_inmuebles','valor_catastral'].sum()\n",
    "ejercicio_7"
   ]
  },
  {
   "cell_type": "markdown",
   "metadata": {},
   "source": [
    "### 8. Utilizando el resultado del ejercicio anterior y haciendo un cruce (merge) de información por año, encuentra aquellos usos en los que el número de inmuebles ha disminiuido."
   ]
  },
  {
   "cell_type": "code",
   "execution_count": null,
   "metadata": {},
   "outputs": [],
   "source": [
    "tabla_2013=ejercicio_7.loc[2013]\n",
    "tabla_2014=ejercicio_7.loc[2014]\n",
    "ejer_8=pd.merge(tabla_2013,tabla_2014, on = 'uso', suffixes=('_2013', '_2014'))\n",
    "ejer_8"
   ]
  },
  {
   "cell_type": "code",
   "execution_count": null,
   "metadata": {},
   "outputs": [],
   "source": [
    "ejer_8.num_inmuebles_2013>ejer_8.num_inmuebles_2014"
   ]
  },
  {
   "cell_type": "markdown",
   "metadata": {},
   "source": [
    "### 9. Utilizando funciones de agrupación y agregación, calcula el porcentaje de representatividad respecto al número de inmuebles de cada uso, por año."
   ]
  },
  {
   "cell_type": "code",
   "execution_count": null,
   "metadata": {},
   "outputs": [],
   "source": [
    "tamañototal = catastro1.num_inmuebles.groupby(catastro1.index).sum()\n",
    "print(tamañototal)\n",
    "ej9 = catastro1.num_inmuebles.groupby([catastro1.index,catastro1.uso]).sum()\n",
    "print(ej9)\n",
    "\n",
    "ej9/tamañototal*100\n",
    "\n",
    "\n",
    "\n"
   ]
  },
  {
   "cell_type": "code",
   "execution_count": null,
   "metadata": {},
   "outputs": [],
   "source": []
  }
 ],
 "metadata": {
  "kernelspec": {
   "display_name": "Python 3",
   "language": "python",
   "name": "python3"
  },
  "language_info": {
   "codemirror_mode": {
    "name": "ipython",
    "version": 3
   },
   "file_extension": ".py",
   "mimetype": "text/x-python",
   "name": "python",
   "nbconvert_exporter": "python",
   "pygments_lexer": "ipython3",
   "version": "3.7.4"
  }
 },
 "nbformat": 4,
 "nbformat_minor": 1
}
