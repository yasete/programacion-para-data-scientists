{
 "cells": [
  {
   "cell_type": "markdown",
   "metadata": {},
   "source": [
    "# Pandas - Ejercicios (I)"
   ]
  },
  {
   "cell_type": "markdown",
   "metadata": {},
   "source": [
    "### 1. Crea un función que reciba un número entero n y genere una serie Pandas de tamaño n cuyos valores sean una secuencia numérica de múltiplos de cinco ascendentes y su índice sea una secuencia numérica de múltiplos de cinco en orden inverso."
   ]
  },
  {
   "cell_type": "code",
   "execution_count": null,
   "metadata": {},
   "outputs": [],
   "source": [
    "\n",
    "        "
   ]
  },
  {
   "cell_type": "markdown",
   "metadata": {
    "collapsed": true
   },
   "source": [
    "### 2. Crea una función que reciba una lista de palabras y devuelva un DataFrame en el que el index sea la lista de palabras, que tenga por etiqueta de columnas: longitud de palabra y frecuencia de la palabra en la lista, y contenga en cada posición del dataframe la longitud y frecuencia correspondiente a la palabra del index."
   ]
  },
  {
   "cell_type": "code",
   "execution_count": null,
   "metadata": {},
   "outputs": [],
   "source": []
  },
  {
   "cell_type": "markdown",
   "metadata": {},
   "source": [
    "### 3. Crea una función que reciba un DataFrame cualquiera y genere otro cuyas dimensiones sean las del recibido traspuestas y su contenido sean números positivos aleatorios generados con una distribución normal."
   ]
  },
  {
   "cell_type": "code",
   "execution_count": null,
   "metadata": {},
   "outputs": [],
   "source": []
  },
  {
   "cell_type": "markdown",
   "metadata": {},
   "source": [
    "### 4. Crea una función que reciba una ndarray bidimensional y devuelva un DataFrame creado a partir del array recibido. Crea otra función que reciba un DataFrame y establezca como índice de filas la secuencia 'f1'...'fn' y como índice de columnas la secuencia 'c1'...'cm'. Utiliza ambas funciones de forma conjunta para obtener un DataFrame de 4x8 relleno con valores aleatorios generados con una distribución normal."
   ]
  },
  {
   "cell_type": "code",
   "execution_count": null,
   "metadata": {},
   "outputs": [],
   "source": []
  }
 ],
 "metadata": {
  "kernelspec": {
   "display_name": "Python 3",
   "language": "python",
   "name": "python3"
  },
  "language_info": {
   "codemirror_mode": {
    "name": "ipython",
    "version": 3
   },
   "file_extension": ".py",
   "mimetype": "text/x-python",
   "name": "python",
   "nbconvert_exporter": "python",
   "pygments_lexer": "ipython3",
   "version": "3.7.3"
  }
 },
 "nbformat": 4,
 "nbformat_minor": 1
}
