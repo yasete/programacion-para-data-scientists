{
 "cells": [
  {
   "cell_type": "markdown",
   "metadata": {},
   "source": [
    "# Lectura y escritura de información"
   ]
  },
  {
   "cell_type": "markdown",
   "metadata": {},
   "source": [
    "Más que creando Series o DataFrames de cero, o incluso a partir de secuencias del core de Python o ndarrays, el uso más típico de pandas se basa en la carga de información desde ficheros/fuentes de información para su posterior exploración, transformación y análisis."
   ]
  },
  {
   "cell_type": "code",
   "execution_count": null,
   "metadata": {},
   "outputs": [],
   "source": [
    "import numpy as np\n",
    "import pandas as pd"
   ]
  },
  {
   "cell_type": "markdown",
   "metadata": {},
   "source": [
    "## Lectura de ficheros en formato texto"
   ]
  },
  {
   "cell_type": "markdown",
   "metadata": {},
   "source": [
    "Probablemente, una de las formas más recurrentes de trabajo para el análisis de datos: fuentes de datos públicas, logs, tablas históricas de información, exportaciones desde base de datos... La librería pandas, nos ofrece funciones para trabajar con ficheros en múltiples formatos, todos ellos creando un DataFrame con la información leída:<br/>\n",
    "<ul>\n",
    "<li>Ficheros separados por coma (.csv): mediante la función <b>read_csv</b>.</li>\n",
    "<li>Ficheros separados por tabulador (.tsv): mediante la función <b>read_table</b></li>\n",
    "<li>Ficheros de ancho fijo: mediante la función <b>read_fwf</b>.</li>\n",
    "</ul>\n",
    "\n",
    "De estos tres métodos de lectura de información, el más común es el segundo, ya que, por un lado, engloba al primero permitiendo el establecimiento del carácter separador por parte del desarrollado y, por otro, porque los ficheros de ancho fijo son cada vez menos frecuentes (aunque se siguen usando).<br/>\n",
    "\n",
    "Tanto <b>read_csv</b> como <b>read_table</b> tienen un conjunto muy amplio de parámetros que permiten configurar de un modo preciso la lectura de información que se va a hacer. Los parámetros más importantes/comunes son los siguientes:<br/>\n",
    "<ul>\n",
    "<li><b>path:</b> Ruta del fichero del que se va a realizar la lectura.</li>\n",
    "<li><b>sep:</b> Carácter(es) que se utilizan como separador de campos en el fichero.</li>\n",
    "<li><b>header:</b> Índice de la fila que contiene los nombres de las columnas (None en caso de no haber).</li>\n",
    "<li><b>index_col:</b> Índice de la columna o secuencia de índices que se deben usar como índice de filas de los datos.</li>\n",
    "<li><b>skiprows:</b> Número de filas o secuencia de índices de fila que se deben ignorar en la carga.</li>\n",
    "<li><b>names:</b> Secuencia que contiene los nombres de las columnas (usado junto con header=None).</li>\n",
    "<li><b>na_values:</b> Secuencia de valores que, de encontrarse en el fichero, deben ser tratados como NaN.</li>\n",
    "<li><b>dtype:</b> Diccionario en el que las claves serán nombres de columnas y los valores serán tipos de NumPy a los que se debe convertir su contenido.</li>\n",
    "<li><b>parse_dates:</b> Flag que indica si Python debe intentar parsear datos con formato semejante a las fechas como fechas. Puede contenter un listado de nombres de columnas que deberán unirse para el parseo como fecha.</li>\n",
    "<li><b>converters:</b> Diccionario en el que las claves serán nombres de columnas y los valores funciones que se deberán aplicar al contenido de dichas columnas durante la carga.</li>\n",
    "<li><b>dayfirst:</b> Indica si al parsear fechas se debe esperar el día primero o el mes. </li>\n",
    "<li><b>nrows:</b> Número de filas a leer desde el principio del fichero.</li>\n",
    "<li><b>chunksize:</b> Tamaño a utilizar para la lectura incremental del fichero.</li>\n",
    "<li><b>skip_footer:</b> Número de filas a ignorar del final del fichero.</li>\n",
    "<li><b>enconding:</b> Codificación a esperar del fichero leído.</li>\n",
    "<li><b>squeeze:</b> Flag que indica que si los datos leídos sólo contienen una columna el resultado sea una Serie en lugar de un DataFrame.</li>\n",
    "<li><b>thousands:</b> Carácter a utilizar para detectar el separador de miles.</li>\n",
    "<li><b>decimal:</b> Carácter a utilizar para detectar el separador de decimales.</li>\n",
    "</ul>"
   ]
  },
  {
   "cell_type": "code",
   "execution_count": null,
   "metadata": {
    "scrolled": true
   },
   "outputs": [],
   "source": [
    "catastro = pd.read_csv('datos/catastro.tsv', sep = \"\\t\")\n",
    "catastro.head()\n"
   ]
  },
  {
   "cell_type": "code",
   "execution_count": null,
   "metadata": {},
   "outputs": [],
   "source": [
    "col = list(catastro.columns)\n"
   ]
  },
  {
   "cell_type": "markdown",
   "metadata": {},
   "source": [
    "## Escritura de ficheros en formato texto"
   ]
  },
  {
   "cell_type": "markdown",
   "metadata": {},
   "source": [
    "En el caso de la escritura de estructuras de datos de pandas como ficheros de texto, las posibilidades están mucho más unificadas, existiendo una única función <b>to_csv</b>. Es importante indicar que, por defecto, el fichero seleccionado será SIEMPRE sobreescrito.<br/>\n",
    "\n",
    "Los parámetros más comunes de esta función son:<br/>\n",
    "<ul>\n",
    "<li><b>path:</b> Ruta del fichero que se utilizará para la escritura.</li>\n",
    "<li><b>sep:</b> Carácter utilizado como separador de campos.</li>\n",
    "<li><b>na_rep:</b> Cadena que se deberá utilizar para darle representación a los valores NaN.</li>\n",
    "<li><b>float_format:</b> Indicador de formato para los números en coma flotante.</li>\n",
    "<li><b>columns:</b> Secuencia de selección del conjunto de columnas que se desea volcar al fichero.</li>\n",
    "<li><b>header:</b> Flag o secuencia de cadenas que indica si se debe volcar la cabecera al fichero.</li>\n",
    "<li><b>index:</b> Flag que indica si el índice debe ser incluido o no como una columna más en el fichero.</li>\n",
    "<li><b>index_label:</b> Nombre que se le debe dar a la columna de índice en el fichero.</li>\n",
    "<li><b>mode:</b> Modo de apertura del fichero. Por defecto, \"w\".</li>\n",
    "<li><b>encoding:</b> Codificación a utilizar en la escritura del fichero.</li>\n",
    "<li><b>date_format:</b> Indicador de formato a utilizar para escribir fechas.</li>\n",
    "<li><b>decimal:</b> Carácter a utilizar como separador de decimales</li>\n",
    "</ul>"
   ]
  },
  {
   "cell_type": "code",
   "execution_count": null,
   "metadata": {},
   "outputs": [],
   "source": [
    "catastro.to_csv('datos/catastro_copia.csv', sep = \"|\", index = False)"
   ]
  },
  {
   "cell_type": "markdown",
   "metadata": {},
   "source": [
    "## Trabajo con otros formatos"
   ]
  },
  {
   "cell_type": "markdown",
   "metadata": {},
   "source": [
    "Pandas ofrece facilidades para trabajar con otro tipo de formatos como pueden ser:<br/>\n",
    "<ul>\n",
    "<li><b>Ficheros binarios \"pickle\":</b> <i>pickle</i> es un módulo del core de Python que establece un formato binario que permite almacenar y recuperar cualquier objeto Python en disco. Todos los objetos de pandas tienen un método <b>save</b> y otro <b>load</b> que permiten almacenar y recuperar información en este formato.</li>\n",
    "<li><b>Ficheros binarios \"HDF5\":</b> HDF5 es un \"estándar\" de almacenamiento de información binaria que optimiza las lecturas y escrituras (mediante el almacenamiento de una estructura jerárquica de índices) y permite llevar a cabo diferentes niveles de compresión sobre la información (a costa de rendimiento). Pandas ofrece clases y funciones para trabajar con este tipo de ficheros.</li>\n",
    "<li><b>Ficheros Excel:</b> Pandas contiene clases y funciones que permiten llevar a cabo la carga directa de información desde hojas de ficheros Excel (que deben tener un formato tabular). Por rendimiento y consumo de memoria, siempre que sea viable, es mejor traducir estos ficheros a formatos de texto.</li>\n",
    "</ul>"
   ]
  }
 ],
 "metadata": {
  "kernelspec": {
   "display_name": "Python 3",
   "language": "python",
   "name": "python3"
  },
  "language_info": {
   "codemirror_mode": {
    "name": "ipython",
    "version": 3
   },
   "file_extension": ".py",
   "mimetype": "text/x-python",
   "name": "python",
   "nbconvert_exporter": "python",
   "pygments_lexer": "ipython3",
   "version": "3.7.3"
  }
 },
 "nbformat": 4,
 "nbformat_minor": 1
}
