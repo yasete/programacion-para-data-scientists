{
 "cells": [
  {
   "cell_type": "markdown",
   "metadata": {},
   "source": [
    "## Pandas (I) - Ejercicios\n",
    "\n",
    "\n",
    "Consideramos el siguiente diccionario 'data' y la lista 'labels':\n",
    "\n",
    "``` python\n",
    "data = {'animal': ['cat', 'cat', 'snake', 'dog', 'dog', 'cat', 'snake', 'cat', 'dog', 'dog'],\n",
    "        'age': [2.5, 3, 0.5, np.nan, 5, 2, 4.5, np.nan, 7, 3],\n",
    "        'visits': [1, 3, 2, 3, 2, 3, 1, 1, 2, 1],\n",
    "        'priority': ['yes', 'yes', 'no', 'yes', 'no', 'no', 'no', 'yes', 'no', 'no']}\n",
    "\n",
    "labels = ['a', 'b', 'c', 'd', 'e', 'f', 'g', 'h', 'i', 'j']\n",
    "```\n",
    "\n",
    "**1.** Crea un DataFrame _df_ a partir de _data_, que tenga como índice _labels_."
   ]
  },
  {
   "cell_type": "code",
   "execution_count": null,
   "metadata": {},
   "outputs": [],
   "source": []
  },
  {
   "cell_type": "markdown",
   "metadata": {},
   "source": [
    "**2.** Devuelve las tres primeras filas de _df_."
   ]
  },
  {
   "cell_type": "code",
   "execution_count": null,
   "metadata": {},
   "outputs": [],
   "source": []
  },
  {
   "cell_type": "markdown",
   "metadata": {},
   "source": [
    "**3.** Selecciona sólo las columns _animal_ y _age_ del dataframe _df_."
   ]
  },
  {
   "cell_type": "code",
   "execution_count": null,
   "metadata": {},
   "outputs": [],
   "source": []
  },
  {
   "cell_type": "markdown",
   "metadata": {},
   "source": [
    "**4.** Selecciona el subconjunto de datos correspondiente a  las filas [4,5,7] and columns `['animal', 'age']`."
   ]
  },
  {
   "cell_type": "code",
   "execution_count": null,
   "metadata": {},
   "outputs": [],
   "source": []
  },
  {
   "cell_type": "markdown",
   "metadata": {},
   "source": [
    "**5.** Selecciona sólo las finñas donde el número de visitas es mayor que 3."
   ]
  },
  {
   "cell_type": "code",
   "execution_count": null,
   "metadata": {},
   "outputs": [],
   "source": []
  },
  {
   "cell_type": "markdown",
   "metadata": {},
   "source": [
    "**6.** Selecciona las finlas donde animal es un gato *y* la edad es menor que 3."
   ]
  },
  {
   "cell_type": "code",
   "execution_count": null,
   "metadata": {},
   "outputs": [],
   "source": []
  },
  {
   "cell_type": "markdown",
   "metadata": {},
   "source": [
    "**7.** Selecciona las finlas donde la edad está entre 2 y 4 (incluidos)."
   ]
  },
  {
   "cell_type": "code",
   "execution_count": null,
   "metadata": {},
   "outputs": [],
   "source": []
  },
  {
   "cell_type": "markdown",
   "metadata": {},
   "source": [
    "**8.** Cambia la edad de la fila 'f' a 1.5."
   ]
  },
  {
   "cell_type": "code",
   "execution_count": null,
   "metadata": {},
   "outputs": [],
   "source": []
  },
  {
   "cell_type": "markdown",
   "metadata": {},
   "source": [
    "**9.** Calcula la suma de todas las visitas (el número total de visitas)."
   ]
  },
  {
   "cell_type": "code",
   "execution_count": null,
   "metadata": {},
   "outputs": [],
   "source": []
  },
  {
   "cell_type": "markdown",
   "metadata": {},
   "source": [
    "**10.** Inserta una nueva fila 'k' al final de _df_ y rellena las columnas con los valores que quieras."
   ]
  },
  {
   "cell_type": "code",
   "execution_count": null,
   "metadata": {},
   "outputs": [],
   "source": []
  },
  {
   "cell_type": "markdown",
   "metadata": {},
   "source": [
    "11. Construye un dataframe llamado peliculas y otro llamado directores con los siguientes diccionarios:\n",
    "\n",
    "peliculas = {'Año':[2014, 2014, 2013, 2013], \n",
    "             'Valoración':[6, None, 8.75, None],\n",
    "             'Presupuesto':[160, 250, 100, None],\n",
    "             'Director':['Gareth Edwards','Peter Jackson',  'Martin Scorsese', 'Alfonso Cuarón'],\n",
    "             'Título':['Godzilla', 'El Hobbit III', 'El lobo de Wall Street', 'Gravity']}\n",
    "\n",
    "\n",
    "\n",
    "\n",
    "directores = {'Director':['Gareth Edwards', 'Martin Scorsese', 'Pedro Almodovar'],\n",
    "             'AñoNacimiento':[1975, 1942, 1949],\n",
    "             'Nacionalidad': ['England', 'USA', 'Spain']\n",
    "             }\n",
    "\n",
    "\n",
    "\n",
    "Calcula un nuevo dataframe usando como 'key' el campo director. El resultado debe mostrar aquellos registros que al combinar ambos dataframes tienen un director común."
   ]
  },
  {
   "cell_type": "code",
   "execution_count": null,
   "metadata": {},
   "outputs": [],
   "source": [
    "import pandas as pd\n",
    "peliculas = pd.DataFrame(\n",
    "            {'Año':[2014, 2014, 2013, 2013], \n",
    "             'Valoración':[6, None, 8.75, None],\n",
    "             'Presupuesto':[160, 250, 100, None],\n",
    "             'Director':['Gareth Edwards','Peter Jackson',  'Martin Scorsese', 'Alfonso Cuarón'],\n",
    "             'Título':['Godzilla', 'El Hobbit III', 'El lobo de Wall Street', 'Gravity']}\n",
    ")\n",
    "\n",
    "\n",
    "directores = pd.DataFrame(\n",
    "            {'Director':['Gareth Edwards', 'Martin Scorsese', 'Pedro Almodovar'],\n",
    "             'AñoNacimiento':[1975, 1942, 1949],\n",
    "             'Nacionalidad': ['England', 'USA', 'Spain']\n",
    "             }\n",
    ")\n"
   ]
  },
  {
   "cell_type": "code",
   "execution_count": null,
   "metadata": {},
   "outputs": [],
   "source": []
  }
 ],
 "metadata": {
  "kernelspec": {
   "display_name": "Python 3",
   "language": "python",
   "name": "python3"
  },
  "language_info": {
   "codemirror_mode": {
    "name": "ipython",
    "version": 3
   },
   "file_extension": ".py",
   "mimetype": "text/x-python",
   "name": "python",
   "nbconvert_exporter": "python",
   "pygments_lexer": "ipython3",
   "version": "3.7.3"
  }
 },
 "nbformat": 4,
 "nbformat_minor": 1
}
