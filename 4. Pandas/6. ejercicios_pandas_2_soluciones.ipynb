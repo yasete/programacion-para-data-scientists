{
 "cells": [
  {
   "cell_type": "markdown",
   "metadata": {},
   "source": [
    "# Pandas - Ejercicios (I)"
   ]
  },
  {
   "cell_type": "markdown",
   "metadata": {},
   "source": [
    "### 1. Crea un función que reciba un número entero n y genere una serie de tamaño n cuyos valores sean una secuencia numérica de múltiplos de cinco ascendentes y su índice sea una secuencia numérica de múltiplos de cinco en orden inverso."
   ]
  },
  {
   "cell_type": "code",
   "execution_count": 15,
   "metadata": {},
   "outputs": [
    {
     "data": {
      "text/plain": [
       "20     5\n",
       "15    10\n",
       "10    15\n",
       "5     20\n",
       "dtype: int64"
      ]
     },
     "execution_count": 15,
     "metadata": {},
     "output_type": "execute_result"
    }
   ],
   "source": [
    "def myfunction(n):\n",
    "    import pandas as pd\n",
    "    valores=[]\n",
    "    for cont in range(0,n):\n",
    "        valores.append((cont+1)*5)\n",
    "    indices=valores[::-1]\n",
    "    serie=pd.Series(valores,index=indices)\n",
    "    return serie\n",
    "\n",
    "myfunction(4)"
   ]
  },
  {
   "cell_type": "markdown",
   "metadata": {
    "collapsed": true
   },
   "source": [
    "### 2. Crea una función que reciba una lista de palabras y devuelva un DataFrame en el que las filas sean las palabras y en columnas tenga la longitud de la palaba y su frecuencia en la lista."
   ]
  },
  {
   "cell_type": "code",
   "execution_count": 19,
   "metadata": {},
   "outputs": [
    {
     "data": {
      "text/html": [
       "<div>\n",
       "<style scoped>\n",
       "    .dataframe tbody tr th:only-of-type {\n",
       "        vertical-align: middle;\n",
       "    }\n",
       "\n",
       "    .dataframe tbody tr th {\n",
       "        vertical-align: top;\n",
       "    }\n",
       "\n",
       "    .dataframe thead th {\n",
       "        text-align: right;\n",
       "    }\n",
       "</style>\n",
       "<table border=\"1\" class=\"dataframe\">\n",
       "  <thead>\n",
       "    <tr style=\"text-align: right;\">\n",
       "      <th></th>\n",
       "      <th>longitud</th>\n",
       "      <th>frecuencia</th>\n",
       "    </tr>\n",
       "  </thead>\n",
       "  <tbody>\n",
       "    <tr>\n",
       "      <th>perro</th>\n",
       "      <td>5</td>\n",
       "      <td>20.0</td>\n",
       "    </tr>\n",
       "    <tr>\n",
       "      <th>gato</th>\n",
       "      <td>4</td>\n",
       "      <td>20.0</td>\n",
       "    </tr>\n",
       "    <tr>\n",
       "      <th>gallina</th>\n",
       "      <td>7</td>\n",
       "      <td>40.0</td>\n",
       "    </tr>\n",
       "    <tr>\n",
       "      <th>gallina</th>\n",
       "      <td>7</td>\n",
       "      <td>40.0</td>\n",
       "    </tr>\n",
       "    <tr>\n",
       "      <th>búfalo</th>\n",
       "      <td>6</td>\n",
       "      <td>20.0</td>\n",
       "    </tr>\n",
       "  </tbody>\n",
       "</table>\n",
       "</div>"
      ],
      "text/plain": [
       "         longitud  frecuencia\n",
       "perro           5        20.0\n",
       "gato            4        20.0\n",
       "gallina         7        40.0\n",
       "gallina         7        40.0\n",
       "búfalo          6        20.0"
      ]
     },
     "execution_count": 19,
     "metadata": {},
     "output_type": "execute_result"
    }
   ],
   "source": [
    "def myfunction(word_list):\n",
    "    import pandas as pd\n",
    "    longitud=[]\n",
    "    frecuencia=[]\n",
    "    for word in word_list:\n",
    "        cadena=str(word)\n",
    "        longitud.append(len(cadena))\n",
    "        frecuencia.append(word_list.count(word)/len(word_list)*100)\n",
    "    datos={'longitud':longitud,'frecuencia':frecuencia}\n",
    "    df=pd.DataFrame(datos,index=word_list)\n",
    "    return df\n",
    "\n",
    "lista=['perro','gato','gallina','gallina','búfalo']\n",
    "myfunction(lista)"
   ]
  },
  {
   "cell_type": "markdown",
   "metadata": {},
   "source": [
    "### 3. Crea una función que reciba un DataFrame cualquiera y genere otro cuyas dimensiones sean las del recibido traspuestas y su contenido sean números positivos aleatorios generados con una distribución normal."
   ]
  },
  {
   "cell_type": "code",
   "execution_count": 32,
   "metadata": {},
   "outputs": [
    {
     "name": "stdout",
     "output_type": "stream",
     "text": [
      "[[-2.20030513  1.24153761  0.67436529]\n",
      " [-1.37881022  0.94286032 -0.49196358]]\n",
      "\n",
      "Esta es la matriz traspuesta\n",
      "[[-2.20030513 -1.37881022]\n",
      " [ 1.24153761  0.94286032]\n",
      " [ 0.67436529 -0.49196358]]\n",
      "\n",
      "Esta es la nueva matriz antes de convertirla en dataframe\n",
      "[[0.81951411 1.05663584]\n",
      " [0.7148344  1.13961066]\n",
      " [0.25235987 0.70914634]]\n"
     ]
    },
    {
     "data": {
      "text/html": [
       "<div>\n",
       "<style scoped>\n",
       "    .dataframe tbody tr th:only-of-type {\n",
       "        vertical-align: middle;\n",
       "    }\n",
       "\n",
       "    .dataframe tbody tr th {\n",
       "        vertical-align: top;\n",
       "    }\n",
       "\n",
       "    .dataframe thead th {\n",
       "        text-align: right;\n",
       "    }\n",
       "</style>\n",
       "<table border=\"1\" class=\"dataframe\">\n",
       "  <thead>\n",
       "    <tr style=\"text-align: right;\">\n",
       "      <th></th>\n",
       "      <th>0</th>\n",
       "      <th>1</th>\n",
       "    </tr>\n",
       "  </thead>\n",
       "  <tbody>\n",
       "    <tr>\n",
       "      <th>0</th>\n",
       "      <td>0.819514</td>\n",
       "      <td>1.056636</td>\n",
       "    </tr>\n",
       "    <tr>\n",
       "      <th>1</th>\n",
       "      <td>0.714834</td>\n",
       "      <td>1.139611</td>\n",
       "    </tr>\n",
       "    <tr>\n",
       "      <th>2</th>\n",
       "      <td>0.252360</td>\n",
       "      <td>0.709146</td>\n",
       "    </tr>\n",
       "  </tbody>\n",
       "</table>\n",
       "</div>"
      ],
      "text/plain": [
       "          0         1\n",
       "0  0.819514  1.056636\n",
       "1  0.714834  1.139611\n",
       "2  0.252360  0.709146"
      ]
     },
     "execution_count": 32,
     "metadata": {},
     "output_type": "execute_result"
    }
   ],
   "source": [
    "import numpy as np\n",
    "def myfunction(df):\n",
    "    import pandas as pd\n",
    "    import numpy as np\n",
    "    df_t=df.T\n",
    "    print()\n",
    "    print('Esta es la matriz traspuesta')\n",
    "    print(df_t)\n",
    "    size=np.size(df_t)\n",
    "    dimension=np.shape(df_t)\n",
    "    \n",
    "    valores=np.random.randn(size)\n",
    "    valores=np.abs(valores)\n",
    "    matriz=valores.reshape(dimension)\n",
    "    print()\n",
    "    print('Esta es la nueva matriz antes de convertirla en dataframe')\n",
    "    print(matriz)\n",
    "    df_out=pd.DataFrame(matriz)\n",
    "    return df_out\n",
    "\n",
    "entrada=np.random.randn(2,3)\n",
    "print(entrada)\n",
    "myfunction(entrada)"
   ]
  },
  {
   "cell_type": "markdown",
   "metadata": {},
   "source": [
    "### 4. Crea una función que reciba una ndarray bidimensional y devuelva un DataFrame creado a partir del array recibido. Crea otra función que reciba un DataFrame y establezca como índice de filas la secuencia 'f1'...'fn' y como índice de columnas la secuencia 'c1'...'cm'. Utiliza ambas funciones de forma conjunta para obtener un DataFrame de 4x8 relleno con valores aleatorios generados con una distribución normal."
   ]
  },
  {
   "cell_type": "code",
   "execution_count": 46,
   "metadata": {},
   "outputs": [
    {
     "name": "stdout",
     "output_type": "stream",
     "text": [
      "[[-0.299906   -1.81390477  0.32232525  0.62123436 -1.01704232 -0.53189471\n",
      "  -2.95161699 -0.13120221]\n",
      " [-0.26027261 -1.20904596 -0.39952748  1.22474384  0.27022743  0.16241571\n",
      "  -0.26208902 -1.86992545]\n",
      " [ 0.53450215 -0.87866988  0.30747748  2.2164152   1.71087217 -1.01717901\n",
      "  -1.71299377 -1.03006418]\n",
      " [-0.1840075   0.72986087 -0.03369246  1.72774667  1.89450457 -0.47520243\n",
      "   0.50826107 -0.15300504]]\n",
      "\n"
     ]
    },
    {
     "data": {
      "text/html": [
       "<div>\n",
       "<style scoped>\n",
       "    .dataframe tbody tr th:only-of-type {\n",
       "        vertical-align: middle;\n",
       "    }\n",
       "\n",
       "    .dataframe tbody tr th {\n",
       "        vertical-align: top;\n",
       "    }\n",
       "\n",
       "    .dataframe thead th {\n",
       "        text-align: right;\n",
       "    }\n",
       "</style>\n",
       "<table border=\"1\" class=\"dataframe\">\n",
       "  <thead>\n",
       "    <tr style=\"text-align: right;\">\n",
       "      <th></th>\n",
       "      <th>c1</th>\n",
       "      <th>c2</th>\n",
       "      <th>c3</th>\n",
       "      <th>c4</th>\n",
       "      <th>c5</th>\n",
       "      <th>c6</th>\n",
       "      <th>c7</th>\n",
       "      <th>c8</th>\n",
       "    </tr>\n",
       "  </thead>\n",
       "  <tbody>\n",
       "    <tr>\n",
       "      <th>f1</th>\n",
       "      <td>-0.299906</td>\n",
       "      <td>-1.813905</td>\n",
       "      <td>0.322325</td>\n",
       "      <td>0.621234</td>\n",
       "      <td>-1.017042</td>\n",
       "      <td>-0.531895</td>\n",
       "      <td>-2.951617</td>\n",
       "      <td>-0.131202</td>\n",
       "    </tr>\n",
       "    <tr>\n",
       "      <th>f2</th>\n",
       "      <td>-0.260273</td>\n",
       "      <td>-1.209046</td>\n",
       "      <td>-0.399527</td>\n",
       "      <td>1.224744</td>\n",
       "      <td>0.270227</td>\n",
       "      <td>0.162416</td>\n",
       "      <td>-0.262089</td>\n",
       "      <td>-1.869925</td>\n",
       "    </tr>\n",
       "    <tr>\n",
       "      <th>f3</th>\n",
       "      <td>0.534502</td>\n",
       "      <td>-0.878670</td>\n",
       "      <td>0.307477</td>\n",
       "      <td>2.216415</td>\n",
       "      <td>1.710872</td>\n",
       "      <td>-1.017179</td>\n",
       "      <td>-1.712994</td>\n",
       "      <td>-1.030064</td>\n",
       "    </tr>\n",
       "    <tr>\n",
       "      <th>f4</th>\n",
       "      <td>-0.184007</td>\n",
       "      <td>0.729861</td>\n",
       "      <td>-0.033692</td>\n",
       "      <td>1.727747</td>\n",
       "      <td>1.894505</td>\n",
       "      <td>-0.475202</td>\n",
       "      <td>0.508261</td>\n",
       "      <td>-0.153005</td>\n",
       "    </tr>\n",
       "  </tbody>\n",
       "</table>\n",
       "</div>"
      ],
      "text/plain": [
       "          c1        c2        c3        c4        c5        c6        c7  \\\n",
       "f1 -0.299906 -1.813905  0.322325  0.621234 -1.017042 -0.531895 -2.951617   \n",
       "f2 -0.260273 -1.209046 -0.399527  1.224744  0.270227  0.162416 -0.262089   \n",
       "f3  0.534502 -0.878670  0.307477  2.216415  1.710872 -1.017179 -1.712994   \n",
       "f4 -0.184007  0.729861 -0.033692  1.727747  1.894505 -0.475202  0.508261   \n",
       "\n",
       "          c8  \n",
       "f1 -0.131202  \n",
       "f2 -1.869925  \n",
       "f3 -1.030064  \n",
       "f4 -0.153005  "
      ]
     },
     "execution_count": 46,
     "metadata": {},
     "output_type": "execute_result"
    }
   ],
   "source": [
    "import numpy as np\n",
    "import pandas as pd\n",
    "def to_df(ndarray):\n",
    "    import pandas as pd\n",
    "    import numpy as np\n",
    "    df=pd.DataFrame(ndarray)\n",
    "    return df\n",
    "def add_index(df):\n",
    "    dimensiones=df.shape\n",
    "    filas=dimensiones[0]\n",
    "    columnas=dimensiones[1]\n",
    "    index_filas=[]\n",
    "    index_columnas=[]\n",
    "    for cont in range(0,filas):\n",
    "        index_filas.append('f'+str(cont+1))\n",
    "    for cont in range(0,columnas):\n",
    "        index_columnas.append('c'+str(cont+1))\n",
    "    df.columns=index_columnas\n",
    "    df.index=index_filas\n",
    "    return df\n",
    "n=4\n",
    "m=8\n",
    "array=np.random.randn(n,m)\n",
    "print(array)\n",
    "print()\n",
    "df=to_df(array)\n",
    "add_index(df)"
   ]
  }
 ],
 "metadata": {
  "kernelspec": {
   "display_name": "Python 3",
   "language": "python",
   "name": "python3"
  },
  "language_info": {
   "codemirror_mode": {
    "name": "ipython",
    "version": 3
   },
   "file_extension": ".py",
   "mimetype": "text/x-python",
   "name": "python",
   "nbconvert_exporter": "python",
   "pygments_lexer": "ipython3",
   "version": "3.7.3"
  }
 },
 "nbformat": 4,
 "nbformat_minor": 1
}
