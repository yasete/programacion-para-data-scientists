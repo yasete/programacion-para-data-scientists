{
 "cells": [
  {
   "cell_type": "code",
   "execution_count": 144,
   "metadata": {},
   "outputs": [],
   "source": [
    "import pandas as pd\n",
    "import numpy as np\n",
    "import matplotlib.pyplot as plt\n",
    "file='iag_2021.csv'\n",
    "data=pd.read_csv(file,parse_dates=['hora'],index_col=['hora'])"
   ]
  },
  {
   "cell_type": "code",
   "execution_count": 145,
   "metadata": {},
   "outputs": [],
   "source": [
    "new_dates=pd.date_range('2021-01-04 09:00:26',periods=len(data),freq='S')\n",
    "data.index=new_dates"
   ]
  },
  {
   "cell_type": "code",
   "execution_count": 146,
   "metadata": {},
   "outputs": [
    {
     "data": {
      "text/plain": [
       "DatetimeIndex(['2021-01-04 09:00:26', '2021-01-04 09:00:27',\n",
       "               '2021-01-04 09:00:28', '2021-01-04 09:00:29',\n",
       "               '2021-01-04 09:00:30', '2021-01-04 09:00:31',\n",
       "               '2021-01-04 09:00:32', '2021-01-04 09:00:33',\n",
       "               '2021-01-04 09:00:34', '2021-01-04 09:00:35',\n",
       "               ...\n",
       "               '2021-01-21 01:36:08', '2021-01-21 01:36:09',\n",
       "               '2021-01-21 01:36:10', '2021-01-21 01:36:11',\n",
       "               '2021-01-21 01:36:12', '2021-01-21 01:36:13',\n",
       "               '2021-01-21 01:36:14', '2021-01-21 01:36:15',\n",
       "               '2021-01-21 01:36:16', '2021-01-21 01:36:17'],\n",
       "              dtype='datetime64[ns]', length=1442152, freq='S')"
      ]
     },
     "execution_count": 146,
     "metadata": {},
     "output_type": "execute_result"
    }
   ],
   "source": [
    "data.index"
   ]
  },
  {
   "cell_type": "code",
   "execution_count": 147,
   "metadata": {},
   "outputs": [
    {
     "data": {
      "text/html": [
       "<div>\n",
       "<style scoped>\n",
       "    .dataframe tbody tr th:only-of-type {\n",
       "        vertical-align: middle;\n",
       "    }\n",
       "\n",
       "    .dataframe tbody tr th {\n",
       "        vertical-align: top;\n",
       "    }\n",
       "\n",
       "    .dataframe thead th {\n",
       "        text-align: right;\n",
       "    }\n",
       "</style>\n",
       "<table border=\"1\" class=\"dataframe\">\n",
       "  <thead>\n",
       "    <tr style=\"text-align: right;\">\n",
       "      <th></th>\n",
       "      <th>timestamp</th>\n",
       "      <th>ultimo</th>\n",
       "      <th>volumen</th>\n",
       "    </tr>\n",
       "  </thead>\n",
       "  <tbody>\n",
       "    <tr>\n",
       "      <th>2021-01-04 09:00:26</th>\n",
       "      <td>1.609747e+09</td>\n",
       "      <td>1.8500</td>\n",
       "      <td>873918</td>\n",
       "    </tr>\n",
       "    <tr>\n",
       "      <th>2021-01-04 09:00:27</th>\n",
       "      <td>1.609747e+09</td>\n",
       "      <td>1.8375</td>\n",
       "      <td>938976</td>\n",
       "    </tr>\n",
       "    <tr>\n",
       "      <th>2021-01-04 09:00:28</th>\n",
       "      <td>1.609747e+09</td>\n",
       "      <td>1.8400</td>\n",
       "      <td>949876</td>\n",
       "    </tr>\n",
       "    <tr>\n",
       "      <th>2021-01-04 09:00:29</th>\n",
       "      <td>1.609747e+09</td>\n",
       "      <td>1.8400</td>\n",
       "      <td>949876</td>\n",
       "    </tr>\n",
       "    <tr>\n",
       "      <th>2021-01-04 09:00:30</th>\n",
       "      <td>1.609747e+09</td>\n",
       "      <td>1.8300</td>\n",
       "      <td>959545</td>\n",
       "    </tr>\n",
       "    <tr>\n",
       "      <th>...</th>\n",
       "      <td>...</td>\n",
       "      <td>...</td>\n",
       "      <td>...</td>\n",
       "    </tr>\n",
       "    <tr>\n",
       "      <th>2021-01-04 09:02:01</th>\n",
       "      <td>1.609747e+09</td>\n",
       "      <td>1.8295</td>\n",
       "      <td>1200569</td>\n",
       "    </tr>\n",
       "    <tr>\n",
       "      <th>2021-01-04 09:02:02</th>\n",
       "      <td>1.609747e+09</td>\n",
       "      <td>1.8295</td>\n",
       "      <td>1200569</td>\n",
       "    </tr>\n",
       "    <tr>\n",
       "      <th>2021-01-04 09:02:03</th>\n",
       "      <td>1.609747e+09</td>\n",
       "      <td>1.8295</td>\n",
       "      <td>1200569</td>\n",
       "    </tr>\n",
       "    <tr>\n",
       "      <th>2021-01-04 09:02:04</th>\n",
       "      <td>1.609747e+09</td>\n",
       "      <td>1.8295</td>\n",
       "      <td>1200569</td>\n",
       "    </tr>\n",
       "    <tr>\n",
       "      <th>2021-01-04 09:02:05</th>\n",
       "      <td>1.609747e+09</td>\n",
       "      <td>1.8295</td>\n",
       "      <td>1200569</td>\n",
       "    </tr>\n",
       "  </tbody>\n",
       "</table>\n",
       "<p>100 rows × 3 columns</p>\n",
       "</div>"
      ],
      "text/plain": [
       "                        timestamp  ultimo  volumen\n",
       "2021-01-04 09:00:26  1.609747e+09  1.8500   873918\n",
       "2021-01-04 09:00:27  1.609747e+09  1.8375   938976\n",
       "2021-01-04 09:00:28  1.609747e+09  1.8400   949876\n",
       "2021-01-04 09:00:29  1.609747e+09  1.8400   949876\n",
       "2021-01-04 09:00:30  1.609747e+09  1.8300   959545\n",
       "...                           ...     ...      ...\n",
       "2021-01-04 09:02:01  1.609747e+09  1.8295  1200569\n",
       "2021-01-04 09:02:02  1.609747e+09  1.8295  1200569\n",
       "2021-01-04 09:02:03  1.609747e+09  1.8295  1200569\n",
       "2021-01-04 09:02:04  1.609747e+09  1.8295  1200569\n",
       "2021-01-04 09:02:05  1.609747e+09  1.8295  1200569\n",
       "\n",
       "[100 rows x 3 columns]"
      ]
     },
     "execution_count": 147,
     "metadata": {},
     "output_type": "execute_result"
    }
   ],
   "source": [
    "data.head(100)"
   ]
  },
  {
   "cell_type": "code",
   "execution_count": 148,
   "metadata": {},
   "outputs": [],
   "source": [
    "data=data.drop_duplicates()\n",
    "data=data.asfreq('S') #Definimos una escala temporal de día. \n",
    "#data=data.dropna() #En la operación anterior se han generado nulos, los eliminamos."
   ]
  },
  {
   "cell_type": "code",
   "execution_count": 149,
   "metadata": {},
   "outputs": [],
   "source": [
    "target='ultimo'"
   ]
  },
  {
   "cell_type": "code",
   "execution_count": 150,
   "metadata": {},
   "outputs": [
    {
     "data": {
      "text/plain": [
       "dtype('<M8[ns]')"
      ]
     },
     "execution_count": 150,
     "metadata": {},
     "output_type": "execute_result"
    }
   ],
   "source": [
    "data.index.dtype"
   ]
  },
  {
   "cell_type": "code",
   "execution_count": 151,
   "metadata": {},
   "outputs": [
    {
     "name": "stdout",
     "output_type": "stream",
     "text": [
      "Lenghts tr/test 721076 721075\n"
     ]
    }
   ],
   "source": [
    "percentage=0.5\n",
    "cut=int(percentage*len(data))\n",
    "data_tr=data.iloc[:cut]\n",
    "data_test=data.iloc[cut+1:]\n",
    "ts_tr=data_tr[target]\n",
    "ts_test=data_test[target]\n",
    "target='ultimo'\n",
    "print('Lenghts tr/test',len(data_tr),len(data_test))"
   ]
  },
  {
   "cell_type": "code",
   "execution_count": 183,
   "metadata": {},
   "outputs": [
    {
     "data": {
      "text/plain": [
       "40.0"
      ]
     },
     "execution_count": 183,
     "metadata": {},
     "output_type": "execute_result"
    }
   ],
   "source": [
    "60/1.5"
   ]
  },
  {
   "cell_type": "code",
   "execution_count": 185,
   "metadata": {},
   "outputs": [],
   "source": [
    "#Extraemos residuo de data_tr\n",
    "from statsmodels.tsa.seasonal import seasonal_decompose as decompose\n",
    "ts_log_tr=np.log(data_tr[target])\n",
    "ts_log_tr=ts_log_tr.dropna()\n",
    "#freq=df_tr.index.inferred_freq\n",
    "freq=int(round(8.5*60*40,0))\n",
    "out=decompose(ts_log_tr,freq=freq)\n",
    "seasonal_tr=out.seasonal\n",
    "residuo_tr=out.resid\n",
    "trend_tr=out.trend"
   ]
  },
  {
   "cell_type": "code",
   "execution_count": 206,
   "metadata": {},
   "outputs": [
    {
     "data": {
      "text/plain": [
       "20400"
      ]
     },
     "execution_count": 206,
     "metadata": {},
     "output_type": "execute_result"
    }
   ],
   "source": [
    "freq"
   ]
  },
  {
   "cell_type": "code",
   "execution_count": 186,
   "metadata": {},
   "outputs": [
    {
     "data": {
      "text/plain": [
       "2021-01-04 09:00:26   NaN\n",
       "2021-01-04 09:00:27   NaN\n",
       "2021-01-04 09:00:28   NaN\n",
       "2021-01-04 09:00:29   NaN\n",
       "2021-01-04 09:00:30   NaN\n",
       "                       ..\n",
       "2021-01-12 17:18:17   NaN\n",
       "2021-01-12 17:18:18   NaN\n",
       "2021-01-12 17:18:19   NaN\n",
       "2021-01-12 17:18:20   NaN\n",
       "2021-01-12 17:18:21   NaN\n",
       "Freq: S, Name: ultimo, Length: 721076, dtype: float64"
      ]
     },
     "execution_count": 186,
     "metadata": {},
     "output_type": "execute_result"
    }
   ],
   "source": [
    "residuo_tr"
   ]
  },
  {
   "cell_type": "code",
   "execution_count": 187,
   "metadata": {},
   "outputs": [
    {
     "data": {
      "image/png": "[encoded data removed]",
      "text/plain": [
       "<Figure size 432x288 with 3 Axes>"
      ]
     },
     "metadata": {
      "needs_background": "light"
     },
     "output_type": "display_data"
    }
   ],
   "source": [
    "plt.subplot(311)\n",
    "plt.xticks(rotation='vertical')\n",
    "plt.plot(trend_tr)\n",
    "plt.subplot(312)\n",
    "plt.xticks(rotation='vertical')\n",
    "plt.plot(seasonal_tr)\n",
    "plt.subplot(313)\n",
    "plt.plot(residuo_tr)\n",
    "plt.xticks(rotation='vertical')\n",
    "plt.show()"
   ]
  },
  {
   "cell_type": "code",
   "execution_count": 199,
   "metadata": {},
   "outputs": [
    {
     "data": {
      "text/html": [
       "<div>\n",
       "<style scoped>\n",
       "    .dataframe tbody tr th:only-of-type {\n",
       "        vertical-align: middle;\n",
       "    }\n",
       "\n",
       "    .dataframe tbody tr th {\n",
       "        vertical-align: top;\n",
       "    }\n",
       "\n",
       "    .dataframe thead th {\n",
       "        text-align: right;\n",
       "    }\n",
       "</style>\n",
       "<table border=\"1\" class=\"dataframe\">\n",
       "  <thead>\n",
       "    <tr style=\"text-align: right;\">\n",
       "      <th></th>\n",
       "      <th>serie</th>\n",
       "      <th>serie_log</th>\n",
       "      <th>residuo</th>\n",
       "      <th>residuo_cum</th>\n",
       "      <th>est_log</th>\n",
       "      <th>est_serie</th>\n",
       "    </tr>\n",
       "  </thead>\n",
       "  <tbody>\n",
       "    <tr>\n",
       "      <th>2021-01-04 11:50:26</th>\n",
       "      <td>1.7860</td>\n",
       "      <td>0.579978</td>\n",
       "      <td>0.011250</td>\n",
       "      <td>0.011250</td>\n",
       "      <td>0.591228</td>\n",
       "      <td>1.806205</td>\n",
       "    </tr>\n",
       "    <tr>\n",
       "      <th>2021-01-04 11:50:27</th>\n",
       "      <td>1.7860</td>\n",
       "      <td>0.579978</td>\n",
       "      <td>0.011190</td>\n",
       "      <td>0.022440</td>\n",
       "      <td>0.602418</td>\n",
       "      <td>1.826531</td>\n",
       "    </tr>\n",
       "    <tr>\n",
       "      <th>2021-01-04 11:50:28</th>\n",
       "      <td>1.7860</td>\n",
       "      <td>0.579978</td>\n",
       "      <td>0.011163</td>\n",
       "      <td>0.033603</td>\n",
       "      <td>0.613582</td>\n",
       "      <td>1.847035</td>\n",
       "    </tr>\n",
       "    <tr>\n",
       "      <th>2021-01-04 11:50:29</th>\n",
       "      <td>1.7860</td>\n",
       "      <td>0.579978</td>\n",
       "      <td>0.011169</td>\n",
       "      <td>0.044772</td>\n",
       "      <td>0.624751</td>\n",
       "      <td>1.867781</td>\n",
       "    </tr>\n",
       "    <tr>\n",
       "      <th>2021-01-04 11:50:30</th>\n",
       "      <td>1.7860</td>\n",
       "      <td>0.579978</td>\n",
       "      <td>0.011108</td>\n",
       "      <td>0.055880</td>\n",
       "      <td>0.635859</td>\n",
       "      <td>1.888644</td>\n",
       "    </tr>\n",
       "    <tr>\n",
       "      <th>...</th>\n",
       "      <td>...</td>\n",
       "      <td>...</td>\n",
       "      <td>...</td>\n",
       "      <td>...</td>\n",
       "      <td>...</td>\n",
       "      <td>...</td>\n",
       "    </tr>\n",
       "    <tr>\n",
       "      <th>2021-01-04 11:52:01</th>\n",
       "      <td>1.7865</td>\n",
       "      <td>0.580258</td>\n",
       "      <td>0.011086</td>\n",
       "      <td>1.076148</td>\n",
       "      <td>1.656406</td>\n",
       "      <td>5.240442</td>\n",
       "    </tr>\n",
       "    <tr>\n",
       "      <th>2021-01-04 11:52:02</th>\n",
       "      <td>1.7865</td>\n",
       "      <td>0.580258</td>\n",
       "      <td>0.011049</td>\n",
       "      <td>1.087196</td>\n",
       "      <td>1.667454</td>\n",
       "      <td>5.298663</td>\n",
       "    </tr>\n",
       "    <tr>\n",
       "      <th>2021-01-04 11:52:03</th>\n",
       "      <td>1.7865</td>\n",
       "      <td>0.580258</td>\n",
       "      <td>0.011074</td>\n",
       "      <td>1.098270</td>\n",
       "      <td>1.678528</td>\n",
       "      <td>5.357664</td>\n",
       "    </tr>\n",
       "    <tr>\n",
       "      <th>2021-01-04 11:52:04</th>\n",
       "      <td>1.7865</td>\n",
       "      <td>0.580258</td>\n",
       "      <td>0.011045</td>\n",
       "      <td>1.109314</td>\n",
       "      <td>1.689573</td>\n",
       "      <td>5.417165</td>\n",
       "    </tr>\n",
       "    <tr>\n",
       "      <th>2021-01-04 11:52:05</th>\n",
       "      <td>1.7865</td>\n",
       "      <td>0.580258</td>\n",
       "      <td>0.011041</td>\n",
       "      <td>1.120356</td>\n",
       "      <td>1.700614</td>\n",
       "      <td>5.477310</td>\n",
       "    </tr>\n",
       "  </tbody>\n",
       "</table>\n",
       "<p>100 rows × 6 columns</p>\n",
       "</div>"
      ],
      "text/plain": [
       "                      serie  serie_log   residuo  residuo_cum   est_log  \\\n",
       "2021-01-04 11:50:26  1.7860   0.579978  0.011250     0.011250  0.591228   \n",
       "2021-01-04 11:50:27  1.7860   0.579978  0.011190     0.022440  0.602418   \n",
       "2021-01-04 11:50:28  1.7860   0.579978  0.011163     0.033603  0.613582   \n",
       "2021-01-04 11:50:29  1.7860   0.579978  0.011169     0.044772  0.624751   \n",
       "2021-01-04 11:50:30  1.7860   0.579978  0.011108     0.055880  0.635859   \n",
       "...                     ...        ...       ...          ...       ...   \n",
       "2021-01-04 11:52:01  1.7865   0.580258  0.011086     1.076148  1.656406   \n",
       "2021-01-04 11:52:02  1.7865   0.580258  0.011049     1.087196  1.667454   \n",
       "2021-01-04 11:52:03  1.7865   0.580258  0.011074     1.098270  1.678528   \n",
       "2021-01-04 11:52:04  1.7865   0.580258  0.011045     1.109314  1.689573   \n",
       "2021-01-04 11:52:05  1.7865   0.580258  0.011041     1.120356  1.700614   \n",
       "\n",
       "                     est_serie  \n",
       "2021-01-04 11:50:26   1.806205  \n",
       "2021-01-04 11:50:27   1.826531  \n",
       "2021-01-04 11:50:28   1.847035  \n",
       "2021-01-04 11:50:29   1.867781  \n",
       "2021-01-04 11:50:30   1.888644  \n",
       "...                        ...  \n",
       "2021-01-04 11:52:01   5.240442  \n",
       "2021-01-04 11:52:02   5.298663  \n",
       "2021-01-04 11:52:03   5.357664  \n",
       "2021-01-04 11:52:04   5.417165  \n",
       "2021-01-04 11:52:05   5.477310  \n",
       "\n",
       "[100 rows x 6 columns]"
      ]
     },
     "execution_count": 199,
     "metadata": {},
     "output_type": "execute_result"
    }
   ],
   "source": [
    "df_tr.head(100)"
   ]
  },
  {
   "cell_type": "code",
   "execution_count": 198,
   "metadata": {},
   "outputs": [
    {
     "data": {
      "image/png": "[encoded data removed]",
      "text/plain": [
       "<Figure size 432x288 with 1 Axes>"
      ]
     },
     "metadata": {
      "needs_background": "light"
     },
     "output_type": "display_data"
    }
   ],
   "source": [
    "df_tr=pd.DataFrame(data_tr[target].values,index=data_tr.index,columns=['serie'])\n",
    "df_tr['serie_log']=ts_log_tr.values\n",
    "df_tr['residuo']=residuo_tr\n",
    "df_tr=df_tr.dropna()\n",
    "df_tr['residuo_cum']=df_tr['residuo'].cumsum()\n",
    "df_tr['est_log']=df_tr['serie_log']+df_tr['residuo_cum']\n",
    "df_tr['est_serie']=np.exp(df_tr['est_log'])\n",
    "#df_tr=df_tr[df_tr['est_serie']<1000]\n",
    "plt.plot(df_tr['serie_log'])\n",
    "plt.plot(df_tr['est_serie'])\n",
    "plt.xticks(rotation='vertical')\n",
    "plt.show()"
   ]
  },
  {
   "cell_type": "code",
   "execution_count": 207,
   "metadata": {},
   "outputs": [
    {
     "ename": "MemoryError",
     "evalue": "Unable to allocate array with shape (680276, 20400) and data type float64",
     "output_type": "error",
     "traceback": [
      "\u001b[1;31m---------------------------------------------------------------------------\u001b[0m",
      "\u001b[1;31mMemoryError\u001b[0m                               Traceback (most recent call last)",
      "\u001b[1;32m<ipython-input-207-c2e6d0f91132>\u001b[0m in \u001b[0;36m<module>\u001b[1;34m\u001b[0m\n\u001b[0;32m     10\u001b[0m     \u001b[0my_value\u001b[0m\u001b[1;33m=\u001b[0m\u001b[0mdf_tr\u001b[0m\u001b[1;33m[\u001b[0m\u001b[1;34m'serie'\u001b[0m\u001b[1;33m]\u001b[0m\u001b[1;33m.\u001b[0m\u001b[0miloc\u001b[0m\u001b[1;33m[\u001b[0m\u001b[0mk\u001b[0m\u001b[1;33m]\u001b[0m\u001b[1;33m\u001b[0m\u001b[1;33m\u001b[0m\u001b[0m\n\u001b[0;32m     11\u001b[0m     \u001b[0my\u001b[0m\u001b[1;33m.\u001b[0m\u001b[0mappend\u001b[0m\u001b[1;33m(\u001b[0m\u001b[0my_value\u001b[0m\u001b[1;33m)\u001b[0m\u001b[1;33m\u001b[0m\u001b[1;33m\u001b[0m\u001b[0m\n\u001b[1;32m---> 12\u001b[1;33m \u001b[0mmodel\u001b[0m\u001b[1;33m.\u001b[0m\u001b[0mfit\u001b[0m\u001b[1;33m(\u001b[0m\u001b[0mx\u001b[0m\u001b[1;33m,\u001b[0m\u001b[0my\u001b[0m\u001b[1;33m)\u001b[0m\u001b[1;33m\u001b[0m\u001b[1;33m\u001b[0m\u001b[0m\n\u001b[0m\u001b[0;32m     13\u001b[0m \u001b[0mpred\u001b[0m\u001b[1;33m=\u001b[0m\u001b[0mmodel\u001b[0m\u001b[1;33m.\u001b[0m\u001b[0mpredict\u001b[0m\u001b[1;33m(\u001b[0m\u001b[0mx\u001b[0m\u001b[1;33m)\u001b[0m\u001b[1;33m\u001b[0m\u001b[1;33m\u001b[0m\u001b[0m\n\u001b[0;32m     14\u001b[0m \u001b[1;31m#df_tr['pred']=pred\u001b[0m\u001b[1;33m\u001b[0m\u001b[1;33m\u001b[0m\u001b[1;33m\u001b[0m\u001b[0m\n",
      "\u001b[1;32m~\\AppData\\Roaming\\Python\\Python37\\site-packages\\sklearn\\linear_model\\_base.py\u001b[0m in \u001b[0;36mfit\u001b[1;34m(self, X, y, sample_weight)\u001b[0m\n\u001b[0;32m    504\u001b[0m         \u001b[0mn_jobs_\u001b[0m \u001b[1;33m=\u001b[0m \u001b[0mself\u001b[0m\u001b[1;33m.\u001b[0m\u001b[0mn_jobs\u001b[0m\u001b[1;33m\u001b[0m\u001b[1;33m\u001b[0m\u001b[0m\n\u001b[0;32m    505\u001b[0m         X, y = self._validate_data(X, y, accept_sparse=['csr', 'csc', 'coo'],\n\u001b[1;32m--> 506\u001b[1;33m                                    y_numeric=True, multi_output=True)\n\u001b[0m\u001b[0;32m    507\u001b[0m \u001b[1;33m\u001b[0m\u001b[0m\n\u001b[0;32m    508\u001b[0m         \u001b[1;32mif\u001b[0m \u001b[0msample_weight\u001b[0m \u001b[1;32mis\u001b[0m \u001b[1;32mnot\u001b[0m \u001b[1;32mNone\u001b[0m\u001b[1;33m:\u001b[0m\u001b[1;33m\u001b[0m\u001b[1;33m\u001b[0m\u001b[0m\n",
      "\u001b[1;32m~\\AppData\\Roaming\\Python\\Python37\\site-packages\\sklearn\\base.py\u001b[0m in \u001b[0;36m_validate_data\u001b[1;34m(self, X, y, reset, validate_separately, **check_params)\u001b[0m\n\u001b[0;32m    430\u001b[0m                 \u001b[0my\u001b[0m \u001b[1;33m=\u001b[0m \u001b[0mcheck_array\u001b[0m\u001b[1;33m(\u001b[0m\u001b[0my\u001b[0m\u001b[1;33m,\u001b[0m \u001b[1;33m**\u001b[0m\u001b[0mcheck_y_params\u001b[0m\u001b[1;33m)\u001b[0m\u001b[1;33m\u001b[0m\u001b[1;33m\u001b[0m\u001b[0m\n\u001b[0;32m    431\u001b[0m             \u001b[1;32melse\u001b[0m\u001b[1;33m:\u001b[0m\u001b[1;33m\u001b[0m\u001b[1;33m\u001b[0m\u001b[0m\n\u001b[1;32m--> 432\u001b[1;33m                 \u001b[0mX\u001b[0m\u001b[1;33m,\u001b[0m \u001b[0my\u001b[0m \u001b[1;33m=\u001b[0m \u001b[0mcheck_X_y\u001b[0m\u001b[1;33m(\u001b[0m\u001b[0mX\u001b[0m\u001b[1;33m,\u001b[0m \u001b[0my\u001b[0m\u001b[1;33m,\u001b[0m \u001b[1;33m**\u001b[0m\u001b[0mcheck_params\u001b[0m\u001b[1;33m)\u001b[0m\u001b[1;33m\u001b[0m\u001b[1;33m\u001b[0m\u001b[0m\n\u001b[0m\u001b[0;32m    433\u001b[0m             \u001b[0mout\u001b[0m \u001b[1;33m=\u001b[0m \u001b[0mX\u001b[0m\u001b[1;33m,\u001b[0m \u001b[0my\u001b[0m\u001b[1;33m\u001b[0m\u001b[1;33m\u001b[0m\u001b[0m\n\u001b[0;32m    434\u001b[0m \u001b[1;33m\u001b[0m\u001b[0m\n",
      "\u001b[1;32m~\\AppData\\Roaming\\Python\\Python37\\site-packages\\sklearn\\utils\\validation.py\u001b[0m in \u001b[0;36minner_f\u001b[1;34m(*args, **kwargs)\u001b[0m\n\u001b[0;32m     71\u001b[0m                           FutureWarning)\n\u001b[0;32m     72\u001b[0m         \u001b[0mkwargs\u001b[0m\u001b[1;33m.\u001b[0m\u001b[0mupdate\u001b[0m\u001b[1;33m(\u001b[0m\u001b[1;33m{\u001b[0m\u001b[0mk\u001b[0m\u001b[1;33m:\u001b[0m \u001b[0marg\u001b[0m \u001b[1;32mfor\u001b[0m \u001b[0mk\u001b[0m\u001b[1;33m,\u001b[0m \u001b[0marg\u001b[0m \u001b[1;32min\u001b[0m \u001b[0mzip\u001b[0m\u001b[1;33m(\u001b[0m\u001b[0msig\u001b[0m\u001b[1;33m.\u001b[0m\u001b[0mparameters\u001b[0m\u001b[1;33m,\u001b[0m \u001b[0margs\u001b[0m\u001b[1;33m)\u001b[0m\u001b[1;33m}\u001b[0m\u001b[1;33m)\u001b[0m\u001b[1;33m\u001b[0m\u001b[1;33m\u001b[0m\u001b[0m\n\u001b[1;32m---> 73\u001b[1;33m         \u001b[1;32mreturn\u001b[0m \u001b[0mf\u001b[0m\u001b[1;33m(\u001b[0m\u001b[1;33m**\u001b[0m\u001b[0mkwargs\u001b[0m\u001b[1;33m)\u001b[0m\u001b[1;33m\u001b[0m\u001b[1;33m\u001b[0m\u001b[0m\n\u001b[0m\u001b[0;32m     74\u001b[0m     \u001b[1;32mreturn\u001b[0m \u001b[0minner_f\u001b[0m\u001b[1;33m\u001b[0m\u001b[1;33m\u001b[0m\u001b[0m\n\u001b[0;32m     75\u001b[0m \u001b[1;33m\u001b[0m\u001b[0m\n",
      "\u001b[1;32m~\\AppData\\Roaming\\Python\\Python37\\site-packages\\sklearn\\utils\\validation.py\u001b[0m in \u001b[0;36mcheck_X_y\u001b[1;34m(X, y, accept_sparse, accept_large_sparse, dtype, order, copy, force_all_finite, ensure_2d, allow_nd, multi_output, ensure_min_samples, ensure_min_features, y_numeric, estimator)\u001b[0m\n\u001b[0;32m    801\u001b[0m                     \u001b[0mensure_min_samples\u001b[0m\u001b[1;33m=\u001b[0m\u001b[0mensure_min_samples\u001b[0m\u001b[1;33m,\u001b[0m\u001b[1;33m\u001b[0m\u001b[1;33m\u001b[0m\u001b[0m\n\u001b[0;32m    802\u001b[0m                     \u001b[0mensure_min_features\u001b[0m\u001b[1;33m=\u001b[0m\u001b[0mensure_min_features\u001b[0m\u001b[1;33m,\u001b[0m\u001b[1;33m\u001b[0m\u001b[1;33m\u001b[0m\u001b[0m\n\u001b[1;32m--> 803\u001b[1;33m                     estimator=estimator)\n\u001b[0m\u001b[0;32m    804\u001b[0m     \u001b[1;32mif\u001b[0m \u001b[0mmulti_output\u001b[0m\u001b[1;33m:\u001b[0m\u001b[1;33m\u001b[0m\u001b[1;33m\u001b[0m\u001b[0m\n\u001b[0;32m    805\u001b[0m         y = check_array(y, accept_sparse='csr', force_all_finite=True,\n",
      "\u001b[1;32m~\\AppData\\Roaming\\Python\\Python37\\site-packages\\sklearn\\utils\\validation.py\u001b[0m in \u001b[0;36minner_f\u001b[1;34m(*args, **kwargs)\u001b[0m\n\u001b[0;32m     71\u001b[0m                           FutureWarning)\n\u001b[0;32m     72\u001b[0m         \u001b[0mkwargs\u001b[0m\u001b[1;33m.\u001b[0m\u001b[0mupdate\u001b[0m\u001b[1;33m(\u001b[0m\u001b[1;33m{\u001b[0m\u001b[0mk\u001b[0m\u001b[1;33m:\u001b[0m \u001b[0marg\u001b[0m \u001b[1;32mfor\u001b[0m \u001b[0mk\u001b[0m\u001b[1;33m,\u001b[0m \u001b[0marg\u001b[0m \u001b[1;32min\u001b[0m \u001b[0mzip\u001b[0m\u001b[1;33m(\u001b[0m\u001b[0msig\u001b[0m\u001b[1;33m.\u001b[0m\u001b[0mparameters\u001b[0m\u001b[1;33m,\u001b[0m \u001b[0margs\u001b[0m\u001b[1;33m)\u001b[0m\u001b[1;33m}\u001b[0m\u001b[1;33m)\u001b[0m\u001b[1;33m\u001b[0m\u001b[1;33m\u001b[0m\u001b[0m\n\u001b[1;32m---> 73\u001b[1;33m         \u001b[1;32mreturn\u001b[0m \u001b[0mf\u001b[0m\u001b[1;33m(\u001b[0m\u001b[1;33m**\u001b[0m\u001b[0mkwargs\u001b[0m\u001b[1;33m)\u001b[0m\u001b[1;33m\u001b[0m\u001b[1;33m\u001b[0m\u001b[0m\n\u001b[0m\u001b[0;32m     74\u001b[0m     \u001b[1;32mreturn\u001b[0m \u001b[0minner_f\u001b[0m\u001b[1;33m\u001b[0m\u001b[1;33m\u001b[0m\u001b[0m\n\u001b[0;32m     75\u001b[0m \u001b[1;33m\u001b[0m\u001b[0m\n",
      "\u001b[1;32m~\\AppData\\Roaming\\Python\\Python37\\site-packages\\sklearn\\utils\\validation.py\u001b[0m in \u001b[0;36mcheck_array\u001b[1;34m(array, accept_sparse, accept_large_sparse, dtype, order, copy, force_all_finite, ensure_2d, allow_nd, ensure_min_samples, ensure_min_features, estimator)\u001b[0m\n\u001b[0;32m    597\u001b[0m                     \u001b[0marray\u001b[0m \u001b[1;33m=\u001b[0m \u001b[0marray\u001b[0m\u001b[1;33m.\u001b[0m\u001b[0mastype\u001b[0m\u001b[1;33m(\u001b[0m\u001b[0mdtype\u001b[0m\u001b[1;33m,\u001b[0m \u001b[0mcasting\u001b[0m\u001b[1;33m=\u001b[0m\u001b[1;34m\"unsafe\"\u001b[0m\u001b[1;33m,\u001b[0m \u001b[0mcopy\u001b[0m\u001b[1;33m=\u001b[0m\u001b[1;32mFalse\u001b[0m\u001b[1;33m)\u001b[0m\u001b[1;33m\u001b[0m\u001b[1;33m\u001b[0m\u001b[0m\n\u001b[0;32m    598\u001b[0m                 \u001b[1;32melse\u001b[0m\u001b[1;33m:\u001b[0m\u001b[1;33m\u001b[0m\u001b[1;33m\u001b[0m\u001b[0m\n\u001b[1;32m--> 599\u001b[1;33m                     \u001b[0marray\u001b[0m \u001b[1;33m=\u001b[0m \u001b[0mnp\u001b[0m\u001b[1;33m.\u001b[0m\u001b[0masarray\u001b[0m\u001b[1;33m(\u001b[0m\u001b[0marray\u001b[0m\u001b[1;33m,\u001b[0m \u001b[0morder\u001b[0m\u001b[1;33m=\u001b[0m\u001b[0morder\u001b[0m\u001b[1;33m,\u001b[0m \u001b[0mdtype\u001b[0m\u001b[1;33m=\u001b[0m\u001b[0mdtype\u001b[0m\u001b[1;33m)\u001b[0m\u001b[1;33m\u001b[0m\u001b[1;33m\u001b[0m\u001b[0m\n\u001b[0m\u001b[0;32m    600\u001b[0m             \u001b[1;32mexcept\u001b[0m \u001b[0mComplexWarning\u001b[0m\u001b[1;33m:\u001b[0m\u001b[1;33m\u001b[0m\u001b[1;33m\u001b[0m\u001b[0m\n\u001b[0;32m    601\u001b[0m                 raise ValueError(\"Complex data not supported\\n\"\n",
      "\u001b[1;32m~\\Anaconda3\\lib\\site-packages\\numpy\\core\\_asarray.py\u001b[0m in \u001b[0;36masarray\u001b[1;34m(a, dtype, order)\u001b[0m\n\u001b[0;32m     83\u001b[0m \u001b[1;33m\u001b[0m\u001b[0m\n\u001b[0;32m     84\u001b[0m     \"\"\"\n\u001b[1;32m---> 85\u001b[1;33m     \u001b[1;32mreturn\u001b[0m \u001b[0marray\u001b[0m\u001b[1;33m(\u001b[0m\u001b[0ma\u001b[0m\u001b[1;33m,\u001b[0m \u001b[0mdtype\u001b[0m\u001b[1;33m,\u001b[0m \u001b[0mcopy\u001b[0m\u001b[1;33m=\u001b[0m\u001b[1;32mFalse\u001b[0m\u001b[1;33m,\u001b[0m \u001b[0morder\u001b[0m\u001b[1;33m=\u001b[0m\u001b[0morder\u001b[0m\u001b[1;33m)\u001b[0m\u001b[1;33m\u001b[0m\u001b[1;33m\u001b[0m\u001b[0m\n\u001b[0m\u001b[0;32m     86\u001b[0m \u001b[1;33m\u001b[0m\u001b[0m\n\u001b[0;32m     87\u001b[0m \u001b[1;33m\u001b[0m\u001b[0m\n",
      "\u001b[1;31mMemoryError\u001b[0m: Unable to allocate array with shape (680276, 20400) and data type float64"
     ]
    }
   ],
   "source": [
    "from sklearn.linear_model import LinearRegression as reg\n",
    "model=reg()\n",
    "lag=20400\n",
    "feat_input='est_serie'\n",
    "x=[]\n",
    "y=[]\n",
    "for k in range(0+lag,len(df_tr)):\n",
    "    x_value=df_tr['serie'].iloc[k-lag:k].ravel()\n",
    "    x.append(x_value)\n",
    "    y_value=df_tr['serie'].iloc[k]\n",
    "    y.append(y_value)\n",
    "model.fit(x,y)\n",
    "pred=model.predict(x)\n",
    "#df_tr['pred']=pred\n",
    "\n",
    "plt.plot(y[0:500])\n",
    "plt.plot(pred[0:500])\n",
    "rmse=np.mean((y-pred)**2)\n",
    "rmse=np.sqrt(rmse)\n",
    "print('Error cuadrático medio',rmse)\n",
    "\n"
   ]
  },
  {
   "cell_type": "code",
   "execution_count": 205,
   "metadata": {},
   "outputs": [
    {
     "name": "stdout",
     "output_type": "stream",
     "text": [
      "Error cuadrático medio 0.0006362640575688065\n"
     ]
    },
    {
     "data": {
      "image/png": "[encoded data removed]",
      "text/plain": [
       "<Figure size 432x288 with 1 Axes>"
      ]
     },
     "metadata": {
      "needs_background": "light"
     },
     "output_type": "display_data"
    }
   ],
   "source": [
    "plt.plot(y[100:150])\n",
    "plt.plot(pred[100:150])\n",
    "rmse=np.mean((y-pred)**2)\n",
    "rmse=np.sqrt(rmse)\n",
    "print('Error cuadrático medio',rmse)"
   ]
  },
  {
   "cell_type": "code",
   "execution_count": null,
   "metadata": {},
   "outputs": [],
   "source": []
  }
 ],
 "metadata": {
  "kernelspec": {
   "display_name": "Python 3",
   "language": "python",
   "name": "python3"
  },
  "language_info": {
   "codemirror_mode": {
    "name": "ipython",
    "version": 3
   },
   "file_extension": ".py",
   "mimetype": "text/x-python",
   "name": "python",
   "nbconvert_exporter": "python",
   "pygments_lexer": "ipython3",
   "version": "3.7.3"
  }
 },
 "nbformat": 4,
 "nbformat_minor": 2
}
