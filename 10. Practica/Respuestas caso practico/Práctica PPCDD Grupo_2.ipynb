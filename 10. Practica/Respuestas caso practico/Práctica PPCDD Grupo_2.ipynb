{
 "cells": [
  {
   "cell_type": "markdown",
   "metadata": {
    "id": "-w5UWJS-GPTF"
   },
   "source": [
    "## Programación para científicos de datos\n",
    "###Caso práctico - Grupo 2 \n",
    "* Irene Blazquez Perez\n",
    "* Michelle Cabrera Barrera\n",
    "* Federico Carrillo Chaves\n",
    "* Victor Lucia Jimenez\n",
    "* Monica Merino Robledillo\n",
    "* Manuel Piñar Ibañez\n",
    "\n"
   ]
  },
  {
   "cell_type": "code",
   "execution_count": null,
   "metadata": {
    "id": "M_rSoRkUpZhC"
   },
   "outputs": [],
   "source": [
    "#Subimos el archivo a colab\n",
    "from google.colab import files \n",
    "files.upload()"
   ]
  },
  {
   "cell_type": "code",
   "execution_count": 2,
   "metadata": {
    "id": "FXeZBMqduRx3"
   },
   "outputs": [
    {
     "name": "stderr",
     "output_type": "stream",
     "text": [
      "C:\\Users\\juanh\\Anaconda3\\lib\\site-packages\\statsmodels\\tools\\_testing.py:19: FutureWarning: pandas.util.testing is deprecated. Use the functions in the public API at pandas.testing instead.\n",
      "  import pandas.util.testing as tm\n",
      "C:\\Users\\juanh\\Anaconda3\\lib\\site-packages\\statsmodels\\compat\\pandas.py:23: FutureWarning: The Panel class is removed from pandas. Accessing it from the top-level namespace will also be removed in the next version\n",
      "  data_klasses = (pandas.Series, pandas.DataFrame, pandas.Panel)\n"
     ]
    }
   ],
   "source": [
    "#Importamos los módulos necesarios\n",
    "import numpy as np\n",
    "import pandas as pd\n",
    "from matplotlib import pyplot\n",
    "from statsmodels.tsa.seasonal import seasonal_decompose\n",
    "from statsmodels.tsa.stattools import adfuller as df"
   ]
  },
  {
   "cell_type": "markdown",
   "metadata": {
    "id": "VW40qCJ2tg1E"
   },
   "source": [
    "**1. Importación de datos**"
   ]
  },
  {
   "cell_type": "code",
   "execution_count": 3,
   "metadata": {
    "id": "LKmyGtB3txiS"
   },
   "outputs": [
    {
     "name": "stdout",
     "output_type": "stream",
     "text": [
      "Introduzca la ruta del fichero:all-euro-data-2020-2021.xlsx\n"
     ]
    },
    {
     "data": {
      "text/html": [
       "<div>\n",
       "<style scoped>\n",
       "    .dataframe tbody tr th:only-of-type {\n",
       "        vertical-align: middle;\n",
       "    }\n",
       "\n",
       "    .dataframe tbody tr th {\n",
       "        vertical-align: top;\n",
       "    }\n",
       "\n",
       "    .dataframe thead th {\n",
       "        text-align: right;\n",
       "    }\n",
       "</style>\n",
       "<table border=\"1\" class=\"dataframe\">\n",
       "  <thead>\n",
       "    <tr style=\"text-align: right;\">\n",
       "      <th></th>\n",
       "      <th>Div</th>\n",
       "      <th>Date</th>\n",
       "      <th>Time</th>\n",
       "      <th>HomeTeam</th>\n",
       "      <th>AwayTeam</th>\n",
       "      <th>FTHG</th>\n",
       "      <th>FTAG</th>\n",
       "      <th>FTR</th>\n",
       "      <th>HTHG</th>\n",
       "      <th>HTAG</th>\n",
       "      <th>...</th>\n",
       "      <th>AvgC&lt;2.5</th>\n",
       "      <th>AHCh</th>\n",
       "      <th>B365CAHH</th>\n",
       "      <th>B365CAHA</th>\n",
       "      <th>PCAHH</th>\n",
       "      <th>PCAHA</th>\n",
       "      <th>MaxCAHH</th>\n",
       "      <th>MaxCAHA</th>\n",
       "      <th>AvgCAHH</th>\n",
       "      <th>AvgCAHA</th>\n",
       "    </tr>\n",
       "  </thead>\n",
       "  <tbody>\n",
       "    <tr>\n",
       "      <th>0</th>\n",
       "      <td>E0</td>\n",
       "      <td>2020-09-12</td>\n",
       "      <td>12:30:00</td>\n",
       "      <td>Fulham</td>\n",
       "      <td>Arsenal</td>\n",
       "      <td>0</td>\n",
       "      <td>3</td>\n",
       "      <td>A</td>\n",
       "      <td>0</td>\n",
       "      <td>1</td>\n",
       "      <td>...</td>\n",
       "      <td>1.84</td>\n",
       "      <td>0.75</td>\n",
       "      <td>2.01</td>\n",
       "      <td>1.89</td>\n",
       "      <td>2.02</td>\n",
       "      <td>1.91</td>\n",
       "      <td>2.13</td>\n",
       "      <td>1.92</td>\n",
       "      <td>2.02</td>\n",
       "      <td>1.87</td>\n",
       "    </tr>\n",
       "    <tr>\n",
       "      <th>1</th>\n",
       "      <td>E0</td>\n",
       "      <td>2020-09-12</td>\n",
       "      <td>15:00:00</td>\n",
       "      <td>Crystal Palace</td>\n",
       "      <td>Southampton</td>\n",
       "      <td>1</td>\n",
       "      <td>0</td>\n",
       "      <td>H</td>\n",
       "      <td>1</td>\n",
       "      <td>0</td>\n",
       "      <td>...</td>\n",
       "      <td>1.70</td>\n",
       "      <td>0.25</td>\n",
       "      <td>1.78</td>\n",
       "      <td>2.13</td>\n",
       "      <td>1.79</td>\n",
       "      <td>2.17</td>\n",
       "      <td>1.85</td>\n",
       "      <td>2.18</td>\n",
       "      <td>1.79</td>\n",
       "      <td>2.12</td>\n",
       "    </tr>\n",
       "    <tr>\n",
       "      <th>2</th>\n",
       "      <td>E0</td>\n",
       "      <td>2020-09-12</td>\n",
       "      <td>17:30:00</td>\n",
       "      <td>Liverpool</td>\n",
       "      <td>Leeds</td>\n",
       "      <td>4</td>\n",
       "      <td>3</td>\n",
       "      <td>H</td>\n",
       "      <td>3</td>\n",
       "      <td>2</td>\n",
       "      <td>...</td>\n",
       "      <td>2.62</td>\n",
       "      <td>-1.50</td>\n",
       "      <td>1.85</td>\n",
       "      <td>2.05</td>\n",
       "      <td>1.85</td>\n",
       "      <td>2.08</td>\n",
       "      <td>1.90</td>\n",
       "      <td>2.16</td>\n",
       "      <td>1.84</td>\n",
       "      <td>2.04</td>\n",
       "    </tr>\n",
       "    <tr>\n",
       "      <th>3</th>\n",
       "      <td>E0</td>\n",
       "      <td>2020-09-12</td>\n",
       "      <td>20:00:00</td>\n",
       "      <td>West Ham</td>\n",
       "      <td>Newcastle</td>\n",
       "      <td>0</td>\n",
       "      <td>2</td>\n",
       "      <td>A</td>\n",
       "      <td>0</td>\n",
       "      <td>0</td>\n",
       "      <td>...</td>\n",
       "      <td>1.92</td>\n",
       "      <td>-0.50</td>\n",
       "      <td>2.03</td>\n",
       "      <td>1.87</td>\n",
       "      <td>2.04</td>\n",
       "      <td>1.88</td>\n",
       "      <td>2.09</td>\n",
       "      <td>1.91</td>\n",
       "      <td>2.02</td>\n",
       "      <td>1.86</td>\n",
       "    </tr>\n",
       "    <tr>\n",
       "      <th>4</th>\n",
       "      <td>E0</td>\n",
       "      <td>2020-09-13</td>\n",
       "      <td>14:00:00</td>\n",
       "      <td>West Brom</td>\n",
       "      <td>Leicester</td>\n",
       "      <td>0</td>\n",
       "      <td>3</td>\n",
       "      <td>A</td>\n",
       "      <td>0</td>\n",
       "      <td>0</td>\n",
       "      <td>...</td>\n",
       "      <td>1.73</td>\n",
       "      <td>0.25</td>\n",
       "      <td>1.92</td>\n",
       "      <td>1.98</td>\n",
       "      <td>1.93</td>\n",
       "      <td>1.99</td>\n",
       "      <td>1.95</td>\n",
       "      <td>2.01</td>\n",
       "      <td>1.91</td>\n",
       "      <td>1.97</td>\n",
       "    </tr>\n",
       "    <tr>\n",
       "      <th>5</th>\n",
       "      <td>E0</td>\n",
       "      <td>2020-09-13</td>\n",
       "      <td>16:30:00</td>\n",
       "      <td>Tottenham</td>\n",
       "      <td>Everton</td>\n",
       "      <td>0</td>\n",
       "      <td>1</td>\n",
       "      <td>A</td>\n",
       "      <td>0</td>\n",
       "      <td>0</td>\n",
       "      <td>...</td>\n",
       "      <td>1.79</td>\n",
       "      <td>-0.50</td>\n",
       "      <td>2.09</td>\n",
       "      <td>1.81</td>\n",
       "      <td>2.09</td>\n",
       "      <td>1.85</td>\n",
       "      <td>2.16</td>\n",
       "      <td>1.86</td>\n",
       "      <td>2.08</td>\n",
       "      <td>1.81</td>\n",
       "    </tr>\n",
       "    <tr>\n",
       "      <th>6</th>\n",
       "      <td>E0</td>\n",
       "      <td>2020-09-14</td>\n",
       "      <td>20:15:00</td>\n",
       "      <td>Brighton</td>\n",
       "      <td>Chelsea</td>\n",
       "      <td>1</td>\n",
       "      <td>3</td>\n",
       "      <td>A</td>\n",
       "      <td>0</td>\n",
       "      <td>1</td>\n",
       "      <td>...</td>\n",
       "      <td>2.17</td>\n",
       "      <td>1.00</td>\n",
       "      <td>1.93</td>\n",
       "      <td>1.97</td>\n",
       "      <td>1.94</td>\n",
       "      <td>1.98</td>\n",
       "      <td>2.02</td>\n",
       "      <td>2.02</td>\n",
       "      <td>1.93</td>\n",
       "      <td>1.95</td>\n",
       "    </tr>\n",
       "    <tr>\n",
       "      <th>7</th>\n",
       "      <td>E0</td>\n",
       "      <td>2020-09-14</td>\n",
       "      <td>18:00:00</td>\n",
       "      <td>Sheffield United</td>\n",
       "      <td>Wolves</td>\n",
       "      <td>0</td>\n",
       "      <td>2</td>\n",
       "      <td>A</td>\n",
       "      <td>0</td>\n",
       "      <td>2</td>\n",
       "      <td>...</td>\n",
       "      <td>1.39</td>\n",
       "      <td>0.25</td>\n",
       "      <td>1.70</td>\n",
       "      <td>2.10</td>\n",
       "      <td>1.74</td>\n",
       "      <td>2.23</td>\n",
       "      <td>1.86</td>\n",
       "      <td>2.28</td>\n",
       "      <td>1.74</td>\n",
       "      <td>2.18</td>\n",
       "    </tr>\n",
       "    <tr>\n",
       "      <th>8</th>\n",
       "      <td>E0</td>\n",
       "      <td>2020-09-19</td>\n",
       "      <td>12:30:00</td>\n",
       "      <td>Everton</td>\n",
       "      <td>West Brom</td>\n",
       "      <td>5</td>\n",
       "      <td>2</td>\n",
       "      <td>H</td>\n",
       "      <td>2</td>\n",
       "      <td>1</td>\n",
       "      <td>...</td>\n",
       "      <td>1.85</td>\n",
       "      <td>-1.00</td>\n",
       "      <td>2.09</td>\n",
       "      <td>1.81</td>\n",
       "      <td>2.14</td>\n",
       "      <td>1.82</td>\n",
       "      <td>2.15</td>\n",
       "      <td>1.90</td>\n",
       "      <td>2.06</td>\n",
       "      <td>1.83</td>\n",
       "    </tr>\n",
       "    <tr>\n",
       "      <th>9</th>\n",
       "      <td>E0</td>\n",
       "      <td>2020-09-19</td>\n",
       "      <td>15:00:00</td>\n",
       "      <td>Leeds</td>\n",
       "      <td>Fulham</td>\n",
       "      <td>4</td>\n",
       "      <td>3</td>\n",
       "      <td>H</td>\n",
       "      <td>2</td>\n",
       "      <td>1</td>\n",
       "      <td>...</td>\n",
       "      <td>1.88</td>\n",
       "      <td>-0.75</td>\n",
       "      <td>1.97</td>\n",
       "      <td>1.93</td>\n",
       "      <td>1.99</td>\n",
       "      <td>1.94</td>\n",
       "      <td>2.01</td>\n",
       "      <td>2.03</td>\n",
       "      <td>1.95</td>\n",
       "      <td>1.93</td>\n",
       "    </tr>\n",
       "  </tbody>\n",
       "</table>\n",
       "<p>10 rows × 106 columns</p>\n",
       "</div>"
      ],
      "text/plain": [
       "  Div       Date      Time          HomeTeam     AwayTeam  FTHG  FTAG FTR  \\\n",
       "0  E0 2020-09-12  12:30:00            Fulham      Arsenal     0     3   A   \n",
       "1  E0 2020-09-12  15:00:00    Crystal Palace  Southampton     1     0   H   \n",
       "2  E0 2020-09-12  17:30:00         Liverpool        Leeds     4     3   H   \n",
       "3  E0 2020-09-12  20:00:00          West Ham    Newcastle     0     2   A   \n",
       "4  E0 2020-09-13  14:00:00         West Brom    Leicester     0     3   A   \n",
       "5  E0 2020-09-13  16:30:00         Tottenham      Everton     0     1   A   \n",
       "6  E0 2020-09-14  20:15:00          Brighton      Chelsea     1     3   A   \n",
       "7  E0 2020-09-14  18:00:00  Sheffield United       Wolves     0     2   A   \n",
       "8  E0 2020-09-19  12:30:00           Everton    West Brom     5     2   H   \n",
       "9  E0 2020-09-19  15:00:00             Leeds       Fulham     4     3   H   \n",
       "\n",
       "   HTHG  HTAG  ... AvgC<2.5  AHCh  B365CAHH  B365CAHA  PCAHH  PCAHA  MaxCAHH  \\\n",
       "0     0     1  ...     1.84  0.75      2.01      1.89   2.02   1.91     2.13   \n",
       "1     1     0  ...     1.70  0.25      1.78      2.13   1.79   2.17     1.85   \n",
       "2     3     2  ...     2.62 -1.50      1.85      2.05   1.85   2.08     1.90   \n",
       "3     0     0  ...     1.92 -0.50      2.03      1.87   2.04   1.88     2.09   \n",
       "4     0     0  ...     1.73  0.25      1.92      1.98   1.93   1.99     1.95   \n",
       "5     0     0  ...     1.79 -0.50      2.09      1.81   2.09   1.85     2.16   \n",
       "6     0     1  ...     2.17  1.00      1.93      1.97   1.94   1.98     2.02   \n",
       "7     0     2  ...     1.39  0.25      1.70      2.10   1.74   2.23     1.86   \n",
       "8     2     1  ...     1.85 -1.00      2.09      1.81   2.14   1.82     2.15   \n",
       "9     2     1  ...     1.88 -0.75      1.97      1.93   1.99   1.94     2.01   \n",
       "\n",
       "   MaxCAHA  AvgCAHH  AvgCAHA  \n",
       "0     1.92     2.02     1.87  \n",
       "1     2.18     1.79     2.12  \n",
       "2     2.16     1.84     2.04  \n",
       "3     1.91     2.02     1.86  \n",
       "4     2.01     1.91     1.97  \n",
       "5     1.86     2.08     1.81  \n",
       "6     2.02     1.93     1.95  \n",
       "7     2.28     1.74     2.18  \n",
       "8     1.90     2.06     1.83  \n",
       "9     2.03     1.95     1.93  \n",
       "\n",
       "[10 rows x 106 columns]"
      ]
     },
     "execution_count": 3,
     "metadata": {},
     "output_type": "execute_result"
    }
   ],
   "source": [
    "ruta= input(\"Introduzca la ruta del fichero:\")\n",
    "all_data_liga=pd.read_excel(ruta, sheet_name=\"E0\")\n",
    "all_data_liga.head(10)\n"
   ]
  },
  {
   "cell_type": "code",
   "execution_count": 4,
   "metadata": {
    "colab": {
     "base_uri": "https://localhost:8080/",
     "height": 363
    },
    "id": "tSe-yHLOxmc5",
    "outputId": "3adce836-0d4c-4d5c-ca7f-2866ab9f5092"
   },
   "outputs": [
    {
     "data": {
      "text/html": [
       "<div>\n",
       "<style scoped>\n",
       "    .dataframe tbody tr th:only-of-type {\n",
       "        vertical-align: middle;\n",
       "    }\n",
       "\n",
       "    .dataframe tbody tr th {\n",
       "        vertical-align: top;\n",
       "    }\n",
       "\n",
       "    .dataframe thead th {\n",
       "        text-align: right;\n",
       "    }\n",
       "</style>\n",
       "<table border=\"1\" class=\"dataframe\">\n",
       "  <thead>\n",
       "    <tr style=\"text-align: right;\">\n",
       "      <th></th>\n",
       "      <th>Date</th>\n",
       "      <th>HTHG</th>\n",
       "      <th>HTAG</th>\n",
       "      <th>FTHG</th>\n",
       "      <th>FTAG</th>\n",
       "    </tr>\n",
       "  </thead>\n",
       "  <tbody>\n",
       "    <tr>\n",
       "      <th>0</th>\n",
       "      <td>2020-09-12</td>\n",
       "      <td>0</td>\n",
       "      <td>1</td>\n",
       "      <td>0</td>\n",
       "      <td>3</td>\n",
       "    </tr>\n",
       "    <tr>\n",
       "      <th>1</th>\n",
       "      <td>2020-09-12</td>\n",
       "      <td>1</td>\n",
       "      <td>0</td>\n",
       "      <td>1</td>\n",
       "      <td>0</td>\n",
       "    </tr>\n",
       "    <tr>\n",
       "      <th>2</th>\n",
       "      <td>2020-09-12</td>\n",
       "      <td>3</td>\n",
       "      <td>2</td>\n",
       "      <td>4</td>\n",
       "      <td>3</td>\n",
       "    </tr>\n",
       "    <tr>\n",
       "      <th>3</th>\n",
       "      <td>2020-09-12</td>\n",
       "      <td>0</td>\n",
       "      <td>0</td>\n",
       "      <td>0</td>\n",
       "      <td>2</td>\n",
       "    </tr>\n",
       "    <tr>\n",
       "      <th>4</th>\n",
       "      <td>2020-09-13</td>\n",
       "      <td>0</td>\n",
       "      <td>0</td>\n",
       "      <td>0</td>\n",
       "      <td>3</td>\n",
       "    </tr>\n",
       "    <tr>\n",
       "      <th>5</th>\n",
       "      <td>2020-09-13</td>\n",
       "      <td>0</td>\n",
       "      <td>0</td>\n",
       "      <td>0</td>\n",
       "      <td>1</td>\n",
       "    </tr>\n",
       "    <tr>\n",
       "      <th>6</th>\n",
       "      <td>2020-09-14</td>\n",
       "      <td>0</td>\n",
       "      <td>1</td>\n",
       "      <td>1</td>\n",
       "      <td>3</td>\n",
       "    </tr>\n",
       "    <tr>\n",
       "      <th>7</th>\n",
       "      <td>2020-09-14</td>\n",
       "      <td>0</td>\n",
       "      <td>2</td>\n",
       "      <td>0</td>\n",
       "      <td>2</td>\n",
       "    </tr>\n",
       "    <tr>\n",
       "      <th>8</th>\n",
       "      <td>2020-09-19</td>\n",
       "      <td>2</td>\n",
       "      <td>1</td>\n",
       "      <td>5</td>\n",
       "      <td>2</td>\n",
       "    </tr>\n",
       "    <tr>\n",
       "      <th>9</th>\n",
       "      <td>2020-09-19</td>\n",
       "      <td>2</td>\n",
       "      <td>1</td>\n",
       "      <td>4</td>\n",
       "      <td>3</td>\n",
       "    </tr>\n",
       "  </tbody>\n",
       "</table>\n",
       "</div>"
      ],
      "text/plain": [
       "        Date  HTHG  HTAG  FTHG  FTAG\n",
       "0 2020-09-12     0     1     0     3\n",
       "1 2020-09-12     1     0     1     0\n",
       "2 2020-09-12     3     2     4     3\n",
       "3 2020-09-12     0     0     0     2\n",
       "4 2020-09-13     0     0     0     3\n",
       "5 2020-09-13     0     0     0     1\n",
       "6 2020-09-14     0     1     1     3\n",
       "7 2020-09-14     0     2     0     2\n",
       "8 2020-09-19     2     1     5     2\n",
       "9 2020-09-19     2     1     4     3"
      ]
     },
     "execution_count": 4,
     "metadata": {},
     "output_type": "execute_result"
    }
   ],
   "source": [
    "#Creamos un dataframe con las variables relevantes\n",
    "data={'Date': all_data_liga['Date'], 'HTHG':all_data_liga['HTHG'], 'HTAG': all_data_liga['HTAG'], 'FTHG':all_data_liga['FTHG'], 'FTAG':all_data_liga['FTAG'] }\n",
    "data_liga=pd.DataFrame(data)\n",
    "data_liga.head(10)\n"
   ]
  },
  {
   "cell_type": "markdown",
   "metadata": {
    "id": "5c2Ff74BzcJt"
   },
   "source": [
    "Como la variable 'Date' todavía no está en formado datatime, la convertimos."
   ]
  },
  {
   "cell_type": "code",
   "execution_count": 5,
   "metadata": {
    "colab": {
     "base_uri": "https://localhost:8080/",
     "height": 414
    },
    "id": "owqhJx1ZziMZ",
    "outputId": "ab8c4d29-3476-4af4-fd10-e4a14678305c"
   },
   "outputs": [
    {
     "name": "stdout",
     "output_type": "stream",
     "text": [
      "Date    datetime64[ns]\n",
      "HTHG             int64\n",
      "HTAG             int64\n",
      "FTHG             int64\n",
      "FTAG             int64\n",
      "dtype: object\n",
      "Date    datetime64[ns]\n",
      "HTHG             int64\n",
      "HTAG             int64\n",
      "FTHG             int64\n",
      "FTAG             int64\n",
      "dtype: object\n"
     ]
    },
    {
     "data": {
      "text/html": [
       "<div>\n",
       "<style scoped>\n",
       "    .dataframe tbody tr th:only-of-type {\n",
       "        vertical-align: middle;\n",
       "    }\n",
       "\n",
       "    .dataframe tbody tr th {\n",
       "        vertical-align: top;\n",
       "    }\n",
       "\n",
       "    .dataframe thead th {\n",
       "        text-align: right;\n",
       "    }\n",
       "</style>\n",
       "<table border=\"1\" class=\"dataframe\">\n",
       "  <thead>\n",
       "    <tr style=\"text-align: right;\">\n",
       "      <th></th>\n",
       "      <th>Date</th>\n",
       "      <th>HTHG</th>\n",
       "      <th>HTAG</th>\n",
       "      <th>FTHG</th>\n",
       "      <th>FTAG</th>\n",
       "    </tr>\n",
       "  </thead>\n",
       "  <tbody>\n",
       "    <tr>\n",
       "      <th>0</th>\n",
       "      <td>2020-09-12</td>\n",
       "      <td>0</td>\n",
       "      <td>1</td>\n",
       "      <td>0</td>\n",
       "      <td>3</td>\n",
       "    </tr>\n",
       "    <tr>\n",
       "      <th>1</th>\n",
       "      <td>2020-09-12</td>\n",
       "      <td>1</td>\n",
       "      <td>0</td>\n",
       "      <td>1</td>\n",
       "      <td>0</td>\n",
       "    </tr>\n",
       "    <tr>\n",
       "      <th>2</th>\n",
       "      <td>2020-09-12</td>\n",
       "      <td>3</td>\n",
       "      <td>2</td>\n",
       "      <td>4</td>\n",
       "      <td>3</td>\n",
       "    </tr>\n",
       "    <tr>\n",
       "      <th>3</th>\n",
       "      <td>2020-09-12</td>\n",
       "      <td>0</td>\n",
       "      <td>0</td>\n",
       "      <td>0</td>\n",
       "      <td>2</td>\n",
       "    </tr>\n",
       "    <tr>\n",
       "      <th>4</th>\n",
       "      <td>2020-09-13</td>\n",
       "      <td>0</td>\n",
       "      <td>0</td>\n",
       "      <td>0</td>\n",
       "      <td>3</td>\n",
       "    </tr>\n",
       "  </tbody>\n",
       "</table>\n",
       "</div>"
      ],
      "text/plain": [
       "        Date  HTHG  HTAG  FTHG  FTAG\n",
       "0 2020-09-12     0     1     0     3\n",
       "1 2020-09-12     1     0     1     0\n",
       "2 2020-09-12     3     2     4     3\n",
       "3 2020-09-12     0     0     0     2\n",
       "4 2020-09-13     0     0     0     3"
      ]
     },
     "execution_count": 5,
     "metadata": {},
     "output_type": "execute_result"
    }
   ],
   "source": [
    "#Visualizar los tipos de variable del dataframe\n",
    "print(data_liga.dtypes)\n",
    "#Convertimos la variable 'Date' a formato datatime\n",
    "data_liga.Date=pd.to_datetime(data_liga.Date) \n",
    "print(data_liga.dtypes)\n",
    "data_liga.head()"
   ]
  },
  {
   "cell_type": "markdown",
   "metadata": {
    "id": "QX2_4bPGHSlm"
   },
   "source": [
    "Tal y como vemos, ahora el formato de la variable 'Date' es datatime."
   ]
  },
  {
   "cell_type": "markdown",
   "metadata": {
    "id": "PImqzPFI0JZU"
   },
   "source": [
    "\n",
    "\n",
    "\n",
    "**2. Formamos una serie temporal en formato pd.Series**\n",
    "\n",
    "---\n",
    "Para ello, la variable que vamos a usar es 'FTHG', la cual nos indica los goles marcados por el equipo de casa al final del partido ('Full time')."
   ]
  },
  {
   "cell_type": "code",
   "execution_count": 7,
   "metadata": {
    "colab": {
     "base_uri": "https://localhost:8080/"
    },
    "id": "WiR0xom10wVD",
    "outputId": "68033fbc-9ef6-4fbc-93bc-a7f263a2da3d"
   },
   "outputs": [
    {
     "name": "stdout",
     "output_type": "stream",
     "text": [
      "                HTHG      HTAG      FTHG      FTAG\n",
      "Date                                              \n",
      "2020-09-12  1.000000  0.750000  1.250000  2.000000\n",
      "2020-09-13  0.000000  0.000000  0.000000  2.000000\n",
      "2020-09-14  0.000000  1.500000  0.500000  2.500000\n",
      "2020-09-19  1.250000  1.000000  3.000000  2.250000\n",
      "2020-09-20  0.500000  1.000000  1.500000  3.000000\n",
      "...              ...       ...       ...       ...\n",
      "2021-05-15  0.333333  0.333333  1.333333  2.000000\n",
      "2021-05-16  0.750000  1.000000  1.500000  1.250000\n",
      "2021-05-18  0.250000  0.250000  1.500000  1.500000\n",
      "2021-05-19  0.500000  0.833333  0.833333  1.833333\n",
      "2021-05-23  1.100000  0.400000  2.100000  1.000000\n",
      "\n",
      "[135 rows x 4 columns]\n",
      "\n",
      "La serie panda es de la siguiente forma:\n",
      "Date\n",
      "2020-09-12    1.250000\n",
      "2020-09-13    0.000000\n",
      "2020-09-14    0.500000\n",
      "2020-09-19    3.000000\n",
      "2020-09-20    1.500000\n",
      "                ...   \n",
      "2021-05-15    1.333333\n",
      "2021-05-16    1.500000\n",
      "2021-05-18    1.500000\n",
      "2021-05-19    0.833333\n",
      "2021-05-23    2.100000\n",
      "Name: FTHG, Length: 135, dtype: float64\n",
      "\n",
      "La naturaleza del nuevo objeto creado es:\n"
     ]
    },
    {
     "data": {
      "text/plain": [
       "pandas.core.series.Series"
      ]
     },
     "execution_count": 7,
     "metadata": {},
     "output_type": "execute_result"
    }
   ],
   "source": [
    "#Agregamos la información en un nuevo dataframe\n",
    "dataFrame_agrupado=data_liga.groupby(by='Date').mean()\n",
    "print(dataFrame_agrupado)\n",
    "\n",
    "#Formamos una serie panda solo con la información de la variable 'FTHG'\n",
    "FTHG_serie=pd.Series(dataFrame_agrupado['FTHG'])\n",
    "print()\n",
    "print('La serie panda es de la siguiente forma:')\n",
    "print(FTHG_serie)\n",
    "print()\n",
    "#Comprobamos la naturaleza de objeto FTHG_serie\n",
    "print('La naturaleza del nuevo objeto creado es:')\n",
    "type(FTHG_serie)"
   ]
  },
  {
   "cell_type": "markdown",
   "metadata": {
    "id": "EDysRS2dokf-"
   },
   "source": [
    "**3. Creamos una función que haga la descomposición trend, seasonal y residuo**\n",
    "\n",
    "\n",
    "---\n",
    "\n"
   ]
  },
  {
   "cell_type": "code",
   "execution_count": 8,
   "metadata": {
    "id": "tA9fV0sSo1Ae"
   },
   "outputs": [],
   "source": [
    "def descomposicion(temp_series):\n",
    "    result = seasonal_decompose (temp_series, freq=7)\n",
    "    result.plot()\n",
    "    pyplot.show()\n",
    "    return result.trend.dropna(), result.seasonal.dropna(), result.resid.dropna()"
   ]
  },
  {
   "cell_type": "markdown",
   "metadata": {
    "id": "4z9gdGUb_qIR"
   },
   "source": [
    "**4. Aplicamos la función a la serie FTHG.**\n",
    "\n",
    "---"
   ]
  },
  {
   "cell_type": "code",
   "execution_count": 9,
   "metadata": {
    "colab": {
     "base_uri": "https://localhost:8080/",
     "height": 731
    },
    "id": "pG7jGsCmA6Nx",
    "outputId": "7d2ccad5-a482-40d3-ff8b-ccbb4de1ba6b"
   },
   "outputs": [
    {
     "data": {
      "image/png": "[encoded data removed]",
      "text/plain": [
       "<Figure size 432x288 with 4 Axes>"
      ]
     },
     "metadata": {
      "needs_background": "light"
     },
     "output_type": "display_data"
    },
    {
     "name": "stdout",
     "output_type": "stream",
     "text": [
      "Trend\n",
      " Date\n",
      "2020-09-19    1.250000\n",
      "2020-09-20    1.321429\n",
      "2020-09-21    1.535714\n",
      "2020-09-26    1.892857\n",
      "2020-09-27    1.773810\n",
      "Name: FTHG, dtype: float64 \n",
      "\n",
      "Seasonal\n",
      " Date\n",
      "2020-09-12   -0.116789\n",
      "2020-09-13    0.316015\n",
      "2020-09-14    0.173158\n",
      "2020-09-19    0.184415\n",
      "2020-09-20    0.016496\n",
      "Name: FTHG, dtype: float64 \n",
      "\n",
      "Resid Date\n",
      "2020-09-19    1.565585\n",
      "2020-09-20    0.162076\n",
      "2020-09-21   -0.399578\n",
      "2020-09-26    0.044302\n",
      "2020-09-27    0.092979\n",
      "Name: FTHG, dtype: float64\n"
     ]
    }
   ],
   "source": [
    "trend, seasonal, resid = descomposicion(FTHG_serie)\n",
    "\n",
    "print('Trend\\n', trend.head(), '\\n\\nSeasonal\\n', seasonal.head(), '\\n\\nResid', resid.head())"
   ]
  },
  {
   "cell_type": "markdown",
   "metadata": {
    "id": "69UYYBoV_2wL"
   },
   "source": [
    "**5. Aplicamos el test df al residuo para ver si es estacionario**\n",
    "\n",
    "---"
   ]
  },
  {
   "cell_type": "code",
   "execution_count": 10,
   "metadata": {
    "colab": {
     "base_uri": "https://localhost:8080/"
    },
    "id": "ot6ODIaS_9yL",
    "outputId": "72608ccf-5808-482e-a47d-c587a9a6acf6"
   },
   "outputs": [
    {
     "name": "stdout",
     "output_type": "stream",
     "text": [
      "Test Dickey-Fuller\n",
      "\n",
      "Para que no sea estacionario:\n",
      "- Estadístico > Valores críticos\n",
      "- P-value > 0.05\n",
      "\n",
      "Estadístico = -7.981274509106882\n",
      "P-value = 2.619431891334323e-12\n",
      "Valores críticos = {'1%': -3.4865346059036564, '5%': -2.8861509858476264, '10%': -2.579896092790057}\n"
     ]
    }
   ],
   "source": [
    "result=df(resid,autolag='AIC')\n",
    "print('Test Dickey-Fuller\\n\\nPara que no sea estacionario:\\n- Estadístico > Valores críticos\\n- P-value > 0.05\\n')\n",
    "\n",
    "print('Estadístico =',result[0])\n",
    "print('P-value =',result[1])\n",
    "print('Valores críticos =',result[4])"
   ]
  },
  {
   "cell_type": "markdown",
   "metadata": {
    "id": "deMDOancGQX8"
   },
   "source": [
    "Se rechaza la hipótesis nula ya que no se cumplen las condiciones:\n",
    "- Estadístico > Valores criticos\n",
    "- P-value > 0.05\n",
    "\n",
    "Se trata de una serie **estacionaria**"
   ]
  },
  {
   "cell_type": "markdown",
   "metadata": {
    "id": "d4EHLmAnG8Fx"
   },
   "source": [
    "**6. Aplicamos la misma metodología a la feature FTAG**\n",
    "\n",
    "---"
   ]
  },
  {
   "cell_type": "code",
   "execution_count": 11,
   "metadata": {
    "colab": {
     "base_uri": "https://localhost:8080/",
     "height": 1000
    },
    "id": "mjRGCtQyHD4m",
    "outputId": "161f0666-c165-4193-c26c-e811f5c4a7a3"
   },
   "outputs": [
    {
     "name": "stdout",
     "output_type": "stream",
     "text": [
      "\n",
      "La serie panda es de la siguiente forma:\n",
      "Date\n",
      "2020-09-12    2.000000\n",
      "2020-09-13    2.000000\n",
      "2020-09-14    2.500000\n",
      "2020-09-19    2.250000\n",
      "2020-09-20    3.000000\n",
      "                ...   \n",
      "2021-05-15    2.000000\n",
      "2021-05-16    1.250000\n",
      "2021-05-18    1.500000\n",
      "2021-05-19    1.833333\n",
      "2021-05-23    1.000000\n",
      "Name: FTAG, Length: 135, dtype: float64\n",
      "\n",
      "La naturaleza del nuevo objeto creado es:\n"
     ]
    },
    {
     "data": {
      "image/png": "[encoded data removed]",
      "text/plain": [
       "<Figure size 432x288 with 4 Axes>"
      ]
     },
     "metadata": {
      "needs_background": "light"
     },
     "output_type": "display_data"
    },
    {
     "name": "stdout",
     "output_type": "stream",
     "text": [
      "Trend\n",
      " Date\n",
      "2020-09-19    2.214286\n",
      "2020-09-20    2.178571\n",
      "2020-09-21    2.178571\n",
      "2020-09-26    1.964286\n",
      "2020-09-27    1.928571\n",
      "Name: FTAG, dtype: float64 \n",
      "\n",
      "Seasonal\n",
      " Date\n",
      "2020-09-12    0.323790\n",
      "2020-09-13   -0.365496\n",
      "2020-09-14    0.130932\n",
      "2020-09-19    0.038389\n",
      "2020-09-20    0.083501\n",
      "Name: FTAG, dtype: float64 \n",
      "\n",
      "Resid Date\n",
      "2020-09-19   -0.002674\n",
      "2020-09-20    0.737927\n",
      "2020-09-21   -0.569592\n",
      "2020-09-26    0.387851\n",
      "2020-09-27   -0.502361\n",
      "Name: FTAG, dtype: float64\n",
      "Test Dickey-Fuller\n",
      "\n",
      "Para que no sea estacionario:\n",
      "- Estadístico > Valores críticos\n",
      "- P-value > 0.05\n",
      "\n",
      "Estadístico = -8.08332841626809\n",
      "P-value = 1.4417433276056242e-12\n",
      "Valores críticos = {'1%': -3.4851223522012855, '5%': -2.88553750045158, '10%': -2.5795685622144586}\n"
     ]
    }
   ],
   "source": [
    "#Formamos una serie panda solo con la información de la variable 'FTAG'\n",
    "FTAG_serie=pd.Series(dataFrame_agrupado['FTAG'])\n",
    "print()\n",
    "print('La serie panda es de la siguiente forma:')\n",
    "print(FTAG_serie)\n",
    "print()\n",
    "#Comprobamos la naturaleza de objeto FTAG_serie\n",
    "print('La naturaleza del nuevo objeto creado es:')\n",
    "type(FTAG_serie)\n",
    "\n",
    "\n",
    "trend2, seasonal2, resid2 = descomposicion(FTAG_serie)\n",
    "\n",
    "print('Trend\\n', trend2.head(), '\\n\\nSeasonal\\n', seasonal2.head(), '\\n\\nResid', resid2.head())\n",
    "\n",
    "result2=df(resid2,autolag='AIC')\n",
    "print('Test Dickey-Fuller\\n\\nPara que no sea estacionario:\\n- Estadístico > Valores críticos\\n- P-value > 0.05\\n')\n",
    "\n",
    "print('Estadístico =',result2[0])\n",
    "print('P-value =',result2[1])\n",
    "print('Valores críticos =',result2[4])"
   ]
  },
  {
   "cell_type": "markdown",
   "metadata": {
    "id": "TX_xf332NDZj"
   },
   "source": [
    "Se rechaza la hipótesis nula ya que no se cumplen las condiciones:\n",
    "- Estadístico > Valores criticos\n",
    "- P-value > 0.05\n",
    "\n",
    "Se trata de una serie **estacionaria**"
   ]
  },
  {
   "cell_type": "markdown",
   "metadata": {
    "id": "WBE5a7JPNKvT"
   },
   "source": [
    "**7. Aplicamos la misma metodología a las features 'HTHG' y  'HTAG'**"
   ]
  },
  {
   "cell_type": "code",
   "execution_count": 12,
   "metadata": {
    "colab": {
     "base_uri": "https://localhost:8080/",
     "height": 1000
    },
    "id": "cYC0STjXNQ85",
    "outputId": "cf9b55f7-7e18-4257-e830-498a7a2ba94e"
   },
   "outputs": [
    {
     "name": "stdout",
     "output_type": "stream",
     "text": [
      "\n",
      "La serie panda es de la siguiente forma:\n",
      "Date\n",
      "2020-09-12    1.000000\n",
      "2020-09-13    0.000000\n",
      "2020-09-14    0.000000\n",
      "2020-09-19    1.250000\n",
      "2020-09-20    0.500000\n",
      "                ...   \n",
      "2021-05-15    0.333333\n",
      "2021-05-16    0.750000\n",
      "2021-05-18    0.250000\n",
      "2021-05-19    0.500000\n",
      "2021-05-23    1.100000\n",
      "Name: HTHG, Length: 135, dtype: float64\n",
      "\n",
      "La naturaleza del nuevo objeto creado es:\n"
     ]
    },
    {
     "data": {
      "image/png": "[encoded data removed]",
      "text/plain": [
       "<Figure size 432x288 with 4 Axes>"
      ]
     },
     "metadata": {
      "needs_background": "light"
     },
     "output_type": "display_data"
    },
    {
     "name": "stdout",
     "output_type": "stream",
     "text": [
      "Trend\n",
      " Date\n",
      "2020-09-19    0.571429\n",
      "2020-09-20    0.535714\n",
      "2020-09-21    0.678571\n",
      "2020-09-26    0.785714\n",
      "2020-09-27    0.750000\n",
      "Name: HTHG, dtype: float64 \n",
      "\n",
      "Seasonal\n",
      " Date\n",
      "2020-09-12    0.049122\n",
      "2020-09-13    0.321741\n",
      "2020-09-14   -0.127730\n",
      "2020-09-19    0.119221\n",
      "2020-09-20   -0.070002\n",
      "Name: HTHG, dtype: float64 \n",
      "\n",
      "Resid Date\n",
      "2020-09-19    0.559351\n",
      "2020-09-20    0.034288\n",
      "2020-09-21   -0.545035\n",
      "2020-09-26    0.623100\n",
      "2020-09-27   -0.049122\n",
      "Name: HTHG, dtype: float64\n",
      "Test Dickey-Fuller\n",
      "\n",
      "Para que no sea estacionario:\n",
      "- Estadístico > Valores críticos\n",
      "- P-value > 0.05\n",
      "\n",
      "Estadístico = -5.972829435178522\n",
      "P-value = 1.918142477901587e-07\n",
      "Valores críticos = {'1%': -3.4885349695076844, '5%': -2.887019521656941, '10%': -2.5803597920604915}\n"
     ]
    }
   ],
   "source": [
    "#Formamos una serie panda solo con la información de la variable 'HTHG'\n",
    "HTHG_serie=pd.Series(dataFrame_agrupado['HTHG'])\n",
    "print()\n",
    "print('La serie panda es de la siguiente forma:')\n",
    "print(HTHG_serie)\n",
    "print()\n",
    "#Comprobamos la naturaleza de objeto HTHG_serie\n",
    "print('La naturaleza del nuevo objeto creado es:')\n",
    "type(HTHG_serie)\n",
    "\n",
    "\n",
    "trend3, seasonal3, resid3 = descomposicion(HTHG_serie)\n",
    "\n",
    "print('Trend\\n', trend3.head(), '\\n\\nSeasonal\\n', seasonal3.head(), '\\n\\nResid', resid3.head())\n",
    "\n",
    "result3=df(resid3,autolag='AIC')\n",
    "print('Test Dickey-Fuller\\n\\nPara que no sea estacionario:\\n- Estadístico > Valores críticos\\n- P-value > 0.05\\n')\n",
    "\n",
    "print('Estadístico =',result3[0])\n",
    "print('P-value =',result3[1])\n",
    "print('Valores críticos =',result3[4])"
   ]
  },
  {
   "cell_type": "markdown",
   "metadata": {
    "id": "_Mmgnl5wN9f1"
   },
   "source": [
    "Se rechaza la hipótesis nula ya que no se cumplen las condiciones:\n",
    "\n",
    "Estadístico > Valores criticos\n",
    "P-value > 0.05\n",
    "Se trata de una serie **estacionaria**"
   ]
  },
  {
   "cell_type": "code",
   "execution_count": 14,
   "metadata": {
    "colab": {
     "base_uri": "https://localhost:8080/",
     "height": 1000
    },
    "id": "ZTTAFtEaNiXk",
    "outputId": "769c8c1d-3074-47b8-e399-9316328a1260"
   },
   "outputs": [
    {
     "name": "stdout",
     "output_type": "stream",
     "text": [
      "\n",
      "La serie panda es de la siguiente forma:\n",
      "Date\n",
      "2020-09-12    0.750000\n",
      "2020-09-13    0.000000\n",
      "2020-09-14    1.500000\n",
      "2020-09-19    1.000000\n",
      "2020-09-20    1.000000\n",
      "                ...   \n",
      "2021-05-15    0.333333\n",
      "2021-05-16    1.000000\n",
      "2021-05-18    0.250000\n",
      "2021-05-19    0.833333\n",
      "2021-05-23    0.400000\n",
      "Name: HTAG, Length: 135, dtype: float64\n",
      "\n",
      "La naturaleza del nuevo objeto creado es:\n"
     ]
    },
    {
     "data": {
      "image/png": "[encoded data removed]",
      "text/plain": [
       "<Figure size 432x288 with 4 Axes>"
      ]
     },
     "metadata": {
      "needs_background": "light"
     },
     "output_type": "display_data"
    },
    {
     "name": "stdout",
     "output_type": "stream",
     "text": [
      "Trend\n",
      " Date\n",
      "2020-09-19    0.892857\n",
      "2020-09-20    0.821429\n",
      "2020-09-21    1.035714\n",
      "2020-09-26    0.892857\n",
      "2020-09-27    0.916667\n",
      "Name: HTAG, dtype: float64 \n",
      "\n",
      "Seasonal\n",
      " Date\n",
      "2020-09-12    0.005030\n",
      "2020-09-13   -0.119308\n",
      "2020-09-14   -0.032271\n",
      "2020-09-19    0.092812\n",
      "2020-09-20   -0.008691\n",
      "Name: HTAG, dtype: float64 \n",
      "\n",
      "Resid Date\n",
      "2020-09-19    0.014330\n",
      "2020-09-20    0.187263\n",
      "2020-09-21   -0.039805\n",
      "2020-09-26    0.048806\n",
      "2020-09-27   -0.671697\n",
      "Name: HTAG, dtype: float64\n",
      "Test Dickey-Fuller\n",
      "\n",
      "Para que no sea estacionario:\n",
      "- Estadístico > Valores críticos\n",
      "- P-value > 0.05\n",
      "\n",
      "Estadístico = -5.259312447837872\n",
      "P-value = 6.644649454538232e-06\n",
      "Valores críticos = {'1%': -3.4885349695076844, '5%': -2.887019521656941, '10%': -2.5803597920604915}\n"
     ]
    }
   ],
   "source": [
    "#Formamos una serie panda solo con la información de la variable 'HTAG'\n",
    "HTAG_serie=pd.Series(dataFrame_agrupado['HTAG'])\n",
    "print()\n",
    "print('La serie panda es de la siguiente forma:')\n",
    "print(HTAG_serie)\n",
    "print()\n",
    "#Comprobamos la naturaleza de objeto HTAG_serie\n",
    "print('La naturaleza del nuevo objeto creado es:')\n",
    "type(HTAG_serie)\n",
    "\n",
    "\n",
    "trend4, seasonal4, resid4 = descomposicion(HTAG_serie)\n",
    "\n",
    "print('Trend\\n', trend4.head(), '\\n\\nSeasonal\\n', seasonal4.head(), '\\n\\nResid', resid4.head())\n",
    "\n",
    "result4=df(resid4,autolag='AIC')\n",
    "print('Test Dickey-Fuller\\n\\nPara que no sea estacionario:\\n- Estadístico > Valores críticos\\n- P-value > 0.05\\n')\n",
    "\n",
    "print('Estadístico =',result4[0])\n",
    "print('P-value =',result4[1])\n",
    "print('Valores críticos =',result4[4])"
   ]
  },
  {
   "cell_type": "markdown",
   "metadata": {
    "id": "HHx9lQhiN-Iz"
   },
   "source": [
    "Se rechaza la hipótesis nula ya que no se cumplen las condiciones:\n",
    "\n",
    "Estadístico > Valores criticos\n",
    "P-value > 0.05\n",
    "Se trata de una serie **estacionaria**"
   ]
  },
  {
   "cell_type": "markdown",
   "metadata": {
    "id": "qatiqmpTPKPv"
   },
   "source": [
    "**8. Discusión**"
   ]
  },
  {
   "cell_type": "markdown",
   "metadata": {
    "id": "xh8EFJYWPT8T"
   },
   "source": [
    "**1. ¿Son más estacionarios los residuos de las variables a final del partido o al descanso? Justifica tu respuesta.**   \n",
    "  Son más estacionarios los residuos de las variables al final del partido, pues existe una mayor diferencia entre el estadístico resultante en cada test y los valores críticos, además son de un orden inferior los p-valores para las series temporales FT.\n",
    "\n",
    "**2. ¿Encuentras alguna justificación para las diferencias encontradas? ¿Hay algún aspecto del juego que justifique aparentemente dichas diferencias?.**\n",
    "  \n",
    "  El hecho de que los residuos sean más estacionarios en la segunda parte que en la primera es debido al propio descanso de 15 minutos entre parte y parte, donde se le pueden dar instrucciones técnicas para aguantar el resultado o cambiarlo. También se observa que en los meses finales de liga hay una mayor variación debido a que los partidos son más intensos por el final de temporada.\n",
    "  \n",
    "  **JUAN: La clave en realidad es el tiempo transcurrido. En un proceso en el tiempo hay una serie de factores potenciales que se manifestarán, en termino medio, a lo largo de dicho proceso. Cuanto más tiempo le demos al proceso más oportunidades le damos a los factores potenciales de manifestarse. Cuando el tiempo es muy corto hay mucha más variabilidad y se producen los llamados rallies (en bolsa ocurre por ejemplo) que son señales ruidosas que nada tienen que ver con la dinámica real. Sin embargo cuando al proceso se le deja más tiempo tiende poco a poco a los valores correctos que rigen su dinámica.**\n",
    "\n",
    "**3. ¿Dónde podríamos esperar mayor precisión de un modelo ARIMA, aplicado al descanso o a final del partido?.**\n",
    "  \n",
    "  Aunque para ambos estudios se obitenen residuos bastante estacionarios, al final del partido es donde funcionaria mejor un modelo ARIMA pues los modelos ARIMA funcionan mejor cuanto más estacionaria es la serie.\n",
    "\n",
    "**4. Si quisiéramos entrenar un modelo ARIMA, ¿sobre qué señal de la descomposición lo aplicaríamos? Justifica tu respuesta.**\n",
    "  \n",
    "  Se puede aplicar sobre la propia serie en sí debido a que como se ha visto los residuos son estacionarios. No obstante sería interesante analizar más en profundidad si necesita alguna transformación en los datos de estacionarización de la media o la varianza o incluso añadir variables exógenas como la influencia del COVID.\n",
    "  \n",
    "  **JUAN: Aquí creo que hay un error de concepto. ARIMA se debe aplicar a una serie temporal estacionaria. Que el residuo de una serie sea estacionario no implica que la serie original lo sea. En general se aplicará el modelo ARIMA al residuo**\n",
    "\n",
    "**5. ¿Se te ocurre alguna forma de relacionar el concepto de estacionariedad en series temporales deportivas y la creación de un método de apuestas?**\n",
    "  \n",
    "  Para utilizar los modelos ARIMA necesitamos estacionariedad, y estos modelos nos permiten predecir a partir de datos observados, próximos resultados, lo que permite apostar con mayor confianza. Por lo tanto, a mayor estacionariedad los resultaddos son más facilmente predictibles.\n",
    "  \n",
    "**JUAN: La respuesta es correcta. Una forma más visual de verlo es que una serie estacionaria mantendrá la media y la varianza en el futuro, lo que implica que valores pasados se pueden usar para predecir el futuro. Sin embargo esto no se da en series no estacionarias.**"
   ]
  },
  {
   "cell_type": "code",
   "execution_count": null,
   "metadata": {
    "id": "Q3MbrZ5zPGbD"
   },
   "outputs": [],
   "source": []
  }
 ],
 "metadata": {
  "colab": {
   "collapsed_sections": [],
   "name": "Práctica programación grupo 2.ipynb",
   "provenance": []
  },
  "kernelspec": {
   "display_name": "Python 3",
   "language": "python",
   "name": "python3"
  },
  "language_info": {
   "codemirror_mode": {
    "name": "ipython",
    "version": 3
   },
   "file_extension": ".py",
   "mimetype": "text/x-python",
   "name": "python",
   "nbconvert_exporter": "python",
   "pygments_lexer": "ipython3",
   "version": "3.7.3"
  }
 },
 "nbformat": 4,
 "nbformat_minor": 1
}
