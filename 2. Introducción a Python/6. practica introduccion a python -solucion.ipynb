{
 "cells": [
  {
   "cell_type": "markdown",
   "metadata": {},
   "source": [
    "# Introducción a Python: Práctica sobre funciones, módulos y clases"
   ]
  },
  {
   "cell_type": "markdown",
   "metadata": {},
   "source": [
    "## Definición de funciones"
   ]
  },
  {
   "cell_type": "markdown",
   "metadata": {},
   "source": [
    "- **Escribe una función que calcule el punto de caida de un proyectil disparado por un cañon en la posición x0, que dispara  el proyectil con una velocidad v y tiene un ángulo con el suelo alpha.**\n",
    "\n",
    "- **Guia**:\n",
    "\n",
    "1) Hay que descomponer la velocidad v en sus componentes horizontal (vx) y vertical (vy)\n",
    "\n",
    "    - vx=v*coseno(alpha)\n",
    "    - vy=v*seno(alpha)\n",
    "    - las funciones sin() y cos() están en el módulo math (hay que importarlo)\n",
    "    - sin() y cos() funcionan con radianes. Alpha en grados hay que convertirlo en radanes con math.radians(alpha)\n",
    "    \n",
    "2) Con vy se calcula el tiempo de vuelo:\n",
    "\n",
    "    - t=2*vy*9.8\n",
    "\n",
    "3) Con el tiempo de vuelo se calcula el punto de entrada en tierra:\n",
    "\n",
    "    - x=x0+vx*t  (donde x0 es la situación del cañón, considerando un problema unidimensional, y t el tiempo de vuelo)\n",
    "\n",
    "\n",
    "- **La función ha de devolver la posición en la que cae el proyectil (x) y tener como parámetros (x0,v,alpha).**\n",
    "\n",
    "- **Genera valores aleatorios** para x0 entre -10 y 10, v entre 0 y 100 y alpha entre 0 y 90. Usa los valores aleatorios con la función **y observa los resultados**.\n",
    "\n",
    "    - Modulo random tiene la función random que genera números aleatorios entre 0 y 1\n",
    "    \n",
    "    - Para generar valores aleatorios dentro del intervalo [a,b] tenemos que generar un valor aleatorio entre 0 y 1 (alet) y usar la fórmula:\n",
    "    \n",
    "    valor random en [a,b]= a+(b-a)*alet\n",
    "\n"
   ]
  },
  {
   "cell_type": "code",
   "execution_count": null,
   "metadata": {},
   "outputs": [],
   "source": [
    "def canion(x0,v,alpha=30):\n",
    "    import math\n",
    "    radianes=math.radians(alpha)\n",
    "    vx=math.cos(radianes)*v\n",
    "    vy=math.sin(radianes)*v\n",
    "    t=vy*2/9.8\n",
    "    x=x0+vx*t\n",
    "    \n",
    "    return x\n",
    "\n",
    "mis_cositas.py\n",
    "\n"
   ]
  },
  {
   "cell_type": "code",
   "execution_count": 6,
   "metadata": {},
   "outputs": [
    {
     "data": {
      "text/plain": [
       "89.53294524550965"
      ]
     },
     "execution_count": 6,
     "metadata": {},
     "output_type": "execute_result"
    }
   ],
   "source": [
    "\n",
    "\n",
    "def canion(x0,v,alpha=30):\n",
    "    import math\n",
    "    radianes=math.radians(alpha)\n",
    "    vx=math.cos(radianes)*v\n",
    "    vy=math.sin(radianes)*v\n",
    "    t=vy*2/9.8\n",
    "    x=x0+vx*t\n",
    "    \n",
    "    return x\n",
    "\n"
   ]
  },
  {
   "cell_type": "code",
   "execution_count": 14,
   "metadata": {},
   "outputs": [
    {
     "name": "stdout",
     "output_type": "stream",
     "text": [
      "For (x0,v,alpha)= 2.0307178878530596 76.66646374658956 75.19350075612728 x= 298.4005671805577\n"
     ]
    }
   ],
   "source": [
    "import random as rand\n",
    "import mis_cositas as mio\n",
    "\n",
    "x0=-10+20*rand.random()\n",
    "v=100*rand.random()\n",
    "alpha=0+90*rand.random()\n",
    "\n",
    "print('For (x0,v,alpha)=',x0,v,alpha,'x=',canion(x0,v,alpha))\n",
    "\n"
   ]
  },
  {
   "cell_type": "markdown",
   "metadata": {},
   "source": [
    "## Importación de funciones desde un módulo personal"
   ]
  },
  {
   "cell_type": "markdown",
   "metadata": {},
   "source": [
    "- **Escribe tu función (con otro nombre) en un fichero aparte.** (no en un notebook)\n",
    "\n",
    "- **Salva el fichero con extensión .py**\n",
    "\n",
    "- **Sube el fichero a colab**\n",
    "\n",
    "- **Importa tu módulo** en un notebook\n",
    "\n",
    "- **Genera valores aleatorios para x0, v y alpha** como en el anterior apartado y **úsalos con la función importada** de tu módulo.\n",
    "\n"
   ]
  },
  {
   "cell_type": "code",
   "execution_count": 1,
   "metadata": {},
   "outputs": [],
   "source": [
    "from juan import *"
   ]
  },
  {
   "cell_type": "code",
   "execution_count": null,
   "metadata": {},
   "outputs": [],
   "source": [
    "import random as rand\n",
    "\n",
    "x0=-10+20*rand.random()\n",
    "v=100*rand.random()\n",
    "alpha=0+90*rand.random()\n",
    "\n",
    "print('For (x0,v,alpha)=',x0,v,alpha,'x=',canion(x0,v,alpha))\n"
   ]
  },
  {
   "cell_type": "markdown",
   "metadata": {},
   "source": [
    "## Creación de una clase \"canyon\""
   ]
  },
  {
   "cell_type": "markdown",
   "metadata": {},
   "source": [
    "- **Crea una clase llamada canyon** a partir de la función que has desarrollado para tiro parabólico.\n",
    "\n",
    "- Esta clase **debe tener un método que calcule e imprima la posición de caída del proyectil.**\n",
    "\n",
    "- También ha de tener como **atributos: vx, vy y tiempo de vuelo.**\n",
    "\n",
    "- Esta clase ha de estar **en el módulo personal**, no en el notebook.\n",
    "\n",
    "- **Importa la clase** en un notebook, **genera valores aleatorios** para los parámetros de entrada, **juega con el método y printa los atributos** cada vez que ejecutes el método."
   ]
  },
  {
   "cell_type": "code",
   "execution_count": 15,
   "metadata": {},
   "outputs": [],
   "source": [
    "class canyon(object):\n",
    "    # Esta clase calcula tiro parabólico.\n",
    "    def __init__ (self,x0):\n",
    "        self.x0=x0\n",
    "        \n",
    "        \n",
    "    def calcular(self,x0,v,alpha):\n",
    "        import math\n",
    "        self.x0=x0\n",
    "        self.v=x0\n",
    "        self.alpha=x0\n",
    "        radianes=math.radians(alpha)\n",
    "        vx=math.cos(radianes)*v\n",
    "        vy=math.sin(radianes)*v\n",
    "        t=vy*2/9.8\n",
    "        x=x0+vx*t\n",
    "        print('El punto de caída es',x)\n",
    "        self.vx=vx\n",
    "        self.vy=vy\n",
    "        self.t=t\n",
    "        "
   ]
  },
  {
   "cell_type": "code",
   "execution_count": 1,
   "metadata": {},
   "outputs": [],
   "source": [
    "from juan import *"
   ]
  },
  {
   "cell_type": "code",
   "execution_count": 2,
   "metadata": {},
   "outputs": [
    {
     "name": "stdout",
     "output_type": "stream",
     "text": [
      "El punto de caída es 257.0991240417888\n",
      "None\n",
      "Los valores para vx,vy y tiempo de vuelo son 17.951434724133605 68.32630050363284 13.944142959925067\n"
     ]
    },
    {
     "data": {
      "text/plain": [
       "17.951434724133605"
      ]
     },
     "execution_count": 2,
     "metadata": {},
     "output_type": "execute_result"
    }
   ],
   "source": [
    "import random as rand\n",
    "\n",
    "x0=-10+20*rand.random()\n",
    "v=100*rand.random()\n",
    "alpha=0+90*rand.random()\n",
    "\n",
    "mycanyon=canyon(x0)\n",
    "print(mycanyon.calcular(x0,v,alpha))\n",
    "print('Los valores para vx,vy y tiempo de vuelo son',mycanyon.vx,mycanyon.vy,mycanyon.t)\n",
    "mycanyon.vx"
   ]
  }
 ],
 "metadata": {
  "kernelspec": {
   "display_name": "Python 3",
   "language": "python",
   "name": "python3"
  },
  "language_info": {
   "codemirror_mode": {
    "name": "ipython",
    "version": 3
   },
   "file_extension": ".py",
   "mimetype": "text/x-python",
   "name": "python",
   "nbconvert_exporter": "python",
   "pygments_lexer": "ipython3",
   "version": "3.7.3"
  }
 },
 "nbformat": 4,
 "nbformat_minor": 2
}
