{
 "cells": [
  {
   "cell_type": "markdown",
   "metadata": {},
   "source": [
    "# Introducción a Python: Práctica sobre funciones, módulos y clases"
   ]
  },
  {
   "cell_type": "markdown",
   "metadata": {},
   "source": [
    "## Definición de funciones"
   ]
  },
  {
   "cell_type": "markdown",
   "metadata": {},
   "source": [
    "- **Escribe una función que calcule el punto de caida de un proyectil disparado por un cañón en la posición x0, que dispara  el proyectil con una velocidad v y tiene un ángulo con el suelo alpha.**\n",
    "\n",
    "- **Guia**:\n",
    "\n",
    "1) Hay que descomponer la velocidad v en sus componentes horizontal (vx) y vertical (vy)\n",
    "\n",
    "    - vx=v*coseno(alpha)\n",
    "    - vy=v*seno(alpha)\n",
    "    - las funciones sin() y cos() están en el módulo math (hay que importarlo)\n",
    "    - sin() y cos() funcionan con radianes. Alpha en grados hay que convertirlo en radanes con math.radians(alpha)\n",
    "    \n",
    "2) Con vy se calcula el tiempo de vuelo:\n",
    "\n",
    "    - t=2*vy*9.8\n",
    "\n",
    "3) Con el tiempo de vuelo se calcula el punto de entrada en tierra:\n",
    "\n",
    "    - x=x0+vx*t  (donde x0 es la situación del cañón, considerando un problema unidimensional, y t el tiempo de vuelo)\n",
    "\n",
    "\n",
    "- **La función ha de devolver la posición en la que cae el proyectil (x) y tener como parámetros (x0,v,alpha).**\n",
    "\n",
    "- **Genera valores aleatorios** para x0 entre -10 y 10, v entre 0 y 100 y alpha entre 0 y 90. Usa los valores aleatorios con la función **y observa los resultados**.\n",
    "\n",
    "    - Modulo random tiene la función random que genera números aleatorios entre 0 y 1\n",
    "    \n",
    "    - Para generar valores aleatorios dentro del intervalo [a,b] tenemos que generar un valor aleatorio entre 0 y 1 (alet) y usar la fórmula:\n",
    "    \n",
    "    valor random en [a,b]= a+(b-a)*alet\n",
    "\n",
    "4) Para generar un valor aleatorio en el intervalo [0,1]:\n",
    "     - Importar el módulo numpy\n",
    "     - Usar la función numpy.random.random()\n",
    " \n",
    "    "
   ]
  },
  {
   "cell_type": "markdown",
   "metadata": {},
   "source": [
    "## Importación de funciones desde un módulo personal"
   ]
  },
  {
   "cell_type": "markdown",
   "metadata": {},
   "source": [
    "- **Escribe tu función (con otro nombre) en un fichero aparte.** (no en un notebook)\n",
    "\n",
    "- **Salva el fichero con extensión .py**\n",
    "\n",
    "- **Sube el fichero a colab**\n",
    "\n",
    "- **Importa tu módulo** en un notebook\n",
    "\n",
    "- **Genera valores aleatorios para x0, v y alpha** como en el anterior apartado y **úsalos con la función importada** de tu módulo.\n",
    "\n"
   ]
  },
  {
   "cell_type": "code",
   "execution_count": null,
   "metadata": {},
   "outputs": [],
   "source": []
  },
  {
   "cell_type": "markdown",
   "metadata": {},
   "source": [
    "## Creación de una clase \"canyon\""
   ]
  },
  {
   "cell_type": "markdown",
   "metadata": {},
   "source": [
    "- **Crea una clase llamada canyon** a partir de la función que has desarrollado para tiro parabólico.\n",
    "\n",
    "- Esta clase **debe tener un método que calcule e imprima la posición de caída del proyectil.**\n",
    "\n",
    "- También ha de tener como **atributos: vx, vy y tiempo de vuelo.**\n",
    "\n",
    "- Esta clase ha de estar **en el módulo personal**, no en el notebook.\n",
    "\n",
    "- **Importa la clase** en un notebook, **genera valores aleatorios** para los parámetros de entrada, **juega con el método y printa los atributos** cada vez que ejecutes el método."
   ]
  },
  {
   "cell_type": "code",
   "execution_count": null,
   "metadata": {},
   "outputs": [],
   "source": []
  }
 ],
 "metadata": {
  "kernelspec": {
   "display_name": "Python 3",
   "language": "python",
   "name": "python3"
  },
  "language_info": {
   "codemirror_mode": {
    "name": "ipython",
    "version": 3
   },
   "file_extension": ".py",
   "mimetype": "text/x-python",
   "name": "python",
   "nbconvert_exporter": "python",
   "pygments_lexer": "ipython3",
   "version": "3.7.3"
  }
 },
 "nbformat": 4,
 "nbformat_minor": 2
}
