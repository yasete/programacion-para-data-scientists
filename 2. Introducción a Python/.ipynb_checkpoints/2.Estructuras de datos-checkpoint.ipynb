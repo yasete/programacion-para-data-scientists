{
 "cells": [
  {
   "cell_type": "markdown",
   "metadata": {},
   "source": [
    "# Introducción a Python:  2.- Estructuras de datos"
   ]
  },
  {
   "cell_type": "markdown",
   "metadata": {},
   "source": [
    "En este apartado vamos a revisar las estructuras de datos (colecciones) básicas de Python, sus propiedades y las operaciones básicas que se pueden realizar con y sobre ellos. En concreto, en Python tenemos tres estructuras básicas de datos.\n",
    "\n",
    "\n",
    "- **Secuencias**\n",
    "- **Diccionarios**\n",
    "- **Conjuntos**\n",
    "\n"
   ]
  },
  {
   "cell_type": "markdown",
   "metadata": {},
   "source": [
    "## Secuencias"
   ]
  },
  {
   "cell_type": "markdown",
   "metadata": {},
   "source": [
    "Una secuencia es un **listado unidimensional y ordenado** de valores que pueden ser de cualquier tipo, incluso otras estructuras de datos anidadas. Existen **tres tipos** bien diferenciados\n",
    "\n",
    "\n",
    "**Tuplas**: listados **inmutables**.\n",
    "**Listas**: listados ordenados **mutables**.\n",
    "**Cadenas de caracteres**: **inmutables** y cuyos elementos son siempre caracteres.\n",
    "\n",
    "\n",
    "Casi todas las operaciones disponibles se pueden aplicar sobre cualquier tipo de secuencia (excepto las que implican modificación que, lógicamente, sólo se pueden aplicar sobre listas)."
   ]
  },
  {
   "cell_type": "markdown",
   "metadata": {},
   "source": [
    "##### <b>Creación de secuencias</b>"
   ]
  },
  {
   "cell_type": "code",
   "execution_count": null,
   "metadata": {},
   "outputs": [],
   "source": [
    "tuple_1 = (1, 2, 3, 4)\n",
    "list_1 = [1, 2, 3, 4]\n",
    "str_1 = \"esto es una cadena\""
   ]
  },
  {
   "cell_type": "code",
   "execution_count": null,
   "metadata": {},
   "outputs": [],
   "source": [
    "tuple_1[0]"
   ]
  },
  {
   "cell_type": "code",
   "execution_count": null,
   "metadata": {},
   "outputs": [],
   "source": [
    "tuple_1[0] = 3"
   ]
  },
  {
   "cell_type": "code",
   "execution_count": null,
   "metadata": {},
   "outputs": [],
   "source": [
    "list_1[0] = 2\n",
    "list_1[0]"
   ]
  },
  {
   "cell_type": "code",
   "execution_count": null,
   "metadata": {},
   "outputs": [],
   "source": [
    "str_1[2]"
   ]
  },
  {
   "cell_type": "code",
   "execution_count": null,
   "metadata": {},
   "outputs": [],
   "source": [
    "str_1[2] = \"a\""
   ]
  },
  {
   "cell_type": "markdown",
   "metadata": {},
   "source": [
    "###### <b>Conversión/casting entre tipos de secuencia</b>"
   ]
  },
  {
   "cell_type": "code",
   "execution_count": 1,
   "metadata": {},
   "outputs": [],
   "source": [
    "tuple_1 = (1, 2, 3, 4)\n",
    "list_1 = [1, 2, 3, 4]\n",
    "str_1 = \"esto es una cadena\"\n",
    "\n",
    "tuple_2 = tuple(list_1)\n",
    "list_2 = list(tuple_1)\n",
    "tuple_3 = tuple(str_1)"
   ]
  },
  {
   "cell_type": "code",
   "execution_count": null,
   "metadata": {},
   "outputs": [],
   "source": [
    "print (tuple_2)\n",
    "print (list_2)\n",
    "print (tuple_3)\n",
    "\n",
    "print (type(tuple_2))\n",
    "print (type(list_2))\n",
    "print (type(tuple_3))"
   ]
  },
  {
   "cell_type": "markdown",
   "metadata": {},
   "source": [
    "###### Creación de secuencias anidadas"
   ]
  },
  {
   "cell_type": "code",
   "execution_count": 1,
   "metadata": {},
   "outputs": [
    {
     "name": "stdout",
     "output_type": "stream",
     "text": [
      "(1, 2, (3, 4), [1, 2, 3])\n",
      "[1, 2, 3, [4, 5], 'prueba', (1, 2, 3)]\n"
     ]
    }
   ],
   "source": [
    "tuple_1 = (1, 2, (3, 4), [1, 2, 3])\n",
    "list_1 = [1, 2, 3, [4, 5], \"prueba\", (1, 2, 3)]\n",
    "print (tuple_1)\n",
    "print (list_1)"
   ]
  },
  {
   "cell_type": "markdown",
   "metadata": {},
   "source": [
    "###### Concatenación de secuencias (**+**)"
   ]
  },
  {
   "cell_type": "code",
   "execution_count": null,
   "metadata": {},
   "outputs": [],
   "source": [
    "tuple_1 = (1, 2, 3, 4)\n",
    "list_1 = [1, 2, 3, 4]\n",
    "str_1 = \"esto es una cadena\"\n",
    "\n",
    "tuple_2 = (5, 6, 7, 8)\n",
    "list_2 = [5, 6, 7, 8]\n",
    "str_2 = \"esto es otra cadena\"\n",
    "\n",
    "tuple_3 = tuple_1 + tuple_2\n",
    "list_3 = list_1 + list_2\n",
    "str_3 = str_1 + str_2\n",
    "\n",
    "print (tuple_3)\n",
    "print (list_3)\n",
    "print (str_3)"
   ]
  },
  {
   "cell_type": "markdown",
   "metadata": {},
   "source": [
    "###### Multiplicación de secuencias por enteros"
   ]
  },
  {
   "cell_type": "code",
   "execution_count": null,
   "metadata": {},
   "outputs": [],
   "source": [
    "list_1 = [1, 2, 3]\n",
    "list_2 = list_1 * 2\n",
    "print (list_2)"
   ]
  },
  {
   "cell_type": "code",
   "execution_count": 2,
   "metadata": {},
   "outputs": [
    {
     "name": "stdout",
     "output_type": "stream",
     "text": [
      "('hola', 'mundo', 'hola', 'mundo')\n",
      "pruebaprueba\n"
     ]
    }
   ],
   "source": [
    "\n",
    "tuple_1 = (\"hola\", \"mundo\")\n",
    "tuple_2 = tuple_1 * 2\n",
    "print (tuple_2)\n",
    "\n",
    "\n",
    "str_1 = \"prueba\"\n",
    "str_2 = str_1 * 2\n",
    "print (str_2)"
   ]
  },
  {
   "cell_type": "markdown",
   "metadata": {},
   "source": [
    "##### Comprobación de si un elemento existe en la secuencia"
   ]
  },
  {
   "cell_type": "code",
   "execution_count": 3,
   "metadata": {},
   "outputs": [
    {
     "name": "stdout",
     "output_type": "stream",
     "text": [
      "True\n",
      "True\n",
      "True\n",
      "True\n",
      "True\n",
      "True\n"
     ]
    }
   ],
   "source": [
    "tuple_1 = (1, 2, 3, 4)\n",
    "list_1 = [1, 2, 3, 4]\n",
    "str_1 = \"esto es una cadena\"\n",
    "\n",
    "print (4 in tuple_1)\n",
    "print (5 not in tuple_1)\n",
    "print (4 in list_1)\n",
    "print (5 not in list_1)\n",
    "print (\"e\" in str_1)\n",
    "print (\"z\" not in str_1)"
   ]
  },
  {
   "cell_type": "markdown",
   "metadata": {},
   "source": [
    "##### Acceso a un elemento de la secuencia por posición (índice positivo)"
   ]
  },
  {
   "cell_type": "code",
   "execution_count": null,
   "metadata": {},
   "outputs": [],
   "source": [
    "tuple_1 = (1, 2, 3, 4)\n",
    "list_1 = [1, 2, 3, 4]\n",
    "str_1 = \"esto es una cadena\"\n",
    "\n",
    "print (tuple_1[0])\n",
    "print (list_1[3])\n",
    "print (str_1[5])"
   ]
  },
  {
   "cell_type": "markdown",
   "metadata": {},
   "source": [
    "##### Acceso a un elemento de la secuencia por posición (índice negativo)"
   ]
  },
  {
   "cell_type": "code",
   "execution_count": 4,
   "metadata": {},
   "outputs": [
    {
     "name": "stdout",
     "output_type": "stream",
     "text": [
      "4\n",
      "2\n",
      "a\n"
     ]
    }
   ],
   "source": [
    "tuple_1 = (1, 2, 3, 4)\n",
    "list_1 = [1, 2, 3, 4]\n",
    "str_1 = \"esto es una cadena\"\n",
    "\n",
    "print (tuple_1[-1])\n",
    "print (list_1[-3])\n",
    "print (str_1[-5])"
   ]
  },
  {
   "cell_type": "markdown",
   "metadata": {},
   "source": [
    "##### Slicing de secuencias"
   ]
  },
  {
   "cell_type": "markdown",
   "metadata": {},
   "source": [
    "\n",
    "Selección (mediante copia, no referencia) de un conjunto ordenado de elementos de una secuencia.\n",
    "Se realiza mediante la notación secuencia **[a:b:c]**. Donde:\n",
    "\n",
    "**a**: Índice del **primer elemento a extrar (en base 0)**. **Si se omite se extrae desde el principio** de la secuencia.\n",
    "\n",
    "**b**: Índice del **primer elemento que NO se extrae (en base 0)**. **Si se omite** se extrae **hasta el final** de la secuencia.\n",
    "\n",
    "**c**: **Tamaño del salto** a aplicar en la extracción. **Si se omite** se asume **1**.\n"
   ]
  },
  {
   "cell_type": "code",
   "execution_count": 5,
   "metadata": {},
   "outputs": [
    {
     "name": "stdout",
     "output_type": "stream",
     "text": [
      "(1, 2, 3, 4)\n",
      "(3, 4)\n",
      "[1, 2, 3]\n",
      "[3]\n",
      "esto es una cad\n",
      "et suacdn\n",
      "[4, 3, 2, 1]\n"
     ]
    }
   ],
   "source": [
    "tuple_1 = (1, 2, 3, 4)\n",
    "list_1 = [1, 2, 3, 4]\n",
    "str_1 = \"esto es una cadena\"\n",
    "\n",
    "print (tuple_1[:])\n",
    "print (tuple_1[2:])\n",
    "print (list_1[:3])\n",
    "print (list_1[2:3])\n",
    "print( str_1[:-3])\n",
    "print (str_1[::2])\n",
    "print (list_1[::-1])"
   ]
  },
  {
   "cell_type": "code",
   "execution_count": 6,
   "metadata": {},
   "outputs": [
    {
     "name": "stdout",
     "output_type": "stream",
     "text": [
      "[1, 2, 3, 4]\n",
      "[25, 2, 3]\n"
     ]
    }
   ],
   "source": [
    "list_2 = list_1[:3]\n",
    "list_2[0] = 25\n",
    "print (list_1)\n",
    "print (list_2)"
   ]
  },
  {
   "cell_type": "markdown",
   "metadata": {},
   "source": [
    "##### Longitud de secuencias: len()"
   ]
  },
  {
   "cell_type": "code",
   "execution_count": null,
   "metadata": {},
   "outputs": [],
   "source": [
    "tuple_1 = (1, 2, 3, 4)\n",
    "list_1 = [1, 2, 3, 4]\n",
    "str_1 = \"esto es una cadena\"\n",
    "\n",
    "print (len(tuple_1))\n",
    "print (len(list_1))\n",
    "print (len(str_1))"
   ]
  },
  {
   "cell_type": "markdown",
   "metadata": {},
   "source": [
    "##### Obtención del número de repeticiones de un elemento: .count()"
   ]
  },
  {
   "cell_type": "code",
   "execution_count": 7,
   "metadata": {},
   "outputs": [
    {
     "name": "stdout",
     "output_type": "stream",
     "text": [
      "1\n",
      "1\n",
      "3\n"
     ]
    }
   ],
   "source": [
    "tuple_1 = (1, 2, 3, 4)\n",
    "list_1 = [1, 2, 3, 4]\n",
    "str_1 = \"esto es una cadena\"\n",
    "\n",
    "print (tuple_1.count(1))\n",
    "print (list_1.count(1))\n",
    "print (str_1.count(\"e\"))"
   ]
  },
  {
   "cell_type": "markdown",
   "metadata": {},
   "source": [
    "##### Mezcla ordenada de secuencias: zip(secuencia1,secuencia2)"
   ]
  },
  {
   "cell_type": "code",
   "execution_count": 3,
   "metadata": {},
   "outputs": [
    {
     "name": "stdout",
     "output_type": "stream",
     "text": [
      "[(1, 'uno'), (2, 'dos'), (3, 'tres'), (4, 'cuatro'), (5, 'cinco')]\n"
     ]
    }
   ],
   "source": [
    "tuple_1 = (1, 2, 3, 4, 5)\n",
    "list_1 = [\"uno\", \"dos\", \"tres\", \"cuatro\", \"cinco\"]\n",
    "tuple_list = zip(tuple_1, list_1)\n",
    "print (list(tuple_list))"
   ]
  },
  {
   "cell_type": "markdown",
   "metadata": {},
   "source": [
    "##### Creación de secuencias numéricas: range(0,10)"
   ]
  },
  {
   "cell_type": "code",
   "execution_count": 10,
   "metadata": {},
   "outputs": [
    {
     "name": "stdout",
     "output_type": "stream",
     "text": [
      "range(0, 10)\n"
     ]
    }
   ],
   "source": [
    "list_1 = range(10)\n",
    "print (list_1)"
   ]
  },
  {
   "cell_type": "code",
   "execution_count": 11,
   "metadata": {
    "scrolled": true
   },
   "outputs": [
    {
     "name": "stdout",
     "output_type": "stream",
     "text": [
      "[0, 1, 2, 3, 4, 5, 6, 7, 8, 9]\n"
     ]
    }
   ],
   "source": [
    "list_1 = range(10)\n",
    "print (list(list_1))"
   ]
  },
  {
   "cell_type": "code",
   "execution_count": 12,
   "metadata": {},
   "outputs": [
    {
     "name": "stdout",
     "output_type": "stream",
     "text": [
      "[5, 6, 7, 8, 9]\n",
      "[0, 2, 4, 6, 8, 10, 12, 14, 16, 18, 20, 22, 24, 26, 28, 30, 32, 34, 36, 38, 40, 42, 44, 46, 48, 50, 52, 54, 56, 58, 60, 62, 64, 66, 68, 70, 72, 74, 76, 78, 80, 82, 84, 86, 88, 90, 92, 94, 96, 98]\n"
     ]
    }
   ],
   "source": [
    "list_2 = range(5, 10)\n",
    "print (list(list_2))\n",
    "\n",
    "list_3 = range(0, 100, 2)\n",
    "print (list(list_3))"
   ]
  },
  {
   "cell_type": "markdown",
   "metadata": {},
   "source": [
    "###### Adición de elementos a una lista (por el final) - SÓLO LISTAS: lista.append(element)"
   ]
  },
  {
   "cell_type": "code",
   "execution_count": null,
   "metadata": {},
   "outputs": [],
   "source": [
    "list_1 = [\"uno\", \"dos\"]\n",
    "list_1.append(\"tres\")\n",
    "print (list_1)"
   ]
  },
  {
   "cell_type": "markdown",
   "metadata": {},
   "source": [
    "###### Inserción un elemento en una posición específica - SÓLO LISTAS: lista.insert(posición,elemento)"
   ]
  },
  {
   "cell_type": "code",
   "execution_count": 4,
   "metadata": {},
   "outputs": [
    {
     "name": "stdout",
     "output_type": "stream",
     "text": [
      "['uno', 'dos', 'tres']\n"
     ]
    }
   ],
   "source": [
    "list_1 = [\"dos\", \"tres\"]\n",
    "list_1.insert(0, \"uno\")\n",
    "print (list_1)"
   ]
  },
  {
   "cell_type": "markdown",
   "metadata": {},
   "source": [
    "##### Asignación de valor a un slice - SÓLO LISTAS"
   ]
  },
  {
   "cell_type": "code",
   "execution_count": 13,
   "metadata": {},
   "outputs": [
    {
     "name": "stdout",
     "output_type": "stream",
     "text": [
      "[1, 2, 5, 6, 5]\n"
     ]
    }
   ],
   "source": [
    "list_1 = [1, 2, 3, 4, 5]\n",
    "list_1[2:4] = [5, 6]\n",
    "print (list_1)"
   ]
  },
  {
   "cell_type": "code",
   "execution_count": 16,
   "metadata": {},
   "outputs": [
    {
     "name": "stdout",
     "output_type": "stream",
     "text": [
      "[1, 2, 3, 4]\n"
     ]
    }
   ],
   "source": [
    "list_1[2:5] = [3, 4]\n",
    "print (list_1)"
   ]
  },
  {
   "cell_type": "markdown",
   "metadata": {},
   "source": [
    "###### Eliminación del primer elemento coincidente - SÓLO LISTAS: lista.remove(element)"
   ]
  },
  {
   "cell_type": "code",
   "execution_count": 18,
   "metadata": {},
   "outputs": [
    {
     "name": "stdout",
     "output_type": "stream",
     "text": [
      "[1, 2, 3]\n"
     ]
    }
   ],
   "source": [
    "list_1 = [1, 2, 3, [4, 5]]\n",
    "list_1.remove([4, 5])\n",
    "print (list_1)"
   ]
  },
  {
   "cell_type": "markdown",
   "metadata": {},
   "source": [
    "##### Eliminación de elementos por posición- SÓLO LISTAS: del lista[position]"
   ]
  },
  {
   "cell_type": "code",
   "execution_count": 17,
   "metadata": {},
   "outputs": [
    {
     "name": "stdout",
     "output_type": "stream",
     "text": [
      "[1, 2, 4, 5]\n"
     ]
    }
   ],
   "source": [
    "list_1 = [1, 2, 3, 4, 5]\n",
    "del list_1[2]\n",
    "print (list_1)"
   ]
  },
  {
   "cell_type": "markdown",
   "metadata": {},
   "source": [
    "##### Ordenación de elementos - SÓLO LISTAS:  lista.sort(reverse=True/False)"
   ]
  },
  {
   "cell_type": "code",
   "execution_count": 19,
   "metadata": {},
   "outputs": [
    {
     "name": "stdout",
     "output_type": "stream",
     "text": [
      "[1, 2, 3, 4, 5]\n",
      "[5, 4, 3, 2, 1]\n"
     ]
    }
   ],
   "source": [
    "list_1 = [1, 3, 4, 2, 5]\n",
    "list_1.sort()\n",
    "print (list_1)\n",
    "\n",
    "list_1.sort(reverse=True)\n",
    "print (list_1)"
   ]
  },
  {
   "cell_type": "markdown",
   "metadata": {},
   "source": [
    "##### Recuperación inversa de elementos - SÓLO LISTAS: lista.reverse()"
   ]
  },
  {
   "cell_type": "code",
   "execution_count": 20,
   "metadata": {},
   "outputs": [
    {
     "name": "stdout",
     "output_type": "stream",
     "text": [
      "[5, 2, 4, 3, 1]\n"
     ]
    }
   ],
   "source": [
    "list_1 = [1, 3, 4, 2, 5]\n",
    "list_1.reverse()\n",
    "print (list_1)"
   ]
  },
  {
   "cell_type": "markdown",
   "metadata": {},
   "source": [
    "##### Fusionar listas - SOLO LISTAS: lista1.extend(lista2) ALSO lista1+lista2"
   ]
  },
  {
   "cell_type": "code",
   "execution_count": 5,
   "metadata": {},
   "outputs": [
    {
     "name": "stdout",
     "output_type": "stream",
     "text": [
      "[1, 3, 4, 2, 5, 7, 8]\n"
     ]
    }
   ],
   "source": [
    "list_1 = [1, 3, 4, 2, 5]\n",
    "list_2 = [7,8]\n",
    "list_1.extend(list_2) \n",
    "print(list_1)\n"
   ]
  },
  {
   "cell_type": "code",
   "execution_count": 7,
   "metadata": {},
   "outputs": [
    {
     "name": "stdout",
     "output_type": "stream",
     "text": [
      "[1, 3, 4, 2, 5, 7, 8]\n"
     ]
    }
   ],
   "source": [
    "list_1 = [1, 3, 4, 2, 5]\n",
    "list_2 = [7,8]\n",
    "list_1+=list_2\n",
    "print(list_1)"
   ]
  },
  {
   "cell_type": "code",
   "execution_count": 25,
   "metadata": {},
   "outputs": [
    {
     "data": {
      "text/plain": [
       "[1, 3, 4, 2, 5, 7, 8]"
      ]
     },
     "execution_count": 25,
     "metadata": {},
     "output_type": "execute_result"
    }
   ],
   "source": [
    "list_1 = [1, 3, 4, 2, 5]\n",
    "list_2 = [7,8]\n",
    "final_list = list_1 + list_2\n",
    "final_list"
   ]
  },
  {
   "cell_type": "markdown",
   "metadata": {},
   "source": [
    "##### Conversión a mayúsculas/minúsculas - SÓLO CADENAS: string.upper()"
   ]
  },
  {
   "cell_type": "code",
   "execution_count": 26,
   "metadata": {},
   "outputs": [
    {
     "name": "stdout",
     "output_type": "stream",
     "text": [
      "ESTO ES UNA PRUEBA\n",
      "esto es una prueba\n"
     ]
    }
   ],
   "source": [
    "str_1 = \"esto es una prueba\"\n",
    "print (str_1.upper())\n",
    "\n",
    "str_2 = \"ESTO ES UNA PRUEBA\"\n",
    "print (str_2.lower())"
   ]
  },
  {
   "cell_type": "markdown",
   "metadata": {},
   "source": [
    "##### Segmentación por carácter - SÓLO CADENAS: string.split()"
   ]
  },
  {
   "cell_type": "code",
   "execution_count": 27,
   "metadata": {},
   "outputs": [
    {
     "name": "stdout",
     "output_type": "stream",
     "text": [
      "['esto', 'es', 'una', 'prueba']\n"
     ]
    }
   ],
   "source": [
    "str_1 = \"esto es una prueba\"\n",
    "print (str_1.split(\" \"))"
   ]
  },
  {
   "cell_type": "markdown",
   "metadata": {},
   "source": [
    "##### Reemplazo en cadenas - SÓLO CADENAS:  string.replace(to be replaced, new )"
   ]
  },
  {
   "cell_type": "code",
   "execution_count": 28,
   "metadata": {},
   "outputs": [
    {
     "name": "stdout",
     "output_type": "stream",
     "text": [
      "esto es otra prueba otra\n",
      "esto es otra prueba una\n"
     ]
    }
   ],
   "source": [
    "str_1 = \"esto es una prueba una\"\n",
    "print (str_1.replace(\"una\", \"otra\"))\n",
    "print (str_1.replace(\"una\", \"otra\",1))"
   ]
  },
  {
   "cell_type": "markdown",
   "metadata": {},
   "source": [
    "## Diccionarios (dict)"
   ]
  },
  {
   "cell_type": "markdown",
   "metadata": {},
   "source": [
    "Un diccionario es una estructura que:\n",
    "\n",
    "- Contiene un **listado de pares clave-valor**.\n",
    "- También se puede llamar array asociativo o <i>hash map</i>.\n",
    "- **Sin orden**\n",
    "- Cuyas **claves** son **cadenas de caracteres o valores numéricos**.\n",
    "- Cuyos **valores son valores o secuencias** (anidadas).</li>\n"
   ]
  },
  {
   "cell_type": "markdown",
   "metadata": {},
   "source": [
    "##### Creación de un diccionario"
   ]
  },
  {
   "cell_type": "code",
   "execution_count": 29,
   "metadata": {},
   "outputs": [
    {
     "name": "stdout",
     "output_type": "stream",
     "text": [
      "{'clave_1': 1, 'clave_2': 'prueba'}\n",
      "{10: 1, 2: 2}\n"
     ]
    }
   ],
   "source": [
    "dict_1 = {\"clave_1\": 1, \"clave_2\": \"prueba\"} \n",
    "print (dict_1)\n",
    "\n",
    "dict_2 = {10:1, 2:2}\n",
    "print (dict_2)"
   ]
  },
  {
   "cell_type": "markdown",
   "metadata": {},
   "source": [
    "##### Creación de diccionarios anidados"
   ]
  },
  {
   "cell_type": "code",
   "execution_count": 30,
   "metadata": {},
   "outputs": [
    {
     "name": "stdout",
     "output_type": "stream",
     "text": [
      "{'clave_1': 1, 'clave_2': {'clave_21': [1, 2, 3], 'clave_22': 'prueba'}}\n"
     ]
    }
   ],
   "source": [
    "dict_1 = {\"clave_1\": 1, \"clave_2\": {\"clave_21\": [1, 2, 3], \"clave_22\": \"prueba\"}}\n",
    "print (dict_1)"
   ]
  },
  {
   "cell_type": "markdown",
   "metadata": {},
   "source": [
    "##### Creación de diccionarios desde tuplas clave-valor: dict(zip(list2,list1))"
   ]
  },
  {
   "cell_type": "code",
   "execution_count": 31,
   "metadata": {},
   "outputs": [
    {
     "name": "stdout",
     "output_type": "stream",
     "text": [
      "{'uno': 1, 'dos': 2, 'tres': 3, 'cuatro': 4, 'cinco': 5}\n"
     ]
    }
   ],
   "source": [
    "tuple_1 = (1, 2, 3, 4, 5)\n",
    "list_1 = [\"uno\", \"dos\", \"tres\", \"cuatro\", \"cinco\"]\n",
    "dict_1 = dict(zip(list_1, tuple_1))\n",
    "print (dict_1)"
   ]
  },
  {
   "cell_type": "markdown",
   "metadata": {},
   "source": [
    "##### Unión de dos diccionarios: dict1.update(dict2)"
   ]
  },
  {
   "cell_type": "code",
   "execution_count": 10,
   "metadata": {},
   "outputs": [
    {
     "name": "stdout",
     "output_type": "stream",
     "text": [
      "{'clave_1': 1, 'clave_2': 2, 'clave_3': 3, 'clave_4': 4}\n"
     ]
    }
   ],
   "source": [
    "dict_1 = {\"clave_1\": 1, \"clave_2\": 2}\n",
    "dict_2 = {\"clave_3\": 3, \"clave_4\": 4}\n",
    "dict_1.update(dict_2)  \n",
    "print (dict_1)"
   ]
  },
  {
   "cell_type": "markdown",
   "metadata": {},
   "source": [
    "##### Inserción (o modificación) de un elemento del diccionario por clave: dict[clave]=nuevo valor"
   ]
  },
  {
   "cell_type": "code",
   "execution_count": null,
   "metadata": {},
   "outputs": [],
   "source": [
    "dict_1 = {\"clave_1\": 1, \"clave_2\": 2}\n",
    "dict_1[\"clave_3\"] = \"prueba\"\n",
    "dict_1[\"clave_1\"] = 50\n",
    "print (dict_1)"
   ]
  },
  {
   "cell_type": "markdown",
   "metadata": {},
   "source": [
    "##### Comprobación de si un elemento existe en el diccionario: clave in dict1"
   ]
  },
  {
   "cell_type": "code",
   "execution_count": 35,
   "metadata": {},
   "outputs": [
    {
     "name": "stdout",
     "output_type": "stream",
     "text": [
      "True\n",
      "False\n"
     ]
    }
   ],
   "source": [
    "dict_1 = {\"clave_1\": 1, \"clave_2\": \"prueba\"}\n",
    "print (\"clave_1\" in dict_1)\n",
    "print (1 in dict_1)"
   ]
  },
  {
   "cell_type": "markdown",
   "metadata": {},
   "source": [
    "##### Eliminación de un elemento de un diccionario: del dict1[clave]"
   ]
  },
  {
   "cell_type": "code",
   "execution_count": 36,
   "metadata": {},
   "outputs": [
    {
     "name": "stdout",
     "output_type": "stream",
     "text": [
      "{'clave_2': 'prueba'}\n"
     ]
    }
   ],
   "source": [
    "dict_1 = {\"clave_1\": 1, \"clave_2\": \"prueba\"}\n",
    "del dict_1[\"clave_1\"]\n",
    "print (dict_1)"
   ]
  },
  {
   "cell_type": "markdown",
   "metadata": {},
   "source": [
    "##### Eliminación de todos los elementos de un diccionario: dict.clear()"
   ]
  },
  {
   "cell_type": "code",
   "execution_count": 37,
   "metadata": {},
   "outputs": [
    {
     "name": "stdout",
     "output_type": "stream",
     "text": [
      "{}\n"
     ]
    }
   ],
   "source": [
    "dict_1 = {\"clave_1\": 1, \"clave_2\": \"prueba\"}\n",
    "dict_1.clear()\n",
    "print (dict_1)"
   ]
  },
  {
   "cell_type": "markdown",
   "metadata": {},
   "source": [
    "##### Acceso a un elemento por clave: dict1[clave]"
   ]
  },
  {
   "cell_type": "code",
   "execution_count": 38,
   "metadata": {},
   "outputs": [
    {
     "name": "stdout",
     "output_type": "stream",
     "text": [
      "1\n"
     ]
    }
   ],
   "source": [
    "dict_1 = {\"clave_1\": 1, \"clave_2\": \"prueba\"}\n",
    "print (dict_1[\"clave_1\"])"
   ]
  },
  {
   "cell_type": "markdown",
   "metadata": {},
   "source": [
    "##### Recuperación de elementos como una lista: list(dict1.items()): recupera (clave,valor)"
   ]
  },
  {
   "cell_type": "code",
   "execution_count": 39,
   "metadata": {},
   "outputs": [
    {
     "name": "stdout",
     "output_type": "stream",
     "text": [
      "[('clave_1', 1), ('clave_2', 2), ('clave_3', 3)]\n"
     ]
    }
   ],
   "source": [
    "dict_1 = {\"clave_1\": 1, \"clave_2\": 2, \"clave_3\": 3}\n",
    "print (list(dict_1.items()))"
   ]
  },
  {
   "cell_type": "markdown",
   "metadata": {},
   "source": [
    "##### Recuperación de claves como una lista: list(dict1.keys()) :recupera las claves"
   ]
  },
  {
   "cell_type": "code",
   "execution_count": 40,
   "metadata": {},
   "outputs": [
    {
     "name": "stdout",
     "output_type": "stream",
     "text": [
      "['clave_1', 'clave_2', 'clave_3']\n"
     ]
    }
   ],
   "source": [
    "dict_1 = {\"clave_1\": 1, \"clave_2\": 2, \"clave_3\": 3}\n",
    "print (list(dict_1.keys()))"
   ]
  },
  {
   "cell_type": "markdown",
   "metadata": {},
   "source": [
    "##### Recuperación de valores como una lista: list(dict1.values()) :recupera los valores"
   ]
  },
  {
   "cell_type": "code",
   "execution_count": 44,
   "metadata": {},
   "outputs": [
    {
     "name": "stdout",
     "output_type": "stream",
     "text": [
      "[1, 2, 3]\n"
     ]
    }
   ],
   "source": [
    "dict_1 = {\"clave_1\": 1, \"clave_2\": 2, \"clave_3\": 3}\n",
    "print (list(dict_1.values()))"
   ]
  },
  {
   "cell_type": "markdown",
   "metadata": {},
   "source": [
    "## Conjuntos (set): similar a los conjuntos de álgebra"
   ]
  },
  {
   "cell_type": "markdown",
   "metadata": {},
   "source": [
    "Un conjunto es una secuencia:\n",
    "<ul>\n",
    "<li>Unidimensional (de un único nivel)</li>\n",
    "<li>Mutable</li>\n",
    "<li>De tamaño variable (al ser mutable es obvio)</li>\n",
    "<li>Desordenada</li>\n",
    "<li>Cuyos elementos son valores o secuencias</li>\n",
    "<li>Cuyos elementos son únicos (no hay elementos repetidos)</li>\n",
    "</ul>"
   ]
  },
  {
   "cell_type": "markdown",
   "metadata": {},
   "source": [
    "##### Cración de un conjunto: ={elements}"
   ]
  },
  {
   "cell_type": "code",
   "execution_count": 45,
   "metadata": {},
   "outputs": [
    {
     "name": "stdout",
     "output_type": "stream",
     "text": [
      "{1, 2, 3, 4, 5}\n"
     ]
    }
   ],
   "source": [
    "set_1 = {1, 2, 3, 4, 5}\n",
    "print (set_1)"
   ]
  },
  {
   "cell_type": "markdown",
   "metadata": {},
   "source": [
    "##### Conversión/casting a conjunto: set(list)"
   ]
  },
  {
   "cell_type": "code",
   "execution_count": 46,
   "metadata": {},
   "outputs": [
    {
     "name": "stdout",
     "output_type": "stream",
     "text": [
      "<class 'set'>\n"
     ]
    }
   ],
   "source": [
    "list_1 = [1, 2, 3, 4, 5]\n",
    "set_1 = set(list_1)\n",
    "print (type(set_1))"
   ]
  },
  {
   "cell_type": "markdown",
   "metadata": {},
   "source": [
    "##### Unión de conjuntos: operador |"
   ]
  },
  {
   "cell_type": "code",
   "execution_count": 47,
   "metadata": {},
   "outputs": [
    {
     "name": "stdout",
     "output_type": "stream",
     "text": [
      "{1, 2, 3, 4, 5, 6, 7}\n"
     ]
    }
   ],
   "source": [
    "set_1 = {1, 2, 3, 4, 5}\n",
    "set_2 = {3, 4, 5, 6, 7}\n",
    "print (set_1 | set_2)"
   ]
  },
  {
   "cell_type": "markdown",
   "metadata": {},
   "source": [
    "##### Intersección de conjuntos: operador &"
   ]
  },
  {
   "cell_type": "code",
   "execution_count": 48,
   "metadata": {},
   "outputs": [
    {
     "name": "stdout",
     "output_type": "stream",
     "text": [
      "{3, 4, 5}\n"
     ]
    }
   ],
   "source": [
    "set_1 = {1, 2, 3, 4, 5}\n",
    "set_2 = {3, 4, 5, 6, 7}\n",
    "print (set_1 & set_2)"
   ]
  },
  {
   "cell_type": "markdown",
   "metadata": {},
   "source": [
    "##### Diferencia de conjuntos: operador -"
   ]
  },
  {
   "cell_type": "code",
   "execution_count": 49,
   "metadata": {},
   "outputs": [
    {
     "name": "stdout",
     "output_type": "stream",
     "text": [
      "{1, 2}\n",
      "{6, 7}\n"
     ]
    }
   ],
   "source": [
    "set_1 = {1, 2, 3, 4, 5}\n",
    "set_2 = {3, 4, 5, 6, 7}\n",
    "print (set_1 - set_2)\n",
    "print (set_2 - set_1)"
   ]
  },
  {
   "cell_type": "markdown",
   "metadata": {},
   "source": [
    "##### Diferencia simétrica de conjuntos - (Unión - Intersección): operador ^"
   ]
  },
  {
   "cell_type": "code",
   "execution_count": 50,
   "metadata": {},
   "outputs": [
    {
     "name": "stdout",
     "output_type": "stream",
     "text": [
      "{1, 2, 6, 7}\n",
      "{1, 2, 6, 7}\n"
     ]
    }
   ],
   "source": [
    "set_1 = {1, 2, 3, 4, 5}\n",
    "set_2 = {3, 4, 5, 6, 7}\n",
    "print (set_1 ^ set_2)\n",
    "print( set_2 ^ set_1)"
   ]
  },
  {
   "cell_type": "markdown",
   "metadata": {},
   "source": [
    "##### Inserción de elementos en un conjunto: set.add(nuevo elemento)"
   ]
  },
  {
   "cell_type": "code",
   "execution_count": 52,
   "metadata": {},
   "outputs": [
    {
     "name": "stdout",
     "output_type": "stream",
     "text": [
      "{1, 2, 3, 4, 5, 6}\n"
     ]
    }
   ],
   "source": [
    "set_1 = {1, 2, 3, 4, 5}\n",
    "set_1.add(6)\n",
    "print (set_1)"
   ]
  },
  {
   "cell_type": "markdown",
   "metadata": {},
   "source": [
    "##### Comprobación de existencia de un elemento en el conjunto: elemento in set1"
   ]
  },
  {
   "cell_type": "code",
   "execution_count": 53,
   "metadata": {},
   "outputs": [
    {
     "data": {
      "text/plain": [
       "True"
      ]
     },
     "execution_count": 53,
     "metadata": {},
     "output_type": "execute_result"
    }
   ],
   "source": [
    "set_1 = {1, 2, 3, 4, 5}\n",
    "3 in set_1"
   ]
  },
  {
   "cell_type": "markdown",
   "metadata": {},
   "source": [
    "##### Comprobación de subconjunto: set1>=set2 (set2 incluido en set1)"
   ]
  },
  {
   "cell_type": "code",
   "execution_count": 13,
   "metadata": {},
   "outputs": [
    {
     "data": {
      "text/plain": [
       "False"
      ]
     },
     "execution_count": 13,
     "metadata": {},
     "output_type": "execute_result"
    }
   ],
   "source": [
    "set_1 = {1, 2, 3, 4, 5}\n",
    "set_2 = {1, 2, 3}\n",
    "set_1 >= set_2"
   ]
  },
  {
   "cell_type": "markdown",
   "metadata": {},
   "source": [
    "##### Comprobación de superconjunto"
   ]
  },
  {
   "cell_type": "code",
   "execution_count": 55,
   "metadata": {},
   "outputs": [
    {
     "data": {
      "text/plain": [
       "True"
      ]
     },
     "execution_count": 55,
     "metadata": {},
     "output_type": "execute_result"
    }
   ],
   "source": [
    "set_1 = {1, 2, 3, 4, 5}\n",
    "set_2 = {1, 2, 3}\n",
    "set_2 <= set_1"
   ]
  },
  {
   "cell_type": "markdown",
   "metadata": {},
   "source": [
    "##### Eliminación de un elemento de un conjunto por valor: set1.remove(elemento) O set1.discard(elemento)"
   ]
  },
  {
   "cell_type": "code",
   "execution_count": 19,
   "metadata": {},
   "outputs": [
    {
     "name": "stdout",
     "output_type": "stream",
     "text": [
      "{2, 3, 4}\n"
     ]
    }
   ],
   "source": [
    "set_1 = {1, 2, 3, 4, 5}\n",
    "set_1.remove(5)\n",
    "\n",
    "set_1.discard(1) #Elimina elemento (si no existe en el conjunto no pasa nada)\n",
    "print (set_1)"
   ]
  },
  {
   "cell_type": "markdown",
   "metadata": {},
   "source": [
    "##### Eliminación de todos los elementos de un conjunto: set1.clear()"
   ]
  },
  {
   "cell_type": "code",
   "execution_count": null,
   "metadata": {},
   "outputs": [],
   "source": [
    "set_1 = {1, 2, 3, 4, 5}\n",
    "set_1.clear()\n",
    "print (set_1)"
   ]
  }
 ],
 "metadata": {
  "anaconda-cloud": {},
  "kernelspec": {
   "display_name": "Python 3",
   "language": "python",
   "name": "python3"
  },
  "language_info": {
   "codemirror_mode": {
    "name": "ipython",
    "version": 3
   },
   "file_extension": ".py",
   "mimetype": "text/x-python",
   "name": "python",
   "nbconvert_exporter": "python",
   "pygments_lexer": "ipython3",
   "version": "3.7.3"
  }
 },
 "nbformat": 4,
 "nbformat_minor": 1
}
