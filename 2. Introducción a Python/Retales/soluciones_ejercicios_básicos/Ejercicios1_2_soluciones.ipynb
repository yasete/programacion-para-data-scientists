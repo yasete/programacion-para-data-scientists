{
 "cells": [
  {
   "cell_type": "markdown",
   "metadata": {},
   "source": [
    "# Introducción a Python - Ejercicios"
   ]
  },
  {
   "cell_type": "markdown",
   "metadata": {},
   "source": [
    "### 1. Declarar dos variables numéricas y realizar la división entre ambas ¿De qué tipo es la variable respuesta? ¿Qué podemos hacer para que sea un entero?"
   ]
  },
  {
   "cell_type": "code",
   "execution_count": null,
   "metadata": {},
   "outputs": [],
   "source": [
    "a=3\n",
    "b=6\n",
    "c=b/a\n",
    "print(c)\n",
    "print(type(c))\n",
    "print(int(c))"
   ]
  },
  {
   "cell_type": "markdown",
   "metadata": {},
   "source": [
    "### 2.  De dos números, comprobar cuál es el mayor."
   ]
  },
  {
   "cell_type": "code",
   "execution_count": null,
   "metadata": {},
   "outputs": [],
   "source": [
    "a > b "
   ]
  },
  {
   "cell_type": "markdown",
   "metadata": {},
   "source": [
    "### 3. Escribir un programa que solicite al usuario su nombre y edad, e imprima por pantalla:\n",
    "\n",
    "Su nombre es: Juan  \n",
    "\n",
    "Su edad es: 35"
   ]
  },
  {
   "cell_type": "code",
   "execution_count": null,
   "metadata": {},
   "outputs": [],
   "source": [
    "nombre_edad = input(\"Escribe tu nombre y edad:  \")\n"
   ]
  },
  {
   "cell_type": "code",
   "execution_count": null,
   "metadata": {},
   "outputs": [],
   "source": [
    "nombre, edad = nombre_edad.split(\",\")\n",
    "nombre\n",
    "edad"
   ]
  },
  {
   "cell_type": "code",
   "execution_count": null,
   "metadata": {},
   "outputs": [],
   "source": [
    "nombre = input(\"Escribe tu nombre:  \")\n",
    "edad = input(\"Escribe tu edad: \")\n",
    "print(\"Su nombre es:\" + nombre)\n",
    "print(\"Su edad es:\" + edad)"
   ]
  },
  {
   "cell_type": "markdown",
   "metadata": {},
   "source": [
    "### 4. Construir dos listas y extender la primera, para que también tenga los elementos de la segunda. Hacer lo mismo con una tupla."
   ]
  },
  {
   "cell_type": "code",
   "execution_count": null,
   "metadata": {},
   "outputs": [],
   "source": [
    "lista_1 = [12, 123,35, 563]\n",
    "lista_2 = [34, 10,20, 40]\n",
    "lista_1.extend(lista_2)\n",
    "print (lista_1)\n",
    "\n",
    "\n",
    "tupla_1 = (12, 123,35, 563)\n",
    "tupla_2 = (34, 10,20, 40)\n",
    "tupla_3 = tupla_1 + tupla_2\n",
    "print (tupla_3)\n"
   ]
  },
  {
   "cell_type": "markdown",
   "metadata": {},
   "source": [
    "### 5. Crear dos cadenas de caracteres y concaterlas."
   ]
  },
  {
   "cell_type": "code",
   "execution_count": null,
   "metadata": {},
   "outputs": [],
   "source": [
    "a = \"Hola\"\n",
    "b = \" Mundo\"\n",
    "c = a + b\n",
    "c"
   ]
  },
  {
   "cell_type": "markdown",
   "metadata": {},
   "source": [
    "### 6. Crear una tupla e imprimir por pantalla su tercer elemento. "
   ]
  },
  {
   "cell_type": "code",
   "execution_count": null,
   "metadata": {},
   "outputs": [],
   "source": [
    "tupla = (1,2,3,4)\n",
    "print(tupla[2])"
   ]
  },
  {
   "cell_type": "markdown",
   "metadata": {},
   "source": [
    "### 7. Crear una cadena de caracteres y convertirla a una lista."
   ]
  },
  {
   "cell_type": "code",
   "execution_count": null,
   "metadata": {},
   "outputs": [],
   "source": [
    "cadena1 = \"Me llamo Jorge\"\n",
    "lista1 = list(cadena1)\n",
    "print(lista1)"
   ]
  },
  {
   "cell_type": "markdown",
   "metadata": {},
   "source": [
    "### 8. Comprobar si tu nombre contiene la letra _o_."
   ]
  },
  {
   "cell_type": "code",
   "execution_count": null,
   "metadata": {},
   "outputs": [],
   "source": [
    "nombre=\"miguel\"\n",
    "contiene=\"o\" in nombre\n",
    "print(contiene)"
   ]
  },
  {
   "cell_type": "markdown",
   "metadata": {},
   "source": [
    "### 9. Escribir tu nombre y apellidos y convertilo todo a mayúscula."
   ]
  },
  {
   "cell_type": "code",
   "execution_count": null,
   "metadata": {},
   "outputs": [],
   "source": [
    "str_1 = \"Marta Zubimendi\"\n",
    "print (str_1.upper())"
   ]
  },
  {
   "cell_type": "markdown",
   "metadata": {},
   "source": [
    "### 10. Escribir un programa que solicite al usuario una lista de números separados por coma, construya una lista y una tupla a partir de la lista recibida y las muestre por pantalla"
   ]
  },
  {
   "cell_type": "code",
   "execution_count": null,
   "metadata": {},
   "outputs": [],
   "source": [
    "numeros = input('Introduzca numeros separados por comas:').split(',')\n",
    "print (numeros)\n",
    "\n",
    "tupla = tuple(numeros)\n",
    "print (tupla)"
   ]
  },
  {
   "cell_type": "markdown",
   "metadata": {},
   "source": [
    "### 11. Escribir un programa que solicite al usuario un listado de nombres separados por punto y coma, construya una lista e imprima por pantalla los elementos pares de la lista"
   ]
  },
  {
   "cell_type": "code",
   "execution_count": null,
   "metadata": {},
   "outputs": [],
   "source": [
    "entrada = input(\"Listado de nombres separados por ;\").split(';')\n",
    "print(entrada)\n",
    "print (entrada[1::2])"
   ]
  },
  {
   "cell_type": "markdown",
   "metadata": {},
   "source": [
    "### 12. Escribir un programa que solicite al usuario dos cadenas de texto y detecte si la segunda está contenida en la primera."
   ]
  },
  {
   "cell_type": "code",
   "execution_count": null,
   "metadata": {},
   "outputs": [],
   "source": [
    "cad_txt1 = input('Introduzca varias palabras: ')\n",
    "cad_txt2 = input('Introduzca una palabra: ')\n",
    "cad_txt2 in cad_txt1"
   ]
  },
  {
   "cell_type": "markdown",
   "metadata": {},
   "source": [
    "### 13. Escribir un programa que solicite al usuario una lista de nombres separados por coma, una posición y devuelva la lista de nombres sustituyendo el que aparece en la posición indicada por \"Miguel\""
   ]
  },
  {
   "cell_type": "code",
   "execution_count": null,
   "metadata": {},
   "outputs": [],
   "source": [
    "nombres = input('Introduzca una lista de nombres separados por coma: ').split(',')\n",
    "pos = input('Introduzca una posicion: ')\n",
    "pos = int(pos)\n",
    "\n",
    "nombres[pos-1]='Miguel'\n",
    "print(nombres)"
   ]
  },
  {
   "cell_type": "markdown",
   "metadata": {},
   "source": [
    "### 14. Crear una lista de 10 números y devolver del cuarto al octavo elemento."
   ]
  },
  {
   "cell_type": "code",
   "execution_count": null,
   "metadata": {},
   "outputs": [],
   "source": [
    "lista = list(range(10))\n",
    "lista[3:8]"
   ]
  },
  {
   "cell_type": "markdown",
   "metadata": {},
   "source": [
    "### 15. Crear un diccionario a partir de dos listas (los elementos de una de ellas deben ser las claves del diccionario y los elementos de la otra, los valores del diccionario)."
   ]
  },
  {
   "cell_type": "code",
   "execution_count": null,
   "metadata": {},
   "outputs": [],
   "source": [
    "list_1 = [\"clave_1\", \"clave_2\", \"clave_3\", \"clave_4\"]\n",
    "list_2 = [1, 2, 3, 4]\n",
    "dic_1 = dict(zip(list_1, list_2))\n",
    "print(dic_1)"
   ]
  },
  {
   "cell_type": "code",
   "execution_count": null,
   "metadata": {},
   "outputs": [],
   "source": []
  },
  {
   "cell_type": "markdown",
   "metadata": {},
   "source": [
    "### 16. Insertar en el diccionario anterior un nuevo valor, cuya clave sea \"nueva_clave\"."
   ]
  },
  {
   "cell_type": "code",
   "execution_count": null,
   "metadata": {},
   "outputs": [],
   "source": [
    "dic_1[\"clave_nueva\"] = 5\n",
    "print(dic_1)"
   ]
  },
  {
   "cell_type": "markdown",
   "metadata": {
    "collapsed": true
   },
   "source": [
    "### 17. Modificar el valor añadido al diccionario, accediendo por la clave \"nueva_clave\"."
   ]
  },
  {
   "cell_type": "code",
   "execution_count": null,
   "metadata": {},
   "outputs": [],
   "source": [
    "dic_1[\"clave_nueva\"] = 7\n",
    "print(dic_1)"
   ]
  },
  {
   "cell_type": "markdown",
   "metadata": {},
   "source": [
    "### 18.  Eliminar todos los elementos del diccionario creado."
   ]
  },
  {
   "cell_type": "code",
   "execution_count": null,
   "metadata": {},
   "outputs": [],
   "source": [
    "dic_1.clear()\n",
    "dic_1"
   ]
  },
  {
   "cell_type": "markdown",
   "metadata": {},
   "source": [
    "### 19. Crear dos listas y calcular su unión e intersección."
   ]
  },
  {
   "cell_type": "code",
   "execution_count": null,
   "metadata": {},
   "outputs": [],
   "source": [
    "list_1 = [1,2,3,4,5,8,5,6]\n",
    "list_2 = [10,11,12,13,14,2,6,8]\n",
    "list_1 + list_2"
   ]
  },
  {
   "cell_type": "code",
   "execution_count": null,
   "metadata": {},
   "outputs": [],
   "source": [
    "list_1 = [1,2,3,4,5,8,5,6]\n",
    "list_2 = [10,11,12,13,14,2,6,8]\n",
    "set_1 = set(list_1)\n",
    "set_2 = set(list_2)\n",
    "print(list(set_1 | set_2))\n",
    "print(list(set_1 & set_2))"
   ]
  },
  {
   "cell_type": "markdown",
   "metadata": {
    "collapsed": true
   },
   "source": [
    "### 20. Crear dos conjuntos y calcular su unión, intersección y diferencia simétrica."
   ]
  },
  {
   "cell_type": "code",
   "execution_count": null,
   "metadata": {},
   "outputs": [],
   "source": [
    "set1 = {1,2,3,6,4}\n",
    "set2 = {3,4,7,8}"
   ]
  },
  {
   "cell_type": "code",
   "execution_count": null,
   "metadata": {},
   "outputs": [],
   "source": [
    "set1 ^ set2"
   ]
  }
 ],
 "metadata": {
  "anaconda-cloud": {},
  "kernelspec": {
   "display_name": "Python 3",
   "language": "python",
   "name": "python3"
  },
  "language_info": {
   "codemirror_mode": {
    "name": "ipython",
    "version": 3
   },
   "file_extension": ".py",
   "mimetype": "text/x-python",
   "name": "python",
   "nbconvert_exporter": "python",
   "pygments_lexer": "ipython3",
   "version": "3.7.4"
  }
 },
 "nbformat": 4,
 "nbformat_minor": 1
}
