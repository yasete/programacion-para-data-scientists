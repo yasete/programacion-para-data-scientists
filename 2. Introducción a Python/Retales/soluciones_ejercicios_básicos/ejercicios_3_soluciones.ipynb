{
 "cells": [
  {
   "cell_type": "markdown",
   "metadata": {},
   "source": [
    "### 1. Escriba un programa que pida dos números enteros y que calcule su división, escribiendo si la división es exacta o no."
   ]
  },
  {
   "cell_type": "code",
   "execution_count": null,
   "metadata": {},
   "outputs": [],
   "source": [
    "numerador = input(\"Dame el numerador: \")\n",
    "denominador = input(\"Dame el denominador: \")\n",
    "resultado = int(numerador)/int(denominador)\n",
    "print(resultado)\n",
    "if int(numerador)%int(denominador) > 0:\n",
    "    print(\"La division NO es exacta\")\n",
    "else:\n",
    "     print(\"La division SÍ es exacta\")"
   ]
  },
  {
   "cell_type": "markdown",
   "metadata": {},
   "source": [
    "### 2. Escriba un programa que pida dos números y que conteste cuál es el menor y cuál el mayor o que escriba que son iguales."
   ]
  },
  {
   "cell_type": "code",
   "execution_count": null,
   "metadata": {},
   "outputs": [],
   "source": [
    "numero1 = int(input(\"Dame un numuero: \"))\n",
    "numero2 = int(input(\"Dame otro numero: \"))\n",
    "if numero1 > numero2:\n",
    "    print(\"El primer número es mayor\")\n",
    "elif numero1 < numero2:\n",
    "    print(\"El segundo número es mayor\")\n",
    "else:\n",
    "    print(\"Son iguales\")"
   ]
  },
  {
   "cell_type": "markdown",
   "metadata": {},
   "source": [
    "### 3. Escriba un programa que pida dos números enteros y que escriba si el mayor es múltiplo del menor."
   ]
  },
  {
   "cell_type": "code",
   "execution_count": null,
   "metadata": {},
   "outputs": [],
   "source": [
    "numero1 = int(input(\"Dame un numuero: \"))\n",
    "numero2 = int(input(\"Dame otro numero: \"))\n",
    "if numero1 > numero2:\n",
    "    if numero1 % numero2 == 0:\n",
    "        print(\"es multiplo del menor\")\n",
    "    else:\n",
    "        print(\"no es multiplo del menor\")\n",
    "elif numero1 < numero2:\n",
    "    if numero2 % numero1 == 0:\n",
    "        print(\"es multiplo del menor\")\n",
    "    else:\n",
    "        print(\"no es multiplo del menor\")   \n",
    "else:\n",
    "    print(\"Son iguales\")"
   ]
  },
  {
   "cell_type": "code",
   "execution_count": null,
   "metadata": {},
   "outputs": [],
   "source": [
    "numero = input(\"Escribe 2 numeros enteros: \").split(',')\n",
    "numero[0] = int(numero[0])\n",
    "numero[1] = int(numero[1])\n",
    "num_max = max(numero)\n",
    "num_min = min(numero)\n",
    "\n",
    "if num_max == num_min:\n",
    "    print(\"los numeros son iguales\")\n",
    "else:  \n",
    "    if num_max % num_min == 0:\n",
    "        print(\"El mayor es el multiplo del menor\")\n",
    "    else: \n",
    "        print(\"El mayor no es multiplo del menor\")"
   ]
  },
  {
   "cell_type": "markdown",
   "metadata": {},
   "source": [
    "### 4.  Escriba un programa que pida la edad de una persona y diga si es bebé (menor de 4 años), niño (menor de 15 años), adolescente (menor de 19 años), adulto (menor de 70 años o igual) o anciano (mayor de 70 años)."
   ]
  },
  {
   "cell_type": "code",
   "execution_count": null,
   "metadata": {},
   "outputs": [],
   "source": [
    "edad = int(input(\"Introducir edad: \"))\n",
    "if edad < 0:\n",
    "    print (\"No es posible esa edad, vuelva a probar\")\n",
    "elif  edad <4:\n",
    "    print (\"bebe\")\n",
    "elif  edad <15:\n",
    "    print (\"niño\")\n",
    "elif  edad <19:\n",
    "    print (\"adolescente\")\n",
    "elif edad <= 70 :\n",
    "    print (\" adulto\")\n",
    "else:\n",
    "    print(\"anciano\")"
   ]
  },
  {
   "cell_type": "markdown",
   "metadata": {},
   "source": [
    "### 5. Escriba un programa que pida un número entero mayor que cero y que escriba sus divisores."
   ]
  },
  {
   "cell_type": "code",
   "execution_count": null,
   "metadata": {},
   "outputs": [],
   "source": [
    "num=int(input(\"Escribe un número: \"))\n",
    "\n",
    "for i in range(1,num+1):\n",
    "    if num%i==0:\n",
    "        print(i)\n"
   ]
  },
  {
   "cell_type": "markdown",
   "metadata": {},
   "source": [
    "### 6. Escriba un programa que pida un número entero mayor que 1 y que escriba si el número es un número primo o no."
   ]
  },
  {
   "cell_type": "code",
   "execution_count": null,
   "metadata": {},
   "outputs": [],
   "source": [
    "num = int(input('Escriba un N>1: '))\n",
    "for i in range(2,num):\n",
    "    if num%i ==0:\n",
    "        print ('No es un número primo')\n",
    "        break\n",
    "if (i+1) == num:\n",
    "    print ('Es un número primo')"
   ]
  },
  {
   "cell_type": "code",
   "execution_count": null,
   "metadata": {},
   "outputs": [],
   "source": [
    "n = int(input('Escriba un N>1: '))\n",
    "k = 0\n",
    "\n",
    "for i in range(1,n+1):\n",
    "    if n % i == 0:\n",
    "        k += 1\n",
    "        \n",
    "if k == 2:\n",
    "    print('primo')\n",
    "else:\n",
    "    print('No primo')"
   ]
  },
  {
   "cell_type": "markdown",
   "metadata": {},
   "source": [
    "### 7. Escribir un programa que pida un número y calcule la suma desde 1 hasta ese número"
   ]
  },
  {
   "cell_type": "code",
   "execution_count": null,
   "metadata": {},
   "outputs": [],
   "source": [
    "num_7 = input(\"Introduzca un número\")\n",
    "\n",
    "lista_7 = list(range(1, int(num_7) + 1))\n",
    "suma1 = 0\n",
    "for numero in lista_7:\n",
    "    suma1 += numero\n",
    "print(suma1)"
   ]
  },
  {
   "cell_type": "code",
   "execution_count": null,
   "metadata": {},
   "outputs": [],
   "source": [
    "range(1,40)"
   ]
  },
  {
   "cell_type": "markdown",
   "metadata": {},
   "source": [
    "### 8. Imrpime por pantalla la sucesión de Fibonacci de los 100 primeros números."
   ]
  },
  {
   "cell_type": "code",
   "execution_count": null,
   "metadata": {},
   "outputs": [],
   "source": [
    "lista8 = []\n",
    "x = 0\n",
    "y = 1\n",
    "for i in range(1,101):\n",
    "    x,y = y,x+y\n",
    "    lista8.append(x)\n",
    "lista8"
   ]
  },
  {
   "cell_type": "code",
   "execution_count": null,
   "metadata": {},
   "outputs": [],
   "source": [
    "l = list(range((100))) #l = []\n",
    "l[0]=0\n",
    "l[1]=1  \n",
    "\n",
    "for i in range(2,100):\n",
    "        l[i] = l[i-2] + l[i-1]\n",
    "\n",
    "print(l)"
   ]
  },
  {
   "cell_type": "markdown",
   "metadata": {},
   "source": [
    "### 9. Sumar los números impares del 1 al 100 y mostrar sólo el resultado, usando while."
   ]
  },
  {
   "cell_type": "code",
   "execution_count": null,
   "metadata": {},
   "outputs": [],
   "source": [
    "i=0\n",
    "impares = []\n",
    "while i<100:\n",
    "    i = i+1\n",
    "    if i%2==0:continue\n",
    "    else: impares.append(i)\n",
    "print (sum(impares))"
   ]
  },
  {
   "cell_type": "code",
   "execution_count": null,
   "metadata": {},
   "outputs": [],
   "source": [
    "cont=0\n",
    "for i in range(101):\n",
    "    if i%2!=0:\n",
    "        cont+=i\n",
    "\n",
    "print(cont)"
   ]
  },
  {
   "cell_type": "markdown",
   "metadata": {},
   "source": [
    "### 10.  Crea una lista de nombres y devuelve otra lista con las iniciales de los nombres que aparecen en la primera. Hazlo de dos formas: usando bucles y usando lista por compresión.\n"
   ]
  },
  {
   "cell_type": "code",
   "execution_count": null,
   "metadata": {},
   "outputs": [],
   "source": [
    "lista= [\"Héctor\",\"Ana\",\"Irene\",\"Manolo\"]\n",
    "iniciales=[]\n",
    "for elem in lista:\n",
    "    iniciales.append(elem[0])\n",
    "print(iniciales)"
   ]
  },
  {
   "cell_type": "code",
   "execution_count": null,
   "metadata": {},
   "outputs": [],
   "source": [
    "iniciales1= [elem[0] for elem in lista]\n",
    "iniciales1"
   ]
  },
  {
   "cell_type": "markdown",
   "metadata": {},
   "source": [
    "### 11.  Crea una lista de nombres y apellidos, y devuelve otra lista sólo con los apellidos."
   ]
  },
  {
   "cell_type": "code",
   "execution_count": null,
   "metadata": {},
   "outputs": [],
   "source": [
    "lista_11 = ['Rodrigo Peña', 'Maria Martinez', 'Roberto Berizzo']\n",
    "cadena_11 = str(lista_11)\n",
    "a = cadena_11.split(' ')\n",
    "lista_111 = []\n",
    "lista_111.append(a[1::2])\n",
    "\n",
    "print(lista_111)\n",
    "print(a)"
   ]
  },
  {
   "cell_type": "code",
   "execution_count": null,
   "metadata": {},
   "outputs": [],
   "source": [
    "apellidos = []\n",
    "for nombre in lista_11:\n",
    "    a = nombre.split(' ')[1]\n",
    "    apellidos.append(a)\n",
    "apellidos"
   ]
  },
  {
   "cell_type": "code",
   "execution_count": null,
   "metadata": {},
   "outputs": [],
   "source": [
    "apellidos = [nombre.split(' ')[1] for nombre in lista_11]\n",
    "apellidos"
   ]
  },
  {
   "cell_type": "markdown",
   "metadata": {},
   "source": [
    "### 12. Crea un diccionario de nombres de alumnos y notas y devuelve los nombres de los alumnos que estén suspensos."
   ]
  },
  {
   "cell_type": "code",
   "execution_count": null,
   "metadata": {},
   "outputs": [],
   "source": [
    "dicc1 = {\"Juan\": 5, \"Pedro\": 4, \"Irene\": 8, \"Maria\":2}\n",
    "for item in dicc1.keys():\n",
    "    if dicc1[item] < 5:\n",
    "        print(item)"
   ]
  },
  {
   "cell_type": "code",
   "execution_count": null,
   "metadata": {},
   "outputs": [],
   "source": [
    "dicc1 = {\"Juan\": 5, \"Pedro\": 4, \"Irene\": 8, \"Maria\":2}\n",
    "suspensos = [item for item in dicc1 if dicc1[item] < 5]\n",
    "suspensos"
   ]
  },
  {
   "cell_type": "markdown",
   "metadata": {},
   "source": [
    "### 13. Crea un programa que pida al usuario dos números y haga su división. Haz control de excepciones para que avise al usuario si el denominador es cero. "
   ]
  },
  {
   "cell_type": "code",
   "execution_count": null,
   "metadata": {},
   "outputs": [],
   "source": [
    "def fun (num1,num2):\n",
    "    try:\n",
    "         resultado= num1/num2\n",
    "        return resultado\n",
    "    except:\n",
    "        print(\"No se puede hacer la división\")\n",
    "fun(\"hola\",2)"
   ]
  },
  {
   "cell_type": "code",
   "execution_count": null,
   "metadata": {},
   "outputs": [],
   "source": [
    "def result (num1,num2):\n",
    "    if num2!=0:\n",
    "        resultado= num1/num2\n",
    "        print (resultado)\n",
    "    else:\n",
    "        print(\"No se puede hacer la división porque el denominador es 0\")\n",
    "result(4,0)"
   ]
  },
  {
   "cell_type": "markdown",
   "metadata": {
    "collapsed": true
   },
   "source": [
    "### 14. Escribe un programa que pida al usuario un número entero. El programa debe pedir al usuario números, hasta que éste introduzca el número 13. En este caso, el programa debe devolver: \"Enhorabuena, le ha tocado el premio\". \n",
    "##### Pista: debes usar un bucle while con \"algo más.\""
   ]
  },
  {
   "cell_type": "code",
   "execution_count": null,
   "metadata": {},
   "outputs": [],
   "source": [
    "numero = int(input(' Escribe un numero entero: '))\n",
    "while numero != 13:\n",
    "    print('Lo siento, intentelo de nuevo')\n",
    "    numero = int(input('Escriba otro numero: '))\n",
    "\n",
    "print('Enhorabuena, le ha tocado el premio')"
   ]
  },
  {
   "cell_type": "code",
   "execution_count": null,
   "metadata": {},
   "outputs": [],
   "source": []
  }
 ],
 "metadata": {
  "kernelspec": {
   "display_name": "Python 3",
   "language": "python",
   "name": "python3"
  },
  "language_info": {
   "codemirror_mode": {
    "name": "ipython",
    "version": 3
   },
   "file_extension": ".py",
   "mimetype": "text/x-python",
   "name": "python",
   "nbconvert_exporter": "python",
   "pygments_lexer": "ipython3",
   "version": "3.7.4"
  }
 },
 "nbformat": 4,
 "nbformat_minor": 2
}
