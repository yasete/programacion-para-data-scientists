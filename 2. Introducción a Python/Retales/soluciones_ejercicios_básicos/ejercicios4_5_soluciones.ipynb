{
 "cells": [
  {
   "cell_type": "markdown",
   "metadata": {},
   "source": [
    "### 1. Escribe una función que reciba como parámetro un año y que escriba si es bisiesto o no.\n",
    "** Se recuerda que los años bisiestos son múltiplos de 4, pero los múltiplos de 100 no lo son, aunque los múltiplos de 400 sí. Estos son algunos ejemplos de posibles respuestas: 2012 es bisiesto, 2010 no es bisiesto, 2000 es bisiesto, 1900 no es bisiesto. **"
   ]
  },
  {
   "cell_type": "code",
   "execution_count": null,
   "metadata": {},
   "outputs": [],
   "source": [
    "def años_bisiestos (año):\n",
    "    if año%4 ==0 and año%100 != 0 or año%400 ==0 :\n",
    "        return(str(año)+' es bisiesto')\n",
    "    else:\n",
    "        return(str(año)+ ' no es bisiesto')"
   ]
  },
  {
   "cell_type": "code",
   "execution_count": null,
   "metadata": {},
   "outputs": [],
   "source": [
    "a = años_bisiestos(1900) \n",
    "a"
   ]
  },
  {
   "cell_type": "code",
   "execution_count": null,
   "metadata": {},
   "outputs": [],
   "source": [
    "años_bisiestos(2012)"
   ]
  },
  {
   "cell_type": "markdown",
   "metadata": {},
   "source": [
    "### 2. Escriba un programa que pida dos años y escriba cuántos años bisiestos hay entre esas dos fechas (incluidos los dos años)."
   ]
  },
  {
   "cell_type": "code",
   "execution_count": null,
   "metadata": {},
   "outputs": [],
   "source": [
    "\n",
    "def bisiesto2(year):\n",
    "    count = 0\n",
    "    if year%4!=0: count+=0\n",
    "\n",
    "    elif year%400==0: count+=1\n",
    "    elif year%100==0: count+=0\n",
    "    else: count+=1\n",
    "    return count\n",
    "\n",
    "\n",
    "def bis_entre_años(año1,año2):\n",
    "    lista = list(range(año1, año2+1))\n",
    "    a = 0\n",
    "    for year in lista:\n",
    "        a += bisiesto2(year)\n",
    "    return a     \n"
   ]
  },
  {
   "cell_type": "code",
   "execution_count": null,
   "metadata": {},
   "outputs": [],
   "source": [
    "bis_entre_años(2000, 2009)\n"
   ]
  },
  {
   "cell_type": "markdown",
   "metadata": {},
   "source": [
    "### 3. Definir una función que tome dos listas y devuelva True si tienen al menos 1 elemento en común o devuelva False de lo contrario."
   ]
  },
  {
   "cell_type": "code",
   "execution_count": null,
   "metadata": {},
   "outputs": [],
   "source": [
    "uno=[1,2,3,4,5,10]\n",
    "dos=[4,5,6,7,8,9]\n",
    "\n",
    "def comp_lista(lista1=[],lista2=[]):\n",
    "    coincidencia=False\n",
    "    for i in lista1:\n",
    "        for j in lista2:\n",
    "            if i==j:\n",
    "                coincidencia=True\n",
    "    return coincidencia\n",
    "\n",
    "\n",
    "\n",
    "comp_lista(uno,dos)"
   ]
  },
  {
   "cell_type": "code",
   "execution_count": null,
   "metadata": {},
   "outputs": [],
   "source": [
    "comp_lista()"
   ]
  },
  {
   "cell_type": "code",
   "execution_count": null,
   "metadata": {},
   "outputs": [],
   "source": [
    "uno=[1,2,3,4,5,10]\n",
    "dos=[4,5,6,7,8,9]\n",
    "\n",
    "def comp_lista2(lista1,lista2):\n",
    "    coincidencia=False\n",
    "    for i in lista1:\n",
    "        if i in lista2:\n",
    "            coincidencia=True\n",
    "    return coincidencia\n",
    "\n",
    "comp_lista(uno,dos)"
   ]
  },
  {
   "cell_type": "code",
   "execution_count": null,
   "metadata": {},
   "outputs": [],
   "source": [
    "uno=[1,2,3,4,5,10]\n",
    "dos=[4,5,6,7,8,9]\n",
    "\n",
    "def comp_lista2(lista1,lista2):\n",
    "    for i in lista1:\n",
    "        if i in lista2:\n",
    "            print(True)\n",
    "            break\n",
    "\n",
    "comp_lista(uno,dos)"
   ]
  },
  {
   "cell_type": "code",
   "execution_count": null,
   "metadata": {},
   "outputs": [],
   "source": [
    "uno=[1,2,3,10,4]\n",
    "dos=[4,5,6,7,8,9]\n",
    "\n",
    "def comparar(lista1,lista2):\n",
    "    l = [i for i in lista1 if i in lista2]\n",
    "    print(l)\n",
    "    return len(l)>0\n",
    "\n",
    "comparar(uno,dos)"
   ]
  },
  {
   "cell_type": "code",
   "execution_count": null,
   "metadata": {},
   "outputs": [],
   "source": [
    "uno=[1,2,3,10,4]\n",
    "dos=[4,5,6,7,8,9]\n",
    "\n",
    "def comparar2(lista1,lista2):\n",
    "    i = set(lista1) & set(lista2)\n",
    "    return len(i)>0\n",
    "\n",
    "comparar2(uno,dos)"
   ]
  },
  {
   "cell_type": "markdown",
   "metadata": {},
   "source": [
    "### 4. Escribe (y utiliza) una función que calcule el área de un círculo, recibiendo como parámetro (opcional de valor por defecto 1) su radio. El módulo math de Python contiene una constante para PI."
   ]
  },
  {
   "cell_type": "code",
   "execution_count": null,
   "metadata": {},
   "outputs": [],
   "source": [
    "def areaC(radio = 1):\n",
    "    import math as ma\n",
    "    area = ma.pi * radio ** 2\n",
    "    return area"
   ]
  },
  {
   "cell_type": "code",
   "execution_count": null,
   "metadata": {},
   "outputs": [],
   "source": [
    "areaC()"
   ]
  },
  {
   "cell_type": "markdown",
   "metadata": {},
   "source": [
    "### 5. Escribe (y utiliza) una función que calcule la longitud y el área de un círculo, recibiendo como parámetro (opcional de valor por defecto 1) su radio. El módulo math de Python contiene una constante para PI. \n",
    "#### Nota: la función debe devolver dos valores: la longitud y el área."
   ]
  },
  {
   "cell_type": "code",
   "execution_count": null,
   "metadata": {},
   "outputs": [],
   "source": [
    "def areaLC(radio = 1):\n",
    "    import math as ma\n",
    "    area = ma.pi * radio ** 2\n",
    "    longitud = radio * 2 * ma.pi\n",
    "    return area, longitud"
   ]
  },
  {
   "cell_type": "code",
   "execution_count": null,
   "metadata": {},
   "outputs": [],
   "source": [
    "area, longitud = areaLC(2)\n",
    "area"
   ]
  },
  {
   "cell_type": "code",
   "execution_count": null,
   "metadata": {},
   "outputs": [],
   "source": []
  }
 ],
 "metadata": {
  "kernelspec": {
   "display_name": "Python 3",
   "language": "python",
   "name": "python3"
  },
  "language_info": {
   "codemirror_mode": {
    "name": "ipython",
    "version": 3
   },
   "file_extension": ".py",
   "mimetype": "text/x-python",
   "name": "python",
   "nbconvert_exporter": "python",
   "pygments_lexer": "ipython3",
   "version": "3.7.4"
  }
 },
 "nbformat": 4,
 "nbformat_minor": 2
}
