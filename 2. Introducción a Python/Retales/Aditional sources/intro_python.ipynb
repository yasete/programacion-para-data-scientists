{
 "cells": [
  {
   "cell_type": "code",
   "execution_count": 1,
   "metadata": {},
   "outputs": [],
   "source": [
    "from builtins import *\n",
    "raw_input = input"
   ]
  },
  {
   "cell_type": "markdown",
   "metadata": {
    "colab_type": "text",
    "id": "QkMHhZRQjMJZ"
   },
   "source": [
    "# Introduction to Python with stops at Pandas, NumPy, and Matplotlib\n",
    "\n",
    "## Table of Contents \n",
    "\n",
    "1. [Introduction to Python](#intro)\n",
    "    - Interpreted vs. Compiled languages\n",
    "    - Data types in Python\n",
    "    - Variables in Python\n",
    "    - Stdin - Stdout (input and print)\n",
    "    - Importing modules\n",
    "<br><br>\n",
    "2. [Arithmetic and Logical operations](#arithmetic)\n",
    "    - Number types in Python\n",
    "    - Arithmetic operators\n",
    "    - Logical and Relational operators\n",
    "    - Introduction to Boolean functions\n",
    "<br><br>\n",
    "3. [String operations](#string)\n",
    "    - Slicing\n",
    "    - Testing strings\n",
    "<br><br>\n",
    "4. [Data type conversion](#convert)\n",
    "    - Conversions\n",
    "    - Rounding\n",
    "<br><br>\n",
    "5. [Control Flow operations](#control)\n",
    "    - If, elif, else\n",
    "    - Nested if\n",
    "<br><br>\n",
    "6. [Loops](#loop)\n",
    "    - For loop\n",
    "    - While loop\n",
    "    - Exercise on loops\n",
    "<br><br>\n",
    "7. [Data Structures in Python](#ds)\n",
    "    - Lists\n",
    "    - Tuples\n",
    "    - Dictionaries\n",
    "    - Exercise on Data Structures\n",
    "    - List Comprehension\n",
    "<br><br>\n",
    "8. [Functions in Python](#func)\n",
    "    - Functions with return and no-return statements\n",
    "    - Variable scopes (local and global)\n",
    "<br><br>\n",
    "9. [File Handling in Python](#file)\n",
    "    - Writing to a file\n",
    "    - Reading from a file\n",
    "<br><br>\n",
    "10. Array operations using NumPy\n",
    "    - Simple array operations\n",
    "    - Random number generations\n",
    "    - Permutation generator\n",
    "<br><br>\n",
    "11. Pandas introduction\n",
    "    - Dataframe intro and simple operations\n",
    "    - Dataframe operations such as ‘drop’, ‘isnan’, ‘concat’, ‘columns’, etc.\n",
    "<br><br>\n",
    "12. Matplotlib visualizations of data\n",
    "    - Line plot\n",
    "    - Scatter plot\n",
    "    - Correlation matrix\n",
    "\n",
    "## Introduction to Python\n",
    "<a id=\"intro\"></a>\n",
    "\n",
    "Python is a general purpose programming language created by Guido Van Rossum. Its suitable for many applications such as Web, GUI development, Financial calculation, Data Analysis, Machine learning and Data Sciences, and Visualization to name a few.\n",
    "\n",
    "Python is an interpreted language which means the interpreter reads the Python code line-by-line and executes the operations. This is in contrast to the compiled language like C or C++ where the compiler compiles the entire code before hand and generates an executable for running the code.\n",
    "\n",
    "How is this better? Error debugging is easy, beginner friendly and there is no need for trivial operations such as calculating array lengths before hand. The caveat - interpreted languages are little bit slow.\n",
    "\n",
    "Python is programmer friendly. There is no need to declare datatypes such as `int a` or `char c` to assign a variable. There is definitely no need to initialize array sizes as well. Most of Python modules are open-sourced and can easily be imported to the source code being developed to NOT re-invent the wheel every time.\n",
    "\n",
    "### Data types in Python\n",
    "\n",
    "The 6 types of data types of Python are:\n",
    "\n",
    "1. Numbers: `0, 5.6, 3+2j`\n",
    "2. String: `\"Python is great!\", 'a', '1'`\n",
    "3. Boolean: `True, False` \n",
    "4. List: `[1, 2, 3, 4]`\n",
    "5. Dictionary: `{'Name':'Vodafone', 'Age': 35}`\n",
    "6. Tuple: `(1, 2, 3, 4, 5)`\n",
    "\n",
    "The last 3 on the list are also called data structures of Python since it houses multiple values. All of them will be dealt with in detail later.\n",
    "\n",
    "### Variables\n",
    "\n",
    "Variables are named locations that store references to objects (values) stored in memory. The variable names are called **Identifiers**. These identifiers must obey the following rules:\n",
    "\n",
    "1. Must start with a letter or an underscore(`_`). Identifiers starting with a digit is invalid. Although, there can be digits in any other locations.<br>For ex: `_variable, name_1`\n",
    "2. Can have any length\n",
    "3. Keywords are prohibited from usage. The list of Python keywords can be found [here](https://www.programiz.com/python-programming/keyword-list)\n",
    "\n",
    "#### Assignment of values of variables\n",
    "\n",
    "Values are assigned to variables using an assignment operator `=`. They can be any of the 6 data types listed above."
   ]
  },
  {
   "cell_type": "code",
   "execution_count": null,
   "metadata": {},
   "outputs": [],
   "source": []
  },
  {
   "cell_type": "code",
   "execution_count": 2,
   "metadata": {
    "colab": {
     "autoexec": {
      "startup": false,
      "wait_interval": 0
     }
    },
    "colab_type": "code",
    "id": "m5e4eOfbjMJb"
   },
   "outputs": [],
   "source": [
    "# Few examples of variable assignments\n",
    "\n",
    "x = 100 # integer\n",
    "var_float = 2.5 # float\n",
    "name_string = \"Vodafone rocks!\" # String\n",
    "del(name_string) # deleting a variable to save memory\n",
    "a = b = c = 250 # Multiple variable assignment in a single line"
   ]
  },
  {
   "cell_type": "code",
   "execution_count": null,
   "metadata": {},
   "outputs": [],
   "source": []
  },
  {
   "cell_type": "markdown",
   "metadata": {
    "colab_type": "text",
    "id": "1n5cm1FwjMJk"
   },
   "source": [
    "#### Comments in Python\n",
    "\n",
    "You might have noticed the piece of text that follows after a `#`. This is called a single-line comment. Comments are not executed and are ignored by the interpreter. Comments can be single line or multi-line. These are usually used to write a brief information about an operation that precedes or follows it."
   ]
  },
  {
   "cell_type": "code",
   "execution_count": 3,
   "metadata": {
    "colab": {
     "autoexec": {
      "startup": false,
      "wait_interval": 0
     }
    },
    "colab_type": "code",
    "id": "bbnjbMztjMJl"
   },
   "outputs": [],
   "source": [
    "# This is a single line comment.\n",
    "#  Anything that follows the # in a line is not interpreted\n",
    "\n",
    "\"\"\"\n",
    "Multi-line comments are typed between a pair of 3 consecutive quotes\n",
    "\n",
    "Multi-line comments do not need # to begin with\n",
    "\n",
    "a = 100 is not executed\n",
    "\"\"\"\n",
    "# Usage of a comment\n",
    "x = 100 # Initialized x to 100"
   ]
  },
  {
   "cell_type": "code",
   "execution_count": 4,
   "metadata": {
    "colab": {
     "autoexec": {
      "startup": false,
      "wait_interval": 0
     },
     "base_uri": "https://localhost:8080/",
     "height": 34
    },
    "colab_type": "code",
    "executionInfo": {
     "elapsed": 626,
     "status": "ok",
     "timestamp": 1525521335984,
     "user": {
      "displayName": "aycacanli@hotmail.com",
      "photoUrl": "https://lh3.googleusercontent.com/a/default-user=s128",
      "userId": "106415820899870547758"
     },
     "user_tz": -180
    },
    "id": "xWEvSyKJjMJp",
    "outputId": "1b18794f-b56b-422a-be1a-0ff0dbde2cb7"
   },
   "outputs": [
    {
     "data": {
      "text/plain": [
       "10"
      ]
     },
     "execution_count": 4,
     "metadata": {},
     "output_type": "execute_result"
    }
   ],
   "source": [
    "# Swap two variables a and b\n",
    "a = 10\n",
    "b = 20\n",
    "\n",
    "#a, b = b, a # b is now 10, a is now 20\n",
    "\n",
    "\n",
    "b,a=a,b\n",
    "\n",
    "b"
   ]
  },
  {
   "cell_type": "markdown",
   "metadata": {
    "colab_type": "text",
    "id": "y-vYe9gujMJs"
   },
   "source": [
    "### Standard Input and output in Python\n",
    "\n",
    "Python takes in inputs from users interactively using a stdin function called `input`. The value fed to `input` will be assigned to a variable and will be of type string - even if the entered value is a number. \n",
    "\n",
    "To display a value of a variable or to display a string on a console,  we use `print` statements. Python3 explicitly need a pair of paranthesis `()` to use `print`"
   ]
  },
  {
   "cell_type": "code",
   "execution_count": 5,
   "metadata": {
    "colab": {
     "autoexec": {
      "startup": false,
      "wait_interval": 0
     },
     "base_uri": "https://localhost:8080/",
     "height": 102
    },
    "colab_type": "code",
    "executionInfo": {
     "elapsed": 678,
     "status": "ok",
     "timestamp": 1525521960956,
     "user": {
      "displayName": "aycacanli@hotmail.com",
      "photoUrl": "https://lh3.googleusercontent.com/a/default-user=s128",
      "userId": "106415820899870547758"
     },
     "user_tz": -180
    },
    "id": "54SlQPY9jMJt",
    "outputId": "8c969882-e885-48b3-f69c-3edc1c230c82"
   },
   "outputs": [
    {
     "name": "stdout",
     "output_type": "stream",
     "text": [
      "Please enter your name: Vodafone Data Scientist\n",
      "Vodafone Data Scientist\n",
      "100\n",
      "Welcome Vodafone Data Scientist\n",
      "The value of a is: 100\n",
      "The value of a using format is 100\n",
      "The value of a is 100, a + 100 is 200 and finally a - 50 is 50\n",
      "100,101\n"
     ]
    }
   ],
   "source": [
    "# input and print example\n",
    "\n",
    "user_input = raw_input('Please enter your name: ') # Takes in user input\n",
    "print (user_input) # prints the entered input\n",
    "\n",
    "# Print value of a variable\n",
    "a = 100\n",
    "print (a)\n",
    "# print with text\n",
    "print (\"Welcome\", user_input)\n",
    "print ('The value of a is: %d' %(a)) # using format specifier\n",
    "print (\"The value of a using format is {}\".format(a)) # using 'format'\n",
    "\n",
    "# Multiple values in format\n",
    "print (\"The value of a is {}, a + 100 is {} and finally a - 50 is {}\".format(a, a + 100, a - 50))\n",
    "\n",
    "print (\"{},{}\".format(a,a+1))"
   ]
  },
  {
   "cell_type": "markdown",
   "metadata": {
    "colab_type": "text",
    "id": "hFTryHKUjMJz"
   },
   "source": [
    "`%d` is called a format specifier which will be dealt with later. This must be correctly specified depending on the type of the variable. `type` gives the data type of the value housed by the variable. "
   ]
  },
  {
   "cell_type": "code",
   "execution_count": 6,
   "metadata": {
    "colab": {
     "autoexec": {
      "startup": false,
      "wait_interval": 0
     },
     "base_uri": "https://localhost:8080/",
     "height": 52
    },
    "colab_type": "code",
    "executionInfo": {
     "elapsed": 809,
     "status": "ok",
     "timestamp": 1525253083888,
     "user": {
      "displayName": "Niall Walsh",
      "photoUrl": "https://lh3.googleusercontent.com/a/default-user=s128",
      "userId": "114124776939263762925"
     },
     "user_tz": -60
    },
    "id": "PNeEuke9jMJz",
    "outputId": "70554ddd-699b-4c44-e29b-661ca96512dd"
   },
   "outputs": [
    {
     "name": "stdout",
     "output_type": "stream",
     "text": [
      "The type of variable a is <class 'int'>\n",
      "The type of variable user_input is <class 'str'>\n"
     ]
    }
   ],
   "source": [
    "# The data type of variable a and user_input\n",
    "print (\"The type of variable a is\", type(a))\n",
    "print (\"The type of variable user_input is\", type(user_input))"
   ]
  },
  {
   "cell_type": "markdown",
   "metadata": {
    "colab_type": "text",
    "id": "eR6Bc_aZjMJ4"
   },
   "source": [
    "### Importing modules\n",
    "\n",
    "It is practically impossible to script everything from scratch. Python has in-built modules which are ready to use. This makes the code more modular and are imported using the keyword `import`. By convention, only the required sub-modules are imported. `*` is used to import all of them."
   ]
  },
  {
   "cell_type": "code",
   "execution_count": 7,
   "metadata": {
    "colab": {
     "autoexec": {
      "startup": false,
      "wait_interval": 0
     },
     "base_uri": "https://localhost:8080/",
     "height": 4590
    },
    "colab_type": "code",
    "executionInfo": {
     "elapsed": 622,
     "status": "ok",
     "timestamp": 1525522001309,
     "user": {
      "displayName": "aycacanli@hotmail.com",
      "photoUrl": "https://lh3.googleusercontent.com/a/default-user=s128",
      "userId": "106415820899870547758"
     },
     "user_tz": -180
    },
    "id": "k1oRbTVeN37H",
    "outputId": "62983f32-c216-4aa6-9672-cbbd09c373c0"
   },
   "outputs": [
    {
     "name": "stdout",
     "output_type": "stream",
     "text": [
      "Help on module math:\n",
      "\n",
      "NAME\n",
      "    math\n",
      "\n",
      "MODULE REFERENCE\n",
      "    https://docs.python.org/3.6/library/math\n",
      "    \n",
      "    The following documentation is automatically generated from the Python\n",
      "    source files.  It may be incomplete, incorrect or include features that\n",
      "    are considered implementation detail and may vary between Python\n",
      "    implementations.  When in doubt, consult the module reference at the\n",
      "    location listed above.\n",
      "\n",
      "DESCRIPTION\n",
      "    This module is always available.  It provides access to the\n",
      "    mathematical functions defined by the C standard.\n",
      "\n",
      "FUNCTIONS\n",
      "    acos(...)\n",
      "        acos(x)\n",
      "        \n",
      "        Return the arc cosine (measured in radians) of x.\n",
      "    \n",
      "    acosh(...)\n",
      "        acosh(x)\n",
      "        \n",
      "        Return the inverse hyperbolic cosine of x.\n",
      "    \n",
      "    asin(...)\n",
      "        asin(x)\n",
      "        \n",
      "        Return the arc sine (measured in radians) of x.\n",
      "    \n",
      "    asinh(...)\n",
      "        asinh(x)\n",
      "        \n",
      "        Return the inverse hyperbolic sine of x.\n",
      "    \n",
      "    atan(...)\n",
      "        atan(x)\n",
      "        \n",
      "        Return the arc tangent (measured in radians) of x.\n",
      "    \n",
      "    atan2(...)\n",
      "        atan2(y, x)\n",
      "        \n",
      "        Return the arc tangent (measured in radians) of y/x.\n",
      "        Unlike atan(y/x), the signs of both x and y are considered.\n",
      "    \n",
      "    atanh(...)\n",
      "        atanh(x)\n",
      "        \n",
      "        Return the inverse hyperbolic tangent of x.\n",
      "    \n",
      "    ceil(...)\n",
      "        ceil(x)\n",
      "        \n",
      "        Return the ceiling of x as an Integral.\n",
      "        This is the smallest integer >= x.\n",
      "    \n",
      "    copysign(...)\n",
      "        copysign(x, y)\n",
      "        \n",
      "        Return a float with the magnitude (absolute value) of x but the sign \n",
      "        of y. On platforms that support signed zeros, copysign(1.0, -0.0) \n",
      "        returns -1.0.\n",
      "    \n",
      "    cos(...)\n",
      "        cos(x)\n",
      "        \n",
      "        Return the cosine of x (measured in radians).\n",
      "    \n",
      "    cosh(...)\n",
      "        cosh(x)\n",
      "        \n",
      "        Return the hyperbolic cosine of x.\n",
      "    \n",
      "    degrees(...)\n",
      "        degrees(x)\n",
      "        \n",
      "        Convert angle x from radians to degrees.\n",
      "    \n",
      "    erf(...)\n",
      "        erf(x)\n",
      "        \n",
      "        Error function at x.\n",
      "    \n",
      "    erfc(...)\n",
      "        erfc(x)\n",
      "        \n",
      "        Complementary error function at x.\n",
      "    \n",
      "    exp(...)\n",
      "        exp(x)\n",
      "        \n",
      "        Return e raised to the power of x.\n",
      "    \n",
      "    expm1(...)\n",
      "        expm1(x)\n",
      "        \n",
      "        Return exp(x)-1.\n",
      "        This function avoids the loss of precision involved in the direct evaluation of exp(x)-1 for small x.\n",
      "    \n",
      "    fabs(...)\n",
      "        fabs(x)\n",
      "        \n",
      "        Return the absolute value of the float x.\n",
      "    \n",
      "    factorial(...)\n",
      "        factorial(x) -> Integral\n",
      "        \n",
      "        Find x!. Raise a ValueError if x is negative or non-integral.\n",
      "    \n",
      "    floor(...)\n",
      "        floor(x)\n",
      "        \n",
      "        Return the floor of x as an Integral.\n",
      "        This is the largest integer <= x.\n",
      "    \n",
      "    fmod(...)\n",
      "        fmod(x, y)\n",
      "        \n",
      "        Return fmod(x, y), according to platform C.  x % y may differ.\n",
      "    \n",
      "    frexp(...)\n",
      "        frexp(x)\n",
      "        \n",
      "        Return the mantissa and exponent of x, as pair (m, e).\n",
      "        m is a float and e is an int, such that x = m * 2.**e.\n",
      "        If x is 0, m and e are both 0.  Else 0.5 <= abs(m) < 1.0.\n",
      "    \n",
      "    fsum(...)\n",
      "        fsum(iterable)\n",
      "        \n",
      "        Return an accurate floating point sum of values in the iterable.\n",
      "        Assumes IEEE-754 floating point arithmetic.\n",
      "    \n",
      "    gamma(...)\n",
      "        gamma(x)\n",
      "        \n",
      "        Gamma function at x.\n",
      "    \n",
      "    gcd(...)\n",
      "        gcd(x, y) -> int\n",
      "        greatest common divisor of x and y\n",
      "    \n",
      "    hypot(...)\n",
      "        hypot(x, y)\n",
      "        \n",
      "        Return the Euclidean distance, sqrt(x*x + y*y).\n",
      "    \n",
      "    isclose(...)\n",
      "        isclose(a, b, *, rel_tol=1e-09, abs_tol=0.0) -> bool\n",
      "        \n",
      "        Determine whether two floating point numbers are close in value.\n",
      "        \n",
      "           rel_tol\n",
      "               maximum difference for being considered \"close\", relative to the\n",
      "               magnitude of the input values\n",
      "            abs_tol\n",
      "               maximum difference for being considered \"close\", regardless of the\n",
      "               magnitude of the input values\n",
      "        \n",
      "        Return True if a is close in value to b, and False otherwise.\n",
      "        \n",
      "        For the values to be considered close, the difference between them\n",
      "        must be smaller than at least one of the tolerances.\n",
      "        \n",
      "        -inf, inf and NaN behave similarly to the IEEE 754 Standard.  That\n",
      "        is, NaN is not close to anything, even itself.  inf and -inf are\n",
      "        only close to themselves.\n",
      "    \n",
      "    isfinite(...)\n",
      "        isfinite(x) -> bool\n",
      "        \n",
      "        Return True if x is neither an infinity nor a NaN, and False otherwise.\n",
      "    \n",
      "    isinf(...)\n",
      "        isinf(x) -> bool\n",
      "        \n",
      "        Return True if x is a positive or negative infinity, and False otherwise.\n",
      "    \n",
      "    isnan(...)\n",
      "        isnan(x) -> bool\n",
      "        \n",
      "        Return True if x is a NaN (not a number), and False otherwise.\n",
      "    \n",
      "    ldexp(...)\n",
      "        ldexp(x, i)\n",
      "        \n",
      "        Return x * (2**i).\n",
      "    \n",
      "    lgamma(...)\n",
      "        lgamma(x)\n",
      "        \n",
      "        Natural logarithm of absolute value of Gamma function at x.\n",
      "    \n",
      "    log(...)\n",
      "        log(x[, base])\n",
      "        \n",
      "        Return the logarithm of x to the given base.\n",
      "        If the base not specified, returns the natural logarithm (base e) of x.\n",
      "    \n",
      "    log10(...)\n",
      "        log10(x)\n",
      "        \n",
      "        Return the base 10 logarithm of x.\n",
      "    \n",
      "    log1p(...)\n",
      "        log1p(x)\n",
      "        \n",
      "        Return the natural logarithm of 1+x (base e).\n",
      "        The result is computed in a way which is accurate for x near zero.\n",
      "    \n",
      "    log2(...)\n",
      "        log2(x)\n",
      "        \n",
      "        Return the base 2 logarithm of x.\n",
      "    \n",
      "    modf(...)\n",
      "        modf(x)\n",
      "        \n",
      "        Return the fractional and integer parts of x.  Both results carry the sign\n",
      "        of x and are floats.\n",
      "    \n",
      "    pow(...)\n",
      "        pow(x, y)\n",
      "        \n",
      "        Return x**y (x to the power of y).\n",
      "    \n",
      "    radians(...)\n",
      "        radians(x)\n",
      "        \n",
      "        Convert angle x from degrees to radians.\n",
      "    \n",
      "    sin(...)\n",
      "        sin(x)\n",
      "        \n",
      "        Return the sine of x (measured in radians).\n",
      "    \n",
      "    sinh(...)\n",
      "        sinh(x)\n",
      "        \n",
      "        Return the hyperbolic sine of x.\n",
      "    \n",
      "    sqrt(...)\n",
      "        sqrt(x)\n",
      "        \n",
      "        Return the square root of x.\n",
      "    \n",
      "    tan(...)\n",
      "        tan(x)\n",
      "        \n",
      "        Return the tangent of x (measured in radians).\n",
      "    \n",
      "    tanh(...)\n",
      "        tanh(x)\n",
      "        \n",
      "        Return the hyperbolic tangent of x.\n",
      "    \n",
      "    trunc(...)\n",
      "        trunc(x:Real) -> Integral\n",
      "        \n",
      "        Truncates x to the nearest Integral toward 0. Uses the __trunc__ magic method.\n",
      "\n",
      "DATA\n",
      "    e = 2.718281828459045\n",
      "    inf = inf\n",
      "    nan = nan\n",
      "    pi = 3.141592653589793\n",
      "    tau = 6.283185307179586\n",
      "\n",
      "FILE\n",
      "    /home/alliedtoasters/miniconda3/lib/python3.6/lib-dynload/math.cpython-36m-x86_64-linux-gnu.so\n",
      "\n",
      "\n",
      "None\n"
     ]
    }
   ],
   "source": [
    "import math\n",
    "\n",
    "print(help(math))"
   ]
  },
  {
   "cell_type": "code",
   "execution_count": 8,
   "metadata": {
    "colab": {
     "autoexec": {
      "startup": false,
      "wait_interval": 0
     },
     "base_uri": "https://localhost:8080/",
     "height": 69
    },
    "colab_type": "code",
    "executionInfo": {
     "elapsed": 792,
     "status": "ok",
     "timestamp": 1525253084908,
     "user": {
      "displayName": "Niall Walsh",
      "photoUrl": "https://lh3.googleusercontent.com/a/default-user=s128",
      "userId": "114124776939263762925"
     },
     "user_tz": -60
    },
    "id": "22RcF6hojMJ5",
    "outputId": "9b5e4510-7f11-4aa4-bc68-00b542898da9"
   },
   "outputs": [
    {
     "name": "stdout",
     "output_type": "stream",
     "text": [
      "Value of Pi is 3.141592653589793\n",
      "Value of square root of 4 is 2.0\n",
      "Cosine of 0 is 1.0\n"
     ]
    }
   ],
   "source": [
    "# import math to use in-built math functions and values\n",
    "import math\n",
    "print (\"Value of Pi is\", math.pi)\n",
    "\n",
    "# import square root sub-module\n",
    "from math import sqrt\n",
    "print (\"Value of square root of 4 is\", sqrt(4))\n",
    "# importing specific sub-modules only imports that particular sub-module\n",
    "# Uncomment the below line and see what happens\n",
    "# print (cos(0))\n",
    "\n",
    "# import entire math module and print cosine of 0\n",
    "from math import *\n",
    "print (\"Cosine of 0 is\", cos(0))"
   ]
  },
  {
   "cell_type": "markdown",
   "metadata": {
    "colab_type": "text",
    "id": "nmQQZj1wjMJ9"
   },
   "source": [
    "Importing unnecessary modules will consume memory that needs saving. Notice when we use the `math`(module name) followed by a `.` then name of the variable or function."
   ]
  },
  {
   "cell_type": "markdown",
   "metadata": {
    "colab_type": "text",
    "id": "bUGWaV-njMJ-"
   },
   "source": [
    "## Arithmetic and Logical Operators\n",
    "\n",
    "<a id=\"arithmetic\"></a>\n",
    "\n",
    "### Number types in Python\n",
    "\n",
    "There are 3 different numerical types:\n",
    "\n",
    "1. integers (`int`, `%d`):\n",
    "    Eg. 1, 40, 100, 1e4(10000)\n",
    "2. floating point (`float`, `%f`):\n",
    "    Eg. 2.3, 4.6, 100.0\n",
    "3. complex:\n",
    "    Eg. 3+2j\n",
    "    \n",
    "Wrapping `type()` around the value or variable give the type of the number. `%d` and `%f` are format specifiers used to represent integer and float values, respectively when accessing them in a string.\n",
    "\n",
    "### Arithmetic operators\n",
    "\n",
    "These operators are used with numerical values to perform arithmetic operations. The list of them are:\n",
    "\n",
    "1. Addition(+): Adds two numerical values (Used with strings too, dealt later)\n",
    "2. Subtraction(-): Subtracts two numerical values\n",
    "3. Multiplication(*): Multiplies two numerical values \n",
    "4. Float Division(/): Division of two numerical values, returns floating point quotient \n",
    "5. Quotient Division(//): Division of two numerical values, returns integer quotient \n",
    "6. Exponentiation(**): Yields exponent of a base value to the desired exponent\n",
    "7. Modulus(remainder)(%): Returns remainder of a division \n",
    "\n",
    "Here are few examples:"
   ]
  },
  {
   "cell_type": "code",
   "execution_count": 9,
   "metadata": {
    "colab": {
     "autoexec": {
      "startup": false,
      "wait_interval": 0
     },
     "base_uri": "https://localhost:8080/",
     "height": 153
    },
    "colab_type": "code",
    "executionInfo": {
     "elapsed": 1036,
     "status": "ok",
     "timestamp": 1525522329662,
     "user": {
      "displayName": "aycacanli@hotmail.com",
      "photoUrl": "https://lh3.googleusercontent.com/a/default-user=s128",
      "userId": "106415820899870547758"
     },
     "user_tz": -180
    },
    "id": "OsY9gZ5mjMJ_",
    "outputId": "e363f450-e001-4518-b04f-a7ab93f94412"
   },
   "outputs": [
    {
     "name": "stdout",
     "output_type": "stream",
     "text": [
      "Int addition: 15\n",
      "Float addition: 12.5\n",
      "Subtraction of 5.900000 from 8.500000 is: 2.600000\n",
      "Product: 50.150000000000006\n",
      "Float Division: 1.6 \n",
      "Integer Division: 1.0\n",
      "Exponent of 8 to power of 2: 64\n",
      "Modulus(remainder): % 2\n"
     ]
    }
   ],
   "source": [
    "# Addition of two numbers\n",
    "print (\"Int addition:\", 5 + 10)\n",
    "\n",
    "# Addition of int and float yields a float\n",
    "print (\"Float addition:\", 4.5 + 8)\n",
    "\n",
    "# Increment - both work the same way\n",
    "a = b = 5\n",
    "a = a + 5 # a = 10\n",
    "b += 5 # b = 10\n",
    "\n",
    "# Subtraction of two numbers\n",
    "a = 8.5\n",
    "b = 5.9\n",
    "# Print results using format specifiers. Notice the syntax\n",
    "print (\"Subtraction of %f from %f is: %f\" %(b, a, a - b))\n",
    "\n",
    "# Fun activity: Replace the last %f with %d and notice what happens!\n",
    "\n",
    "# Multiplication of two numbers\n",
    "prod = a * b\n",
    "print (\"Product:\", prod)\n",
    "\n",
    "# Float and quotient division\n",
    "x = 4\n",
    "y = 2.5\n",
    "\n",
    "float_div = x / y\n",
    "quotient_div = x // y\n",
    "print (\"Float Division: {} \\nInteger Division: {}\".format(float_div, \n",
    "                                                          quotient_div))\n",
    "# \\n is an escape sequence for new line. \\t adds a tab space\n",
    "\n",
    "# Exponentiation: base ** exp\n",
    "print (\"Exponent of 8 to power of 2:\", 8 ** 2)\n",
    "\n",
    "print (\"Modulus(remainder): %\", 8 % 3)"
   ]
  },
  {
   "cell_type": "code",
   "execution_count": null,
   "metadata": {
    "colab": {
     "autoexec": {
      "startup": false,
      "wait_interval": 0
     }
    },
    "colab_type": "code",
    "id": "GTlPT5cJPkPF"
   },
   "outputs": [],
   "source": []
  },
  {
   "cell_type": "markdown",
   "metadata": {
    "colab_type": "text",
    "id": "2Ns_8YLkjMKD"
   },
   "source": [
    "Notice the `+=` example of the increment? That is called an augmented assignment operators. These only take a single operand(value). All the above can be implemented as follows:\n",
    "\n",
    "1. Addition: +=\n",
    "2. Subtraction: -=\n",
    "3. Multiplication: *= \n",
    "4. Float Division: /=\n",
    "5. Quotient Division: //=\n",
    "6. Exponentiation: **=\n",
    "7. Modulus(remainder): %= "
   ]
  },
  {
   "cell_type": "code",
   "execution_count": 10,
   "metadata": {
    "colab": {
     "autoexec": {
      "startup": false,
      "wait_interval": 0
     },
     "base_uri": "https://localhost:8080/",
     "height": 34
    },
    "colab_type": "code",
    "executionInfo": {
     "elapsed": 1030,
     "status": "ok",
     "timestamp": 1525254881246,
     "user": {
      "displayName": "Niall Walsh",
      "photoUrl": "https://lh3.googleusercontent.com/a/default-user=s128",
      "userId": "114124776939263762925"
     },
     "user_tz": -60
    },
    "id": "11KOW7kWRfSi",
    "outputId": "5e7d7441-1906-45c6-f954-4603faddbfce"
   },
   "outputs": [
    {
     "name": "stdout",
     "output_type": "stream",
     "text": [
      "9.5\n"
     ]
    }
   ],
   "source": [
    "a = a +1\n",
    "print(a)"
   ]
  },
  {
   "cell_type": "markdown",
   "metadata": {
    "colab_type": "text",
    "id": "J977qhk9jMKE"
   },
   "source": [
    "### Logical and Relational operators\n",
    "\n",
    "Python also supports relational operators to work numerical values and provide a Boolean (True or False) outcome. It also supports logical operations to work on Boolean variables.\n",
    "\n",
    "The list of relational operators supported are:\n",
    "\n",
    "1. Lesser than(<): True if the left operand is lesser than the right. False otherwise\n",
    "2. Lesser than equal to(<=): True if the left operand is lesser than or equal to the right. False otherwise\n",
    "3. Greater than(>): True if the left operand is greater than the right. False otherwise\n",
    "4. Greater than equal to(>=): True if the left operand is greater than or equal to the right. False otherwise\n",
    "5. Equal to(==): True if and only if the left and right operands are equal. False otherwise\n",
    "6. Not equal to(!=): True if and only if the left and right operands are unequal. False otherwise\n",
    "\n",
    "Similarly, logical operators also yield Boolean outputs. The 3 logical operators are:\n",
    "\n",
    "1. Logical AND(and): Only True and True is True\n",
    "2. Logical OR(or): Only False or False is False\n",
    "3. Logical NOR(not): not True is False and vice-versa\n",
    "\n",
    "Few examples for relational operators are:"
   ]
  },
  {
   "cell_type": "code",
   "execution_count": 11,
   "metadata": {
    "colab": {
     "autoexec": {
      "startup": false,
      "wait_interval": 0
     },
     "base_uri": "https://localhost:8080/",
     "height": 10
    },
    "colab_type": "code",
    "executionInfo": {
     "elapsed": 769,
     "status": "ok",
     "timestamp": 1525253086998,
     "user": {
      "displayName": "Niall Walsh",
      "photoUrl": "https://lh3.googleusercontent.com/a/default-user=s128",
      "userId": "114124776939263762925"
     },
     "user_tz": -60
    },
    "id": "ILAfoYpxjMKF",
    "outputId": "1a0814f0-895d-4870-9815-30b3b0789b09"
   },
   "outputs": [
    {
     "name": "stdout",
     "output_type": "stream",
     "text": [
      "Lesser than: True\n",
      "Lesser than equal to: False\n",
      "Greater than: False\n",
      "Greater than equal to: True\n",
      "Equal to: True\n",
      "Not equal to: False\n"
     ]
    }
   ],
   "source": [
    "x = 2.5\n",
    "y = 5\n",
    "a = 5\n",
    "\n",
    "# lesser than and lesser than equal to\n",
    "print (\"Lesser than:\", x < y)\n",
    "print (\"Lesser than equal to:\", y <= x)\n",
    "\n",
    "# Greater than and greater than equal to\n",
    "print (\"Greater than:\", a > y)\n",
    "print (\"Greater than equal to:\", a >= x)\n",
    "\n",
    "# Equal to and not equal to\n",
    "print (\"Equal to:\", a == y)\n",
    "print (\"Not equal to:\", a != y)"
   ]
  },
  {
   "cell_type": "markdown",
   "metadata": {
    "colab_type": "text",
    "id": "_c6ciJf4jMKJ"
   },
   "source": [
    "## String Operations\n",
    "<a id=\"string\"></a>\n",
    "\n",
    "- Strings are contiguous series of characters delimited by single or double quotes.\n",
    "- They are immutable - meaning it cannot be modified once created. \n",
    "- The arithmetic operator `+` is used for concatenation of two strings. \n",
    "- Indexes(characters) of a string are accessed using `[]`against the variable name. They are 0 indexed.\n",
    "    <br>E.g: `s = \"Hello\"` has `s[0]='H', s[1]='e', s[2]='l', s[3]='l', s[4]=s[-1]='o'`\n",
    "- `'1'` is a string and not an integer.\n",
    "- Stdin `input` call stores all its values(numbers included) in the string data type. \n",
    "- `%s` is the format specifier used for strings\n",
    "\n",
    "Some of the operations that could be done using strings are:\n",
    "\n",
    "1. `id(s)` gives out the memory address that the string variable `s` is stored\n",
    "2. `s[0]` gives the first character of the string. Similarly, `s[-1]` gives the last character in the string\n",
    "3. If `s_1` and `s_2` are two string variables, `s_1 + s_2` would yield a new string with the two strings concatenated\n",
    "4. Relational operators can be used to compare strings.\n",
    "5. Length of the string can be obtained using `len(s)`\n",
    "\n",
    "### String slicing\n",
    "\n",
    "Slicing is a very useful operation performed on strings and lists(dealt later) that allows us to access the subset of the original string.\n",
    "\n",
    "**Syntax:** `s[start:end]`\n",
    "\n",
    "This would return the sub-string starting from the `start`th index to `end-1`th index of the main string\n",
    "\n",
    "- `s[0:1] == s[0]` since both return only the first character of a string\n",
    "- `s[0:3]` returns the first 3 characters in a string - `s[0], s[1], s[2]` (Note how it does not return the s[3]th character)\n",
    "- `s[3:]` returns the sub-string from the 4th position to the end of the main string\n",
    "- `s[:-2`] returns the sub string from the start to `len(s) - 2`\n",
    "- `s[2:5]` returns the sub string starting from the third character to the 5th character - `s[2], s[3], s[4]`\n",
    "\n",
    "Let us take a look at some examples"
   ]
  },
  {
   "cell_type": "code",
   "execution_count": 12,
   "metadata": {
    "colab": {
     "autoexec": {
      "startup": false,
      "wait_interval": 0
     },
     "base_uri": "https://localhost:8080/",
     "height": 136
    },
    "colab_type": "code",
    "executionInfo": {
     "elapsed": 656,
     "status": "ok",
     "timestamp": 1525522766026,
     "user": {
      "displayName": "aycacanli@hotmail.com",
      "photoUrl": "https://lh3.googleusercontent.com/a/default-user=s128",
      "userId": "106415820899870547758"
     },
     "user_tz": -180
    },
    "id": "481eD_iAjMKJ",
    "outputId": "67953c04-d244-4f6a-c33f-266dafd554a4"
   },
   "outputs": [
    {
     "name": "stdout",
     "output_type": "stream",
     "text": [
      "V\n",
      "Vodafone Fellowship\n",
      "#########################\n",
      "ID of s:  140421124714224\n",
      "ID of t:  140421103458320\n",
      "ID of Vodafone 140421124714224\n",
      "Length of concatenated string: 19\n"
     ]
    }
   ],
   "source": [
    "s = \"Vodafone\"\n",
    "t = \"Fellowship\"\n",
    "# Indexing a string\n",
    "print (s[0])\n",
    "\n",
    "# Concatenation of strings\n",
    "t = s + \" \" + t\n",
    "print (t)\n",
    "\n",
    "# Repeating a string\n",
    "print ('#' * 25)\n",
    "\n",
    "# IDs of string and lengths\n",
    "print (\"ID of s: \", id(s))\n",
    "print (\"ID of t: \", id(t))\n",
    "print (\"ID of Vodafone\", id(\"Vodafone\"))\n",
    "print (\"Length of concatenated string:\", len(t)) # Note that white space is counted as a character\n",
    "\n",
    "# String Slicing\n",
    "# Excercise: Try different types of slicing as discussed above on string t\n",
    "\n",
    "\n",
    "\n"
   ]
  },
  {
   "cell_type": "code",
   "execution_count": 13,
   "metadata": {
    "colab": {
     "autoexec": {
      "startup": false,
      "wait_interval": 0
     },
     "base_uri": "https://localhost:8080/",
     "height": 34
    },
    "colab_type": "code",
    "executionInfo": {
     "elapsed": 631,
     "status": "ok",
     "timestamp": 1525522869588,
     "user": {
      "displayName": "aycacanli@hotmail.com",
      "photoUrl": "https://lh3.googleusercontent.com/a/default-user=s128",
      "userId": "106415820899870547758"
     },
     "user_tz": -180
    },
    "id": "1JyNwT30jMKP",
    "outputId": "9768bdff-01e3-4ee9-d680-a7a9a55bed63"
   },
   "outputs": [
    {
     "data": {
      "text/plain": [
       "'\\nstr_1 = \"Fellowship\"\\nstr_1[0] = \"M\"\\nprint (str_1)\\n\\n'"
      ]
     },
     "execution_count": 13,
     "metadata": {},
     "output_type": "execute_result"
    }
   ],
   "source": [
    "## Answer before uncommenting and running\n",
    "\n",
    "\"\"\"\n",
    "str_1 = \"Fellowship\"\n",
    "str_1[0] = \"M\"\n",
    "print (str_1)\n",
    "\n",
    "\"\"\""
   ]
  },
  {
   "cell_type": "markdown",
   "metadata": {
    "colab_type": "text",
    "id": "opS2JDdRjMKW"
   },
   "source": [
    "\n",
    "\n",
    "```\n",
    "# This is formatted as code\n",
    "```\n",
    "\n",
    "`in` and `not in` are string logical operators that is used to check existence of a string in another string. Also called as membership operators."
   ]
  },
  {
   "cell_type": "code",
   "execution_count": 14,
   "metadata": {
    "colab": {
     "autoexec": {
      "startup": false,
      "wait_interval": 0
     },
     "base_uri": "https://localhost:8080/",
     "height": 52
    },
    "colab_type": "code",
    "executionInfo": {
     "elapsed": 842,
     "status": "ok",
     "timestamp": 1525253090055,
     "user": {
      "displayName": "Niall Walsh",
      "photoUrl": "https://lh3.googleusercontent.com/a/default-user=s128",
      "userId": "114124776939263762925"
     },
     "user_tz": -60
    },
    "id": "jt13DQTpjMKW",
    "outputId": "cd58a7f6-839d-4977-9adb-f4ee5bebccfd"
   },
   "outputs": [
    {
     "name": "stdout",
     "output_type": "stream",
     "text": [
      "True\n",
      "False\n"
     ]
    }
   ],
   "source": [
    "s = \"Vodafone\"\n",
    "print (\"Voda\" in s) # True\n",
    "print (\"Fellow\" in s) # False"
   ]
  },
  {
   "cell_type": "markdown",
   "metadata": {
    "colab_type": "text",
    "id": "SpL7mXaxjMKb"
   },
   "source": [
    "### String functions\n",
    "\n",
    "There are several string functions that yield different kinds of information about a string, convert a string to lowercase, uppercase or even swapping cases. \n",
    "\n",
    "## `#### Testing strings`\n",
    "\n",
    "The following functions give out a Boolean outcome depending on the category the string falls under:\n",
    "\n",
    "1. isalnum(): Returns True if string is alphanumeric\n",
    "2. isalpha(): Returns True if string contains only alphabets\n",
    "3. isdigit(): Returns True if string contains only digits\n",
    "4. isidentifier(): Return True is string is valid identifier\n",
    "5. islower(): Returns True if string is in lowercase\n",
    "6. isupper(): Returns True if string is in uppercase\n",
    "7. isspace(): Returns True if string contains only whitespace\n",
    "\n",
    "#### Converting strings\n",
    "\n",
    "These set of functions modify the string to a new string:\n",
    "\n",
    "1. capitalize(): Returns a copy of this string with only the first character capitalized.\n",
    "2. lower(): Return string by converting every character to lowercase\n",
    "3. upper(): Return string by converting every character to uppercase\n",
    "4. title(): This function return string by capitalizing first letter of every word in the string\n",
    "5. swapcase(): Return a string in which the lowercase letter is converted to uppercase and uppercase to lowercase\n",
    "6. replace(old, new): This function returns new string by replacing the occurrence of old string with new string"
   ]
  },
  {
   "cell_type": "code",
   "execution_count": 15,
   "metadata": {
    "colab": {
     "autoexec": {
      "startup": false,
      "wait_interval": 0
     },
     "base_uri": "https://localhost:8080/",
     "height": 119
    },
    "colab_type": "code",
    "executionInfo": {
     "elapsed": 639,
     "status": "ok",
     "timestamp": 1525523129058,
     "user": {
      "displayName": "aycacanli@hotmail.com",
      "photoUrl": "https://lh3.googleusercontent.com/a/default-user=s128",
      "userId": "106415820899870547758"
     },
     "user_tz": -180
    },
    "id": "Su3oIFx2jMKc",
    "outputId": "076ce2d7-ecb3-4ba0-9e09-2fce17328f34"
   },
   "outputs": [
    {
     "name": "stdout",
     "output_type": "stream",
     "text": [
      "Is alphabets? False\n",
      "YES ALRIGHT\n",
      "Yes Alright\n",
      "YES aLrIGHT\n",
      "Yes alright\n",
      "Lower case: fellowship is teaching python for vodafone milan\n"
     ]
    }
   ],
   "source": [
    "s = \"Fellowship is teaching Python for Vodafone Milan\"\n",
    "\n",
    "# Test if the string contains only alhabets\n",
    "print (\"Is alphabets?\", s.isalpha())\n",
    "\n",
    "print(\"yes alright\".upper())\n",
    "print(\"yes alright\".title())\n",
    "print(\"yes AlRight\".swapcase())\n",
    "print(\"yes AlRight\".capitalize())\n",
    "\n",
    "# Modify string to only lowercase\n",
    "print (\"Lower case: %s\" %(s.lower()))\n",
    "\n",
    "## Test the string on functions and also modify it using the string conversion functions\n",
    "\n",
    "\n"
   ]
  },
  {
   "cell_type": "markdown",
   "metadata": {
    "colab_type": "text",
    "id": "pN4Uvy_BjMKi"
   },
   "source": [
    "## Data type conversion\n",
    "\n",
    "<a id=\"convert\"></a>\n",
    "\n",
    "Many a times the values we obtain might not be of the right data type we desire. We might want an integer but the value we have is a float. Remember earlier when it was mentioned all the values returned by `input` are strings? What if we entered a number `1` and we would like it as 1 rather than '1'? Reading a file also saves the content as strings. \n",
    "\n",
    "This is why Python supports type conversion. \n",
    "\n",
    "There are two types: \n",
    "1. Implicit type conversion: Python's interpreter converts the type of the value to a suitable type <br>\n",
    "Eg. `5/2 = 2.5`. Both 5 and 2 were integers, but the output is a float. <br>\n",
    "Similarly, `5 * 2.0 = 10.0`. A multiplication of an integer and float is type casted to a float\n",
    "\n",
    "2. Explicit type conversion: This is the case where the user has to explicitly convert the type of the variable. <br>\n",
    "Eg. `a = '12345'` is a string -> `a = 12345` to an integer\n",
    "\n",
    "Here are the common conversions:\n",
    "1. Int-Float conversion\n",
    "    - `int(var)` is used to convert a floating point `var` to integer\n",
    "    - `float(var)` is used to convert an integer `var` to floating point\n",
    "\n",
    "2. Number-String conversion\n",
    "    - `str(var)` is used to convert a number `var` to a string type\n",
    "    - `int(var)` is used to convert a string `var` to an integer. `float(var)` to convert to floating point. <br>\n",
    "    **NOTE**: `int('5.6')` is not valid"
   ]
  },
  {
   "cell_type": "markdown",
   "metadata": {
    "colab_type": "text",
    "id": "0Bm6jIePjMKk"
   },
   "source": [
    "### Rounding numbers\n",
    "\n",
    "Rounding is used to set the precision point of floating point values. `round()` is the function. Consider the following example:"
   ]
  },
  {
   "cell_type": "code",
   "execution_count": 16,
   "metadata": {
    "colab": {
     "autoexec": {
      "startup": false,
      "wait_interval": 0
     },
     "base_uri": "https://localhost:8080/",
     "height": 231
    },
    "colab_type": "code",
    "executionInfo": {
     "elapsed": 715,
     "status": "error",
     "timestamp": 1525523381483,
     "user": {
      "displayName": "aycacanli@hotmail.com",
      "photoUrl": "https://lh3.googleusercontent.com/a/default-user=s128",
      "userId": "106415820899870547758"
     },
     "user_tz": -180
    },
    "id": "3OsW5nQKjMKk",
    "outputId": "b165c191-d326-42ff-f1a4-6516bbfefa38"
   },
   "outputs": [
    {
     "name": "stdout",
     "output_type": "stream",
     "text": [
      "The value of pi without rounding is: 3.141592653589793\n",
      "The value of pi after rounding is: 3.14\n"
     ]
    }
   ],
   "source": [
    "# Import value of pi from math module\n",
    "from math import pi\n",
    "\n",
    "# Print pi without rounding\n",
    "print (\"The value of pi without rounding is:\", pi)\n",
    "\n",
    "# Print pi with rounding upto 2 digits after decimal points\n",
    "print (\"The value of pi after rounding is:\", round(pi, 2))\n"
   ]
  },
  {
   "cell_type": "markdown",
   "metadata": {
    "colab_type": "text",
    "id": "IqnPWGvDjMKn"
   },
   "source": [
    "You can also round values just for printing purposes - this does not alter the variable but it is just printed with a rounded value."
   ]
  },
  {
   "cell_type": "code",
   "execution_count": 17,
   "metadata": {
    "colab": {
     "autoexec": {
      "startup": false,
      "wait_interval": 0
     },
     "base_uri": "https://localhost:8080/",
     "height": 10
    },
    "colab_type": "code",
    "executionInfo": {
     "elapsed": 1281,
     "status": "ok",
     "timestamp": 1525253094624,
     "user": {
      "displayName": "Niall Walsh",
      "photoUrl": "https://lh3.googleusercontent.com/a/default-user=s128",
      "userId": "114124776939263762925"
     },
     "user_tz": -60
    },
    "id": "EsY0UWHLjMKn",
    "outputId": "fae26816-35dd-41dd-c72c-a26435e9f02d"
   },
   "outputs": [
    {
     "name": "stdout",
     "output_type": "stream",
     "text": [
      "The value of pi by rounding using format specifier is 3.14 and value of pi is 3.141593\n",
      "The value of pi by rounding using format is 3.14 and value of pi is 3.141592653589793\n"
     ]
    }
   ],
   "source": [
    "# Rounding using format specifiers and format. Let us print the value of pi\n",
    "print (\"The value of pi by rounding using format specifier is %0.2f and value of pi is %f\" %(pi, pi))\n",
    "print (\"The value of pi by rounding using format is {:0.2f} and value of pi is {}\".format(pi, pi))"
   ]
  },
  {
   "cell_type": "markdown",
   "metadata": {
    "colab_type": "text",
    "id": "y0cjE5tFjMKr"
   },
   "source": [
    "## Control Flow Statements\n",
    "\n",
    "<a id=\"control\"></a>\n",
    "\n",
    "Control flow statements are used to use relational operators on certain variables to change the direction of the executing program. \n",
    "\n",
    "For example, say you need to control the cool/heat/fan of a room given the temperature. IF the temperature of the room is GREATER THAN 35$^{\\circ}$C, you turn on the AC. ELSE IF the temperature is between 2$^{\\circ}$C and 35$^{\\circ}$C, you keep it a simple fan. ELSE(lesser than 2$^{\\circ}$C), you turn on the heat.\n",
    "\n",
    "There are three courses of actions based on just one variable's value - the temperature. Control flow simply does this.\n",
    "\n",
    "- Control flow statements operate on boolean outcomes at every conditional node. Execution of a control flow block occurs ONLY if the outcome is True\n",
    "- Relational operators can be used to check conditions\n",
    "- Logical operators can also be paired up with relational operators\n",
    "- `if` is the entry point of control flow statement. It is the first condition to be checked and is executed if the condition is met. There can only be one `if` statement in a block\n",
    "- `elif` is the control flow statement that could be executed as an alternate condition to the initial condition if `if` statement fails. There can be multiple `elif` statements.\n",
    "- `else` is the final condition that is executed if everything else fails. `else` is optional - if there is no `else` statement, there is no fallback execution. `else` needs to be only one in number in a block.\n",
    "- **IMPORTANT:** Indentation is very important in control flow statements since Python does not have `{}` to separate blocks and indentation is not part of decorational convention but is a syntax.\n",
    "- Every control block statement needs to be indentated with a single tab space\n",
    "- `if, elif, and else` need to terminate with a `:`\n",
    "\n",
    "**Syntax:** <br>\n",
    "```\n",
    "if(condition_1):\n",
    "    statement_1\n",
    "    statement_2\n",
    "    .\n",
    "    .\n",
    "    .\n",
    "elif(condition_2):\n",
    "    statement_1\n",
    "    statement_2\n",
    "    .\n",
    "    .\n",
    "    .\n",
    "elif(condition_3):\n",
    "    statement_1\n",
    "    statement_2\n",
    "    .\n",
    "    .\n",
    ".\n",
    ".\n",
    ".\n",
    "else:\n",
    "    statement_1\n",
    "    statement_2\n",
    "    .\n",
    "    .\n",
    "    .\n",
    "```\n",
    "\n",
    "Let us take a look at an example. Note the indentation and use of boolean and relational operators."
   ]
  },
  {
   "cell_type": "code",
   "execution_count": 18,
   "metadata": {
    "colab": {
     "autoexec": {
      "startup": false,
      "wait_interval": 0
     },
     "base_uri": "https://localhost:8080/",
     "height": 35
    },
    "colab_type": "code",
    "executionInfo": {
     "elapsed": 9199,
     "status": "ok",
     "timestamp": 1525261858933,
     "user": {
      "displayName": "Georgina Bilali",
      "photoUrl": "https://lh3.googleusercontent.com/a/default-user=s128",
      "userId": "114444159360292123227"
     },
     "user_tz": -180
    },
    "id": "EIjYATZ3jMKs",
    "outputId": "4700666f-bf23-47f5-9bdc-30359e7aeff0"
   },
   "outputs": [
    {
     "name": "stdout",
     "output_type": "stream",
     "text": [
      "Cooler is now turned on!\n"
     ]
    }
   ],
   "source": [
    "temperature = 40\n",
    "\n",
    "if(temperature > 35):\n",
    "    print (\"Cooler is now turned on!\")\n",
    "elif(temperature >= 2 and temperature <= 35):\n",
    "    print (\"Fan is turned on\")\n",
    "else: # temperature < 2\n",
    "    print (\"Heater is turned on\")"
   ]
  },
  {
   "cell_type": "markdown",
   "metadata": {
    "colab_type": "text",
    "id": "cqd8n_gpjMKu"
   },
   "source": [
    "### Nested-if statements\n",
    "\n",
    "Sometimes, there can be scenarios where multiplr control flow statemtents needs nesting. Nesting implies one or more control flow blocks inside an `if, elif` or `else` statements.\n",
    "\n",
    "Here is an example, note the identation again."
   ]
  },
  {
   "cell_type": "code",
   "execution_count": 19,
   "metadata": {
    "colab": {
     "autoexec": {
      "startup": false,
      "wait_interval": 0
     },
     "base_uri": "https://localhost:8080/",
     "height": 34
    },
    "colab_type": "code",
    "executionInfo": {
     "elapsed": 530,
     "status": "ok",
     "timestamp": 1525523624331,
     "user": {
      "displayName": "aycacanli@hotmail.com",
      "photoUrl": "https://lh3.googleusercontent.com/a/default-user=s128",
      "userId": "106415820899870547758"
     },
     "user_tz": -180
    },
    "id": "7Dhmwf8TjMKv",
    "outputId": "d3a793eb-ee6a-47a7-f057-98f0cba6deb4"
   },
   "outputs": [
    {
     "name": "stdout",
     "output_type": "stream",
     "text": [
      "Bill too high, turning on fan.\n"
     ]
    }
   ],
   "source": [
    "temperature = 40\n",
    "electricity_bill = 2500\n",
    "if(temperature > 35):\n",
    "    if electricity_bill <= 1500:\n",
    "        print (\"Cooler is now turned on!\")\n",
    "    else:\n",
    "        print (\"Bill too high, turning on fan.\")\n",
    "elif(temperature >= 2 and temperature <= 35):\n",
    "    print (\"Fan is turned on\")\n",
    "else: # temperature < 2\n",
    "    print (\"Heater is turned on\")"
   ]
  },
  {
   "cell_type": "markdown",
   "metadata": {
    "colab_type": "text",
    "id": "7XzGD1EkjMKx"
   },
   "source": [
    "`else` block need not always be used. If there is no `else`, only the `if` and `elif` blocks are executed if their conditions are met, otherwise nothing happens and execution of the remainder of the program continues."
   ]
  },
  {
   "cell_type": "code",
   "execution_count": 20,
   "metadata": {
    "colab": {
     "autoexec": {
      "startup": false,
      "wait_interval": 0
     },
     "base_uri": "https://localhost:8080/",
     "height": 51
    },
    "colab_type": "code",
    "executionInfo": {
     "elapsed": 874,
     "status": "ok",
     "timestamp": 1525523675222,
     "user": {
      "displayName": "aycacanli@hotmail.com",
      "photoUrl": "https://lh3.googleusercontent.com/a/default-user=s128",
      "userId": "106415820899870547758"
     },
     "user_tz": -180
    },
    "id": "J-NShFunjMKy",
    "outputId": "2e3b7f2e-03b9-4677-8fe4-3eef8a07733d"
   },
   "outputs": [
    {
     "name": "stdout",
     "output_type": "stream",
     "text": [
      "Heater is on\n",
      "Temperature is 20\n"
     ]
    }
   ],
   "source": [
    "temperature = 15\n",
    "\n",
    "if(temperature < 20):\n",
    "    print (\"Heater is on\")\n",
    "    temperature += 5 # un-indent to see what happens to temperature\n",
    "print (\"Temperature is {}\".format(temperature)) # rest of the program continues\n",
    "\n",
    "## change temperature to 15, put back the indent and excute the cell"
   ]
  },
  {
   "cell_type": "code",
   "execution_count": 21,
   "metadata": {
    "colab": {
     "autoexec": {
      "startup": false,
      "wait_interval": 0
     },
     "base_uri": "https://localhost:8080/",
     "height": 51
    },
    "colab_type": "code",
    "executionInfo": {
     "elapsed": 800,
     "status": "ok",
     "timestamp": 1525523744753,
     "user": {
      "displayName": "aycacanli@hotmail.com",
      "photoUrl": "https://lh3.googleusercontent.com/a/default-user=s128",
      "userId": "106415820899870547758"
     },
     "user_tz": -180
    },
    "id": "f8__rulFjMK0",
    "outputId": "e56e5c12-e61a-4bae-9db7-f9c047e8230f"
   },
   "outputs": [
    {
     "name": "stdout",
     "output_type": "stream",
     "text": [
      "Heater is on\n",
      "Temperature is 25\n"
     ]
    }
   ],
   "source": [
    "# Having no else block is equivalent to\n",
    "\n",
    "if (temperature == 20):\n",
    "    print (\"Heater is on\")\n",
    "    temperature += 5\n",
    "else:\n",
    "    pass # pass does not execute anything but just skips the else block\n",
    "print (\"Temperature is {}\".format(temperature)) \n",
    "    "
   ]
  },
  {
   "cell_type": "markdown",
   "metadata": {
    "colab_type": "text",
    "id": "NuV1W47OjMK4"
   },
   "source": [
    "## Loops\n",
    "\n",
    "<a id=\"loop\"></a>\n",
    "\n",
    "Loops are control statements that are used for repeated operations. They make the code simpler and compact.\n",
    "\n",
    "There are two kinds of loops:\n",
    "1. Finite loop: Loops that end after a particular criterion is met\n",
    "2. Infinite loop: Once the execution of this loop starts, it only ends if the user or system breaks it - An ATM machine has to take in card info, complete a transaction, return the card, and must repeat the three operations again, infinitely for future transactions.\n",
    "\n",
    "Consider this scenario of adding first 5 numbers starting from 0. Without a loop, this is how the code might look.\n",
    "\n",
    "```\n",
    "x = 0\n",
    "x += 1\n",
    "x += 2\n",
    "x += 3\n",
    "x += 4\n",
    "x += 5\n",
    "\n",
    "print (x)\n",
    "```\n",
    "This is already beginning to be inconvenient. Consider adding up first 100 numbers, or 1000 numbers - this is practically infeasible. Here is the loop approach (Don't worry about the details for now):\n",
    "\n",
    "```\n",
    "# Initialize x\n",
    "i = x = 0 # i is the iterating variable\n",
    "while (i <= 100):\n",
    "    x += i # add i to x\n",
    "    i += 1 # increment i\n",
    "\n",
    "print (x)\n",
    "```\n",
    "\n",
    "See how simple and compact it was? There are two loops in Python:\n",
    "\n",
    "1. `for` loop\n",
    "2. `while` loop\n",
    "\n",
    "A loop segment also needs to be indented as part of syntax.\n",
    "\n",
    "**Syntaxes:**\n",
    "\n",
    "1. for loop:\n",
    "\n",
    "```\n",
    "for iterable_variable in iterable_object:\n",
    "    statement_1\n",
    "    statement_2\n",
    "    .\n",
    "    .\n",
    "    .\n",
    "```\n",
    "`for` loop has the iterable variable go through every item of the iterable object and executes the statements inside the loop segment. The last iteration would be at the last element of the iterable object and the loop segment ends.\n",
    "\n",
    "2. while loop:\n",
    "\n",
    "```\n",
    "while(condition):\n",
    "    statement_1\n",
    "    statement_2\n",
    "    .\n",
    "    .\n",
    "    .\n",
    "    \n",
    "```\n",
    "`while` loop executes the loop statements as long as the condition inside the while statement is True. The loop ends when the condition fails. The condition is checked implicitly after the last statement is executed and before the loop is entered again. \n",
    "\n",
    "### `range` function\n",
    "\n",
    "`range(a, b)` is a function that returns a sequence of integers starting from `a` till `b - 1`. <br>\n",
    "\n",
    "For example,<br>\n",
    "`range(2, 5)` -> 2, 3, 4 <br>\n",
    "`range(0, 5)` == `range(5)` -> 0, 1, 2, 3, 4 <br>\n",
    "\n",
    "`range(a)` yields list of integers from 0 to `a - 1`\n",
    "\n",
    "`range` can also have steps - which is the third argument.\n",
    "`range(a, b, step)` is the syntax. <br>\n",
    "Example: `range(2, 10, 2)` -> 2, 4, 6, 8 <br>\n",
    "`range(0, 10, 1)` is same as `range(10)` and `range(0, 10)` which gives the integers from 0 to 9.\n",
    "\n",
    "Range does implicit increments.\n",
    "\n",
    "Let us take a look at few examples of loops:"
   ]
  },
  {
   "cell_type": "code",
   "execution_count": 22,
   "metadata": {
    "colab": {
     "autoexec": {
      "startup": false,
      "wait_interval": 0
     },
     "base_uri": "https://localhost:8080/",
     "height": 173
    },
    "colab_type": "code",
    "executionInfo": {
     "elapsed": 766,
     "status": "ok",
     "timestamp": 1525253101169,
     "user": {
      "displayName": "Niall Walsh",
      "photoUrl": "https://lh3.googleusercontent.com/a/default-user=s128",
      "userId": "114124776939263762925"
     },
     "user_tz": -60
    },
    "id": "EsEIxwD9jMK4",
    "outputId": "27008056-661c-49a2-bf88-1c779dc2cea9"
   },
   "outputs": [
    {
     "name": "stdout",
     "output_type": "stream",
     "text": [
      "1\n",
      "2\n",
      "3\n",
      "4\n",
      "5\n",
      "6\n",
      "7\n",
      "8\n",
      "9\n"
     ]
    }
   ],
   "source": [
    "# for loop using range\n",
    "for i in range(1, 10): # i is the iterable variable. range(1, 10) is the iterable object\n",
    "    print (i) # note the identation"
   ]
  },
  {
   "cell_type": "code",
   "execution_count": 23,
   "metadata": {
    "colab": {
     "autoexec": {
      "startup": false,
      "wait_interval": 0
     },
     "base_uri": "https://localhost:8080/",
     "height": 190
    },
    "colab_type": "code",
    "executionInfo": {
     "elapsed": 821,
     "status": "ok",
     "timestamp": 1525253102093,
     "user": {
      "displayName": "Niall Walsh",
      "photoUrl": "https://lh3.googleusercontent.com/a/default-user=s128",
      "userId": "114124776939263762925"
     },
     "user_tz": -60
    },
    "id": "dm1W8sRNjMK7",
    "outputId": "4174fa6b-4c9e-4e8b-b281-9299646b18a3"
   },
   "outputs": [
    {
     "name": "stdout",
     "output_type": "stream",
     "text": [
      "0\n",
      "2\n",
      "4\n",
      "6\n",
      "8\n",
      "10\n",
      "12\n",
      "14\n",
      "16\n",
      "18\n"
     ]
    }
   ],
   "source": [
    "# for loop with steps\n",
    "for i in range(0, 20, 2):\n",
    "    print (i)"
   ]
  },
  {
   "cell_type": "code",
   "execution_count": 24,
   "metadata": {
    "colab": {
     "autoexec": {
      "startup": false,
      "wait_interval": 0
     },
     "base_uri": "https://localhost:8080/",
     "height": 34
    },
    "colab_type": "code",
    "executionInfo": {
     "elapsed": 759,
     "status": "ok",
     "timestamp": 1525253102991,
     "user": {
      "displayName": "Niall Walsh",
      "photoUrl": "https://lh3.googleusercontent.com/a/default-user=s128",
      "userId": "114124776939263762925"
     },
     "user_tz": -60
    },
    "id": "iLnBRqCLjMK_",
    "outputId": "095b91a2-f0b6-4a55-ddce-eeb5c6602d44"
   },
   "outputs": [
    {
     "name": "stdout",
     "output_type": "stream",
     "text": [
      "Sum of first 100 numbers is 5050\n"
     ]
    }
   ],
   "source": [
    "# while loop to sum first 100 integers\n",
    "\n",
    "# Initialize x\n",
    "i = x = 0 # i is the iterating variable\n",
    "while (i <= 100): # check condition\n",
    "    x += i # add i to x\n",
    "    i += 1 # (IMPORTANT STEP) increment i.\n",
    "\n",
    "print (\"Sum of first 100 numbers is\", x)"
   ]
  },
  {
   "cell_type": "markdown",
   "metadata": {
    "colab_type": "text",
    "id": "dN8F416ejMLE"
   },
   "source": [
    "When using while loop, care must be taken to ensure the condition is made finite and the loop terminates at the desired point. In this case, `i` had to be incremented to not only get the sum but also to end the while loop after 100 iterations. If not, the loop will run infinitely since `i` is always 0 and hence `< 100`, making the condition true forever."
   ]
  },
  {
   "cell_type": "markdown",
   "metadata": {
    "colab_type": "text",
    "id": "tM_MjI-8jMLF"
   },
   "source": [
    "### `break` and `continue` statements\n",
    "\n",
    "`break` statements are used to break out of the loop - once and for all.<br>\n",
    "`continue` statements are used to skip a particular iteration and move on to the next.\n",
    "\n",
    "Let us understand it with examples:\n"
   ]
  },
  {
   "cell_type": "code",
   "execution_count": 25,
   "metadata": {
    "colab": {
     "autoexec": {
      "startup": false,
      "wait_interval": 0
     },
     "base_uri": "https://localhost:8080/",
     "height": 10
    },
    "colab_type": "code",
    "executionInfo": {
     "elapsed": 763,
     "status": "ok",
     "timestamp": 1525253103848,
     "user": {
      "displayName": "Niall Walsh",
      "photoUrl": "https://lh3.googleusercontent.com/a/default-user=s128",
      "userId": "114124776939263762925"
     },
     "user_tz": -60
    },
    "id": "CU4Cw3ZDjMLG",
    "outputId": "c98035e0-6407-42f7-8f99-4167a644cae0"
   },
   "outputs": [
    {
     "name": "stdout",
     "output_type": "stream",
     "text": [
      "Sum of first 100 numbers using break is 5050\n"
     ]
    }
   ],
   "source": [
    "# Example for break\n",
    "\n",
    "# Initialize x and i\n",
    "i = x = 0 \n",
    "while (i <= 1e6): # check condition\n",
    "    x += i # add i to x\n",
    "    if(i == 100): # check if i = 100\n",
    "        break\n",
    "    i += 1 # (IMPORTANT STEP) increment i.\n",
    "    \n",
    "\n",
    "print (\"Sum of first {} numbers using break is {}\".format(i, x))"
   ]
  },
  {
   "cell_type": "markdown",
   "metadata": {
    "colab_type": "text",
    "id": "jE8XVA7NjMLK"
   },
   "source": [
    "Notice how even though the loop was supposed to run 1,000,000 (million) iterations, break capped it at only 100? try changing the break condition and see what happens.\n",
    "\n",
    "Similarly, `break` can be used to terminate infinite loops"
   ]
  },
  {
   "cell_type": "code",
   "execution_count": 26,
   "metadata": {
    "colab": {
     "autoexec": {
      "startup": false,
      "wait_interval": 0
     },
     "base_uri": "https://localhost:8080/",
     "height": 10
    },
    "colab_type": "code",
    "executionInfo": {
     "elapsed": 714,
     "status": "ok",
     "timestamp": 1525253104690,
     "user": {
      "displayName": "Niall Walsh",
      "photoUrl": "https://lh3.googleusercontent.com/a/default-user=s128",
      "userId": "114124776939263762925"
     },
     "user_tz": -60
    },
    "id": "vNmmX9b5jMLK",
    "outputId": "c2cbbc20-b3b0-46d5-a44e-b1559f589ad5"
   },
   "outputs": [
    {
     "name": "stdout",
     "output_type": "stream",
     "text": [
      "0\n",
      "1\n",
      "2\n",
      "3\n",
      "4\n",
      "5\n",
      "6\n",
      "7\n",
      "8\n",
      "9\n"
     ]
    }
   ],
   "source": [
    "# Infinite loop can be defined by making the condition of while\n",
    "# loop always True or 1\n",
    "i = 0\n",
    "while(True):\n",
    "    print (i)\n",
    "    i += 1\n",
    "    if (i == 10):\n",
    "        break"
   ]
  },
  {
   "cell_type": "code",
   "execution_count": 27,
   "metadata": {
    "colab": {
     "autoexec": {
      "startup": false,
      "wait_interval": 0
     },
     "base_uri": "https://localhost:8080/",
     "height": 10
    },
    "colab_type": "code",
    "executionInfo": {
     "elapsed": 781,
     "status": "ok",
     "timestamp": 1525253105571,
     "user": {
      "displayName": "Niall Walsh",
      "photoUrl": "https://lh3.googleusercontent.com/a/default-user=s128",
      "userId": "114124776939263762925"
     },
     "user_tz": -60
    },
    "id": "vN29FWbajMLN",
    "outputId": "7e92aaf8-cd93-4674-e948-6df7a510526e"
   },
   "outputs": [
    {
     "name": "stdout",
     "output_type": "stream",
     "text": [
      "1\n",
      "3\n",
      "5\n",
      "7\n",
      "9\n",
      "11\n",
      "13\n",
      "15\n",
      "17\n",
      "19\n"
     ]
    }
   ],
   "source": [
    "# Example for continue\n",
    "\n",
    "for i in range(20):\n",
    "    if (i % 2 == 0): # check if divisible by 2\n",
    "        continue # skip even numbers\n",
    "    print (i)"
   ]
  },
  {
   "cell_type": "markdown",
   "metadata": {
    "colab_type": "text",
    "id": "NFutlOHtjMLP"
   },
   "source": [
    "#### Difference between `pass` and `continue`"
   ]
  },
  {
   "cell_type": "code",
   "execution_count": 28,
   "metadata": {
    "colab": {
     "autoexec": {
      "startup": false,
      "wait_interval": 0
     },
     "base_uri": "https://localhost:8080/",
     "height": 10
    },
    "colab_type": "code",
    "executionInfo": {
     "elapsed": 777,
     "status": "ok",
     "timestamp": 1525253106447,
     "user": {
      "displayName": "Niall Walsh",
      "photoUrl": "https://lh3.googleusercontent.com/a/default-user=s128",
      "userId": "114124776939263762925"
     },
     "user_tz": -60
    },
    "id": "r_Pq6RGkjMLP",
    "outputId": "a3377510-b215-4f7e-96b6-8800923e8791"
   },
   "outputs": [
    {
     "name": "stdout",
     "output_type": "stream",
     "text": [
      "0\n",
      "1\n",
      "2\n",
      "3\n",
      "4\n",
      "5\n",
      "6\n",
      "7\n",
      "8\n",
      "9\n",
      "10\n",
      "11\n",
      "12\n",
      "13\n",
      "14\n",
      "15\n",
      "16\n",
      "17\n",
      "18\n",
      "19\n"
     ]
    }
   ],
   "source": [
    "for i in range(20):\n",
    "    if (i % 2 == 0): # check if divisible by 2\n",
    "        pass \n",
    "    print (i)"
   ]
  },
  {
   "cell_type": "markdown",
   "metadata": {
    "colab_type": "text",
    "id": "ZoqCoA7CjMLS"
   },
   "source": [
    "Notice the difference? `pass` simply ignores the `if` block but continues the execution of the rest of the loop statement. `continue` skips the entire iteration."
   ]
  },
  {
   "cell_type": "markdown",
   "metadata": {
    "colab_type": "text",
    "id": "TqyOMdGHjMLX"
   },
   "source": [
    "## Data Structures in Python\n",
    "\n",
    "<a id=\"ds\"></a>\n",
    "\n",
    "Data structures house a collection of values all under one instance of a variable. Broadly classifying, Python has 3 data structures:\n",
    "1. Lists\n",
    "2. Tuples\n",
    "3. Dictionaries\n",
    "\n",
    "### Lists\n",
    "\n",
    "- List is used to store a collection of heterogeneous items. \n",
    "- Lists are mutable meaning they can be modified even after definition\n",
    "- List values are housed between `[]` seperated by ','\n",
    "- Lists can be empty\n",
    "- Lists are heterogenous meaning they can have values that are integers, float, or strings all in a single list\n",
    "- Lists of lists is valid\n",
    "- Can also be created with `list()` \n",
    "\n",
    "#### Creation of lists\n",
    "\n",
    "Lists can be created by keying in values between square brackets seperated by commas and giving it an identifier."
   ]
  },
  {
   "cell_type": "code",
   "execution_count": 29,
   "metadata": {
    "colab": {
     "autoexec": {
      "startup": false,
      "wait_interval": 0
     },
     "base_uri": "https://localhost:8080/",
     "height": 51
    },
    "colab_type": "code",
    "executionInfo": {
     "elapsed": 565,
     "status": "ok",
     "timestamp": 1525594466322,
     "user": {
      "displayName": "aycacanli@hotmail.com",
      "photoUrl": "https://lh3.googleusercontent.com/a/default-user=s128",
      "userId": "106415820899870547758"
     },
     "user_tz": -180
    },
    "id": "grLtn8cIjMLX",
    "outputId": "76cc8996-a4e0-47d2-cef1-964a3d7dae32"
   },
   "outputs": [
    {
     "name": "stdout",
     "output_type": "stream",
     "text": [
      "[] [[2, 3, 4], ['A', 'B'], [2]] [] [2, 67, 24] ['V', 'o', 'd', 'a', 'f', 'o', 'n', 'e']\n",
      "The second element of the first element of c: 3\n"
     ]
    }
   ],
   "source": [
    "# examples of a list\n",
    "a = [1, 2, 3, 4]\n",
    "b = [\"Vodafone\", 25, 2.6]\n",
    "c = [[2, 3, 4], [\"A\", \"B\"], [2]]\n",
    "d = [] # empty list\n",
    "e = list() # another way of empty list initialization\n",
    "f = list([2, 67, 24])\n",
    "g = list(\"Vodafone\")\n",
    "\n",
    "# Print every list to see the outcome. What do you think g would look like?\n",
    "\n",
    "print(d,c,e,f,g)\n",
    "\n",
    "# Access values of list of lists\n",
    "# printing the second element of the first element of c\n",
    "# c[0] -> [2, 3, 4] -> list\n",
    "# c[0][1] -> 3 -> second element of the list, c[0]\n",
    "print (\"The second element of the first element of c:\", c[0][1])"
   ]
  },
  {
   "cell_type": "markdown",
   "metadata": {
    "colab_type": "text",
    "id": "pY38mrxQjMLb"
   },
   "source": [
    "#### Accessing list elements and slicing\n",
    "\n",
    "Accessing lists by indexes can be used to either print out list values or to modify them.\n",
    "\n",
    "- Lists are 0 indexed which implies 0th index gives the first element of a list. `a[0]` gives `1` and `b[2]` returns `2.6`\n",
    "- `len(a)` returns the length of list a defined above, which would be 4\n",
    "- `c[-1]` returns the last element of a list which is `[2]`. Note how it returns a list of length=1 - this is because it is a list of lists\n",
    "- Modifying a list element is as simple as `a[1] = 5`\n",
    "\n",
    "Try solving these exercises. Feel free to play around"
   ]
  },
  {
   "cell_type": "code",
   "execution_count": 30,
   "metadata": {
    "colab": {
     "autoexec": {
      "startup": false,
      "wait_interval": 0
     },
     "base_uri": "https://localhost:8080/",
     "height": 102
    },
    "colab_type": "code",
    "executionInfo": {
     "elapsed": 623,
     "status": "ok",
     "timestamp": 1525594932487,
     "user": {
      "displayName": "aycacanli@hotmail.com",
      "photoUrl": "https://lh3.googleusercontent.com/a/default-user=s128",
      "userId": "106415820899870547758"
     },
     "user_tz": -180
    },
    "id": "YmykVx1ZjMLb",
    "outputId": "e88adb86-e562-4316-8647-014f0554b01b"
   },
   "outputs": [
    {
     "name": "stdout",
     "output_type": "stream",
     "text": [
      "2\n",
      "[1, 'Fellowship', 3, 4]\n",
      "25\n",
      "['Vodafone', 25, [2, 4]]\n",
      "67\n"
     ]
    }
   ],
   "source": [
    "# print the second element of a\n",
    "print(a[1])\n",
    "\n",
    "# Now, modify the second element to be a string 'Fellowship'\n",
    "a[1] = 'Fellowship'\n",
    "print(a)\n",
    "\n",
    "# print the penultimate element of list b\n",
    "print(b[-2])\n",
    "\n",
    "# modify the last element of b to be a list having even numbers from 1 to 5\n",
    "b[-1] = [2,4]\n",
    "print(b)\n",
    "\n",
    "# print the second element of f using len() function\n",
    "print(f[len(f) - 2])\n"
   ]
  },
  {
   "cell_type": "markdown",
   "metadata": {
    "colab_type": "text",
    "id": "4UKjyj2MjMLh"
   },
   "source": [
    "Slicing of a list is similar to that of string slicing. Here is a recap:\n",
    "If `x` is a a list of length, `len(x)`. Then\n",
    "- **Syntax:** x[start:end] gives the sub-list starting from `start` index to `end-1` index.\n",
    "- `x[:-1]` gives the sub-list which has all the elements of `x` except the last one\n",
    "- `x[:2]` gives the first two elements of the list\n",
    "- `x[4:]` gives the sub-list starting from the 5th element of `x`, all the way till the end\n",
    "- `x[2:6]` returns a sub-list starting from the third element of `x` to the 6th element.\n",
    "\n",
    "Here is another set of exercises on list slicing"
   ]
  },
  {
   "cell_type": "code",
   "execution_count": 31,
   "metadata": {
    "colab": {
     "autoexec": {
      "startup": false,
      "wait_interval": 0
     },
     "base_uri": "https://localhost:8080/",
     "height": 34
    },
    "colab_type": "code",
    "executionInfo": {
     "elapsed": 1647,
     "status": "ok",
     "timestamp": 1525595328127,
     "user": {
      "displayName": "aycacanli@hotmail.com",
      "photoUrl": "https://lh3.googleusercontent.com/a/default-user=s128",
      "userId": "106415820899870547758"
     },
     "user_tz": -180
    },
    "id": "7XD-mtv9jMLh",
    "outputId": "846b0f7b-9ed5-42cc-cfd8-6bf82d514fda"
   },
   "outputs": [
    {
     "name": "stdout",
     "output_type": "stream",
     "text": [
      "[25, 30, 35, 3, 4, 5, 6, 7, 8, 9, 10]\n"
     ]
    }
   ],
   "source": [
    "x = [1, 2, 3, 4, 5, 6, 7, 8, 9, 10]\n",
    "x[4:]\n",
    "\n",
    "\n",
    "\n",
    "# print the last 5 indexes of x\n",
    "x[len(x) - 5:]\n",
    "\n",
    "# print first 3 indexes of x\n",
    "x[:3]\n",
    "# print a sub-list starting from 5th index to the 8th\n",
    "x[4:8]\n",
    "\n",
    "# modify the 2nd, 3rd, and 4th index to be 25, 30, and 35 respectively\n",
    "x[:2] = [25,30,35]\n",
    "print(x)"
   ]
  },
  {
   "cell_type": "markdown",
   "metadata": {
    "colab_type": "text",
    "id": "Sg5nDfJXjMLj"
   },
   "source": [
    "#### Concatenation and repetition of lists\n",
    "\n",
    "Similar to strings, lists are concatenated by adding them using a `+`.\n",
    "Also, multiplying a list with a number, `n` replicates the elements `n` times."
   ]
  },
  {
   "cell_type": "code",
   "execution_count": 32,
   "metadata": {
    "colab": {
     "autoexec": {
      "startup": false,
      "wait_interval": 0
     },
     "base_uri": "https://localhost:8080/",
     "height": 126
    },
    "colab_type": "code",
    "executionInfo": {
     "elapsed": 1807,
     "status": "ok",
     "timestamp": 1525263200134,
     "user": {
      "displayName": "Georgina Bilali",
      "photoUrl": "https://lh3.googleusercontent.com/a/default-user=s128",
      "userId": "114444159360292123227"
     },
     "user_tz": -180
    },
    "id": "L9fA2wIQjMLk",
    "outputId": "fe2ebd87-665c-4352-b665-c447fe2c3af5"
   },
   "outputs": [
    {
     "name": "stdout",
     "output_type": "stream",
     "text": [
      "Concatenated list [1, 2, 3, 4]\n",
      "Replicated list [1, 2, 1, 2, 1, 2]\n",
      "[4]\n",
      "[5]\n",
      "[5]\n",
      "[6]\n"
     ]
    }
   ],
   "source": [
    "# Concatenation\n",
    "x = [1, 2]\n",
    "y = [3, 4]\n",
    "x_y = x + y\n",
    "print (\"Concatenated list\", x_y)\n",
    "\n",
    "# Repetition of elements thrice\n",
    "x_3 = x * 3\n",
    "print (\"Replicated list\", x_3)\n",
    "\n",
    "for i in x:\n",
    "    for j in y:\n",
    "        l=[i+j]\n",
    "        print(l)"
   ]
  },
  {
   "cell_type": "markdown",
   "metadata": {
    "colab_type": "text",
    "id": "Fw7TAfJejMLp"
   },
   "source": [
    "#### `in` and `not in` operators\n",
    "\n",
    "Once again, similar to strings, `in` operator returns True if an element exists in a list. False otherwise. On similar lines, `not in` operators returns True if an element does not exist in a list."
   ]
  },
  {
   "cell_type": "code",
   "execution_count": 33,
   "metadata": {
    "colab": {
     "autoexec": {
      "startup": false,
      "wait_interval": 0
     },
     "base_uri": "https://localhost:8080/",
     "height": 86
    },
    "colab_type": "code",
    "executionInfo": {
     "elapsed": 945,
     "status": "ok",
     "timestamp": 1525253111161,
     "user": {
      "displayName": "Niall Walsh",
      "photoUrl": "https://lh3.googleusercontent.com/a/default-user=s128",
      "userId": "114124776939263762925"
     },
     "user_tz": -60
    },
    "id": "HO8h1nobjMLp",
    "outputId": "c8026c52-fa2c-476d-8386-cbb2902b432c"
   },
   "outputs": [
    {
     "name": "stdout",
     "output_type": "stream",
     "text": [
      "2 exists in x\n",
      "3 and 5 exist in x\n",
      "False\n",
      "100 does not exist in x\n"
     ]
    }
   ],
   "source": [
    "x = [1, 2, 3, 4, 5]\n",
    "\n",
    "if 2 in x:\n",
    "    print (\"2 exists in x\")\n",
    "if (3 in x) and (5 in x):\n",
    "    print (\"3 and 5 exist in x\")\n",
    "print (10 in x)\n",
    "if (100 not in x):\n",
    "    print (\"100 does not exist in x\")"
   ]
  },
  {
   "cell_type": "markdown",
   "metadata": {
    "colab_type": "text",
    "id": "hSlyKeJsjMLv"
   },
   "source": [
    "#### Traversing a list using loop\n",
    "\n",
    "for loops can be used to traverse through a list. The way this works is that the list is the iterable_operator and the iterating variable takes on every element of list.\n",
    "\n",
    "Lists can be also be traversed by *accessing* every element using `range` and `len()`. \n",
    "\n",
    "We will discuss both these methods using examples"
   ]
  },
  {
   "cell_type": "code",
   "execution_count": 34,
   "metadata": {
    "colab": {
     "autoexec": {
      "startup": false,
      "wait_interval": 0
     },
     "base_uri": "https://localhost:8080/",
     "height": 235
    },
    "colab_type": "code",
    "executionInfo": {
     "elapsed": 987,
     "status": "ok",
     "timestamp": 1525263633464,
     "user": {
      "displayName": "Georgina Bilali",
      "photoUrl": "https://lh3.googleusercontent.com/a/default-user=s128",
      "userId": "114444159360292123227"
     },
     "user_tz": -180
    },
    "id": "Y6z7iW7NjMLw",
    "outputId": "82f575ee-9cc8-4dc8-988c-6d7890d3af4e"
   },
   "outputs": [
    {
     "name": "stdout",
     "output_type": "stream",
     "text": [
      "i is taking on elements of the list\n",
      "8\n",
      "25\n",
      "39\n",
      "7\n",
      "35\n",
      "i is taking on indexes of the list\n",
      "8\n",
      "25\n",
      "39\n",
      "7\n",
      "35\n"
     ]
    }
   ],
   "source": [
    "x = [8, 25, 39, 7, 35]\n",
    "\n",
    "# iterating variable taking on element of a list\n",
    "print (\"i is taking on elements of the list\")\n",
    "for i in x: # i will take on 8, 25, 39, 7 and finally 35\n",
    "    print (i) # simple as that\n",
    "    \n",
    "# iterating by accessing list elements\n",
    "print (\"i is taking on indexes of the list\")\n",
    "for i in range(len(x)): # i takes on 0, 1, 2, 3 and finally 4\n",
    "    print (x[i]) # accessing the index of the list"
   ]
  },
  {
   "cell_type": "markdown",
   "metadata": {
    "colab_type": "text",
    "id": "4k46eZGRjML0"
   },
   "source": [
    "Some more exercise"
   ]
  },
  {
   "cell_type": "code",
   "execution_count": 35,
   "metadata": {
    "colab": {
     "autoexec": {
      "startup": false,
      "wait_interval": 0
     },
     "base_uri": "https://localhost:8080/",
     "height": 408
    },
    "colab_type": "code",
    "executionInfo": {
     "elapsed": 697,
     "status": "ok",
     "timestamp": 1525596752997,
     "user": {
      "displayName": "aycacanli@hotmail.com",
      "photoUrl": "https://lh3.googleusercontent.com/a/default-user=s128",
      "userId": "106415820899870547758"
     },
     "user_tz": -180
    },
    "id": "sB1UOeRljML1",
    "outputId": "1824cf49-4542-4fae-855b-19ab93231408"
   },
   "outputs": [
    {
     "name": "stdout",
     "output_type": "stream",
     "text": [
      "39\n",
      "7\n",
      "35\n",
      "Second exercise : 8\n",
      "Second exercise : 25\n",
      "8\n",
      "8\n",
      "25\n",
      "39\n",
      "7\n",
      "35\n",
      "Last exercise: 1\n",
      "Last exercise: 3\n"
     ]
    }
   ],
   "source": [
    "# Traverse the list x, but only the last 3 elements\n",
    "for i in x[len(x)-3:]:\n",
    "    print (i)\n",
    "\n",
    "\n",
    "# Traverse the first 2 elements of the list x by accessing the elements\n",
    "for i in x[:2]:\n",
    "    print(\"Second exercise : {}\".format(i))\n",
    "  \n",
    "  \n",
    "# Traverse through the list x but print only those elements that are divisible by 2\n",
    "for i in x:\n",
    "    if i%2 == 0:\n",
    "        print(i)\n",
    "    \n",
    "for i in x:\n",
    "    print(i)\n",
    "\n",
    "y = [1, 'Vodafone', 3, 'Hello']\n",
    "\n",
    "# Traverse the list y but print only those elements that are of integer type\n",
    "for i in y:\n",
    "    if type(i) == int:\n",
    "        print(\"Last exercise: {}\".format(i))"
   ]
  },
  {
   "cell_type": "code",
   "execution_count": 36,
   "metadata": {
    "colab": {
     "autoexec": {
      "startup": false,
      "wait_interval": 0
     },
     "base_uri": "https://localhost:8080/",
     "height": 199
    },
    "colab_type": "code",
    "executionInfo": {
     "elapsed": 751,
     "status": "ok",
     "timestamp": 1525271037904,
     "user": {
      "displayName": "Georgina Bilali",
      "photoUrl": "https://lh3.googleusercontent.com/a/default-user=s128",
      "userId": "114444159360292123227"
     },
     "user_tz": -180
    },
    "id": "2aH_S3PhyQIO",
    "outputId": "f2690df4-6a1a-41f4-fe0a-64186fbf1fa7"
   },
   "outputs": [
    {
     "name": "stdout",
     "output_type": "stream",
     "text": [
      "[1, 'Vodafone', 3, 'Hello']\n",
      "39\n",
      "7\n",
      "35\n",
      "8\n",
      "25\n",
      "8\n",
      "....\n",
      "1\n",
      "3\n"
     ]
    }
   ],
   "source": [
    "x = [8, 25, 39, 7, 35]\n",
    "k=x[2:]\n",
    "print(y)\n",
    "\n",
    "for i in k: \n",
    "    print (i) \n",
    "\n",
    "for i in range(0,2): \n",
    "    print (x[i]) \n",
    "       \n",
    "      \n",
    "y=[1,'Vodafone', 3,'Hello']\n",
    "\n",
    "\n",
    "for i in range(len(x)):\n",
    "    if x[i] %2 == 0:\n",
    "        print(x[i])\n",
    "print('....')        \n",
    "for i in range(len(y)):\n",
    "    if type(y[i]) == int: #y[i] == int 3 != int\n",
    "        print(y[i])\n",
    "\n",
    " "
   ]
  },
  {
   "cell_type": "code",
   "execution_count": 37,
   "metadata": {
    "colab": {
     "autoexec": {
      "startup": false,
      "wait_interval": 0
     },
     "base_uri": "https://localhost:8080/",
     "height": 35
    },
    "colab_type": "code",
    "executionInfo": {
     "elapsed": 1078,
     "status": "ok",
     "timestamp": 1525264934084,
     "user": {
      "displayName": "Georgina Bilali",
      "photoUrl": "https://lh3.googleusercontent.com/a/default-user=s128",
      "userId": "114444159360292123227"
     },
     "user_tz": -180
    },
    "id": "Ch4kCqV_2cKQ",
    "outputId": "c8985f35-70e1-4051-f253-ef5f14f09c13"
   },
   "outputs": [
    {
     "data": {
      "text/plain": [
       "[5, 6, 7, 8, 9, 10]"
      ]
     },
     "execution_count": 37,
     "metadata": {},
     "output_type": "execute_result"
    }
   ],
   "source": [
    "x = [1, 2, 3, 4, 5, 6, 7, 8, 9, 10]\n",
    "x[4:]\n",
    "\n",
    "\n",
    "\n",
    "# print the last 5 indexes of x\n",
    "\n",
    "# print first 3 indexes of x\n",
    "\n",
    "# print a sub-list starting from 5th index to the 8th\n",
    "\n",
    "\n",
    "# modify the 2nd, 3rd, and 4th index to be 25, 30, and 35 respectively\n",
    "\n"
   ]
  },
  {
   "cell_type": "markdown",
   "metadata": {
    "colab_type": "text",
    "id": "mZOQvwNPjML3"
   },
   "source": [
    "#### isinstance():\n",
    "It is a function that is used to check if a variable belongs to a particular type. Returns True if a variable belongs to the type specified, False otherwise.\n",
    "**Syntax: ** `isinstance(x, type)`\n",
    "\n",
    "The type arguments are:\n",
    "1. integer - `int`\n",
    "2. floating point - `float`\n",
    "3. string - `str`\n",
    "\n",
    "Now, give the last question a shot!"
   ]
  },
  {
   "cell_type": "markdown",
   "metadata": {
    "colab_type": "text",
    "id": "QLDzjH8CjML4"
   },
   "source": [
    "#### List Methods\n",
    "\n",
    "There exists few handy methods that can be used with a list that can be used to modify or extract elements from it.\n",
    "\n",
    "Here is a list of them:\n",
    "\n",
    "1. `append`: Adds an element to the end of a list\n",
    "2. `count`: Returns the number of times element x appears in a list.\n",
    "3. `extend`: Appends all the elements in a list to the original list\n",
    "4. `index`: Returns the index of the first occurrence of element x in a list\n",
    "5. `insert`: Inserts an element x at a given index. Note that the first element in the list has index 0\n",
    "6. `remove`: Removes the first occurrence of element x a the list\n",
    "7. `reverse`: Reverses a list\n",
    "8. `sort`: Sorts the elements in a list in ascending order\n",
    "\n",
    "Here are the examples that show each of their usage."
   ]
  },
  {
   "cell_type": "code",
   "execution_count": 38,
   "metadata": {
    "colab": {
     "autoexec": {
      "startup": false,
      "wait_interval": 0
     },
     "base_uri": "https://localhost:8080/",
     "height": 10
    },
    "colab_type": "code",
    "executionInfo": {
     "elapsed": 810,
     "status": "ok",
     "timestamp": 1525253114379,
     "user": {
      "displayName": "Niall Walsh",
      "photoUrl": "https://lh3.googleusercontent.com/a/default-user=s128",
      "userId": "114124776939263762925"
     },
     "user_tz": -60
    },
    "id": "mFzAgeZojML4",
    "outputId": "5a9cd4b2-e7cd-4d28-c54e-40e55ddb58bb"
   },
   "outputs": [
    {
     "name": "stdout",
     "output_type": "stream",
     "text": [
      "Appended List:  [2, 6, 1, 5, 65, 27, 6, 10]\n",
      "Count of 6 in 'a' is: 2\n",
      "'a' extended with 'b' is: [2, 6, 1, 5, 65, 27, 6, 10, 25, 46]\n",
      "Index of 1 in 'a' is: 2\n",
      "'a' with 3 in the 5th position is: [2, 6, 1, 5, 3, 65, 27, 6, 10, 25, 46]\n",
      "'a' with 3 removed is: [2, 6, 1, 5, 65, 27, 6, 10, 25, 46]\n",
      "'a' reversed is: [46, 25, 10, 6, 27, 65, 5, 1, 6, 2]\n",
      "'a' sorted in ascending order is: [1, 2, 5, 6, 6, 10, 25, 27, 46, 65]\n"
     ]
    }
   ],
   "source": [
    "a = [2, 6, 1, 5, 65, 27, 6]\n",
    "\n",
    "# append - can only append one element at a time\n",
    "# a[6] = 10 is invalid!\n",
    "a.append(10) # appending 10 to the end of list\n",
    "print (\"Appended List: \", a)\n",
    "\n",
    "# count\n",
    "print (\"Count of 6 in 'a' is:\", a.count(6))\n",
    "\n",
    "b = [25, 46]\n",
    "# extend - add elements of b to the end of list\n",
    "# syntax list_1.extend(list_2)\n",
    "a.extend(b)\n",
    "print (\"'a' extended with 'b' is:\", a)\n",
    "\n",
    "# index\n",
    "print (\"Index of 1 in 'a' is:\", a.index(1))\n",
    "\n",
    "# insert - 3 in the 5th position(index 4)\n",
    "# syntax: insert(position, element)\n",
    "a.insert(4, 3) # note how nothing is replaced but everything from index 4 is now pushed to the right by 1\n",
    "print (\"'a' with 3 in the 5th position is:\", a)\n",
    "\n",
    "# remove - remove the 3 inserted\n",
    "# syntax: list.remove(element)\n",
    "a.remove(3)\n",
    "print (\"'a' with 3 removed is:\", a)\n",
    "\n",
    "# reverse\n",
    "a.reverse()\n",
    "print (\"'a' reversed is:\", a)\n",
    "\n",
    "# sort\n",
    "a.sort()\n",
    "print (\"'a' sorted in ascending order is:\", a)\n",
    "\n",
    "# Finally, delete 'a'\n",
    "del(a)"
   ]
  },
  {
   "cell_type": "markdown",
   "metadata": {
    "colab_type": "text",
    "id": "z2nsS0_hjML9"
   },
   "source": [
    "#### List Comprehension\n",
    "\n",
    "List comprehension is a compact way to create a list. It can be initialized using for loop, `if` statements can be used to condition on the elements being added to the list. List comprehensions can be used to traverse another list and build a new one.\n",
    "\n",
    "Take a minute to slowly go through these examples and get the flavour of what is going on in them."
   ]
  },
  {
   "cell_type": "code",
   "execution_count": 39,
   "metadata": {
    "colab": {
     "autoexec": {
      "startup": false,
      "wait_interval": 0
     },
     "base_uri": "https://localhost:8080/",
     "height": 10
    },
    "colab_type": "code",
    "executionInfo": {
     "elapsed": 962,
     "status": "ok",
     "timestamp": 1525253115373,
     "user": {
      "displayName": "Niall Walsh",
      "photoUrl": "https://lh3.googleusercontent.com/a/default-user=s128",
      "userId": "114124776939263762925"
     },
     "user_tz": -60
    },
    "id": "X9KmxfugjML9",
    "outputId": "361dece4-8fae-47eb-e278-8a0837cb332a"
   },
   "outputs": [
    {
     "name": "stdout",
     "output_type": "stream",
     "text": [
      "'a' without list comprehension: [0, 1, 2, 3, 4, 5, 6, 7, 8, 9]\n",
      "'a' with list comprehension: [0, 1, 2, 3, 4, 5, 6, 7, 8, 9]\n"
     ]
    }
   ],
   "source": [
    "# Create a list having first 10 integers including 0\n",
    "# Without list comprehension\n",
    "a = [] # empty list\n",
    "for i in range(10):\n",
    "    a.append(i) # append an element\n",
    "print (\"'a' without list comprehension:\", a)\n",
    "\n",
    "del(a) # delete a\n",
    "\n",
    "# Using list comprehension\n",
    "a = [i for i in range(10)]\n",
    "print (\"'a' with list comprehension:\", a)"
   ]
  },
  {
   "cell_type": "markdown",
   "metadata": {
    "colab_type": "text",
    "id": "JsmqshURjMMC"
   },
   "source": [
    "What happened here? Let us break it down\n",
    "- `range(10)`: returns the integers from 0 to 9\n",
    "- `for i in range(10)`: iterates through every element with `i` taking on the numbers\n",
    "- `i for i in range(10)`: is a generator feeding the value of `i` by iterating through the numbers\n",
    "- `[i for i in range(10)]`: encapsulates the result into a list\n",
    "\n",
    "Take a minute to understand this and the rest of the following examples"
   ]
  },
  {
   "cell_type": "code",
   "execution_count": 40,
   "metadata": {
    "colab": {
     "autoexec": {
      "startup": false,
      "wait_interval": 0
     },
     "base_uri": "https://localhost:8080/",
     "height": 10
    },
    "colab_type": "code",
    "executionInfo": {
     "elapsed": 720,
     "status": "ok",
     "timestamp": 1525253116137,
     "user": {
      "displayName": "Niall Walsh",
      "photoUrl": "https://lh3.googleusercontent.com/a/default-user=s128",
      "userId": "114124776939263762925"
     },
     "user_tz": -60
    },
    "id": "l7JMESv6jMMC",
    "outputId": "943f47d2-354b-4045-caa7-40bad50f0041"
   },
   "outputs": [
    {
     "name": "stdout",
     "output_type": "stream",
     "text": [
      "[0, 2, 4, 6, 8, 10, 12, 14]\n"
     ]
    }
   ],
   "source": [
    "# Create a list of multiples of 2 between 0 to 15\n",
    "a = [i for i in range(15) if i % 2 == 0]\n",
    "print (a)"
   ]
  },
  {
   "cell_type": "code",
   "execution_count": 41,
   "metadata": {
    "colab": {
     "autoexec": {
      "startup": false,
      "wait_interval": 0
     },
     "base_uri": "https://localhost:8080/",
     "height": 10
    },
    "colab_type": "code",
    "executionInfo": {
     "elapsed": 812,
     "status": "ok",
     "timestamp": 1525253117003,
     "user": {
      "displayName": "Niall Walsh",
      "photoUrl": "https://lh3.googleusercontent.com/a/default-user=s128",
      "userId": "114124776939263762925"
     },
     "user_tz": -60
    },
    "id": "8zDg3zJIjMMG",
    "outputId": "1ea85f29-9bfc-4573-cea0-07618aff4e32"
   },
   "outputs": [
    {
     "name": "stdout",
     "output_type": "stream",
     "text": [
      "[6, 90, 4, 12, 18]\n"
     ]
    }
   ],
   "source": [
    "# Create a list that contains twice the value of all the elements of another list\n",
    "x = [3, 45, 2, 6, 9] # base list\n",
    "a = [i * 2 for i in x]\n",
    "print (a)"
   ]
  },
  {
   "cell_type": "code",
   "execution_count": 42,
   "metadata": {
    "colab": {
     "autoexec": {
      "startup": false,
      "wait_interval": 0
     }
    },
    "colab_type": "code",
    "id": "FAH-J7u6jMMJ"
   },
   "outputs": [
    {
     "name": "stdout",
     "output_type": "stream",
     "text": [
      "[2, 10, 12]\n"
     ]
    }
   ],
   "source": [
    "# Create a list containing elements of a list that corresponds to a True index in a boolean list\n",
    "bool_list = [True, False, False, False, True, True] \n",
    "x = [2, 4, 6, 8, 10, 12]\n",
    "a = [x[i] for i in range(len(x)) if bool_list[i] == True]\n",
    "print (a) # a = [2, 10, 12]"
   ]
  },
  {
   "cell_type": "code",
   "execution_count": 43,
   "metadata": {
    "colab": {
     "autoexec": {
      "startup": false,
      "wait_interval": 0
     },
     "base_uri": "https://localhost:8080/",
     "height": 10
    },
    "colab_type": "code",
    "executionInfo": {
     "elapsed": 829,
     "status": "ok",
     "timestamp": 1525253119017,
     "user": {
      "displayName": "Niall Walsh",
      "photoUrl": "https://lh3.googleusercontent.com/a/default-user=s128",
      "userId": "114124776939263762925"
     },
     "user_tz": -60
    },
    "id": "mJSjplD_jMMM",
    "outputId": "a743b9c3-698d-4055-f8f1-b63766dac774"
   },
   "outputs": [
    {
     "name": "stdout",
     "output_type": "stream",
     "text": [
      "[]\n"
     ]
    }
   ],
   "source": [
    "# Create a list containing elements of a list that corresponds to those indexes of another list whose values are lesser than 5\n",
    "x = [2, 34, 65, 1, 75] # base list\n",
    "y = [2.3, 6.7, 9.01, 1.65, 5] # compare list\n",
    "a = []\n",
    "\n",
    "print (a)"
   ]
  },
  {
   "cell_type": "code",
   "execution_count": 44,
   "metadata": {
    "colab": {
     "autoexec": {
      "startup": false,
      "wait_interval": 0
     },
     "base_uri": "https://localhost:8080/",
     "height": 34
    },
    "colab_type": "code",
    "executionInfo": {
     "elapsed": 641,
     "status": "ok",
     "timestamp": 1525598094571,
     "user": {
      "displayName": "aycacanli@hotmail.com",
      "photoUrl": "https://lh3.googleusercontent.com/a/default-user=s128",
      "userId": "106415820899870547758"
     },
     "user_tz": -180
    },
    "id": "u_6xcLFCjMMO",
    "outputId": "64997964-2d10-432f-8d96-9d5318f4f4fe"
   },
   "outputs": [
    {
     "name": "stdout",
     "output_type": "stream",
     "text": [
      "[4, 75, 145, 204]\n"
     ]
    }
   ],
   "source": [
    "# Create a list containing elements of a list that corresponds to a True index in a boolean list\n",
    "# AND sort the new list\n",
    "bool_list = [False, True, True, False, True, True] \n",
    "x = [2, 204, 75, 8, 4, 145]\n",
    "a = []\n",
    "a = [x[i] for i in range(len(bool_list)) if bool_list[i] == True]\n",
    "a.sort()\n",
    "print (a) # a = [4, 75, 145, 204]"
   ]
  },
  {
   "cell_type": "code",
   "execution_count": 45,
   "metadata": {
    "colab": {
     "autoexec": {
      "startup": false,
      "wait_interval": 0
     },
     "base_uri": "https://localhost:8080/",
     "height": 34
    },
    "colab_type": "code",
    "executionInfo": {
     "elapsed": 645,
     "status": "ok",
     "timestamp": 1525598254034,
     "user": {
      "displayName": "aycacanli@hotmail.com",
      "photoUrl": "https://lh3.googleusercontent.com/a/default-user=s128",
      "userId": "106415820899870547758"
     },
     "user_tz": -180
    },
    "id": "8f512O3rjMMQ",
    "outputId": "0fe640e9-1e9f-429b-f30c-f3e5a81049a9"
   },
   "outputs": [
    {
     "name": "stdout",
     "output_type": "stream",
     "text": [
      "[4, 204]\n"
     ]
    }
   ],
   "source": [
    "# Repeat the same but also taking in only the elements divisible by 4\n",
    "\n",
    "a = [a[i] for i in range(len(a)) if a[i]%4 == 0]\n",
    "print (a)"
   ]
  },
  {
   "cell_type": "code",
   "execution_count": 46,
   "metadata": {
    "colab": {
     "autoexec": {
      "startup": false,
      "wait_interval": 0
     },
     "base_uri": "https://localhost:8080/",
     "height": 51
    },
    "colab_type": "code",
    "executionInfo": {
     "elapsed": 628,
     "status": "ok",
     "timestamp": 1525598405767,
     "user": {
      "displayName": "aycacanli@hotmail.com",
      "photoUrl": "https://lh3.googleusercontent.com/a/default-user=s128",
      "userId": "106415820899870547758"
     },
     "user_tz": -180
    },
    "id": "0U8WwDXqjMMY",
    "outputId": "80373cc2-2c87-481f-e24b-6b19e2f4a544"
   },
   "outputs": [
    {
     "name": "stdout",
     "output_type": "stream",
     "text": [
      "[2, 4, 6, 8]\n",
      "['The square of 1 is 2', 'The square of 2 is 4', 'The square of 3 is 6', 'The square of 4 is 8']\n"
     ]
    }
   ],
   "source": [
    "# consider two lists\n",
    "a = [1, 2, 3, 4]\n",
    "#b = [1, 4, 9, 16]\n",
    "b = []\n",
    "# Implement the equivalent of the following using list comprehension\n",
    "\n",
    "b = [a[i]*2 for i in range(len(a))]\n",
    "print(b)\n",
    "\"\"\"\n",
    "for i in range(len(a)):\n",
    "    print (\"The square of {} is {}\".format(a[i], b[i]))\n",
    " \"\"\"   \n",
    "# print ([\"The square of {} is {}\".format(a[i], b[i]) for i in range(len(a))])\n",
    "\n",
    "# Using zip\n",
    "print ([\"The square of {} is {}\".format(x[0], x[1]) for x in zip(a, b)])"
   ]
  },
  {
   "cell_type": "markdown",
   "metadata": {
    "colab_type": "text",
    "id": "kiOqScDmjMMg"
   },
   "source": [
    "#### Zip of lists\n",
    "Zipping of lists combines every corresponding element into a tuple(explained later) and builds a new list. The important criterion for zipping is that the to be zipped lists must be of same length.\n",
    "\n",
    "To give an intuition with what happened in the above case,"
   ]
  },
  {
   "cell_type": "code",
   "execution_count": 47,
   "metadata": {
    "colab": {
     "autoexec": {
      "startup": false,
      "wait_interval": 0
     },
     "base_uri": "https://localhost:8080/",
     "height": 10
    },
    "colab_type": "code",
    "executionInfo": {
     "elapsed": 821,
     "status": "ok",
     "timestamp": 1525253122662,
     "user": {
      "displayName": "Niall Walsh",
      "photoUrl": "https://lh3.googleusercontent.com/a/default-user=s128",
      "userId": "114124776939263762925"
     },
     "user_tz": -60
    },
    "id": "-zAqwkRPjMMh",
    "outputId": "0199d953-9d4c-4b14-fd5b-c06f88847a0b"
   },
   "outputs": [
    {
     "name": "stdout",
     "output_type": "stream",
     "text": [
      "a: [1, 2, 3, 4]\n",
      "b: [2, 4, 6, 8]\n",
      "a and b zipped: [(1, 2), (2, 4), (3, 6), (4, 8)]\n"
     ]
    }
   ],
   "source": [
    "print (\"a:\", a)\n",
    "print (\"b:\", b)\n",
    "print (\"a and b zipped:\", list(zip(a, b)))"
   ]
  },
  {
   "cell_type": "markdown",
   "metadata": {
    "colab_type": "text",
    "id": "9H9bprEDjMMn"
   },
   "source": [
    "### Tuples\n",
    "\n",
    "Tuples are similar to lists. Notice in the zip example how the pairs are structured using `()`? That is how a tuple is housed - between paranthesis and values separated by commas.\n",
    "\n",
    "This is not the major difference between lists and tuples. Unlike lists, tuples are immutable meaning once a tuple is initialized, it cannot be modified or changed. Therefore the list methods such as append, remove, insert, replace or reverse will not work with tuples.\n",
    "\n",
    "When do we use tuples? Naturally when we have a set of values that we do not want to change over the lifetime of a code.\n",
    "\n",
    "For eg:\n",
    "1. Switch conditions: `('on', 'off')`\n",
    "2. Discount Rate: `(0, 25, 50, 75)`\n",
    "\n",
    "However, `len()`, slicing, traversing, and accessing a tuple are similar to that of lists. `in` and `not in` operators also work the same way.\n",
    "\n",
    "Here are few examples:"
   ]
  },
  {
   "cell_type": "code",
   "execution_count": 48,
   "metadata": {
    "colab": {
     "autoexec": {
      "startup": false,
      "wait_interval": 0
     },
     "base_uri": "https://localhost:8080/",
     "height": 136
    },
    "colab_type": "code",
    "executionInfo": {
     "elapsed": 564,
     "status": "ok",
     "timestamp": 1525598803340,
     "user": {
      "displayName": "aycacanli@hotmail.com",
      "photoUrl": "https://lh3.googleusercontent.com/a/default-user=s128",
      "userId": "106415820899870547758"
     },
     "user_tz": -180
    },
    "id": "a9-S4rCrjMMn",
    "outputId": "518da1b2-e731-4fc2-c456-b0ccd5ddb9dd"
   },
   "outputs": [
    {
     "name": "stdout",
     "output_type": "stream",
     "text": [
      "2\n",
      "Traversing through switch\n",
      "on\n",
      "off\n",
      "Accessing tuple: on\n",
      "Example for in: True\n",
      "Example for not in: True\n"
     ]
    }
   ],
   "source": [
    "# Empty tuple\n",
    "t = ()\n",
    "\n",
    "# Tuple with elements\n",
    "switch = ('on', 'off')\n",
    "switch = tuple(['on', 'off'])\n",
    "\n",
    "\n",
    "# Length of tuple\n",
    "len_switch = len(switch)\n",
    "print(len_switch)\n",
    "\n",
    "# Traversing through tuples\n",
    "print (\"Traversing through switch\")\n",
    "for i in switch:\n",
    "    print (i)\n",
    "    \n",
    "# Accessing tuple index\n",
    "print (\"Accessing tuple:\", switch[0])\n",
    "\n",
    "# tuples are immutable\n",
    "#switch[0] = 'turn it on' # Error\n",
    "\n",
    "# slicing tuples\n",
    "t_2 = (1, 2, 3, 4, 5)\n",
    "sliced_tuple = t_2[:2]\n",
    "\n",
    "# in and not in operator\n",
    "print ('Example for in:', 3 in t_2)\n",
    "print ('Example for not in:', 'not on' not in switch)"
   ]
  },
  {
   "cell_type": "markdown",
   "metadata": {
    "colab_type": "text",
    "id": "DJVSxflrjMMp"
   },
   "source": [
    "### Dictionaries\n",
    "\n",
    "Dictionaries are data structures that store values in a key-value pair. This enables quick retrieve, addition, removal, modification of values using the keys. \n",
    "\n",
    "Dictionaries are mutable meaning they can be altered after initialization.\n",
    "\n",
    "Dictionaries are initialized between `{}` and the key-value pairs seperated by commas.\n",
    "\n",
    "**Syntax:** dict_instance = {key_1: value_1, key_2: value_2, ..key_n: value_n}\n",
    "\n",
    "Let us take a simple example:"
   ]
  },
  {
   "cell_type": "code",
   "execution_count": 49,
   "metadata": {
    "colab": {
     "autoexec": {
      "startup": false,
      "wait_interval": 0
     }
    },
    "colab_type": "code",
    "id": "1SpppB4ujMMq"
   },
   "outputs": [],
   "source": [
    "employee_salary = {\n",
    "    'John': 25000,\n",
    "    'Mitch': 30000\n",
    "}"
   ]
  },
  {
   "cell_type": "markdown",
   "metadata": {
    "colab_type": "text",
    "id": "a5GKX8yajMMs"
   },
   "source": [
    "`employee_salary` is a dictionary having a key(name)-value(salary) pair of employees a company and their salary. \n",
    "\n",
    "- Each key must be unique, values need not be.\n",
    "- The type of the `keys` must be hashable which means those values should not change in the lifetime of the code. `value` can be of any type."
   ]
  },
  {
   "cell_type": "markdown",
   "metadata": {
    "colab_type": "text",
    "id": "q0lLWvbtjMMt"
   },
   "source": [
    "Empty dictionaries are initialized by a simple pair of curly braces.\n",
    "\n",
    "Just like lists, `len(dict_name)` yields the length of the dictionary object.\n",
    "\n",
    "To get an item from a dictionary, the following is the syntax:\n",
    "`dict_name[key]`\n",
    "\n",
    "Retrieval of items from a non-existent key is invalid.\n",
    "\n",
    "Modification of an item is done by:\n",
    "`dict_name[key] = new_value`\n",
    "\n",
    "Addition of a new item is possible. A unique key needs to be defined.\n",
    "`dict_name[new_key] = new_value`\n",
    "\n",
    "Deletion of an item is done so:\n",
    "`del dict_name[key]`"
   ]
  },
  {
   "cell_type": "code",
   "execution_count": 50,
   "metadata": {
    "colab": {
     "autoexec": {
      "startup": false,
      "wait_interval": 0
     },
     "base_uri": "https://localhost:8080/",
     "height": 10
    },
    "colab_type": "code",
    "executionInfo": {
     "elapsed": 706,
     "status": "ok",
     "timestamp": 1525253125806,
     "user": {
      "displayName": "Niall Walsh",
      "photoUrl": "https://lh3.googleusercontent.com/a/default-user=s128",
      "userId": "114124776939263762925"
     },
     "user_tz": -60
    },
    "id": "B9cDmKKBjMMt",
    "outputId": "db39f18d-d091-4c85-8be7-fa71b49b3fb5"
   },
   "outputs": [
    {
     "name": "stdout",
     "output_type": "stream",
     "text": [
      "Salary of Mitch is: 30000\n",
      "Dictionary with modification: {'John': 45000, 'Mitch': 30000}\n",
      "Dictionary with new item added: {'John': 45000, 'Mitch': 30000, 'Susan': 85000}\n",
      "Dictionary with deletion of item {'John': 45000, 'Susan': 85000}\n"
     ]
    }
   ],
   "source": [
    "# empty dictionary\n",
    "emp_dict = {}\n",
    "\n",
    "# Accessing an item\n",
    "print (\"Salary of Mitch is:\", employee_salary['Mitch'])\n",
    "\n",
    "# Modification of an item\n",
    "employee_salary['John'] = 45000\n",
    "print (\"Dictionary with modification:\", employee_salary)\n",
    "\n",
    "# Addition of an item\n",
    "employee_salary['Susan'] = 85000\n",
    "print (\"Dictionary with new item added:\", employee_salary)\n",
    "\n",
    "# Deletion of an item\n",
    "del employee_salary['Mitch']\n",
    "print (\"Dictionary with deletion of item\", employee_salary)"
   ]
  },
  {
   "cell_type": "markdown",
   "metadata": {
    "colab_type": "text",
    "id": "6eR2u1vXjMMv"
   },
   "source": [
    "#### Traversing through dictionary items\n",
    "\n",
    "Dictionary items can be traversed using `for` loops by iterating through the dictionary keys.\n",
    "\n",
    "**Syntax:**\n",
    "```\n",
    "for i in dict_name:\n",
    "    print (\"Key: {}, value: {}\".format(i, dict_name[i]))\n",
    "```\n",
    "\n",
    "#### `in` and `not in` operators\n",
    "\n",
    "Similar to lists, these operators work in a key existing in a dictionary or not.\n",
    "\n",
    "Let us look at respective examples"
   ]
  },
  {
   "cell_type": "code",
   "execution_count": 51,
   "metadata": {
    "colab": {
     "autoexec": {
      "startup": false,
      "wait_interval": 0
     },
     "base_uri": "https://localhost:8080/",
     "height": 10
    },
    "colab_type": "code",
    "executionInfo": {
     "elapsed": 873,
     "status": "ok",
     "timestamp": 1525253126735,
     "user": {
      "displayName": "Niall Walsh",
      "photoUrl": "https://lh3.googleusercontent.com/a/default-user=s128",
      "userId": "114124776939263762925"
     },
     "user_tz": -60
    },
    "id": "hWEFJOb7jMMw",
    "outputId": "d650e499-ad1a-4260-cc3f-31fb8a5deb67"
   },
   "outputs": [
    {
     "name": "stdout",
     "output_type": "stream",
     "text": [
      "Key: John, value: 45000\n",
      "Key: Susan, value: 85000\n",
      "Susan is present\n",
      "Mitch is not present\n"
     ]
    }
   ],
   "source": [
    "# Traversing example\n",
    "\n",
    "for i in employee_salary:\n",
    "    print (\"Key: {}, value: {}\".format(i, employee_salary[i]))\n",
    "    \n",
    "# in and not in operators\n",
    "if 'Susan' in employee_salary:\n",
    "    print (\"Susan is present\")\n",
    "if 'Mitch' not in employee_salary:\n",
    "    print (\"Mitch is not present\")\n",
    "    "
   ]
  },
  {
   "cell_type": "markdown",
   "metadata": {
    "colab_type": "text",
    "id": "P3CzToehjMMy"
   },
   "source": [
    "#### Dictionary methods\n",
    "\n",
    "The following is a list of methods that are normally used with a dictionary:\n",
    "\n",
    "1. clear(): Delete everything from dictionary\n",
    "2. keys(): Return keys in dictionary as tuples\n",
    "3. values(): Return values in dictionary as tuples\n",
    "4. items(): Returns tuples of key-value pairs of the dictionary\n",
    "\n",
    "Let us explore these using examples:"
   ]
  },
  {
   "cell_type": "code",
   "execution_count": 52,
   "metadata": {
    "colab": {
     "autoexec": {
      "startup": false,
      "wait_interval": 0
     },
     "base_uri": "https://localhost:8080/",
     "height": 10
    },
    "colab_type": "code",
    "executionInfo": {
     "elapsed": 922,
     "status": "ok",
     "timestamp": 1525253127752,
     "user": {
      "displayName": "Niall Walsh",
      "photoUrl": "https://lh3.googleusercontent.com/a/default-user=s128",
      "userId": "114124776939263762925"
     },
     "user_tz": -60
    },
    "id": "oY4G62oqjMMz",
    "outputId": "98b73f5f-5690-4fd2-d906-cae760306a06"
   },
   "outputs": [
    {
     "name": "stdout",
     "output_type": "stream",
     "text": [
      "dict_keys(['John', 'Susan'])\n",
      "dict_values([45000, 85000])\n",
      "dict_items([('John', 45000), ('Susan', 85000)])\n",
      "Copied dictionary {'John': 45000, 'Susan': 85000}\n",
      "Cleared dictionary {}\n"
     ]
    }
   ],
   "source": [
    "# print keys of dictionary\n",
    "print (employee_salary.keys())\n",
    "\n",
    "# print values of dictionary\n",
    "print (employee_salary.values())\n",
    "\n",
    "# print items of the dictionary\n",
    "print (employee_salary.items())\n",
    "\n",
    "# clear a dictionary\n",
    "es_copy = employee_salary.copy() # creates a copy of an object\n",
    "print (\"Copied dictionary\", es_copy)\n",
    "es_copy.clear()\n",
    "print (\"Cleared dictionary\", es_copy)"
   ]
  },
  {
   "cell_type": "code",
   "execution_count": 53,
   "metadata": {
    "colab": {
     "autoexec": {
      "startup": false,
      "wait_interval": 0
     },
     "base_uri": "https://localhost:8080/",
     "height": 231
    },
    "colab_type": "code",
    "executionInfo": {
     "elapsed": 737,
     "status": "error",
     "timestamp": 1525599591798,
     "user": {
      "displayName": "aycacanli@hotmail.com",
      "photoUrl": "https://lh3.googleusercontent.com/a/default-user=s128",
      "userId": "106415820899870547758"
     },
     "user_tz": -180
    },
    "id": "Pl-LQ0VtjMM2",
    "outputId": "e59c1add-7b4d-4c7c-f139-307f470fe9ea"
   },
   "outputs": [
    {
     "name": "stdout",
     "output_type": "stream",
     "text": [
      "['Key: John, value: 25000', 'Key: Mitch, value: 30000', 'Key: Susan, value: 50000']\n"
     ]
    }
   ],
   "source": [
    "# Exercise: Traverse the employee_salary dictionary using comprehension\n",
    "\n",
    "employee_salary = {\n",
    "    'John': 25000,\n",
    "    'Mitch': 30000,\n",
    "    'Susan': 50000\n",
    "}\n",
    "    \n",
    "a = [employee_salary[i] for i in employee_salary]\n",
    "\n",
    "\n",
    "print ([\"Key: {}, value: {}\".format(k, v) for k, v in employee_salary.items()])"
   ]
  },
  {
   "cell_type": "markdown",
   "metadata": {
    "colab_type": "text",
    "id": "d_P0IhaDjMM5"
   },
   "source": [
    "## Functions in Python\n",
    "\n",
    "<a id=\"func\"></a>\n",
    "\n",
    "Functions are re-usable piece of code that helps organize the code in a more readable and compact way.\n",
    "\n",
    "To give an intuition of why functions are used. Imagine a scenario where we need to sum a range of integers from 10 to 30. The code equivalent of this is\n",
    "```\n",
    "sum = 0\n",
    "for num in range(10, 31):\n",
    "    sum += num\n",
    "print (sum)\n",
    "```\n",
    "Next, say we get a scenario of summing another range of integers from 50 to 80, later from 10 to 100. It is practically inconvenient to run the code segment every time the situation occurs. Not only does it make the code ugly and long but raises inconvience to repeat the task with different values every time.\n",
    "\n",
    "Functions mitigate this issue by building a block of code with generic inputs and a single output tailored to the inputs. The generic inputs are called arguments that take in values from the code and yields the corresponding output.\n",
    "\n",
    "**Syntax:**\n",
    "Functions are defined by the keyword `def` followed by the function name. Note the identation. The entire function body must be idendated by a single tab space.\n",
    "\n",
    "```\n",
    "def function_name(arg_1, arg_2, ..., arg_N):\n",
    "    function_body\n",
    "    return_statement # if any\n",
    "```\n",
    "Let us take a look at the above problem in the form of a function "
   ]
  },
  {
   "cell_type": "code",
   "execution_count": 54,
   "metadata": {
    "colab": {
     "autoexec": {
      "startup": false,
      "wait_interval": 0
     },
     "base_uri": "https://localhost:8080/",
     "height": 187
    },
    "colab_type": "code",
    "executionInfo": {
     "elapsed": 752,
     "status": "ok",
     "timestamp": 1525599765874,
     "user": {
      "displayName": "aycacanli@hotmail.com",
      "photoUrl": "https://lh3.googleusercontent.com/a/default-user=s128",
      "userId": "106415820899870547758"
     },
     "user_tz": -180
    },
    "id": "xM_HtDvdjMM6",
    "outputId": "d29e02e7-1490-45ae-a716-6a7f876b11e8"
   },
   "outputs": [
    {
     "name": "stdout",
     "output_type": "stream",
     "text": [
      "Sum of integers from 10 to 30 is 420\n",
      "Sum of integers from 35 to 60 is 1235\n",
      "Sum of integers from 0 to 30 is 465\n",
      "Fahrenheit in Celsius : -12.222222222222221\n",
      "C Conversion 100 to F is : 37.77777777777778\n",
      "C Conversion 200 to F is : 93.33333333333333\n",
      "C Conversion 300 to F is : 148.88888888888889\n",
      "37.77777777777778\n",
      "93.33333333333333\n",
      "148.88888888888889\n"
     ]
    }
   ],
   "source": [
    "# function definition\n",
    "def sum_of_range(start, end):\n",
    "    sum = 0\n",
    "    for num in range(start, end + 1):\n",
    "        sum += num\n",
    "        \n",
    "    print (\"Sum of integers from {} to {} is {}\".format(start, end, sum))\n",
    "    \n",
    "# calling the function\n",
    "sum_of_range(10, 30) # 10 takes on start and 30 takes on end\n",
    "sum_of_range(35, 60)\n",
    "sum_of_range(0, 30)\n",
    "\n",
    "\n",
    "\n",
    "\n",
    "\n",
    "a=10\n",
    "def temp_conversion(a):\n",
    "    return ((a-32) * 5/9)\n",
    "\n",
    "# calling the function\n",
    "res = temp_conversion(a)\n",
    "print (\"Fahrenheit in Celsius :\", res) \n",
    "\n",
    "# GLOBAL\n",
    "b=[100,200,300]\n",
    "f = []\n",
    "\n",
    "def temp_conversion(c,f): # A = LOCAL TO TEMP_conversion\n",
    "\n",
    "    for i in range(len(c)):\n",
    "\n",
    "        f.append((c[i]-32)*5/9)\n",
    "\n",
    "\n",
    "        print( \"C Conversion {} to F is : {}\".format(c[i],f[i]))\n",
    "      \n",
    "      \n",
    "\n",
    "temp_conversion(c=b,f=f)\n",
    "\n",
    "\n",
    "b=[100,200,300]\n",
    "f = []\n",
    "\n",
    "def temp_conversion(c): # A = LOCAL TO TEMP_conversion\n",
    "    for i in range(len(c)):\n",
    "        print((c[i]-32)*5/9)\n",
    "\n",
    "          \n",
    "\n",
    "temp_conversion(c=b)\n",
    "\n",
    "\n",
    "\n",
    "\n"
   ]
  },
  {
   "cell_type": "markdown",
   "metadata": {
    "colab_type": "text",
    "id": "p3bUJtgLjMM8"
   },
   "source": [
    "Notice how simple that was? Functions need definition only once and can be called by a single line any number of times with appropritate arguments during the lifetime of the code.\n",
    "\n",
    "Does a function always need arguments? No. There could be functions with no arguments\n",
    "\n",
    "### Positional and Keyword Arguments\n",
    "\n",
    "Do we need to pass all the arguments a function accepts every time? No. Many a times, we have default values for certain arguments in the definition. These values can be overridden by explicitly passing them while calling the function.\n",
    "\n",
    "NOTE: The rule for passing default arguments is that default arguments must always follow non-default arguments during definition \n",
    "\n",
    "Take a look at the following examples to get an idea of the two scenarios."
   ]
  },
  {
   "cell_type": "code",
   "execution_count": 55,
   "metadata": {
    "colab": {
     "autoexec": {
      "startup": false,
      "wait_interval": 0
     },
     "base_uri": "https://localhost:8080/",
     "height": 10
    },
    "colab_type": "code",
    "executionInfo": {
     "elapsed": 1244,
     "status": "ok",
     "timestamp": 1525253131340,
     "user": {
      "displayName": "Niall Walsh",
      "photoUrl": "https://lh3.googleusercontent.com/a/default-user=s128",
      "userId": "114124776939263762925"
     },
     "user_tz": -60
    },
    "id": "2RAziPjojMM9",
    "outputId": "d18ea027-2d68-49d4-c427-f92daa896fd6"
   },
   "outputs": [
    {
     "name": "stdout",
     "output_type": "stream",
     "text": [
      "Hello, you have called a function with no arguments\n",
      "Hello, you have called a function with no arguments\n"
     ]
    }
   ],
   "source": [
    "# functions with no arguments\n",
    "def print_hello():\n",
    "    print (\"Hello, you have called a function with no arguments\")\n",
    "    \n",
    "a = 5\n",
    "print_hello()\n",
    "b = 20\n",
    "print_hello()"
   ]
  },
  {
   "cell_type": "code",
   "execution_count": 56,
   "metadata": {
    "colab": {
     "autoexec": {
      "startup": false,
      "wait_interval": 0
     },
     "base_uri": "https://localhost:8080/",
     "height": 10
    },
    "colab_type": "code",
    "executionInfo": {
     "elapsed": 797,
     "status": "ok",
     "timestamp": 1525253132198,
     "user": {
      "displayName": "Niall Walsh",
      "photoUrl": "https://lh3.googleusercontent.com/a/default-user=s128",
      "userId": "114124776939263762925"
     },
     "user_tz": -60
    },
    "id": "s4oeP1YwjMM_",
    "outputId": "61755957-942a-4bac-94ed-d1d460cfa6ab"
   },
   "outputs": [
    {
     "name": "stdout",
     "output_type": "stream",
     "text": [
      "I will not print\n",
      "I have been asked to print by overriding the default argument\n",
      "I will not print\n"
     ]
    }
   ],
   "source": [
    "# functions with default arguments\n",
    "\n",
    "def default_arg_function(should_print=False):\n",
    "    if should_print:\n",
    "        print (\"I have been asked to print by overriding the default argument\")\n",
    "    else:\n",
    "        print (\"I will not print\")\n",
    "\n",
    "# Invalid definition\n",
    "# default_arg_function(should_print=False, a, b):\n",
    "        \n",
    "# call the function\n",
    "default_arg_function()\n",
    "# override default argument\n",
    "default_arg_function(True) \n",
    "default_arg_function(False)"
   ]
  },
  {
   "cell_type": "markdown",
   "metadata": {
    "colab_type": "text",
    "id": "gD2S4y_KjMNA"
   },
   "source": [
    "Notice how appropriate statements are executed with and without an argument being passed. We can combine parameters with only few of them given default values. Let us take a look"
   ]
  },
  {
   "cell_type": "code",
   "execution_count": 57,
   "metadata": {
    "colab": {
     "autoexec": {
      "startup": false,
      "wait_interval": 0
     },
     "base_uri": "https://localhost:8080/",
     "height": 10
    },
    "colab_type": "code",
    "executionInfo": {
     "elapsed": 1208,
     "status": "ok",
     "timestamp": 1525253133492,
     "user": {
      "displayName": "Niall Walsh",
      "photoUrl": "https://lh3.googleusercontent.com/a/default-user=s128",
      "userId": "114124776939263762925"
     },
     "user_tz": -60
    },
    "id": "6IrRxrK6jMNB",
    "outputId": "279520e1-53ea-422b-b67c-11b4b35107fb"
   },
   "outputs": [
    {
     "name": "stdout",
     "output_type": "stream",
     "text": [
      "5 raised to 2 is 25\n",
      "7 raised to 3 is 343\n"
     ]
    }
   ],
   "source": [
    "# get exponent of a given base\n",
    "\n",
    "def get_exponent(base, exp=2): # exp is given a default value of 2\n",
    "    print (\"{} raised to {} is {}\".format(base, exp, base ** exp))\n",
    "    \n",
    "# with only one argument, a takes on the value passed and exp defaults to 2\n",
    "get_exponent(5) # prints 25\n",
    "\n",
    "# if both base and exp are passed, exp is overridden with the value passed\n",
    "get_exponent(7, 3) # prints 343\n",
    "    "
   ]
  },
  {
   "cell_type": "markdown",
   "metadata": {
    "colab_type": "text",
    "id": "RwjCl4idjMNF"
   },
   "source": [
    "This kind of argument passing is called positional argument passing. This means that the position of the arguments matter. Switching the first and second arguments while calling the functions yields a different answer in the above case."
   ]
  },
  {
   "cell_type": "code",
   "execution_count": 58,
   "metadata": {
    "colab": {
     "autoexec": {
      "startup": false,
      "wait_interval": 0
     },
     "base_uri": "https://localhost:8080/",
     "height": 10
    },
    "colab_type": "code",
    "executionInfo": {
     "elapsed": 746,
     "status": "ok",
     "timestamp": 1525253134293,
     "user": {
      "displayName": "Niall Walsh",
      "photoUrl": "https://lh3.googleusercontent.com/a/default-user=s128",
      "userId": "114124776939263762925"
     },
     "user_tz": -60
    },
    "id": "X68ff4W-jMNF",
    "outputId": "71c1aad6-1da0-47ec-af76-bd0e9193bbcf"
   },
   "outputs": [
    {
     "name": "stdout",
     "output_type": "stream",
     "text": [
      "3 raised to 7 is 2187\n"
     ]
    }
   ],
   "source": [
    "# switching 7 and 3 in calling the above function\n",
    "get_exponent(3, 7) # prints 2187"
   ]
  },
  {
   "cell_type": "markdown",
   "metadata": {
    "colab_type": "text",
    "id": "rlawK0-1jMNI"
   },
   "source": [
    "Keyword Arguments are a way to pass arguments with name value pairs like `name=value`. This way, the order of passing arguments become independent. Let us take the same example with keyword arguments"
   ]
  },
  {
   "cell_type": "code",
   "execution_count": 59,
   "metadata": {
    "colab": {
     "autoexec": {
      "startup": false,
      "wait_interval": 0
     },
     "base_uri": "https://localhost:8080/",
     "height": 10
    },
    "colab_type": "code",
    "executionInfo": {
     "elapsed": 876,
     "status": "ok",
     "timestamp": 1525253135263,
     "user": {
      "displayName": "Niall Walsh",
      "photoUrl": "https://lh3.googleusercontent.com/a/default-user=s128",
      "userId": "114124776939263762925"
     },
     "user_tz": -60
    },
    "id": "WQ7Dy7L4jMNI",
    "outputId": "8e96c28d-1275-4b1b-d98a-12e954072075"
   },
   "outputs": [
    {
     "name": "stdout",
     "output_type": "stream",
     "text": [
      "7 raised to 3 is 343\n",
      "7 raised to 3 is 343\n"
     ]
    }
   ],
   "source": [
    "# call get_exponent with keyword arguments\n",
    "get_exponent(base=7, exp=3) # prints 343\n",
    "get_exponent(exp=3, base=7) # prints 343"
   ]
  },
  {
   "cell_type": "markdown",
   "metadata": {
    "colab_type": "text",
    "id": "1jMKvZm1jMNL"
   },
   "source": [
    "### Mixing both keyword and positional arguments\n",
    "\n",
    "Mixing of both keyword and positional arguments during function call is valid as long as positional arguments occur before keyword arguments."
   ]
  },
  {
   "cell_type": "code",
   "execution_count": 60,
   "metadata": {
    "colab": {
     "autoexec": {
      "startup": false,
      "wait_interval": 0
     },
     "base_uri": "https://localhost:8080/",
     "height": 10
    },
    "colab_type": "code",
    "executionInfo": {
     "elapsed": 867,
     "status": "ok",
     "timestamp": 1525253136175,
     "user": {
      "displayName": "Niall Walsh",
      "photoUrl": "https://lh3.googleusercontent.com/a/default-user=s128",
      "userId": "114124776939263762925"
     },
     "user_tz": -60
    },
    "id": "NYMtf0UHjMNL",
    "outputId": "aa242067-b2e1-418c-fac6-a2e37cfb5eb2"
   },
   "outputs": [
    {
     "name": "stdout",
     "output_type": "stream",
     "text": [
      "Expression:  30\n",
      "Expression:  123\n",
      "Expression:  10\n",
      "Expression:  15\n"
     ]
    }
   ],
   "source": [
    "# define a function\n",
    "def get_expression(a, b, c):\n",
    "    print (\"Expression: \", (a + b - c))\n",
    "    \n",
    "# Call using positional arguments only\n",
    "get_expression(10, 25, 5) # prints 30\n",
    "\n",
    "# call using keyword arguments only\n",
    "get_expression(b=40, a=85, c=2) # prints 123\n",
    "\n",
    "# call using both positional and keyword arguments\n",
    "get_expression(15, c=10, b=5) # prints 10 - a takes on 15\n",
    "get_expression(15, 10, c=10) # prints 15 - a takes on 15, b takes on 10\n",
    "# get_expression(10, a=20, c=3) # invalid\n",
    "# get_expression(a=10, b=15, 30) # invalid"
   ]
  },
  {
   "cell_type": "markdown",
   "metadata": {
    "colab_type": "text",
    "id": "PDWvD_-WjMNN"
   },
   "source": [
    "### Functions with return value\n",
    "\n",
    "In all the above cases, the functions were simply printing the results computed by the function. This is not always fruitful. The flavour of functions are in returning the computed values back to the main body of the code to use these results for further computations. \n",
    "\n",
    "- Return value needs to be assigned to a variable\n",
    "- Multiple values can be returned\n",
    "- Lists, dictionaries, or tuples can be returned\n",
    "\n",
    "Let us take a look at few examples to understand the syntax"
   ]
  },
  {
   "cell_type": "code",
   "execution_count": 61,
   "metadata": {
    "colab": {
     "autoexec": {
      "startup": false,
      "wait_interval": 0
     },
     "base_uri": "https://localhost:8080/",
     "height": 10
    },
    "colab_type": "code",
    "executionInfo": {
     "elapsed": 1376,
     "status": "ok",
     "timestamp": 1525253137678,
     "user": {
      "displayName": "Niall Walsh",
      "photoUrl": "https://lh3.googleusercontent.com/a/default-user=s128",
      "userId": "114124776939263762925"
     },
     "user_tz": -60
    },
    "id": "s2J5ztqTjMNO",
    "outputId": "d0218622-703b-4b45-ba7c-b85512343704"
   },
   "outputs": [
    {
     "name": "stdout",
     "output_type": "stream",
     "text": [
      "Expression using return: 3\n",
      "Sum: 15, Diff: 5\n",
      "Type of int_list_1: <class 'list'>\n",
      "Start value must be lesser than the end value\n"
     ]
    }
   ],
   "source": [
    "# returning a single value\n",
    "def get_expression(a, b, c):\n",
    "    return a + b - c # notice the return expression\n",
    "\n",
    "# calling the function\n",
    "res = get_expression(1, 5, 3)\n",
    "print (\"Expression using return:\", res)\n",
    "\n",
    "# returning multiple values\n",
    "def get_sum_and_diff(a, b):\n",
    "    sum_res = a + b\n",
    "    diff_res = a - b\n",
    "    # returning multiple values are separated by commas\n",
    "    return sum_res, diff_res # return a + b, a - b is also valid\n",
    "    \n",
    "\n",
    "# calling the function and storing in two variables\n",
    "s, d = get_sum_and_diff(10, 5)\n",
    "print (\"Sum: {}, Diff: {}\".format(s, d))\n",
    "\n",
    "# returning a list\n",
    "\n",
    "def list_of_ints(start, end):\n",
    "    if (start > end):\n",
    "        print (\"Start value must be lesser than the end value\")\n",
    "        return # returns nothing or None\n",
    "    else:\n",
    "        return list(range(start, end + 1))\n",
    "\n",
    "# Calling the function\n",
    "int_list_1 = list_of_ints(5, 10) # returns [5, 6, 7, 8, 9, 10]\n",
    "print (\"Type of int_list_1:\", type(int_list_1))\n",
    "int_list_2 = list_of_ints(10, 5) # prints warning message"
   ]
  },
  {
   "cell_type": "markdown",
   "metadata": {
    "colab_type": "text",
    "id": "On5QQpBhjMNR"
   },
   "source": [
    "Notice the last case where the warning message was printed? What was the returning value there? Nothing! When there's a case where we simply want the function to return back to the main body after executing a set of statements, a simple `return` with no value is written. Usually, there is a conditional weighing this return with an `else` condition returning a value."
   ]
  },
  {
   "cell_type": "markdown",
   "metadata": {
    "colab_type": "text",
    "id": "xgH3YnXhjMNS"
   },
   "source": [
    "### Lifetimes of variables\n",
    "\n",
    "When dealing with functions, there are two types of variables:\n",
    "1. global variables\n",
    "2. local variables\n",
    "\n",
    "Let us bring back one of the above examples:\n",
    "\n",
    "```\n",
    "def get_sum_and_diff(a, b):\n",
    "    sum_res = a + b\n",
    "    diff_res = a - b\n",
    "    # returning multiple values are separated by commas\n",
    "    return sum_res, diff_res\n",
    "    \n",
    "\n",
    "# calling the function and storing in two variables\n",
    "first_value = 10\n",
    "second_value = 5\n",
    "s, d = get_sum_and_diff(first_value, second_value)\n",
    "```\n",
    "What are the variables involved here?\n",
    "`first_value, second_value, s, d, a, b, sum_res, diff_res`. Take a minute to observe the location of occurances of each variable - inside the function or in the main body?\n",
    "\n",
    "`first_value, second_value, s, d` are called **global variables** since they occur in the main body of the code. The lifetime of the global variables is equal to the lifetime of the code. The definition of lifetime is the validity of an object in question. \n",
    "\n",
    "`a, b, sum_res, diff_res` are called **local variables** since they occur only in the function body. The lifetime of local vatiables is equal to the lifetime of the function - which is as long as a function call is being interpreted. After the function call is complete, the memory used to hold these variables are released and the values are lost - hence the return calls to save them as global variables in the main body.\n",
    "\n",
    "In the above case, printing or accessing the value of any of the local variables in the main body will result in an error since they are no longer valid. Say,\n",
    "```\n",
    "s, d = get_sum_and_diff(first_value, second_value)\n",
    "print (s, d, first_value, second_value) # valid\n",
    "print (a) # invalid\n",
    "print (sum_res) # invalid\n",
    "```\n",
    "But is it possible to make local variable accessible as a global variable? The answer is 'Yes' - using a simple keyword, `global`. For example,"
   ]
  },
  {
   "cell_type": "code",
   "execution_count": 62,
   "metadata": {
    "colab": {
     "autoexec": {
      "startup": false,
      "wait_interval": 0
     },
     "base_uri": "https://localhost:8080/",
     "height": 51
    },
    "colab_type": "code",
    "executionInfo": {
     "elapsed": 803,
     "status": "ok",
     "timestamp": 1525600679450,
     "user": {
      "displayName": "aycacanli@hotmail.com",
      "photoUrl": "https://lh3.googleusercontent.com/a/default-user=s128",
      "userId": "106415820899870547758"
     },
     "user_tz": -180
    },
    "id": "pSYe5XUzjMNS",
    "outputId": "09514aaf-1ad3-4442-b7a3-1713bb058494"
   },
   "outputs": [
    {
     "name": "stdout",
     "output_type": "stream",
     "text": [
      "Sum printed using local variable sum_res: 30\n",
      "Sum printed using returned global variable s: 30\n"
     ]
    }
   ],
   "source": [
    "# global variables\n",
    "first_value = 25\n",
    "second_value = 5\n",
    "\n",
    "def get_sum_and_diff(a, b):\n",
    "    global sum_res # making sum_res global\n",
    "    sum_res = a + b \n",
    "    diff_res = a - b\n",
    "    # returning multiple values are separated by commas\n",
    "    return sum_res, diff_res\n",
    "\n",
    "\n",
    "s, d = get_sum_and_diff(first_value, second_value)\n",
    "print (\"Sum printed using local variable sum_res:\", sum_res)\n",
    "#print (\"Sum printed using local variable sum_res:\", diff_res)# diff_res is not global var.\n",
    "print (\"Sum printed using returned global variable s:\", s)\n",
    "del sum_res # delete from memory"
   ]
  },
  {
   "cell_type": "markdown",
   "metadata": {
    "colab_type": "text",
    "id": "A1CE9Hl4jMNW"
   },
   "source": [
    "Evaluate what happened. The local variable `sum_res` whose lifetime(also called scope) is otherwise bound to that of the function is now valid even outside the function"
   ]
  },
  {
   "cell_type": "markdown",
   "metadata": {
    "colab_type": "text",
    "id": "J5pMYH7CjMNY"
   },
   "source": [
    "### Lambda Functions\n",
    "\n",
    "One of the strengths of Python is the availabiluty of anonymous functions. These are the type of functions that do not have any name since they are simple enough to be excuted in a single expression.\n",
    "\n",
    "These functions are called lambda functions and are invoked by using the keyword `lambda`. Lambda functions do not have return values but take in arguments.\n",
    "\n",
    "**Syntax: ** `lambda arg_1, arg_2, ..., arg_N: <single expression using the arguments>`\n",
    "\n",
    "There is a lot going on here. Let us visit it with an example.\n",
    "\n",
    "Consider the function to add two numbers:"
   ]
  },
  {
   "cell_type": "code",
   "execution_count": 63,
   "metadata": {
    "colab": {
     "autoexec": {
      "startup": false,
      "wait_interval": 0
     },
     "base_uri": "https://localhost:8080/",
     "height": 51
    },
    "colab_type": "code",
    "executionInfo": {
     "elapsed": 641,
     "status": "ok",
     "timestamp": 1525600770014,
     "user": {
      "displayName": "aycacanli@hotmail.com",
      "photoUrl": "https://lh3.googleusercontent.com/a/default-user=s128",
      "userId": "106415820899870547758"
     },
     "user_tz": -180
    },
    "id": "2jYg2vn3jMNZ",
    "outputId": "3ea1b6ee-3609-44a5-cce4-517e35335c98"
   },
   "outputs": [
    {
     "name": "stdout",
     "output_type": "stream",
     "text": [
      "Sum using function definition: 17\n",
      "Sum using lambda function: 17\n"
     ]
    }
   ],
   "source": [
    "# normal function definition\n",
    "def get_sum(a, b):\n",
    "    return a + b\n",
    "\n",
    "# Function call\n",
    "print (\"Sum using function definition:\", get_sum(12, 5))\n",
    "\n",
    "# Lambda function definition\n",
    "lambda_sum = lambda a, b: a + b\n",
    "print (\"Sum using lambda function:\", lambda_sum(12, 5))"
   ]
  },
  {
   "cell_type": "markdown",
   "metadata": {
    "colab_type": "text",
    "id": "ZR1Ue_mFjMNc"
   },
   "source": [
    "What did we do here? Lambda function did the same job as the conventional `def` but notice how simple it was - no need to return any values, no need to name the function and the variable `lambda_sum` houses it. A simple argument passing to this variable will give out the function's result. In fact, even the object `lambda_sum` can be eliminated to make the call even more simpler like so:"
   ]
  },
  {
   "cell_type": "code",
   "execution_count": 64,
   "metadata": {
    "colab": {
     "autoexec": {
      "startup": false,
      "wait_interval": 0
     },
     "base_uri": "https://localhost:8080/",
     "height": 10
    },
    "colab_type": "code",
    "executionInfo": {
     "elapsed": 822,
     "status": "ok",
     "timestamp": 1525253140222,
     "user": {
      "displayName": "Niall Walsh",
      "photoUrl": "https://lh3.googleusercontent.com/a/default-user=s128",
      "userId": "114124776939263762925"
     },
     "user_tz": -60
    },
    "id": "EP_WT57ijMNc",
    "outputId": "d8a9a796-ad52-4e60-b784-f77bcf123aac"
   },
   "outputs": [
    {
     "name": "stdout",
     "output_type": "stream",
     "text": [
      "Sum using lambda without a variable: 17\n"
     ]
    }
   ],
   "source": [
    "print (\"Sum using lambda without a variable:\", (lambda a, b: a + b)(12, 5))"
   ]
  },
  {
   "cell_type": "markdown",
   "metadata": {
    "colab_type": "text",
    "id": "nbcd6SOEjMNf"
   },
   "source": [
    "Take a minute to see what happened and take in the flavour of lambda functions. It can be confusing at first, but getting the hang of it would save you a lot of time!\n",
    "\n",
    "Let us work on few exercises to familiarize ourselves with lambda functions:"
   ]
  },
  {
   "cell_type": "code",
   "execution_count": 65,
   "metadata": {
    "colab": {
     "autoexec": {
      "startup": false,
      "wait_interval": 0
     },
     "base_uri": "https://localhost:8080/",
     "height": 34
    },
    "colab_type": "code",
    "executionInfo": {
     "elapsed": 1085,
     "status": "ok",
     "timestamp": 1525600831077,
     "user": {
      "displayName": "aycacanli@hotmail.com",
      "photoUrl": "https://lh3.googleusercontent.com/a/default-user=s128",
      "userId": "106415820899870547758"
     },
     "user_tz": -180
    },
    "id": "cJ43kY4djMNh",
    "outputId": "1c74f147-7aa1-4344-fe27-510dbf668210"
   },
   "outputs": [
    {
     "name": "stdout",
     "output_type": "stream",
     "text": [
      "[1, 4, 9, 16, 25]\n"
     ]
    }
   ],
   "source": [
    "# Write a lambda function to take in the following list and square every element\n",
    "\n",
    "a = [1, 2, 3, 4, 5]\n",
    "squared_list = [(lambda x: x ** 2)(elem) for elem in a]\n",
    "print (squared_list)"
   ]
  },
  {
   "cell_type": "markdown",
   "metadata": {
    "colab_type": "text",
    "id": "Lj1r1awYjMNj"
   },
   "source": [
    "Let us walk through each step here:\n",
    "\n",
    "1. Traverse through list elements using list comprehension\n",
    "\n",
    "```\n",
    "[elem for elem in a] # yields [1, 2, 3, 4, 5]\n",
    "```\n",
    "2. Call `lambda` function to compute square on each element as if performing it on a single argument\n",
    "```\n",
    "(lambda x: x ** 2)(elem) # if elem=2, lambda returns 4\n",
    "```\n",
    "3. Combine step 1 and 2 to yield a single list of squares\n",
    "```\n",
    "[(lambda x: x ** 2)(elem) for elem in a] # yields [1, 4, 8, 16, 25]\n",
    "```\n",
    "\n",
    "Technically speaking, lambda is not required for this task but a simple list comprehension would do the job. This was done to give you an idea of using lambdas on lists. Can you do the same using just list comprehension?"
   ]
  },
  {
   "cell_type": "markdown",
   "metadata": {
    "colab_type": "text",
    "id": "h0ANV_KejMNl"
   },
   "source": [
    "## File Handling in Python\n",
    "\n",
    "<a id=\"file\"></a>\n",
    "\n",
    "What good is a programming language without the strength of reading and writing files to the disk?!\n",
    "\n",
    "Python allows file handling natively and it is pretty simple. The two operations that a user can perform on a file is eithering reading an existing file or writing into a file.\n",
    "\n",
    "### Opening a file\n",
    "\n",
    "The first step in handling a file is to open it. The syntax for opening a file is:\n",
    "\n",
    "`f = open(filename, mode)`\n",
    "\n",
    "Here is `f` is the file pointer which will have the necessary information to perform operations on the file in question. It is important to have a file pointer defined. `open` is the command to open the file which is named `filename`. Note that `filename` needs to be specified with a relative or absolute path and format along with the file name. \n",
    "\n",
    "For example: `filename = '../storyline/story.txt'`\n",
    "\n",
    "This is bash directory navigation. <br>\n",
    "`./` -> Current directory  <br>\n",
    "`../` -> One directory above. Equivalent to pressing 'up' or 'back'. Repeating it 'n' times will point to 'nth' directory above. <br>\n",
    "For example, `../../` is equivalent to pressing 'back' twice <br>\n",
    "`/storyline` -> entering the folder name 'storyline' <br>\n",
    "`story.txt` -> file name with extension <br>\n",
    "\n",
    "So the above line roughly translates to:\n",
    "\n",
    "\"Go back one level in the hierarchy of directories and into the 'storyline' folder. Inside this folder, 'story.txt' is the file required\". And `filename` is a string that contains the path to the file.\n",
    "\n",
    "NOTE: Filenames and paths are always supposed to be fed as strings\n",
    "`filename = ./story.txt` is invalid since it is not a string.\n",
    "\n",
    "So the command to open the file, 'story.txt' is now:\n",
    "\n",
    "`f = open('../storyline/story.txt', mode)`\n",
    "\n",
    "We have not dicussed 'mode' yet. Mode defines the action we intend to perform on a file when we open it. The different modes are:\n",
    "\n",
    "1. \"r\": Open a file for read only. Cannot read a non-existent file\n",
    "2. \"w\": Open a file for writing. If file already exists its data will be cleared before opening. Otherwise new file will be created\n",
    "3. \"a\": Opens a file in append mode i.e to write a data to the end of the file\n",
    "4. \"wb\": Open a file to write in binary mode\n",
    "5. \"rb\": Open a file to read in binary mode\n",
    "\n",
    "We will mostly deal with the first three for now.\n",
    "\n",
    "Finally, the command to open the file in read mode is\n",
    "\n",
    "`f = open('../storyline/story.txt', 'r')`\n",
    "\n",
    "**NOTE: **One important thing to remember while opening a file is to close the file after all the operations are done. This is important because if the files are not closed, chances are that eventually the memory(RAM) might be bottlenecked. Python has something called garbage collection that might handle this situation but it is always good practise to close it.\n",
    "\n",
    "An opened file can be closed like so:\n",
    "\n",
    "`f.close() # f being the file pointer`\n",
    "\n",
    "### Writing to a file\n",
    "\n",
    "Let us look how we can write into a file by opening it. If `f` is a file pointer, then one can write into a file using `f.write`. Let us take a look using an example."
   ]
  },
  {
   "cell_type": "code",
   "execution_count": 66,
   "metadata": {
    "colab": {
     "autoexec": {
      "startup": false,
      "wait_interval": 0
     }
    },
    "colab_type": "code",
    "id": "MtUBMl3ZjMNm"
   },
   "outputs": [],
   "source": [
    "f = open('my_first_file.txt', 'w') # open a file, if the file does not exist, it is created"
   ]
  },
  {
   "cell_type": "markdown",
   "metadata": {
    "colab_type": "text",
    "id": "uVoouzZAjMNn"
   },
   "source": [
    "You must be seeing the text file in your current working directory now. \n",
    "\n",
    "Anything that is written, including numeric values must be of type string. If you are writing a variable that is non-string, use type conversion `str()` to convert to string.\n",
    "\n",
    "Note that `write` does not add explicit new line breaks. You can add one by simply adding '\\n' at the end of the string."
   ]
  },
  {
   "cell_type": "code",
   "execution_count": 67,
   "metadata": {
    "colab": {
     "autoexec": {
      "startup": false,
      "wait_interval": 0
     }
    },
    "colab_type": "code",
    "id": "bfPALWOjjMNp"
   },
   "outputs": [],
   "source": [
    "# write a line\n",
    "f.write('This is the first line\\n') # writes the string in the first line and goes to second\n",
    "\n",
    "# add another one\n",
    "f.write('This is the second line\\n')\n",
    "\n",
    "# finally, close the file\n",
    "f.close()"
   ]
  },
  {
   "cell_type": "markdown",
   "metadata": {
    "colab_type": "text",
    "id": "XLG_DWMgjMNr"
   },
   "source": [
    "Using file explorer, open the text file and take a look at it. Pretty neat, right?\n",
    "\n",
    "Let us now read that file and print its content here. \n",
    "\n",
    "Reading can be done multiple ways:\n",
    "1. read(a_number) reads the specified number of characters from a file. If no number is specified, the entire content is read as raw text\n",
    "2. readline() reads the next line of a file. If it is called the first time, then it reads the first line\n",
    "3. readlines() reads all the lines of the file as a list of strings\n",
    "\n",
    "Let us try them all.\n",
    "\n",
    "First, open the file"
   ]
  },
  {
   "cell_type": "code",
   "execution_count": 68,
   "metadata": {
    "colab": {
     "autoexec": {
      "startup": false,
      "wait_interval": 0
     },
     "base_uri": "https://localhost:8080/",
     "height": 51
    },
    "colab_type": "code",
    "executionInfo": {
     "elapsed": 762,
     "status": "ok",
     "timestamp": 1525601418132,
     "user": {
      "displayName": "aycacanli@hotmail.com",
      "photoUrl": "https://lh3.googleusercontent.com/a/default-user=s128",
      "userId": "106415820899870547758"
     },
     "user_tz": -180
    },
    "id": "O2EyOaASjMNr",
    "outputId": "9ed7f4e0-ddf0-4cf7-d67e-4af708f3e0c6"
   },
   "outputs": [
    {
     "name": "stdout",
     "output_type": "stream",
     "text": [
      "This is the first line\n",
      "Th\n"
     ]
    }
   ],
   "source": [
    "# opening the file. Press tab while typing the filename to auto-complete\n",
    "f = open('my_first_file.txt', 'r')\n",
    "\n",
    "# read 25 characters\n",
    "print (f.read(25))\n",
    "\n",
    "# close file\n",
    "f.close()"
   ]
  },
  {
   "cell_type": "code",
   "execution_count": 69,
   "metadata": {
    "colab": {
     "autoexec": {
      "startup": false,
      "wait_interval": 0
     },
     "base_uri": "https://localhost:8080/",
     "height": 68
    },
    "colab_type": "code",
    "executionInfo": {
     "elapsed": 602,
     "status": "ok",
     "timestamp": 1525601482136,
     "user": {
      "displayName": "aycacanli@hotmail.com",
      "photoUrl": "https://lh3.googleusercontent.com/a/default-user=s128",
      "userId": "106415820899870547758"
     },
     "user_tz": -180
    },
    "id": "Zag2LsTbjMNs",
    "outputId": "1bf64650-56fb-4d98-9c4f-863732802d13"
   },
   "outputs": [
    {
     "name": "stdout",
     "output_type": "stream",
     "text": [
      "This is the first line\n",
      "This is the second line\n",
      "\n"
     ]
    }
   ],
   "source": [
    "f = open('my_first_file.txt', 'r')\n",
    "\n",
    "# read entire content\n",
    "print (f.read())\n",
    "\n",
    "f.close()"
   ]
  },
  {
   "cell_type": "code",
   "execution_count": 70,
   "metadata": {
    "colab": {
     "autoexec": {
      "startup": false,
      "wait_interval": 0
     },
     "base_uri": "https://localhost:8080/",
     "height": 34
    },
    "colab_type": "code",
    "executionInfo": {
     "elapsed": 728,
     "status": "ok",
     "timestamp": 1525601489573,
     "user": {
      "displayName": "aycacanli@hotmail.com",
      "photoUrl": "https://lh3.googleusercontent.com/a/default-user=s128",
      "userId": "106415820899870547758"
     },
     "user_tz": -180
    },
    "id": "-H-qi251jMNz",
    "outputId": "79b13098-54d4-452c-b279-a05e1b3e9512"
   },
   "outputs": [
    {
     "name": "stdout",
     "output_type": "stream",
     "text": [
      "['This is the first line\\n', 'This is the second line\\n']\n"
     ]
    }
   ],
   "source": [
    "f = open('my_first_file.txt', 'r')\n",
    "\n",
    "# read all lines\n",
    "print (f.readlines())\n",
    "\n",
    "f.close()"
   ]
  },
  {
   "cell_type": "code",
   "execution_count": 71,
   "metadata": {
    "colab": {
     "autoexec": {
      "startup": false,
      "wait_interval": 0
     },
     "base_uri": "https://localhost:8080/",
     "height": 51
    },
    "colab_type": "code",
    "executionInfo": {
     "elapsed": 549,
     "status": "ok",
     "timestamp": 1525601496029,
     "user": {
      "displayName": "aycacanli@hotmail.com",
      "photoUrl": "https://lh3.googleusercontent.com/a/default-user=s128",
      "userId": "106415820899870547758"
     },
     "user_tz": -180
    },
    "id": "K-NYV8otjMN0",
    "outputId": "abfb35ce-62f2-4ad5-e3c5-e13d3e784ae7"
   },
   "outputs": [
    {
     "name": "stdout",
     "output_type": "stream",
     "text": [
      "This is the first line\n",
      "\n"
     ]
    }
   ],
   "source": [
    "f = open('my_first_file.txt', 'r')\n",
    "\n",
    "# read only one line\n",
    "print (f.readline())\n",
    "\n",
    "f.close()"
   ]
  },
  {
   "cell_type": "code",
   "execution_count": 72,
   "metadata": {
    "colab": {
     "autoexec": {
      "startup": false,
      "wait_interval": 0
     },
     "base_uri": "https://localhost:8080/",
     "height": 10
    },
    "colab_type": "code",
    "executionInfo": {
     "elapsed": 818,
     "status": "ok",
     "timestamp": 1525253150597,
     "user": {
      "displayName": "Niall Walsh",
      "photoUrl": "https://lh3.googleusercontent.com/a/default-user=s128",
      "userId": "114124776939263762925"
     },
     "user_tz": -60
    },
    "id": "l_k3bQ7ajMN2",
    "outputId": "38f20dd4-5dd0-4939-ac0f-e2664197cc84"
   },
   "outputs": [
    {
     "name": "stdout",
     "output_type": "stream",
     "text": [
      "This is the first line\n",
      "\n",
      "This is the second line\n",
      "\n"
     ]
    }
   ],
   "source": [
    "f = open('my_first_file.txt', 'r')\n",
    "\n",
    "# read two lines\n",
    "print (f.readline())\n",
    "print (f.readline())\n",
    "\n",
    "f.close()"
   ]
  },
  {
   "cell_type": "markdown",
   "metadata": {
    "colab_type": "text",
    "id": "shglnn9GjMN4"
   },
   "source": [
    "Notice how calling `readline()` twice read two lines of the file?\n",
    "\n",
    "Let us look at appending data to this file. We will write multiple lines using `writelines()`"
   ]
  },
  {
   "cell_type": "code",
   "execution_count": 73,
   "metadata": {
    "colab": {
     "autoexec": {
      "startup": false,
      "wait_interval": 0
     }
    },
    "colab_type": "code",
    "id": "Vug3mF4BjMN4"
   },
   "outputs": [],
   "source": [
    "# define content\n",
    "content = 'This is the third line\\nThe Earth is the third planet in the Solar System\\nIt has 7 continents\\n'\n",
    "\n",
    "# open the file in append mode\n",
    "f = open('my_first_file.txt', 'a')\n",
    "\n",
    "# write lines using the content string\n",
    "f.writelines(content)\n",
    "\n",
    "# finally, close the file\n",
    "f.close()"
   ]
  },
  {
   "cell_type": "markdown",
   "metadata": {
    "colab_type": "text",
    "id": "Ite9BwTSjMN6"
   },
   "source": [
    "Open up the text file and take a look at what has been written.\n",
    "\n",
    "Notice we used 'a' as the mode. What do you think would happen if 'w' was used instead. Try it out!\n",
    "\n",
    "We can also read the lines in a file using loops like so:"
   ]
  },
  {
   "cell_type": "code",
   "execution_count": 74,
   "metadata": {
    "colab": {
     "autoexec": {
      "startup": false,
      "wait_interval": 0
     },
     "base_uri": "https://localhost:8080/",
     "height": 187
    },
    "colab_type": "code",
    "executionInfo": {
     "elapsed": 644,
     "status": "ok",
     "timestamp": 1525601578577,
     "user": {
      "displayName": "aycacanli@hotmail.com",
      "photoUrl": "https://lh3.googleusercontent.com/a/default-user=s128",
      "userId": "106415820899870547758"
     },
     "user_tz": -180
    },
    "id": "9ivorvx-jMN7",
    "outputId": "cbb1089e-1528-4d69-93fa-4f0a06738bc1"
   },
   "outputs": [
    {
     "name": "stdout",
     "output_type": "stream",
     "text": [
      "This is the first line\n",
      "\n",
      "This is the second line\n",
      "\n",
      "This is the third line\n",
      "\n",
      "The Earth is the third planet in the Solar System\n",
      "\n",
      "It has 7 continents\n",
      "\n"
     ]
    }
   ],
   "source": [
    "# open file\n",
    "f = open('my_first_file.txt', 'r')\n",
    "\n",
    "# line takes on a single line of the file pointed by f\n",
    "for line in f:\n",
    "    print (line)\n",
    "\n",
    "# close file\n",
    "f.close()"
   ]
  },
  {
   "cell_type": "markdown",
   "metadata": {
    "colab_type": "text",
    "id": "4U4ttecujMN8"
   },
   "source": [
    "### `with` and file handling\n",
    "\n",
    "Since a file when opened needs explicit `close()` call to close the file, `with` statement can be used to handle this case to implicitly close the file.\n",
    "\n",
    "`with` statement is used to execute two related operations as a pair with a block of code in between. In the case of file handling, `with` handles the opening of a file, manipulation of a file and finally, implicit closure of the file. Manipulation would be the block of code that comes in between.\n",
    "\n",
    "**Syntax: **<br>\n",
    "```\n",
    "with 'operation' as f:\n",
    "    block of code to do using f # Note the indent\n",
    "    \n",
    "```\n",
    "After the indentation ends, the pair of the `operation` with which `with` was used is executed automatically.\n",
    "\n",
    "Let us take an example of file handling to read the same file using `with`:"
   ]
  },
  {
   "cell_type": "code",
   "execution_count": 75,
   "metadata": {
    "colab": {
     "autoexec": {
      "startup": false,
      "wait_interval": 0
     },
     "base_uri": "https://localhost:8080/",
     "height": 10
    },
    "colab_type": "code",
    "executionInfo": {
     "elapsed": 837,
     "status": "ok",
     "timestamp": 1525253153340,
     "user": {
      "displayName": "Niall Walsh",
      "photoUrl": "https://lh3.googleusercontent.com/a/default-user=s128",
      "userId": "114124776939263762925"
     },
     "user_tz": -60
    },
    "id": "8uPFFy8cjMN8",
    "outputId": "9c24c4c7-b3d8-43fa-cf1e-968a7e040917"
   },
   "outputs": [
    {
     "name": "stdout",
     "output_type": "stream",
     "text": [
      "This is the first line\n",
      "\n",
      "This is the second line\n",
      "\n",
      "This is the third line\n",
      "\n",
      "The Earth is the third planet in the Solar System\n",
      "\n",
      "It has 7 continents\n",
      "\n"
     ]
    }
   ],
   "source": [
    "with open('my_first_file.txt', 'r') as f: # opens the file with f as pointer\n",
    "    # block of code of file handling begins\n",
    "    # read line-by-line using loops\n",
    "    for line in f:\n",
    "        print (line)\n",
    "    # end of block. Note how we are not closing the file"
   ]
  },
  {
   "cell_type": "markdown",
   "metadata": {
    "colab_type": "text",
    "id": "jZq5xtytjMN9"
   },
   "source": [
    "Let us do it again, this time to append a line to the file."
   ]
  },
  {
   "cell_type": "code",
   "execution_count": 76,
   "metadata": {
    "colab": {
     "autoexec": {
      "startup": false,
      "wait_interval": 0
     }
    },
    "colab_type": "code",
    "id": "5niyx4I4jMN9"
   },
   "outputs": [],
   "source": [
    "with open('my_first_file.txt', 'a') as f:\n",
    "    # write a line\n",
    "    f.write('I was written using with statement\\n')\n",
    "    # end of block"
   ]
  },
  {
   "cell_type": "markdown",
   "metadata": {
    "colab_type": "text",
    "id": "yMLgHuhJjMN-"
   },
   "source": [
    "Finally, we can open a file on read+write mode to read and write with the same open statement. The modes can be:\n",
    "\n",
    "1. 'r+'\n",
    "2. 'w+'\n",
    "3. 'a+'\n",
    "\n",
    "Experiment with these modes and see how each of them behave. Here's an example to one of them"
   ]
  },
  {
   "cell_type": "code",
   "execution_count": 77,
   "metadata": {
    "colab": {
     "autoexec": {
      "startup": false,
      "wait_interval": 0
     },
     "base_uri": "https://localhost:8080/",
     "height": 10
    },
    "colab_type": "code",
    "executionInfo": {
     "elapsed": 931,
     "status": "ok",
     "timestamp": 1525253155193,
     "user": {
      "displayName": "Niall Walsh",
      "photoUrl": "https://lh3.googleusercontent.com/a/default-user=s128",
      "userId": "114124776939263762925"
     },
     "user_tz": -60
    },
    "id": "Xad9rJ4rjMN_",
    "outputId": "b88bb7f8-0a58-46cc-ea11-e6694f9dcd9a"
   },
   "outputs": [
    {
     "name": "stdout",
     "output_type": "stream",
     "text": [
      "['This is the first line\\n', 'This is the second line\\n', 'This is the third line\\n', 'The Earth is the third planet in the Solar System\\n', 'It has 7 continents\\n', 'I was written using with statement\\n']\n"
     ]
    }
   ],
   "source": [
    "with open('my_first_file.txt', 'r+') as f:\n",
    "    # write a line\n",
    "    f.write('I am a line in r+ mode\\n')\n",
    "    # read all lines\n",
    "    print (f.readlines())\n",
    "    \n",
    "    # end of block"
   ]
  }
 ],
 "metadata": {
  "colab": {
   "collapsed_sections": [
    "eR6Bc_aZjMJ4",
    "J977qhk9jMKE",
    "NFutlOHtjMLP",
    "mZOQvwNPjML3",
    "z2nsS0_hjML9",
    "1jMKvZm1jMNL",
    "PDWvD_-WjMNN",
    "xgH3YnXhjMNS",
    "J5pMYH7CjMNY",
    "h0ANV_KejMNl",
    "4U4ttecujMN8"
   ],
   "default_view": {},
   "name": "python_intro.ipynb",
   "provenance": [],
   "version": "0.3.2",
   "views": {}
  },
  "kernelspec": {
   "display_name": "Python 3",
   "language": "python",
   "name": "python3"
  },
  "language_info": {
   "codemirror_mode": {
    "name": "ipython",
    "version": 3
   },
   "file_extension": ".py",
   "mimetype": "text/x-python",
   "name": "python",
   "nbconvert_exporter": "python",
   "pygments_lexer": "ipython3",
   "version": "3.7.3"
  }
 },
 "nbformat": 4,
 "nbformat_minor": 1
}
