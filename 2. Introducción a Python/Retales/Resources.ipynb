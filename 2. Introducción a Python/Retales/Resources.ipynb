{
 "cells": [
  {
   "cell_type": "markdown",
   "metadata": {
    "colab_type": "text",
    "id": "YsAMzdg46c1M"
   },
   "source": [
    "# Introduction"
   ]
  },
  {
   "cell_type": "markdown",
   "metadata": {
    "colab_type": "text",
    "id": "7vRXd3VuVje0"
   },
   "source": [
    "This notebook should hopefully give you a handful of useful resources based on the topics we've discussed and help you delve deeper into the topics. "
   ]
  },
  {
   "cell_type": "markdown",
   "metadata": {
    "colab_type": "text",
    "id": "OpaaKk-2Vje1"
   },
   "source": [
    "# Python"
   ]
  },
  {
   "cell_type": "markdown",
   "metadata": {
    "colab_type": "text",
    "id": "I4AQsaP0Vje2"
   },
   "source": [
    "**Official List of Resources**<br>\n",
    "[Python Wiki Beginner's Guide](https://wiki.python.org/moin/BeginnersGuide/Programmers)<br>\n",
    "\n",
    "**Videos**<br>\n",
    "[Intro to Python](http://introtopython.org/resources.html)<br>"
   ]
  },
  {
   "cell_type": "markdown",
   "metadata": {
    "colab_type": "text",
    "id": "f3s7LRnnVje3"
   },
   "source": [
    "## Numpy"
   ]
  },
  {
   "cell_type": "markdown",
   "metadata": {
    "colab_type": "text",
    "id": "AYY_Qe8LVje4"
   },
   "source": [
    "**Walkthroughs**<br>\n",
    "[From Python to Numpy (Extensive Tutorial)](http://www.labri.fr/perso/nrougier/from-python-to-numpy/)<br>\n",
    "[Github Repo for above link](https://github.com/rougier/from-python-to-numpy)<br>\n",
    "[Less Extensive Numpy Tutorial](http://www.labri.fr/perso/nrougier/teaching/numpy/numpy.html)<br>\n"
   ]
  },
  {
   "cell_type": "markdown",
   "metadata": {
    "colab_type": "text",
    "id": "LMP0HynJVje4"
   },
   "source": [
    "## Pandas"
   ]
  },
  {
   "cell_type": "markdown",
   "metadata": {
    "colab_type": "text",
    "id": "zlLMgUEAVje5"
   },
   "source": [
    "**Walkthroughs**<br>\n",
    "[10 Minutes to Pandas](https://pandas.pydata.org/pandas-docs/stable/10min.html) <br>\n",
    "[Intro to Pandas (3 parts)](http://www.gregreda.com/2013/10/26/intro-to-pandas-data-structures/) <br>\n",
    "\n",
    "**SQL to Pandas**<br>\n",
    "[Translating SQL to Pandas](http://nbviewer.jupyter.org/github/gjreda/pydata2014nyc/blob/master/demo.ipynb) <br>\n",
    "[How to rewite SQL queries in Pandas](https://codeburst.io/how-to-rewrite-your-sql-queries-in-pandas-and-more-149d341fc53e)<br>\n",
    "\n",
    "**Advanced**<br>\n",
    "[Merge, Join, Concatenate](https://pandas.pydata.org/pandas-docs/stable/merging.html)<br>\n",
    "[Visualizing in Python using Pandas](https://machinelearningmastery.com/visualize-machine-learning-data-python-pandas/) <br>"
   ]
  },
  {
   "cell_type": "markdown",
   "metadata": {
    "colab_type": "text",
    "id": "MqQJrrkWVje5"
   },
   "source": [
    "## Scikit-Learn"
   ]
  },
  {
   "cell_type": "markdown",
   "metadata": {
    "colab_type": "text",
    "id": "0nvNLYZzVje7"
   },
   "source": [
    "[Homepage](http://scikit-learn.org/stable/index.html)<br>\n",
    "[List of Tutorials](http://scikit-learn.org/stable/tutorial/index.html)<br>\n",
    "[Sklearn Documentation for train_test_split()](http://scikit-learn.org/stable/modules/generated/sklearn.model_selection.train_test_split.html)<br>"
   ]
  },
  {
   "cell_type": "markdown",
   "metadata": {
    "colab_type": "text",
    "id": "dJAxoUZPVje7"
   },
   "source": [
    "# Supervised Learning"
   ]
  },
  {
   "cell_type": "markdown",
   "metadata": {
    "colab_type": "text",
    "id": "EHaNKrBBVje7"
   },
   "source": [
    "## Linear Models"
   ]
  },
  {
   "cell_type": "markdown",
   "metadata": {
    "colab_type": "text",
    "id": "tMqpY8InVje9"
   },
   "source": [
    "### Linear Regression"
   ]
  },
  {
   "cell_type": "markdown",
   "metadata": {
    "colab_type": "text",
    "id": "TEoBiiI6Vje9"
   },
   "source": [
    "**Scikit-Learn Documentation**<br>\n",
    "[Sklearn Documentation for LinearRegression()](http://scikit-learn.org/stable/modules/generated/sklearn.linear_model.LinearRegression.html#sklearn.linear_model.LinearRegression)<br>\n",
    "[Predict/Measured Plot](http://scikit-learn.org/stable/auto_examples/plot_cv_predict.html#sphx-glr-auto-examples-plot-cv-predict-py)<br>\n",
    "\n",
    "**Boston Dataset Examples**<br>\n",
    "[Boston Housing Dataset](https://www.cs.toronto.edu/~delve/data/boston/bostonDetail.html)<br>\n",
    "[Linear Regression Example](https://medium.com/@haydar_ai/learning-data-science-day-9-linear-regression-on-boston-housing-dataset-cd62a80775ef)<br>\n",
    "\n",
    "**Theory**<br>\n",
    "[Correlation and Linear Regression](http://www.biostathandbook.com/linearregression.html)<br>\n",
    "[Theory: Linear Regression](https://www.slideshare.net/SauravMukherjee10/linear-regression-theory)<br>\n",
    "[R-Squared and Goodness-of-Fit](http://blog.minitab.com/blog/adventures-in-statistics-2/regression-analysis-how-do-i-interpret-r-squared-and-assess-the-goodness-of-fit)<br>\n",
    "[Ordinary Least Squares (Linear Regression Equation) Explained Visually](http://setosa.io/ev/ordinary-least-squares-regression/)<br>"
   ]
  },
  {
   "cell_type": "markdown",
   "metadata": {
    "colab_type": "text",
    "id": "xPXCqqhDVje-"
   },
   "source": [
    "#### Time Series Using Linear Regression"
   ]
  },
  {
   "cell_type": "markdown",
   "metadata": {
    "colab_type": "text",
    "id": "kcDvkzosVje-"
   },
   "source": [
    "**Walkthroughs**<br>\n",
    "[Time Series Forecasting in Python](https://www.analyticsvidhya.com/blog/2016/02/time-series-forecasting-codes-python/)<br>\n",
    "[Simple Time Series Example](http://mariofilho.com/create-simple-machine-learning-model-predict-time-series/)<br>\n",
    "\n",
    "**Advanced**<br>\n",
    "[Facebook Prophet: Forecasting API](https://facebook.github.io/prophet/docs/quick_start.html#python-api)<br>\n",
    "[Time Series Datasets](https://datamarket.com/data/list/?q=provider:tsdl)<br>"
   ]
  },
  {
   "cell_type": "markdown",
   "metadata": {
    "colab_type": "text",
    "id": "HwTlxiS9Vje_"
   },
   "source": [
    "### Logistic Regression"
   ]
  },
  {
   "cell_type": "markdown",
   "metadata": {
    "colab_type": "text",
    "id": "Rv4qGLxVVjfA"
   },
   "source": [
    "**Scikit-Learn Documentation**<br>\n",
    "[Sklearn Documentation for LogisticRegression()](http://scikit-learn.org/stable/modules/generated/sklearn.linear_model.LogisticRegression.html)<br>\n",
    "\n",
    "**Theory**<br>\n",
    "[Theory: Logistic Regression vs Linear Regression](http://nbviewer.jupyter.org/github/justmarkham/DAT8/blob/master/notebooks/12_logistic_regression.ipynb)<br>\n",
    "[Odds and LogOdds](https://www.youtube.com/watch?v=ARfXDSkQf1Y&t=36s)<br>\n",
    "[L1 and L2 Loss Functions](http://www.chioka.in/differences-between-l1-and-l2-as-loss-function-and-regularization/)<br>\n",
    "[Predicting Customer Churn](https://datascienceplus.com/predict-customer-churn-logistic-regression-decision-tree-and-random-forest/)<br>\n",
    "[Theory: Correlation](https://www.datascience.com/learn-data-science/fundamentals/introduction-to-correlation-python-data-science)<br>"
   ]
  },
  {
   "cell_type": "markdown",
   "metadata": {
    "colab_type": "text",
    "id": "0Dz6svohVjfB"
   },
   "source": [
    "## Nonlinear Models"
   ]
  },
  {
   "cell_type": "markdown",
   "metadata": {
    "colab_type": "text",
    "id": "_zbrp4A-6vOQ"
   },
   "source": [
    "### Decision Trees\n"
   ]
  },
  {
   "cell_type": "markdown",
   "metadata": {
    "colab_type": "text",
    "id": "3LcsobevVjfB"
   },
   "source": [
    "**Scikit-Learn Documentation**<br>\n",
    "[Sklearn Documentation for DecisionTreeClassifer()](http://scikit-learn.org/stable/modules/generated/sklearn.tree.DecisionTreeClassifier.html)<br>\n",
    "[Sklearn Documentation for DecisionTreeRegressor()](http://scikit-learn.org/stable/modules/generated/sklearn.tree.DecisionTreeRegressor.html)<br>\n",
    "\n",
    "**Videos**<br>\n",
    "[StatQuest: Decision Trees](https://www.youtube.com/watch?v=7VeUPuFGJHk)<br>\n",
    "[Decision Trees: CART](https://www.youtube.com/watch?v=DCZ3tsQIoGU&t=50s)<br>\n"
   ]
  },
  {
   "cell_type": "markdown",
   "metadata": {
    "colab_type": "text",
    "id": "RbupocRn6vtl"
   },
   "source": [
    "### Random Forest"
   ]
  },
  {
   "cell_type": "markdown",
   "metadata": {
    "colab_type": "text",
    "id": "fPTx3XHU6wQf"
   },
   "source": [
    "**Scikit-Learn Documentation**<br>\n",
    "[Sklearn Documentation for RandomForestClassifier](http://scikit-learn.org/stable/modules/generated/sklearn.ensemble.RandomForestClassifier.html)<br>\n",
    "[Sklearn Documentation for RandomForestRegressor](http://scikit-learn.org/stable/modules/generated/sklearn.ensemble.RandomForestRegressor.html#sklearn.ensemble.RandomForestRegressor.score)<br>\n",
    "\n",
    "**Theory**<br>\n",
    "[Using Random Forest in Python](http://www.blopig.com/blog/2017/07/using-random-forests-in-python-with-scikit-learn/)<br>\n",
    "[Practical End-to-End Machine Learning Example](https://towardsdatascience.com/random-forest-in-python-24d0893d51c0)<br>\n",
    "\n",
    "**Videos**<br>\n",
    "[Random Forest Intuition](https://www.youtube.com/watch?v=D_2LkhMJcfY)<br>"
   ]
  },
  {
   "cell_type": "markdown",
   "metadata": {
    "colab_type": "text",
    "id": "1cElYAztVjfC"
   },
   "source": [
    "### K Nearest Neighbors (kNN)"
   ]
  },
  {
   "cell_type": "markdown",
   "metadata": {
    "colab_type": "text",
    "id": "rlB9K9_qVjfD"
   },
   "source": [
    "**Scikit-Learn Documentation**<br>\n",
    "[Sklearn Documentation for KNeighborsClassifier()](http://scikit-learn.org/stable/modules/generated/sklearn.neighbors.KNeighborsClassifier.html)<br>\n",
    "[Sklearn Documentation for KNeighborsRegressor()](http://scikit-learn.org/stable/modules/generated/sklearn.neighbors.KNeighborsRegressor.html)<br>\n",
    "[Nearest Neighbors Implementation in Sklearn](http://scikit-learn.org/stable/modules/neighbors.html)<br>\n",
    "\n",
    "**Explanations**<br>\n",
    "[Intro to kNN](https://medium.com/@adi.bronshtein/a-quick-introduction-to-k-nearest-neighbors-algorithm-62214cea29c7)<br>\n",
    "[Theory: Complete Guide to kNN in Python](https://kevinzakka.github.io/2016/07/13/k-nearest-neighbor/)<br>\n",
    "[Theory: Presentation from OSU](https://web.engr.oregonstate.edu/~tgd/classes/534/slides/part3.pdf)<br>\n",
    "[Kaggle Example using kNN for Iris Dataset](https://www.kaggle.com/skalskip/iris-data-visualization-and-knn-classification/code)<br>\n",
    "\n",
    "**Videos**<br>\n",
    "[How kNN Works](https://www.youtube.com/watch?v=UqYde-LULfs)<br>\n",
    "[StatQuest: kNN](https://www.youtube.com/watch?v=HVXime0nQeI)<br>\n"
   ]
  },
  {
   "cell_type": "markdown",
   "metadata": {
    "colab_type": "text",
    "id": "bSmDFtebVjfE"
   },
   "source": [
    "# Metrics"
   ]
  },
  {
   "cell_type": "markdown",
   "metadata": {
    "colab_type": "text",
    "id": "dvQNbqPTVjfF",
    "slideshow": {
     "slide_type": "fragment"
    }
   },
   "source": [
    "## Precision, Recall, and the Confusion Matrix"
   ]
  },
  {
   "cell_type": "markdown",
   "metadata": {
    "colab_type": "text",
    "id": "GF6o4r7jVjfG"
   },
   "source": [
    "**Scikit-Learn Documentation**<br>\n",
    "[Precision-Recall Introduction](http://scikit-learn.org/stable/auto_examples/model_selection/plot_precision_recall.html)<br>\n",
    "[Sklearn Documentation for confusion_matrix()](http://scikit-learn.org/stable/modules/generated/sklearn.metrics.confusion_matrix.html)<br>\n",
    "[Sklearn Documentation for classification_report()](http://scikit-learn.org/stable/modules/generated/sklearn.metrics.classification_report.html)<br>\n",
    "[Sklearn Documentation for precision_recall_fscore_support()](http://scikit-learn.org/stable/modules/generated/sklearn.metrics.precision_recall_fscore_support.html)<br>\n",
    "[Sklearn Documentation for precision_recall_curve()](http://scikit-learn.org/stable/modules/generated/sklearn.metrics.precision_recall_curve.html)<br>\n",
    "\n",
    "**Visuals**<br>\n",
    "[Fish/Bottle Analogy](http://corysimon.github.io/articles/classification-metrics/)<br>\n",
    "[Visual Charts](https://medium.com/@klintcho/explaining-precision-and-recall-c770eb9c69e9)<br>\n",
    "\n",
    "**Explanations**<br>\n",
    "[Good Quora Explanation](https://www.quora.com/What-is-Precision-Recall-PR-curve)<br>\n",
    "[Theory](https://www.linkedin.com/pulse/intuitive-explanation-precision-recall-accuracy-daniel-d-souza/)<br>\n",
    "[Theory for Classification](https://developers.google.com/machine-learning/crash-course/classification/precision-and-recall)<br>\n",
    "[Confusion Matrix Explained](https://machinelearningmastery.com/confusion-matrix-machine-learning/)<br>\n",
    "[Simple Guide to Confusion Matrix](http://www.dataschool.io/simple-guide-to-confusion-matrix-terminology/)<br>"
   ]
  },
  {
   "cell_type": "markdown",
   "metadata": {
    "colab_type": "text",
    "id": "cB81WOsZVjfH"
   },
   "source": [
    "## ROC Curve and AUC (Area Under Curve)"
   ]
  },
  {
   "cell_type": "markdown",
   "metadata": {
    "colab_type": "text",
    "id": "sNdJWhzgVjfK"
   },
   "source": [
    "**Scikit-Learn Documentation**<br>\n",
    "[Sklearn Documentation for roc_auc_score()](http://scikit-learn.org/stable/modules/generated/sklearn.metrics.roc_auc_score.html)<br>\n",
    "[Sklearn Documentation for auc()](http://scikit-learn.org/stable/modules/generated/sklearn.metrics.auc.html)<br>\n",
    "[Sklearn Documentation for roc_curve()](http://scikit-learn.org/stable/modules/generated/sklearn.metrics.roc_curve.html)<br>\n",
    "\n",
    "**Videos**<br>\n",
    "[ROC/AUC Explained](http://www.dataschool.io/roc-curves-and-auc-explained/)<br>\n",
    "\n",
    "**Theory**<br>\n",
    "[Descriptive Explanation](https://ashokharnal.wordpress.com/2014/03/14/a-very-simple-explanation-for-auc-or-area-under-the-roc-curve/)<br>"
   ]
  },
  {
   "cell_type": "markdown",
   "metadata": {
    "colab_type": "text",
    "id": "yTnbHGxtVjfK"
   },
   "source": [
    "# Cross-Validation (CV) and K-Fold"
   ]
  },
  {
   "cell_type": "markdown",
   "metadata": {
    "colab_type": "text",
    "id": "6ZxxzY9cVjfL"
   },
   "source": [
    "**Scikit-Learn Documentation**<br>\n",
    "[Sklearn Documentation for cross_val_score()](http://scikit-learn.org/stable/modules/generated/sklearn.model_selection.cross_val_score.html)<br>\n",
    "[Sklearn Documentation for cross_val_predict()](http://scikit-learn.org/stable/modules/generated/sklearn.model_selection.cross_val_predict.html)<br>\n",
    "[Sklearn Documentation for KFold()](http://scikit-learn.org/stable/modules/generated/sklearn.model_selection.KFold.html)<br>\n",
    "[Sklearn Tutorial on Cross-Validation](http://scikit-learn.org/stable/tutorial/statistical_inference/model_selection.html)<br>\n",
    "\n",
    "**Explanations**<br>\n",
    "[Explaining CV](https://towardsdatascience.com/train-test-split-and-cross-validation-in-python-80b61beca4b6\n",
    ")<br>\n",
    "[Another CV Explanation](https://www.analyticsvidhya.com/blog/2018/05/improve-model-performance-cross-validation-in-python-r/)<br>\n",
    "[Understanding Different CV Methods](https://www.cs.cmu.edu/~schneide/tut5/node42.html)<br>\n",
    "[Good StackOverflow Explanation on cross_val_score() vs cross_val_predict()](https://stackoverflow.com/questions/43613443/difference-between-cross-val-score-and-cross-val-predict)<br>"
   ]
  },
  {
   "cell_type": "markdown",
   "metadata": {
    "colab_type": "text",
    "id": "kbw2dvzdVjfM"
   },
   "source": [
    "# Unsupervised Learning"
   ]
  },
  {
   "cell_type": "markdown",
   "metadata": {
    "colab_type": "text",
    "id": "ItSGIoAdVjfM"
   },
   "source": [
    "## K-Means"
   ]
  },
  {
   "cell_type": "markdown",
   "metadata": {
    "colab_type": "text",
    "id": "ewu1LJQfVjfN"
   },
   "source": [
    "\n",
    "\n",
    "**Scikit-Learn Documentation**<br>\n",
    "[Sklearn Documentation for KMeans()](http://scikit-learn.org/stable/modules/generated/sklearn.cluster.KMeans.html)<br>\n",
    "[Clustering Introduction in Sklearn](http://scikit-learn.org/stable/modules/clustering.html)<br>\n",
    "\n",
    "**Explanations**<br>\n",
    "[Intro to K-Means](https://mubaris.com/2017/10/01/kmeans-clustering-in-python/)<br>\n",
    "[Theory: Intro to K-Means](https://www.datascience.com/blog/k-means-clustering)<br>\n",
    "[K-Means Explained Simply](http://bigdata-madesimple.com/possibly-the-simplest-way-to-explain-k-means-algorithm/)<br>\n",
    "[Theory: Presentation from OSU](https://web.engr.oregonstate.edu/~tgd/classes/534/slides/part3.pdf)<br>\n",
    "[Simple Kaggle Example using K-Means for Iris Dataset](https://www.kaggle.com/tonzowonzo/simple-k-means-clustering-on-the-iris-dataset/code)<br>\n",
    "\n",
    "**Videos**<br>\n",
    "[K-Means: How It Works](https://www.youtube.com/watch?v=_aWzGGNrcic)<br>\n",
    "[StatQuest: K-Means](https://www.youtube.com/watch?v=2TH4OgGgNfI)<br>\n",
    "[K-Means Clustering](https://www.youtube.com/watch?v=9991JlKnFmk)<br>"
   ]
  },
  {
   "cell_type": "markdown",
   "metadata": {
    "colab_type": "text",
    "id": "nscj8Q_Dxvbb"
   },
   "source": [
    "## Dimensionality Reduction"
   ]
  },
  {
   "cell_type": "markdown",
   "metadata": {
    "colab_type": "text",
    "id": "M-l-wbHl5_ua"
   },
   "source": [
    "**Explanations**<br>\n",
    "[Dimensionality Reduction Explained](http://enhancedatascience.com/2017/07/31/machine-learning-explained-dimensionality-reduction/)<br>\n",
    "[Dimensionality Reduction Methods](https://www.analyticsvidhya.com/blog/2015/07/dimension-reduction-methods/)<br>"
   ]
  },
  {
   "cell_type": "markdown",
   "metadata": {
    "colab_type": "text",
    "id": "c2ZaXRnj57Ix"
   },
   "source": [
    "### PCA"
   ]
  },
  {
   "cell_type": "markdown",
   "metadata": {
    "colab_type": "text",
    "id": "JZL-D_rKxxbt"
   },
   "source": [
    "**Scikit-Learn Documentation**<br>\n",
    "[Sklearn Documentation for PCA()](http://scikit-learn.org/stable/modules/generated/sklearn.decomposition.PCA.html#sklearn.decomposition.PCA.transform)<br>\n",
    "\n",
    "**Explanations**<br>\n",
    "[Python/R Example for PCA + K-Means Clustering](https://www.codementor.io/jadianes/data-science-python-pandas-r-dimensionality-reduction-du1081aka)<br>\n",
    "\n",
    "**Videos**<br>\n",
    "[StatQuest (Theory): PCA Step-by-Step](https://www.youtube.com/watch?v=FgakZw6K1QQ)<br>\n",
    "[StatQuest: PCA Main Points](https://www.youtube.com/watch?v=HMOI_lkzW08)<br>"
   ]
  },
  {
   "cell_type": "markdown",
   "metadata": {
    "colab_type": "text",
    "id": "bA84_eBiAs8b"
   },
   "source": [
    "# Agile for Data Science"
   ]
  },
  {
   "cell_type": "markdown",
   "metadata": {
    "colab_type": "text",
    "id": "Ej6alPFZAva8"
   },
   "source": [
    "**Basic Information**<br>\n",
    "[Manifesto](https://www.oreilly.com/ideas/a-manifesto-for-agile-data-science)<br>\n",
    "[Agile Development for Data Science Projects by Microsoft](https://docs.microsoft.com/en-us/azure/machine-learning/team-data-science-process/agile-development)<br>\n",
    "[Agile Approach to Data Science](https://www.datascience.com/blog/agile-data-science)<br>\n",
    "[Agile Dev Techniques for Data Science Projects](https://www.oreilly.com/ideas/using-agile-development-techniques-for-data-science-projects)<br>\n",
    "[Agile vs Waterfall](https://www.seguetech.com/waterfall-vs-agile-methodology/)<br>\n",
    "[Real-World Results for Agile Data Science](https://www.svds.com/agile-data-science-teams-deliver-real-world-results/)<br>\n",
    "\n",
    "**Minimum Viable Product (MVP)**<br>\n",
    "[How to Build an MVP](https://rubygarage.org/blog/how-to-build-a-minimum-viable-product)<br>\n",
    "[Building an MVP](https://medium.com/swlh/building-a-minimum-viable-product-cbd57cc07f8d)<br>\n",
    "[MVP Approach to Data Science](https://medium.com/@isthebaron/life-of-metric-an-mvp-approach-to-data-science-325e837301f5)<br>\n",
    "\n",
    "**Videos**<br>\n",
    "[Agile Data Science 2.0](https://www.youtube.com/watch?v=mCsKIXq0kHo)<br>\n",
    "[What is Agile?](https://www.youtube.com/watch?v=Z9QbYZh1YXY)<br>\n",
    "[Introduction to Scrum](https://www.youtube.com/watch?v=9TycLR0TqFA)<br>\n",
    "\n",
    "**Marshmellow Challenge**<br>\n",
    "[The Marshmellow Challenge](http://www.tomwujec.com/design-projects/marshmallow-challenge/?__hstc=202214990.b0f75c7ab73800ef8ae926c9b075ceda.1526463150760.1526463150760.1526463150760.1&__hssc=202214990.2.1526463150760&__hsfp=2559310098)<br>\n",
    "[What can we learn?](http://www.tomwujec.com/design-projects/marshmallow-challenge/?__hstc=202214990.b0f75c7ab73800ef8ae926c9b075ceda.1526463150760.1526463150760.1526463150760.1&__hssc=202214990.2.1526463150760&__hsfp=2559310098)<br>\n",
    "[Team Building with the Marshmellow Challenge](http://blog.lifestyledmc.com/2011/07/20/team-building-with-the-marshmallow-challenge-it-is-all-about-creativity-innovation-and-collaboration/)<br>\n",
    "[Debriefing](https://www.agilesparks.com/blog/fun-marshmallow-challenge-debrief/)<br>\n"
   ]
  },
  {
   "cell_type": "markdown",
   "metadata": {
    "colab_type": "text",
    "id": "gNFh4dfo9NHP"
   },
   "source": [
    "# Deep Learning"
   ]
  },
  {
   "cell_type": "markdown",
   "metadata": {
    "colab_type": "text",
    "id": "rxzHPEaQXF01"
   },
   "source": [
    "[Theory: Deep Learning Book](http://www.deeplearningbook.org/)<br>"
   ]
  },
  {
   "cell_type": "markdown",
   "metadata": {
    "colab_type": "text",
    "id": "HRrjO9GP9VQE"
   },
   "source": [
    "## Keras\n"
   ]
  },
  {
   "cell_type": "markdown",
   "metadata": {
    "colab_type": "text",
    "id": "Wl9ykODG-p35"
   },
   "source": [
    "### RNN<br>\n",
    "[Recurrent Layer](https://keras.io/layers/recurrent/#lstm)<br>\n",
    "[Keras LSTM Tutorial](http://adventuresinmachinelearning.com/keras-lstm-tutorial/)"
   ]
  },
  {
   "cell_type": "markdown",
   "metadata": {
    "colab_type": "text",
    "id": "00UE93D19VNN"
   },
   "source": [
    "## Neural Networks"
   ]
  },
  {
   "cell_type": "markdown",
   "metadata": {
    "colab_type": "text",
    "id": "DgE6Ot68V-Pf"
   },
   "source": [
    "### Convolutional Neural Networks (CNN)<br>\n",
    "[Basic: Understanding CNN](http://www.wildml.com/2015/11/understanding-convolutional-neural-networks-for-nlp/)<br>"
   ]
  },
  {
   "cell_type": "markdown",
   "metadata": {
    "colab_type": "text",
    "id": "VIn-Ixha9VSi"
   },
   "source": [
    "### Recurrent Neural Networks (RNN)"
   ]
  },
  {
   "cell_type": "markdown",
   "metadata": {
    "colab_type": "text",
    "id": "vMx9Zl_19VU0"
   },
   "source": [
    "**Background**<br>\n",
    "[RNN Tutorial](http://www.wildml.com/2015/09/recurrent-neural-networks-tutorial-part-1-introduction-to-rnns/)<br>\n",
    "[Understanding LSTMs](http://colah.github.io/posts/2015-08-Understanding-LSTMs/)<br>\n",
    "[Understanding RNNs](https://kevinzakka.github.io/2017/07/20/rnn/#toc3)<br>\n",
    "[RNNs for Beginners](https://medium.com/@camrongodbout/recurrent-neural-networks-for-beginners-7aca4e933b82)<br>\n",
    "[Theory: Beginner's Guide to RNNs](https://deeplearning4j.org/lstm.html#recurrent)<br>\n",
    "[Theory: How RNNs and LSTMs Work](https://elham-khanche.github.io/blog/RNNs_and_LSTM/)<br>\n",
    "[Theory: How RNNs work](https://towardsdatascience.com/learn-how-recurrent-neural-networks-work-84e975feaaf7)<br>\n",
    "[Unrolling an RNN](https://machinelearningmastery.com/rnn-unrolling/)<br>\n",
    "\n",
    "**Visuals**<br>\n",
    "[The Unreasonable Effectiveness of Recurrent Neural Networks](http://karpathy.github.io/2015/05/21/rnn-effectiveness/)<br>\n",
    "[How RNNs Work](https://imgur.com/kpZBDfV)"
   ]
  },
  {
   "cell_type": "markdown",
   "metadata": {
    "colab_type": "text",
    "id": "ZTD_bsoe9VW9"
   },
   "source": [
    "# Natural Language Processing (NLP)"
   ]
  },
  {
   "cell_type": "markdown",
   "metadata": {
    "colab_type": "text",
    "id": "NdzFgxTrAhYq"
   },
   "source": [
    "[Text Summarization](https://machinelearningmastery.com/gentle-introduction-text-summarization/)<br>\n",
    "[Named Entity Recognition (NER) Applications and Uses](https://towardsdatascience.com/named-entity-recognition-applications-and-use-cases-acdbf57d595e)<br>\n",
    "[Udacity NLP](https://github.com/rndbrtrnd/udacity-deep-learning)<br>\n",
    "[NLP Techniques for Extracting Information](https://www.searchtechnologies.com/blog/natural-language-processing-techniques)<br>\n",
    "[NLP in SpaCy](https://www.analyticsvidhya.com/blog/2017/04/natural-language-processing-made-easy-using-spacy-%E2%80%8Bin-python/)<br>\n",
    "[Extracing Information](https://medium.com/@acrosson/extracting-names-emails-and-phone-numbers-5d576354baa)<br>\n",
    "[Code: Extracting Information](https://github.com/acrosson/nlp/blob/master/information-extraction.py)<br>"
   ]
  },
  {
   "cell_type": "markdown",
   "metadata": {
    "colab_type": "text",
    "id": "paza0GHz_XRs"
   },
   "source": [
    "## Preprocessing<br>\n",
    "### NLTK<br>\n",
    "[NLTK: Stemming and Lemmatizing](http://text-processing.com/demo/stem/)<br>\n",
    "[NLTK List of Corpora](http://www.nltk.org/nltk_data/)<br>\n",
    "[NLTK Book](https://www.nltk.org/book/ch01.html)\n",
    "[Sentence and Word Tokenizing](https://textminingonline.com/dive-into-nltk-part-ii-sentence-tokenize-and-word-tokenize)<br>\n",
    "\n",
    "\n",
    "### Bag of Words (BOW) <br>\n",
    "[Bag of Words vs Continuous Bag of Words](https://www.quora.com/What-is-the-difference-between-the-Bag-of-Words-model-and-the-Continuous-Bag-of-Words-model)<br>\n",
    "\n",
    "### Term Frequency-Inverse Document Frequecy (TF-IDF)<br>\n",
    "**Sklearn**<br>\n",
    "[Scikit-Learn Documentation for TfidVectorizer()](http://scikit-learn.org/stable/modules/generated/sklearn.feature_extraction.text.TfidfVectorizer.html)<br>\n",
    "[Scikit-Learn Example](https://gist.github.com/StevenMaude/ea46edc315b0f94d03b9)<br>\n",
    "\n",
    "**Background**<br>\n",
    "[Theory: TF-IDF](https://www.elephate.com/blog/what-is-tf-idf/)<br>\n",
    "[Theory: MLWiki](http://mlwiki.org/index.php/TF-IDF#Term_Weighing_Systems)<br>\n",
    "[ML Text Feature Extraction](http://blog.christianperone.com/2011/09/machine-learning-text-feature-extraction-tf-idf-part-i/)<br>\n",
    "[TF-IDF Analysis](https://buhrmann.github.io/tfidf-analysis.html)<br>\n",
    "\n",
    "**N-grams**<br>\n",
    "[N-gram Tutorial](https://github.com/Elucidation/Ngram-Tutorial/blob/master/NgramTutorial.ipynb)<br>\n"
   ]
  },
  {
   "cell_type": "markdown",
   "metadata": {
    "colab_type": "text",
    "id": "HL6UTzto_XPW"
   },
   "source": [
    "## Word Embeddings<br>\n",
    "\n",
    "[What is the Difference Between Word2Vec and FastText?](https://www.quora.com/What-is-the-main-difference-between-word2vec-and-fastText)\n",
    "\n",
    "**Pretrained Models**<br>\n",
    "[Pre-trained word vectors of 30+ languages (Word2Vec and FastText)](https://github.com/Kyubyong/wordvectors)<br>\n",
    "[List of pretrained embeddings](https://www.quora.com/Where-can-I-find-some-pre-trained-word-vectors-for-natural-language-processing-understanding)<br>\n",
    "[List of Pretrained Word Embeddings](http://ahogrammer.com/2017/01/20/the-list-of-pretrained-word-embeddings/)<br>\n",
    "[Awesome Embedding Models](https://github.com/Hironsan/awesome-embedding-models)<br>\n",
    "\n",
    "### Word2Vec<br>\n",
    "[Google Archive](https://code.google.com/archive/p/word2vec/)<br>\n",
    "[Theory: Word Embeddings Explained](https://www.knime.com/blog/word-embedding-word2vec-explained)<br>\n",
    "[Udacity: Word2Vec](https://github.com/tensorflow/tensorflow/blob/master/tensorflow/examples/udacity/5_word2vec.ipynb)<br>\n",
    "\n",
    "**Tutorials**<br>\n",
    "[Gensim: Tutorials](https://radimrehurek.com/gensim/tutorial.html)<br>\n",
    "[Blog: Word2Vec Tutorail](https://rare-technologies.com/word2vec-tutorial/)<br>\n",
    "[Strings to Vectors](https://radimrehurek.com/gensim/tut1.html#from-strings-to-vectors)<br>\n",
    "[Similarity Queries](https://radimrehurek.com/gensim/tut3.html)<br>\n",
    "[Topics and Transformations](https://radimrehurek.com/gensim/tut2.html)<br>\n",
    "\n",
    "\n",
    "### FastText<br>\n",
    "[FastText for Windows](https://www.cs.mcgill.ca/~mxia3/FastText-for-Windows/)<br>\n",
    "[FastText and Skip Grams](http://debajyotidatta.github.io/nlp/deep/learning/word-embeddings/2016/09/28/fast-text-and-skip-gram/)<br>\n",
    "[Supervised Learning Tutorial](https://fasttext.cc/docs/en/supervised-tutorial.html)<br>\n",
    "[Code: Python Supervised Learning (Github)](https://github.com/facebookresearch/fastText/blob/master/python/doc/examples/train_supervised.py)<br>"
   ]
  }
 ],
 "metadata": {
  "colab": {
   "collapsed_sections": [
    "OpaaKk-2Vje1",
    "dJAxoUZPVje7",
    "bSmDFtebVjfE",
    "yTnbHGxtVjfK",
    "kbw2dvzdVjfM",
    "bA84_eBiAs8b"
   ],
   "default_view": {},
   "name": "Resources.ipynb",
   "provenance": [],
   "version": "0.3.2",
   "views": {}
  },
  "kernelspec": {
   "display_name": "Python 3",
   "language": "python",
   "name": "python3"
  },
  "language_info": {
   "codemirror_mode": {
    "name": "ipython",
    "version": 3
   },
   "file_extension": ".py",
   "mimetype": "text/x-python",
   "name": "python",
   "nbconvert_exporter": "python",
   "pygments_lexer": "ipython3",
   "version": "3.7.3"
  }
 },
 "nbformat": 4,
 "nbformat_minor": 1
}
