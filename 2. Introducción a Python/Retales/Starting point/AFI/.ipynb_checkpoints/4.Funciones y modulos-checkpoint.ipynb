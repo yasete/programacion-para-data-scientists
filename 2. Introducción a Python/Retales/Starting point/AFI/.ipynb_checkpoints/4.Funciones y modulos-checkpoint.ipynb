{
 "cells": [
  {
   "cell_type": "markdown",
   "metadata": {},
   "source": [
    "# Introducción a Python - Funciones y módulos"
   ]
  },
  {
   "cell_type": "markdown",
   "metadata": {},
   "source": [
    "Con todo lo visto en los anteriores notebooks deberíamos ser capaces de crear cualquier programa. En este apartado vamos a ver cómo se puede (y debe) estrucurar el código de los programas Python de forma que se asegure su reusabilidad y se minimice los posibles puntos de error de los mismos."
   ]
  },
  {
   "cell_type": "markdown",
   "metadata": {},
   "source": [
    "### Funciones"
   ]
  },
  {
   "cell_type": "markdown",
   "metadata": {},
   "source": [
    "<ul>\n",
    "<li>Puede entenderse como un nombre asignado a un bloque de código que permite su posterior invocación.</li>\n",
    "<li>Dispone de un conjunto de parámetros de entrada (opcionales) sobre los que trabajará el bloque de código interno.</li>\n",
    "<li>Ofrecen un resultado de salida (opcional) que podrá ser utilizado por el código que invocó a la función.</li>\n",
    "<li>Permiten encapsular código de forma que pueda ser reutilizado en varios puntos de un programa.</li>\n",
    "<li>Evitan la necesidad de copiar y pegar código.</li>\n",
    "<li>Facilita el mantenimiento y reduce los posibles puntos de error.</li>\n",
    "<li>Permiten \"generalizar\" código al trabajar sobre unos parámetros de entrada que pueden ser \"variables\".</li>\n",
    "</ul>"
   ]
  },
  {
   "cell_type": "code",
   "execution_count": null,
   "metadata": {},
   "outputs": [],
   "source": [
    "list_1 = [\"uno\", \"dos\", \"tres\", \"cuatro\", \"cinco\", \"treinta\"]\n",
    "list_C = []\n",
    "for element in list_1:\n",
    "    if element[0] == \"c\":\n",
    "        list_C.append(element.upper())\n",
    "print (list_C)        "
   ]
  },
  {
   "cell_type": "markdown",
   "metadata": {},
   "source": [
    "¿Qué pasa si quisiésemos usar una lista distina? ¿Qué pasa si queremos seleccionar sólo los elementos que empiezan por \"t\"? ¿Qué pasa si queremos devolver los elementos en minúscula? Tendríamos que replicar varias veces el mismo código. Aquí es donde las funciones muestran su potencial."
   ]
  },
  {
   "cell_type": "code",
   "execution_count": null,
   "metadata": {},
   "outputs": [],
   "source": [
    "def mi_funcion(lista, inicial, a_mayuscula):\n",
    "    list_out = []\n",
    "    for element in lista:\n",
    "        if element[0] == inicial:\n",
    "            if a_mayuscula:\n",
    "                list_out.append(element.upper())\n",
    "            else:\n",
    "                list_out.append(element.lower())\n",
    "    return list_out\n",
    "\n",
    "list_1 = [\"uno\", \"dos\", \"tres\", \"cuatro\", \"cinco\", \"treinta\"]\n",
    "print (mi_funcion(list_1, \"c\", True))\n",
    "print (mi_funcion(list_1, \"u\", False))\n",
    "print (mi_funcion(list_1, \"t\", True))"
   ]
  },
  {
   "cell_type": "markdown",
   "metadata": {},
   "source": [
    "#### Argumentos opcionales"
   ]
  },
  {
   "cell_type": "markdown",
   "metadata": {},
   "source": [
    "Podemos asignar valores por defecto a los parámetros de la función."
   ]
  },
  {
   "cell_type": "code",
   "execution_count": null,
   "metadata": {},
   "outputs": [],
   "source": [
    "def mi_funcion(lista, inicial, a_mayuscula=True):\n",
    "    list_out = []\n",
    "    for element in lista:\n",
    "        if element[0] == inicial:\n",
    "            if a_mayuscula:\n",
    "                list_out.append(element.upper())\n",
    "            else:\n",
    "                list_out.append(element.lower())\n",
    "    return list_out\n",
    "\n",
    "list_1 = [\"uno\", \"dos\", \"tres\", \"cuatro\", \"cinco\", \"treinta\"]\n",
    "print (mi_funcion(list_1, \"c\"))\n",
    "print (mi_funcion(list_1, \"u\", False))\n",
    "print (mi_funcion(list_1, \"t\", True))"
   ]
  },
  {
   "cell_type": "markdown",
   "metadata": {},
   "source": [
    "#### Especificar el nombre de los argumentos en la llamada"
   ]
  },
  {
   "cell_type": "markdown",
   "metadata": {},
   "source": [
    "Se puede especificar el nombre de los argumentos de entrada en la llamada, eliminando la necesidad de mantener su orden (funcionamiento por defecto si no se especifica nombre)."
   ]
  },
  {
   "cell_type": "code",
   "execution_count": null,
   "metadata": {},
   "outputs": [],
   "source": [
    "list_1 = [\"uno\", \"dos\", \"tres\", \"cuatro\", \"cinco\", \"treinta\"]\n",
    "print (mi_funcion(inicial=\"c\", lista=list_1))"
   ]
  },
  {
   "cell_type": "markdown",
   "metadata": {},
   "source": [
    "#### Retorno de múltiples elementos"
   ]
  },
  {
   "cell_type": "markdown",
   "metadata": {},
   "source": [
    "Aunque, en general, el retorno de las funciones será único (un único valor que se podrá asignar a una variable en el código que invoca), sería posible devolver una secuencia y recoger los resultados en diferentes variables (por las propiedades vistas en la presentación de secuencias)."
   ]
  },
  {
   "cell_type": "code",
   "execution_count": null,
   "metadata": {},
   "outputs": [],
   "source": [
    "def mi_funcion(lista, inicial, a_mayuscula=True):\n",
    "    list_out = []\n",
    "    for element in lista:\n",
    "        if element[0] == inicial:\n",
    "            if a_mayuscula:\n",
    "                list_out.append(element.upper())\n",
    "            else:\n",
    "                list_out.append(element.lower())\n",
    "    return (len(list_out), list_out)\n",
    "\n",
    "list_1 = [\"uno\", \"dos\", \"tres\", \"cuatro\", \"cinco\", \"treinta\"]\n",
    "num_elementos, elementos = mi_funcion(list_1, \"c\")\n",
    "\n",
    "for i in range(0, num_elementos):\n",
    "    print (elementos[i])"
   ]
  },
  {
   "cell_type": "markdown",
   "metadata": {},
   "source": [
    "### Módulos / Paquetes"
   ]
  },
  {
   "cell_type": "markdown",
   "metadata": {},
   "source": [
    "<ul>\n",
    "    <li>Por defecto, en un script de Python tienes acceso a todas las variables y funciones definidas en el propio fichero.</li>\n",
    "    <li>Es posible acceder a elementos definidos en otros ficheros mediante la importación de módulos.</li>\n",
    "    <li>Un fichero .py es un módulo en Python cuyo nombre es el mismo que el del fichero (sin extensión).</li>\n",
    "    <li>La forma de incorporar elementos definidos en un módulo es mediante el uso de la sentencia <i>import</i>.</li>\n",
    "</ul>"
   ]
  },
  {
   "cell_type": "markdown",
   "metadata": {},
   "source": [
    "#### Importar el módulo completo"
   ]
  },
  {
   "cell_type": "markdown",
   "metadata": {},
   "source": [
    "Se importa todo el contenido del módulo y es necesario utilizar el alias de módulo delante de las funciones."
   ]
  },
  {
   "cell_type": "code",
   "execution_count": null,
   "metadata": {},
   "outputs": [],
   "source": [
    "import numpy\n",
    "array = numpy.array([[1, 2], [3, 4]])\n",
    "mean = numpy.mean(array)\n",
    "print (array)\n",
    "print (mean)"
   ]
  },
  {
   "cell_type": "markdown",
   "metadata": {},
   "source": [
    "#### Importar todo el contenido del módulo"
   ]
  },
  {
   "cell_type": "markdown",
   "metadata": {},
   "source": [
    "Se importa todo el contenido del módulo y se incorporan sus funciones al entorno de trabajo actual, por lo que no es necesario especificar un alias. CUIDADO: esto sobreescribiría cualquier función de mismo nombre del entorno de trabajo."
   ]
  },
  {
   "cell_type": "code",
   "execution_count": null,
   "metadata": {},
   "outputs": [],
   "source": [
    "from numpy import *\n",
    "array = array([[1, 2], [3, 4]])\n",
    "media = mean(array)\n",
    "print (array)\n",
    "print (media)"
   ]
  },
  {
   "cell_type": "markdown",
   "metadata": {},
   "source": [
    "#### Importar un elemento específico el módulo"
   ]
  },
  {
   "cell_type": "markdown",
   "metadata": {},
   "source": [
    "Se importa únicamente el elemento seleccionado, aunque también hay peligro de sobreescritura."
   ]
  },
  {
   "cell_type": "code",
   "execution_count": null,
   "metadata": {},
   "outputs": [],
   "source": [
    "from numpy import array\n",
    "array = array([[1, 2], [3, 4]])\n",
    "media2 = mean(array)\n",
    "print (array)\n",
    "print(media2)"
   ]
  },
  {
   "cell_type": "markdown",
   "metadata": {},
   "source": [
    "#### Importar con alias"
   ]
  },
  {
   "cell_type": "markdown",
   "metadata": {},
   "source": [
    "Se puede especifcar un alias a los elementos importados de forma que asegures que no hay sobreescritura."
   ]
  },
  {
   "cell_type": "code",
   "execution_count": null,
   "metadata": {},
   "outputs": [],
   "source": [
    "from numpy import array as array_de_numpy\n",
    "array = array_de_numpy([[1, 2], [3, 4]])\n",
    "print (array)"
   ]
  },
  {
   "cell_type": "markdown",
   "metadata": {},
   "source": [
    "### Instalación de módulos"
   ]
  },
  {
   "cell_type": "markdown",
   "metadata": {},
   "source": [
    "Al contrario que en R, en Python no se dispone de una función para instalar módulos directamente desde el intérprete y se debe hacer desde la consola. La herramienta básica para la gestión de paquetes es *pip*."
   ]
  },
  {
   "cell_type": "markdown",
   "metadata": {},
   "source": [
    "#### Herramienta: pip"
   ]
  },
  {
   "cell_type": "markdown",
   "metadata": {},
   "source": [
    "pip instala paquetes disponibles en el repositorio PyPI (índice de paquetes de Python). Los comandos más comunes son:<br/>\n",
    "<ul>\n",
    "<li>list: Listado de paquetes actualmente instalados en el entorno.</li>\n",
    "<li>search &lt;search_string&gt;: Búsqueda de paquetes en el repositorio.</li>\n",
    "<li>install &lt;package&gt;: Instalación de paquetes no disponibles.</li>\n",
    "<li>update &lt;package&gt;: Actualización del paquete a la última versión disponible.</li>\n",
    "</ul>"
   ]
  }
 ],
 "metadata": {
  "kernelspec": {
   "display_name": "Python 3",
   "language": "python",
   "name": "python3"
  },
  "language_info": {
   "codemirror_mode": {
    "name": "ipython",
    "version": 3
   },
   "file_extension": ".py",
   "mimetype": "text/x-python",
   "name": "python",
   "nbconvert_exporter": "python",
   "pygments_lexer": "ipython3",
   "version": "3.7.4"
  }
 },
 "nbformat": 4,
 "nbformat_minor": 1
}
