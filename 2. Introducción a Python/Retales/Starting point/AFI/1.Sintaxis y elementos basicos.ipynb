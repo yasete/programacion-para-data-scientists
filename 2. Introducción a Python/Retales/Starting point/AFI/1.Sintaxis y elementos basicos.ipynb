{
 "cells": [
  {
   "cell_type": "markdown",
   "metadata": {},
   "source": [
    "# Introducción a Python - Sintáxis y elementos básicos"
   ]
  },
  {
   "cell_type": "markdown",
   "metadata": {},
   "source": [
    "En este apartado del curso, se van a repasar conceptos básicos sobre la sintáxis de Python. Para ello, vamos a empezar con un ejemplo de código Python. ¿Qué imprimirá si lo ejecutamos? "
   ]
  },
  {
   "cell_type": "code",
   "execution_count": 9,
   "metadata": {},
   "outputs": [
    {
     "name": "stdout",
     "output_type": "stream",
     "text": [
      "12\n",
      "Hola Mundo\n"
     ]
    }
   ],
   "source": [
    "entero = 34 - 23 # Un comentario\n",
    "cadena = \"Hola\" # Otro comentario\n",
    "decimal = 3.45\n",
    "if decimal == 3.45 or cadena == \"Hola\":\n",
    "    entero = entero + 1\n",
    "    cadena = cadena + \" Mundo\" # Concatenación de cadenas de caracteres\n",
    "print(entero)\n",
    "print(cadena)"
   ]
  },
  {
   "cell_type": "markdown",
   "metadata": {},
   "source": [
    "Para comprender bien el script, vamos a cubrir los elementos más básicos de la sintáxis de Python."
   ]
  },
  {
   "cell_type": "markdown",
   "metadata": {},
   "source": [
    "### Comentarios"
   ]
  },
  {
   "cell_type": "markdown",
   "metadata": {},
   "source": [
    "<ul>\n",
    "<li>Para introducir un comentario en el código de Python se debe preceder el mismo del carácter \"#\".</li>\n",
    "<li>Se pueden comentar líneas completas (carácter \"#\" al principio de la línea) o líneas parciales (caracter \"#\" detrás de un fragmento de código).</li>\n",
    "<li>Una vez introducido el carácter \"#\" el comentario llegará hasta el final de la línea.</li>\n",
    "</ul>"
   ]
  },
  {
   "cell_type": "code",
   "execution_count": null,
   "metadata": {},
   "outputs": [],
   "source": [
    "# Esto es un comentario que no se evaluará\n",
    "x = 15  # Esto es otro comentario que tampoco se evaluará"
   ]
  },
  {
   "cell_type": "markdown",
   "metadata": {},
   "source": [
    "También se puede introducir un comentario de varias líneas poniendo tres comillas, \"\"\", al principio y al final del comentario."
   ]
  },
  {
   "cell_type": "code",
   "execution_count": 40,
   "metadata": {},
   "outputs": [
    {
     "data": {
      "text/plain": [
       "'Python is a powerful high-level, object-oriented programming language created by Guido van Rossum. It has simple \\neasy-to-use syntax, making it the perfect language for someone trying to learn computer programming for\\nthe first time. This is a comprehensive guide on how to get started in Python, why you should learn it and how\\nyou can learn it.'"
      ]
     },
     "execution_count": 40,
     "metadata": {},
     "output_type": "execute_result"
    }
   ],
   "source": [
    "\"\"\"Python is a powerful high-level, object-oriented programming language created by Guido van Rossum. It has simple \n",
    "easy-to-use syntax, making it the perfect language for someone trying to learn computer programming for\n",
    "the first time. This is a comprehensive guide on how to get started in Python, why you should learn it and how\n",
    "you can learn it.\"\"\""
   ]
  },
  {
   "cell_type": "markdown",
   "metadata": {},
   "source": [
    "### Espacios en blanco"
   ]
  },
  {
   "cell_type": "markdown",
   "metadata": {},
   "source": [
    "<ul>\n",
    "<li>Los espacios en blanco y los saltos de línea <b>tienen significado</b> en Python.</li>\n",
    "<li>Un salto de línea marca el final de una sentencia. No se usa \";\" al final de las líneas (como en Java o C).</li>\n",
    "<li>Se usa \"\\\" para indicar que una sentencia ocupará varias líneas (aunque no es buena costumbre).</li>\n",
    "<li>No se usan marcas visibles para la delimitación de bloques (como \"{}\" en Java o C) sino el nivel de indentación.\n",
    "<ul>\n",
    "<li>La primera línea con un nivel mayor de indentación especifica el comienzo de un bloque.</li>\n",
    "<li>La primera línea con un nivel menor de indentación especifica el fin de un bloque.</li>\n",
    "</ul>\n",
    "</li>\n",
    "</ul>"
   ]
  },
  {
   "cell_type": "code",
   "execution_count": 42,
   "metadata": {},
   "outputs": [
    {
     "name": "stdout",
     "output_type": "stream",
     "text": [
      "Ya no lo soy\n"
     ]
    }
   ],
   "source": [
    "variable_1 = 10                          # Un salto de linea especifica el final de sentencia\n",
    "variable_2 = \"Soy una asignación\" + \\\n",
    "             \" muy larga\"                # Un \\ indica que la sentencia continúa en la siguiente linea (mala práctica)\n",
    "if variable_1 == 10:\n",
    "    variable_1 = 15                      # Una mayor indentación indica el inicio de un bloque                     \n",
    "    variable_2 = \"Ya no lo soy\"\n",
    "print (variable_2)                       # Una menor indentación indica el fin de un bloque"
   ]
  },
  {
   "cell_type": "markdown",
   "metadata": {},
   "source": [
    "### Variables"
   ]
  },
  {
   "cell_type": "markdown",
   "metadata": {},
   "source": [
    "<ul>\n",
    "<li>Pueden verse como un nombre dado a una referencia a un objeto/valor.</li>\n",
    "<li>Su nombre puede contener:\n",
    "<ul>\n",
    "<li>Carácteres alfanuméricos: a-z, A-Z, 0-9</li>\n",
    "<li>Guión bajo: _</li>\n",
    "</ul>\n",
    "</li>\n",
    "<li>No se pueden usar ciertas palabras reservadas:\n",
    "<ul>\n",
    "<li>and, as, assert, break, class, continue, def, del, elif, else, except, \n",
    "  exec, finally, for, from, global, if, import, in, is, lambda, not, or,\n",
    "  pass, print, raise, return, try, while, with, yield</li>\n",
    "</ul>\n",
    "</li>\n",
    "<li>Aunque no hay normas, las \"buenas prácticas\" dicen que los nombres de variables deben:\n",
    "<ul>\n",
    "<li>Empezar con minúscula: el inicio con mayúsculas se reserva para la declaración de clases (programación orientada a objetos).\n",
    "<li>Autoexplicativos: nombres como cod_contrato, cod_persona, saldo, ingresos_acumulados frente a x, y z.</li>\n",
    "</ul>"
   ]
  },
  {
   "cell_type": "code",
   "execution_count": null,
   "metadata": {},
   "outputs": [],
   "source": [
    "cod_contrato = \"12345678890000000000\"   # Asignación correcta\n",
    "Persona = \"99999999-Q\"                  # Asignación válida aunque en contra de buenas prácticas\n",
    "x = 3.45                                # Asignación válida aunque en contra de buenas prácticas"
   ]
  },
  {
   "cell_type": "markdown",
   "metadata": {},
   "source": [
    "### Asignaciones"
   ]
  },
  {
   "cell_type": "markdown",
   "metadata": {},
   "source": [
    "<ul>\n",
    "<li>Una asignación es el establecimiento de un nombre a una referencia a un objeto/valor</li>\n",
    "<li>La asignación se realiza mediante el operador \"=\"</li>\n",
    "<li>Las variables se crean en la primera asignación de valor. No es necesario declararlas de forma previa como ocurre en lenguajes como Java, C, etc.</li>\n",
    "<li>Python infiere el tipo de las variables a partir del valor de la primera asignación.</li>\n",
    "<li>Se puede hacer asignación múltiple en una misma sentencia.</li>\n",
    "<li>Si intentamos utilizar una variable no creada anteriormente obtendremos un error</li>\n",
    "</ul>"
   ]
  },
  {
   "cell_type": "code",
   "execution_count": null,
   "metadata": {},
   "outputs": [],
   "source": [
    "cod_contrato = \"1234567890000000000\"             # Creación de una variable cod_contrato de tipo cadena de caracteres\n",
    "num_hijos = 5                                    # Creación de una variable num_hijos de tipo entero\n",
    "saldo = 12345.67                                 # Creación de una variable saldo de tipo decimal\n",
    "cod_contrato_2 = cod_contrato                    # Creación de una variable cod_contrato_2 con el mismo valor y tipo que cod_contrato\n",
    "cod_titular_1, cod_titular_2 = \"Pepe\", \"María\"   # Creación múltiple de variables en una única sentencia"
   ]
  },
  {
   "cell_type": "markdown",
   "metadata": {},
   "source": [
    "### Escritura a la salida estándar"
   ]
  },
  {
   "cell_type": "markdown",
   "metadata": {},
   "source": [
    "<ul>\n",
    "<li>Para imprimir cualquier valor o cualquier variable por pantalla se utiliza la función de Python <b>print</b>.</li>\n",
    "</ul>"
   ]
  },
  {
   "cell_type": "code",
   "execution_count": 2,
   "metadata": {},
   "outputs": [
    {
     "name": "stdout",
     "output_type": "stream",
     "text": [
      "Esto es una prueba\n",
      "1234567890000000000\n"
     ]
    }
   ],
   "source": [
    "print(\"Esto es una prueba\")\n",
    "cod_contrato = \"1234567890000000000\"\n",
    "print(cod_contrato)\n"
   ]
  },
  {
   "cell_type": "code",
   "execution_count": 3,
   "metadata": {},
   "outputs": [
    {
     "name": "stdout",
     "output_type": "stream",
     "text": [
      "1234567890000000000\n"
     ]
    }
   ],
   "source": [
    "print (cod_contrato)"
   ]
  },
  {
   "cell_type": "markdown",
   "metadata": {},
   "source": [
    "### Lectura de la entrada estándar"
   ]
  },
  {
   "cell_type": "markdown",
   "metadata": {},
   "source": [
    "<ul>\n",
    "<li>Para leer cualquier valor del teclado se utiliza la función de Python <b>input</b>.</li>\n",
    "</ul>"
   ]
  },
  {
   "cell_type": "code",
   "execution_count": 1,
   "metadata": {},
   "outputs": [
    {
     "name": "stdout",
     "output_type": "stream",
     "text": [
      "--> 4\n",
      "Has escrito: 4\n"
     ]
    }
   ],
   "source": [
    "entrada = input(\"--> \")\n",
    "print(\"Has escrito: \" + entrada)"
   ]
  },
  {
   "cell_type": "markdown",
   "metadata": {},
   "source": [
    "### Tipos de dato"
   ]
  },
  {
   "cell_type": "markdown",
   "metadata": {},
   "source": [
    "<ul>\n",
    "<li>Cuatro tipos básicos:\n",
    "<ul>\n",
    "<li>Cadenas de caracteres o <i>str</i>: Se especifican entre comillas simples, dobles o triples</li>\n",
    "<li>Valores numéricos enteros o <i>int</i>: No incluyen punto decimal</li>\n",
    "<li>Valores numéricos decimales o <i>float</i>: Incluyen punto decimal</li>\n",
    "<li>Valores booleanos o <i>bool</i>: True / False (case sensitive)</li>\n",
    "</ul>\n",
    "<li>Para conocer el tipo de una variable se puede usar la función de Python <b>type</b>.</li>\n",
    "</ul>"
   ]
  },
  {
   "cell_type": "code",
   "execution_count": 2,
   "metadata": {},
   "outputs": [
    {
     "name": "stdout",
     "output_type": "stream",
     "text": [
      "<class 'str'>\n",
      "<class 'int'>\n",
      "<class 'float'>\n",
      "<class 'bool'>\n"
     ]
    }
   ],
   "source": [
    "cadena = \"Esto es una cadena\"\n",
    "cadena = 'Esto también es una cadena'\n",
    "cadena = \"\"\"Incluso esto es\n",
    "una cadena\"\"\"\n",
    "entero = 10\n",
    "decimal = 10.1\n",
    "booleano = True\n",
    "\n",
    "print (type(cadena))\n",
    "print (type(entero))\n",
    "print (type(decimal))\n",
    "print (type(booleano))"
   ]
  },
  {
   "cell_type": "markdown",
   "metadata": {},
   "source": [
    "### Casting o modificación manual de tipos"
   ]
  },
  {
   "cell_type": "markdown",
   "metadata": {},
   "source": [
    "<ul>\n",
    "<li>Se puede modificar explícitamente el tipo de dato de una variable.</li>\n",
    "<li>Para ello se utilizan las funciones de Python: <b>str</b>, <b>int</b>, <b>float</b> y <b>bool</b>.</li>\n",
    "<li>CUIDADO: Hay castings que no tienen sentido</li>\n",
    "</ul>"
   ]
  },
  {
   "cell_type": "code",
   "execution_count": 3,
   "metadata": {},
   "outputs": [
    {
     "name": "stdout",
     "output_type": "stream",
     "text": [
      "10\n",
      "10\n",
      "1.0\n"
     ]
    },
    {
     "ename": "ValueError",
     "evalue": "could not convert string to float: 'Incluso esto es\\nuna cadena'",
     "output_type": "error",
     "traceback": [
      "\u001b[1;31m---------------------------------------------------------------------------\u001b[0m",
      "\u001b[1;31mValueError\u001b[0m                                Traceback (most recent call last)",
      "\u001b[1;32m<ipython-input-3-f707374389d0>\u001b[0m in \u001b[0;36m<module>\u001b[1;34m\u001b[0m\n\u001b[0;32m      2\u001b[0m \u001b[0mprint\u001b[0m \u001b[1;33m(\u001b[0m\u001b[0mint\u001b[0m\u001b[1;33m(\u001b[0m\u001b[0mdecimal\u001b[0m\u001b[1;33m)\u001b[0m\u001b[1;33m)\u001b[0m       \u001b[1;31m# Conversión de float a int, con truncado de decimales\u001b[0m\u001b[1;33m\u001b[0m\u001b[1;33m\u001b[0m\u001b[0m\n\u001b[0;32m      3\u001b[0m \u001b[0mprint\u001b[0m \u001b[1;33m(\u001b[0m\u001b[0mfloat\u001b[0m\u001b[1;33m(\u001b[0m\u001b[0mbooleano\u001b[0m\u001b[1;33m)\u001b[0m\u001b[1;33m)\u001b[0m     \u001b[1;31m# Conversión de booleanos a valores numéricos 0 y 1\u001b[0m\u001b[1;33m\u001b[0m\u001b[1;33m\u001b[0m\u001b[0m\n\u001b[1;32m----> 4\u001b[1;33m \u001b[0mprint\u001b[0m \u001b[1;33m(\u001b[0m\u001b[0mfloat\u001b[0m\u001b[1;33m(\u001b[0m\u001b[0mcadena\u001b[0m\u001b[1;33m)\u001b[0m\u001b[1;33m)\u001b[0m    \u001b[1;31m# Conversión no válida de una cadena a un número decimal\u001b[0m\u001b[1;33m\u001b[0m\u001b[1;33m\u001b[0m\u001b[0m\n\u001b[0m",
      "\u001b[1;31mValueError\u001b[0m: could not convert string to float: 'Incluso esto es\\nuna cadena'"
     ]
    }
   ],
   "source": [
    "print (str(entero))         # Conversión del valor 10 a la cadena \"10\"\n",
    "print (int(decimal))       # Conversión de float a int, con truncado de decimales\n",
    "print (float(booleano))     # Conversión de booleanos a valores numéricos 0 y 1\n",
    "print (float(cadena))    # Conversión no válida de una cadena a un número decimal"
   ]
  },
  {
   "cell_type": "markdown",
   "metadata": {},
   "source": [
    "### None - Valor nulo"
   ]
  },
  {
   "cell_type": "markdown",
   "metadata": {},
   "source": [
    "<ul>\n",
    "<li>Para crear una variable \"vacía\", es decir, sin valor se le asigna la palabra reservada <b>None</b>.</li>\n",
    "<li>Útil para eliminar referencias y que el <i>garbage collector</i> libere memoria, pero no suele ser necesario</li>\n",
    "</ul>"
   ]
  },
  {
   "cell_type": "code",
   "execution_count": 4,
   "metadata": {},
   "outputs": [
    {
     "name": "stdout",
     "output_type": "stream",
     "text": [
      "None\n",
      "<class 'NoneType'>\n"
     ]
    }
   ],
   "source": [
    "vacio = None\n",
    "print (vacio)\n",
    "print (type(vacio))"
   ]
  },
  {
   "cell_type": "markdown",
   "metadata": {},
   "source": [
    "### Operadores básicos"
   ]
  },
  {
   "cell_type": "markdown",
   "metadata": {},
   "source": [
    "<ul>\n",
    "<li>Al igual que en otros lenguajes de programación tenemos un conjunto diverso de operadores para aplicar a variables y valores:\n",
    "<ul>\n",
    "<li>Aritméticos: +, -, \\*, /, \\*\\*, %, //</li>\n",
    "<li>Lógicos: and, or, not</li>\n",
    "<li>Comparativos: ==, !=, <>, >, <, >=, <=</li>\n",
    "<li>Asignación: =, +=, -=. \\*=, /=, \\*\\*=, %=, //=</li>\n",
    "</ul>"
   ]
  },
  {
   "cell_type": "markdown",
   "metadata": {},
   "source": [
    "#### Aritméticos"
   ]
  },
  {
   "cell_type": "code",
   "execution_count": 5,
   "metadata": {},
   "outputs": [
    {
     "name": "stdout",
     "output_type": "stream",
     "text": [
      "10\n",
      "8\n",
      "1.25\n",
      "2\n",
      "1\n"
     ]
    }
   ],
   "source": [
    "a = 2 * 5\n",
    "b = 2**3\n",
    "c = a / b\n",
    "d = a % b\n",
    "e = a//b\n",
    "print(a)\n",
    "print(b)\n",
    "print(c)\n",
    "print(d)\n",
    "print(e)"
   ]
  },
  {
   "cell_type": "markdown",
   "metadata": {},
   "source": [
    "#### Comparativos"
   ]
  },
  {
   "cell_type": "code",
   "execution_count": null,
   "metadata": {},
   "outputs": [],
   "source": [
    "b = 4\n",
    "print (a == b)\n",
    "print (a != b)\n",
    "print (a > b)"
   ]
  },
  {
   "cell_type": "markdown",
   "metadata": {},
   "source": [
    "#### Lógicos"
   ]
  },
  {
   "cell_type": "code",
   "execution_count": 6,
   "metadata": {},
   "outputs": [
    {
     "data": {
      "text/plain": [
       "False"
      ]
     },
     "execution_count": 6,
     "metadata": {},
     "output_type": "execute_result"
    }
   ],
   "source": [
    "a = 3\n",
    "a > 2 and a < 0"
   ]
  },
  {
   "cell_type": "code",
   "execution_count": 7,
   "metadata": {
    "scrolled": true
   },
   "outputs": [
    {
     "data": {
      "text/plain": [
       "True"
      ]
     },
     "execution_count": 7,
     "metadata": {},
     "output_type": "execute_result"
    }
   ],
   "source": [
    "a > 2 or a < 0 "
   ]
  },
  {
   "cell_type": "code",
   "execution_count": 8,
   "metadata": {},
   "outputs": [
    {
     "data": {
      "text/plain": [
       "False"
      ]
     },
     "execution_count": 8,
     "metadata": {},
     "output_type": "execute_result"
    }
   ],
   "source": [
    "not a > 2"
   ]
  },
  {
   "cell_type": "markdown",
   "metadata": {},
   "source": [
    "#### Asignación"
   ]
  },
  {
   "cell_type": "code",
   "execution_count": 9,
   "metadata": {},
   "outputs": [
    {
     "data": {
      "text/plain": [
       "11"
      ]
     },
     "execution_count": 9,
     "metadata": {},
     "output_type": "execute_result"
    }
   ],
   "source": [
    "a += 8\n",
    "a"
   ]
  },
  {
   "cell_type": "code",
   "execution_count": 23,
   "metadata": {},
   "outputs": [
    {
     "data": {
      "text/plain": [
       "5"
      ]
     },
     "execution_count": 23,
     "metadata": {},
     "output_type": "execute_result"
    }
   ],
   "source": [
    "5%10"
   ]
  },
  {
   "cell_type": "code",
   "execution_count": 10,
   "metadata": {},
   "outputs": [
    {
     "data": {
      "text/plain": [
       "1"
      ]
     },
     "execution_count": 10,
     "metadata": {},
     "output_type": "execute_result"
    }
   ],
   "source": [
    "a %= 5\n",
    "a"
   ]
  }
 ],
 "metadata": {
  "kernelspec": {
   "display_name": "Python 3",
   "language": "python",
   "name": "python3"
  },
  "language_info": {
   "codemirror_mode": {
    "name": "ipython",
    "version": 3
   },
   "file_extension": ".py",
   "mimetype": "text/x-python",
   "name": "python",
   "nbconvert_exporter": "python",
   "pygments_lexer": "ipython3",
   "version": "3.7.3"
  }
 },
 "nbformat": 4,
 "nbformat_minor": 1
}
