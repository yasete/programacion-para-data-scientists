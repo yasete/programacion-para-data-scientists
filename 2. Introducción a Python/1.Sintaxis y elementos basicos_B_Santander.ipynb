{
 "cells": [
  {
   "cell_type": "markdown",
   "metadata": {},
   "source": [
    "# Introducción a Python: 1.- Sintáxis y elementos básicos"
   ]
  },
  {
   "cell_type": "markdown",
   "metadata": {},
   "source": [
    "En este apartado del curso, se van a repasar conceptos básicos sobre la sintáxis de Python. Para ello, vamos a empezar con un ejemplo de código Python. **¿Qué imprimirá si lo ejecutamos?** "
   ]
  },
  {
   "cell_type": "code",
   "execution_count": null,
   "metadata": {},
   "outputs": [],
   "source": [
    "entero = 34 - 23 # Un comentario\n",
    "cadena = \"Hola\" # Otro comentario\n",
    "decimal = 3.45\n",
    "if decimal == 3.45 or cadena == \"Hola\":\n",
    "    entero = entero + 1\n",
    "    cadena = cadena + \" Mundo\" # Concatenación de cadenas de caracteres\n",
    "print(entero)\n",
    "print(cadena)"
   ]
  },
  {
   "cell_type": "markdown",
   "metadata": {},
   "source": [
    "Para comprender bien el script, vamos a cubrir los elementos más básicos de la sintáxis de Python."
   ]
  },
  {
   "cell_type": "markdown",
   "metadata": {},
   "source": [
    "### Comentarios"
   ]
  },
  {
   "cell_type": "markdown",
   "metadata": {},
   "source": [
    "- Para introducir un **comentario** en el código de Python se debe preceder el mismo del carácter **\"#\"**.\n",
    "\n",
    "- Se pueden comentar líneas completas (carácter \"#\" al principio de la línea) o líneas parciales (caracter \"#\" detrás de un fragmento de código).</li>\n",
    "\n",
    "- Una vez introducido el carácter \"#\" el comentario llegará hasta el final de la línea."
   ]
  },
  {
   "cell_type": "code",
   "execution_count": null,
   "metadata": {},
   "outputs": [],
   "source": [
    "# Esto es un comentario que no se evaluará\n",
    "x = 15  # Esto es otro comentario que tampoco se evaluará"
   ]
  },
  {
   "cell_type": "markdown",
   "metadata": {},
   "source": [
    "**También se puede introducir un **comentario de varias líneas** poniendo **tres comillas, \"\"\"**, al principio y al final del comentario."
   ]
  },
  {
   "cell_type": "code",
   "execution_count": null,
   "metadata": {},
   "outputs": [],
   "source": [
    "\n",
    "\"\"\"\n",
    "Python is a powerful high-level, object-oriented programming language created by Guido van Rossum. It has simple \n",
    "easy-to-use syntax, making it the perfect language for someone trying to learn computer programming for\n",
    "the first time. This is a comprehensive guide on how to get started in Python, why you should learn it and how\n",
    "you can learn it.\n",
    "\"\"\""
   ]
  },
  {
   "cell_type": "markdown",
   "metadata": {},
   "source": [
    "### Espacios en blanco"
   ]
  },
  {
   "cell_type": "markdown",
   "metadata": {},
   "source": [
    "- Los **espacios en blanco** y los **saltos de línea** tienen significado en Python.\n",
    "\n",
    "    - Un **salto de línea** marca el **final de una sentencia**. No se usa \";\" al final de las líneas (como en Java o C).\n",
    "\n",
    "    - Se usa **\"\\\"** para indicar que **una sentencia** ocupará **varias líneas** (aunque no es buena costumbre).\n",
    "\n",
    "\n",
    "- No se usan marcas visibles para la **delimitación de bloques** (como \"{}\" en Java o C) sino el **nivel de indentación**.\n",
    "\n",
    "    - La primera línea con un nivel mayor de indentación especifica el comienzo de un bloque.\n",
    "\n",
    "    - La primera línea con un nivel menor de indentación especifica el fin de un bloque."
   ]
  },
  {
   "cell_type": "code",
   "execution_count": 22,
   "metadata": {},
   "outputs": [
    {
     "name": "stdout",
     "output_type": "stream",
     "text": [
      "Ya no lo soy\n"
     ]
    }
   ],
   "source": [
    "variable_1 = 10                          # Un salto de linea especifica el final de sentencia\n",
    "variable_2 = \"Soy una asignación\" + \\\n",
    "             \" muy larga\"                # Un \\ indica que la sentencia continúa en la siguiente linea (mala práctica)\n",
    "if variable_1 == 10:\n",
    "    variable_1 = 15                      # Una mayor indentación indica el inicio de un bloque                     \n",
    "    variable_2 = \"Ya no lo soy\"\n",
    "print (variable_2)                       # Una menor indentación indica el fin de un bloque"
   ]
  },
  {
   "cell_type": "markdown",
   "metadata": {},
   "source": [
    "### Variables"
   ]
  },
  {
   "cell_type": "markdown",
   "metadata": {},
   "source": [
    "\n",
    "- Pueden verse como un **nombre dado** a una referencia **a un objeto/valor**.\n",
    "\n",
    "- Su nombre puede contener:\n",
    "\n",
    "    - Carácteres **alfanuméricos**: a-z, A-Z, 0-9\n",
    "    - **Guión bajo**: _\n",
    "\n",
    "- No se pueden usar ciertas **palabras reservadas**:\n",
    "\n",
    "    - and, as, assert, break, class, continue, def, del, elif, else, except, \n",
    "  exec, finally, for, from, global, if, import, in, is, lambda, not, or,\n",
    "  pass, print, raise, return, try, while, with, yield\n",
    "\n",
    "\n",
    "- Aunque no hay normas, las **\"buenas prácticas\"** dicen que los nombres de variables deben:\n",
    "\n",
    "    - **Empezar con minúscula**: el **inicio con mayúsculas se reserva para** la declaración de **clases** (programación orientada a objetos).\n",
    "    \n",
    "    - **Autoexplicativos**: nombres como cod_contrato, cod_persona, saldo, ingresos_acumulados frente a x, y z.\n"
   ]
  },
  {
   "cell_type": "code",
   "execution_count": null,
   "metadata": {},
   "outputs": [],
   "source": [
    "cod_contrato = \"12345678890000000000\"   # Asignación correcta\n",
    "Persona = \"99999999-Q\"                  # Asignación válida aunque en contra de buenas prácticas\n",
    "x = 3.45                                # Asignación válida aunque en contra de buenas prácticas"
   ]
  },
  {
   "cell_type": "markdown",
   "metadata": {},
   "source": [
    "### Asignaciones"
   ]
  },
  {
   "cell_type": "markdown",
   "metadata": {},
   "source": [
    "- Una asignación es el **establecimiento de un nombre** a una referencia a un objeto/valor\n",
    "\n",
    "- La asignación se realiza mediante el operador **\"=\"**\n",
    "\n",
    "- Las **variables se crean en la primera asignación de valor**. No es necesario declararlas de forma previa como ocurre en lenguajes como Java, C, etc.\n",
    "\n",
    "- **Python infiere el tipo de las variables** a partir del valor de la **primera asignación**.\n",
    "\n",
    "- Se puede hacer **asignación múltiple en una misma sentencia**.\n",
    "\n",
    "- Si intentamos **utilizar una variable no creada** anteriormente obtendremos un **error**\n"
   ]
  },
  {
   "cell_type": "code",
   "execution_count": null,
   "metadata": {},
   "outputs": [],
   "source": [
    "cod_contrato = \"1234567890000000000\"             # Creación de una variable cod_contrato de tipo cadena de caracteres\n",
    "num_hijos = 5                                    # Creación de una variable num_hijos de tipo entero\n",
    "saldo = 12345.67                                 # Creación de una variable saldo de tipo decimal\n",
    "cod_contrato_2 = cod_contrato                    # Creación de una variable cod_contrato_2 con el mismo valor y tipo que cod_contrato\n",
    "cod_titular_1, cod_titular_2 = \"Pepe\", \"María\"   # Creación múltiple de variables en una única sentencia"
   ]
  },
  {
   "cell_type": "markdown",
   "metadata": {},
   "source": [
    "### Escritura a la salida estándar"
   ]
  },
  {
   "cell_type": "markdown",
   "metadata": {},
   "source": [
    "<ul>\n",
    "<li>Para imprimir cualquier valor o cualquier variable por pantalla se utiliza la función de Python <b>print</b>.</li>\n",
    "</ul>"
   ]
  },
  {
   "cell_type": "code",
   "execution_count": null,
   "metadata": {},
   "outputs": [],
   "source": [
    "print(\"Esto es una prueba\")\n",
    "cod_contrato = \"1234567890000000000\"\n",
    "print(cod_contrato)\n"
   ]
  },
  {
   "cell_type": "code",
   "execution_count": null,
   "metadata": {},
   "outputs": [],
   "source": [
    "print (cod_contrato)"
   ]
  },
  {
   "cell_type": "markdown",
   "metadata": {},
   "source": [
    "### Lectura de la entrada estándar"
   ]
  },
  {
   "cell_type": "markdown",
   "metadata": {},
   "source": [
    "<ul>\n",
    "<li>Para leer cualquier valor del teclado se utiliza la función de Python <b>input</b>.</li>\n",
    "</ul>"
   ]
  },
  {
   "cell_type": "code",
   "execution_count": null,
   "metadata": {},
   "outputs": [],
   "source": [
    "entrada = input(\"--> \")\n",
    "print(\"Has escrito: \" + entrada)"
   ]
  },
  {
   "cell_type": "markdown",
   "metadata": {},
   "source": [
    "### Tipos de dato"
   ]
  },
  {
   "cell_type": "markdown",
   "metadata": {},
   "source": [
    "- **Cuatro tipos** básicos:\n",
    "\n",
    "- Cadenas de caracteres o **str**: Se especifican entre comillas simples, dobles o triples\n",
    "- Valores numéricos enteros o **int**: No incluyen punto decimal\n",
    "- Valores numéricos decimales o **float**: Incluyen punto decimal\n",
    "- Valores booleanos o **bool**: True / False (case sensitive)\n",
    "\n",
    "Para conocer el tipo de una variable se puede usar la función de Python <b>**type**</b>.\n"
   ]
  },
  {
   "cell_type": "code",
   "execution_count": null,
   "metadata": {},
   "outputs": [],
   "source": [
    "cadena = \"Esto es una cadena\"\n",
    "cadena = 'Esto también es una cadena'\n",
    "cadena = \"\"\"Incluso esto es\n",
    "una cadena\"\"\"\n",
    "entero = 10\n",
    "decimal = 10.1\n",
    "booleano = True\n",
    "\n",
    "print (type(cadena))\n",
    "print (type(entero))\n",
    "print (type(decimal))\n",
    "print (type(booleano))"
   ]
  },
  {
   "cell_type": "markdown",
   "metadata": {},
   "source": [
    "### Casting o modificación manual de tipos"
   ]
  },
  {
   "cell_type": "markdown",
   "metadata": {},
   "source": [
    "\n",
    "- Se puede modificar explícitamente el tipo de dato de una variable.\n",
    "- Para ello se utilizan las funciones de Python: <b>str</b>, <b>int</b>, <b>float</b> y <b>bool</b>.\n",
    "- CUIDADO: **Hay castings que no tienen sentido**\n"
   ]
  },
  {
   "cell_type": "code",
   "execution_count": null,
   "metadata": {},
   "outputs": [],
   "source": [
    "print (str(entero))         # Conversión del valor 10 a la cadena \"10\"\n",
    "print (int(decimal))       # Conversión de float a int, con truncado de decimales\n",
    "print (float(booleano))     # Conversión de booleanos a valores numéricos 0 y 1\n",
    "print (float(cadena))    # Conversión no válida de una cadena a un número decimal"
   ]
  },
  {
   "cell_type": "markdown",
   "metadata": {},
   "source": [
    "### None - Valor nulo"
   ]
  },
  {
   "cell_type": "markdown",
   "metadata": {},
   "source": [
    "- Para crear una variable \"vacía\", es decir, sin valor se le asigna la palabra reservada <b>None</b>.\n",
    "- **Útil para eliminar referencias** y que el <i>garbage collector</i> libere memoria, pero no suele ser necesario\n"
   ]
  },
  {
   "cell_type": "code",
   "execution_count": null,
   "metadata": {},
   "outputs": [],
   "source": [
    "vacio = None\n",
    "print (vacio)\n",
    "print (type(vacio))"
   ]
  },
  {
   "cell_type": "markdown",
   "metadata": {},
   "source": [
    "### Operadores básicos"
   ]
  },
  {
   "cell_type": "markdown",
   "metadata": {},
   "source": [
    "\n",
    "Al igual que en otros lenguajes de programación tenemos un conjunto diverso de operadores para aplicar a variables y valores:\n",
    "\n",
    "- Aritméticos: **+, -, /, %, //**\n",
    "- Lógicos: **and, or, not**\n",
    "- Comparativos: **==, !=, <>, >, <, >=, <=**\n",
    "- Asignación: **=, +=, -=. \\*=, /=, \\*\\*=, %=, //=**"
   ]
  },
  {
   "cell_type": "markdown",
   "metadata": {},
   "source": [
    "#### Aritméticos"
   ]
  },
  {
   "cell_type": "code",
   "execution_count": 35,
   "metadata": {},
   "outputs": [
    {
     "name": "stdout",
     "output_type": "stream",
     "text": [
      "10\n",
      "8\n",
      "1.25\n",
      "2\n",
      "1\n"
     ]
    }
   ],
   "source": [
    "a = 2 * 5\n",
    "b = 2**3\n",
    "c = a / b\n",
    "d = a % b # Devulve el resto de una división\n",
    "e = a//b # Devuelve la parte entera de una división\n",
    "print(a)\n",
    "print(b)\n",
    "print(c)\n",
    "print(d)\n",
    "print(e)"
   ]
  },
  {
   "cell_type": "markdown",
   "metadata": {},
   "source": [
    "#### Comparativos"
   ]
  },
  {
   "cell_type": "code",
   "execution_count": null,
   "metadata": {},
   "outputs": [],
   "source": [
    "b = 4\n",
    "print (a == b)\n",
    "print (a != b)\n",
    "print (a > b)"
   ]
  },
  {
   "cell_type": "markdown",
   "metadata": {},
   "source": [
    "#### Lógicos"
   ]
  },
  {
   "cell_type": "code",
   "execution_count": null,
   "metadata": {},
   "outputs": [],
   "source": [
    "a = 3\n",
    "a > 2 and a < 0"
   ]
  },
  {
   "cell_type": "code",
   "execution_count": null,
   "metadata": {
    "scrolled": true
   },
   "outputs": [],
   "source": [
    "a > 2 or a < 0 "
   ]
  },
  {
   "cell_type": "code",
   "execution_count": null,
   "metadata": {},
   "outputs": [],
   "source": [
    "not a > 2"
   ]
  },
  {
   "cell_type": "markdown",
   "metadata": {},
   "source": [
    "#### Asignación"
   ]
  },
  {
   "cell_type": "code",
   "execution_count": null,
   "metadata": {},
   "outputs": [],
   "source": [
    "a += 8\n",
    "a"
   ]
  },
  {
   "cell_type": "code",
   "execution_count": null,
   "metadata": {},
   "outputs": [],
   "source": [
    "5%10"
   ]
  },
  {
   "cell_type": "code",
   "execution_count": null,
   "metadata": {},
   "outputs": [],
   "source": [
    "a %= 5\n",
    "a"
   ]
  }
 ],
 "metadata": {
  "kernelspec": {
   "display_name": "Python 3",
   "language": "python",
   "name": "python3"
  },
  "language_info": {
   "codemirror_mode": {
    "name": "ipython",
    "version": 3
   },
   "file_extension": ".py",
   "mimetype": "text/x-python",
   "name": "python",
   "nbconvert_exporter": "python",
   "pygments_lexer": "ipython3",
   "version": "3.7.3"
  }
 },
 "nbformat": 4,
 "nbformat_minor": 1
}
