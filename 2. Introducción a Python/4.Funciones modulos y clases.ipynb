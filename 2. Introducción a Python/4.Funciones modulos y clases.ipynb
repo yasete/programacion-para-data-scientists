{
 "cells": [
  {
   "cell_type": "markdown",
   "metadata": {},
   "source": [
    "# Introducción a Python: 4.- Funciones, módulos y clases"
   ]
  },
  {
   "cell_type": "markdown",
   "metadata": {},
   "source": [
    "Con todo lo visto en los anteriores notebooks deberíamos ser capaces de crear cualquier programa. En este apartado vamos a ver cómo se puede (y debe) estrucurar el código de los programas Python de forma que se asegure su reusabilidad y se minimice los posibles puntos de error de los mismos."
   ]
  },
  {
   "cell_type": "markdown",
   "metadata": {},
   "source": [
    "### Funciones"
   ]
  },
  {
   "cell_type": "markdown",
   "metadata": {},
   "source": [
    "<ul>\n",
    "<li>Puede entenderse como un nombre asignado a un bloque de código que permite su posterior invocación.</li>\n",
    "<li>Dispone de un conjunto de parámetros de entrada (opcionales) sobre los que trabajará el bloque de código interno.</li>\n",
    "<li>Ofrecen un resultado de salida (opcional) que podrá ser utilizado por el código que invocó a la función.</li>\n",
    "<li>Permiten encapsular código de forma que pueda ser reutilizado en varios puntos de un programa.</li>\n",
    "<li>Evitan la necesidad de copiar y pegar código.</li>\n",
    "<li>Facilita el mantenimiento y reduce los posibles puntos de error.</li>\n",
    "<li>Permiten \"generalizar\" código al trabajar sobre unos parámetros de entrada que pueden ser \"variables\".</li>\n",
    "</ul>"
   ]
  },
  {
   "cell_type": "code",
   "execution_count": null,
   "metadata": {},
   "outputs": [],
   "source": [
    "list_1 = [\"uno\", \"dos\", \"tres\", \"cuatro\", \"cinco\", \"treinta\"]\n",
    "list_C = []\n",
    "for element in list_1:\n",
    "    if element[0] == \"c\":\n",
    "        list_C.append(element.upper())\n",
    "print (list_C)        "
   ]
  },
  {
   "cell_type": "markdown",
   "metadata": {},
   "source": [
    "¿Qué pasa si quisiésemos usar una lista distina? ¿Qué pasa si queremos seleccionar sólo los elementos que empiezan por \"t\"? ¿Qué pasa si queremos devolver los elementos en minúscula? Tendríamos que replicar varias veces el mismo código. Aquí es donde las funciones muestran su potencial."
   ]
  },
  {
   "cell_type": "code",
   "execution_count": 1,
   "metadata": {},
   "outputs": [
    {
     "name": "stdout",
     "output_type": "stream",
     "text": [
      "['CUATRO', 'CINCO']\n",
      "['uno']\n",
      "['TRES', 'TREINTA']\n"
     ]
    }
   ],
   "source": [
    "def mi_funcion(lista, inicial, a_mayuscula):\n",
    "    list_out = []\n",
    "    for element in lista:\n",
    "        if element[0] == inicial:\n",
    "            if a_mayuscula:\n",
    "                list_out.append(element.upper())\n",
    "            else:\n",
    "                list_out.append(element.lower())\n",
    "    return list_out\n",
    "\n",
    "list_1 = [\"uno\", \"dos\", \"tres\", \"cuatro\", \"cinco\", \"treinta\"]\n",
    "print (mi_funcion(list_1, \"c\", True))\n",
    "print (mi_funcion(list_1, \"u\", False))\n",
    "print (mi_funcion(list_1, \"t\", True))"
   ]
  },
  {
   "cell_type": "markdown",
   "metadata": {},
   "source": [
    "#### Argumentos opcionales"
   ]
  },
  {
   "cell_type": "markdown",
   "metadata": {},
   "source": [
    "Podemos asignar **valores por defecto a los parámetros** de la función."
   ]
  },
  {
   "cell_type": "code",
   "execution_count": null,
   "metadata": {},
   "outputs": [],
   "source": [
    "def mi_funcion(lista, inicial, a_mayuscula=True):\n",
    "    list_out = []\n",
    "    for element in lista:\n",
    "        if element[0] == inicial:\n",
    "            if a_mayuscula:\n",
    "                list_out.append(element.upper())\n",
    "            else:\n",
    "                list_out.append(element.lower())\n",
    "    return list_out\n",
    "\n",
    "list_1 = [\"uno\", \"dos\", \"tres\", \"cuatro\", \"cinco\", \"treinta\"]\n",
    "print (mi_funcion(list_1, \"c\"))\n",
    "print (mi_funcion(list_1, \"u\", False))\n",
    "print (mi_funcion(list_1, \"t\", True))"
   ]
  },
  {
   "cell_type": "markdown",
   "metadata": {},
   "source": [
    "#### Especificar el nombre de los argumentos en la llamada"
   ]
  },
  {
   "cell_type": "markdown",
   "metadata": {},
   "source": [
    "Se puede **especificar el nombre de los argumentos de entrada en la llamada, eliminando la necesidad de mantener su orden** (funcionamiento por defecto si no se especifica nombre)."
   ]
  },
  {
   "cell_type": "code",
   "execution_count": null,
   "metadata": {},
   "outputs": [],
   "source": [
    "list_1 = [\"uno\", \"dos\", \"tres\", \"cuatro\", \"cinco\", \"treinta\"]\n",
    "print (mi_funcion(inicial=\"c\", lista=list_1))"
   ]
  },
  {
   "cell_type": "markdown",
   "metadata": {},
   "source": [
    "#### Retorno de múltiples elementos"
   ]
  },
  {
   "cell_type": "markdown",
   "metadata": {},
   "source": [
    "Aunque, en general, el retorno de las funciones será único (un único valor que se podrá asignar a una variable en el código que invoca), sería posible **devolver una secuencia** y recoger los resultados en diferentes variables (por las propiedades vistas en la presentación de secuencias)."
   ]
  },
  {
   "cell_type": "code",
   "execution_count": null,
   "metadata": {},
   "outputs": [],
   "source": [
    "def mi_funcion(lista, inicial, a_mayuscula=True):\n",
    "    list_out = []\n",
    "    for element in lista:\n",
    "        if element[0] == inicial:\n",
    "            if a_mayuscula:\n",
    "                list_out.append(element.upper())\n",
    "            else:\n",
    "                list_out.append(element.lower())\n",
    "    return (len(list_out), list_out)\n",
    "\n",
    "list_1 = [\"uno\", \"dos\", \"tres\", \"cuatro\", \"cinco\", \"treinta\"]\n",
    "num_elementos, elementos = mi_funcion(list_1, \"c\")\n",
    "\n",
    "for i in range(0, num_elementos):\n",
    "    print (elementos[i])"
   ]
  },
  {
   "cell_type": "markdown",
   "metadata": {},
   "source": [
    "### Módulos / Paquetes"
   ]
  },
  {
   "cell_type": "markdown",
   "metadata": {},
   "source": [
    "\n",
    "- Por defecto, en un **script de Python tienes acceso a todas las variables y funciones definidas en el propio fichero.\n",
    "\n",
    "- Es posible acceder a elementos definidos en otros ficheros mediante la **importación de módulos.**\n",
    "\n",
    "- Un **fichero .py es un módulo** en Python cuyo **nombre es el mismo que el del fichero (sin extensión).\n",
    "\n",
    "- La forma de incorporar elementos definidos en un módulo es mediante el uso de la sentencia **import**.\n",
    "\n",
    "- También podemos crear **nuestros propios scripts** .py con nuestro código e **importarlos en otros proyectos."
   ]
  },
  {
   "cell_type": "markdown",
   "metadata": {},
   "source": [
    "#### Importar el módulo completo"
   ]
  },
  {
   "cell_type": "markdown",
   "metadata": {},
   "source": [
    "Se importa todo el contenido del módulo y es necesario utilizar el alias de módulo delante de las funciones: **modulo.función()**"
   ]
  },
  {
   "cell_type": "code",
   "execution_count": 2,
   "metadata": {},
   "outputs": [
    {
     "name": "stdout",
     "output_type": "stream",
     "text": [
      "[[1 2]\n",
      " [3 4]]\n",
      "2.5\n"
     ]
    }
   ],
   "source": [
    "import numpy\n",
    "array = numpy.array([[1, 2], [3, 4]])\n",
    "mean = numpy.mean(array)\n",
    "print (array)\n",
    "print (mean)"
   ]
  },
  {
   "cell_type": "markdown",
   "metadata": {},
   "source": [
    "#### Importar todo el contenido del módulo"
   ]
  },
  {
   "cell_type": "markdown",
   "metadata": {},
   "source": [
    "**Se importa todo el contenido** del módulo y se incorporan sus funciones al entorno de trabajo actual, por lo que **no es necesario especificar un alias**. CUIDADO: esto sobreescribiría cualquier función de mismo nombre del entorno de trabajo: **función()**"
   ]
  },
  {
   "cell_type": "code",
   "execution_count": null,
   "metadata": {},
   "outputs": [],
   "source": [
    "from numpy import *\n",
    "array = array([[1, 2], [3, 4]])\n",
    "media = mean(array)\n",
    "print (array)\n",
    "print (media)"
   ]
  },
  {
   "cell_type": "markdown",
   "metadata": {},
   "source": [
    "#### Importar un elemento específico el módulo"
   ]
  },
  {
   "cell_type": "markdown",
   "metadata": {},
   "source": [
    "Se importa únicamente el elemento seleccionado, aunque también hay peligro de sobreescritura."
   ]
  },
  {
   "cell_type": "code",
   "execution_count": null,
   "metadata": {},
   "outputs": [],
   "source": [
    "from numpy import array\n",
    "array = array([[1, 2], [3, 4]])\n",
    "media2 = mean(array)\n",
    "print (array)\n",
    "print(media2)"
   ]
  },
  {
   "cell_type": "markdown",
   "metadata": {},
   "source": [
    "#### Importar con alias"
   ]
  },
  {
   "cell_type": "markdown",
   "metadata": {},
   "source": [
    "Se puede especifcar un alias a los elementos importados de forma que asegures que no hay sobreescritura."
   ]
  },
  {
   "cell_type": "code",
   "execution_count": null,
   "metadata": {},
   "outputs": [],
   "source": [
    "from numpy import array as array_de_numpy\n",
    "array = array_de_numpy([[1, 2], [3, 4]])\n",
    "print (array)"
   ]
  },
  {
   "cell_type": "markdown",
   "metadata": {},
   "source": [
    "### Instalación de módulos"
   ]
  },
  {
   "cell_type": "markdown",
   "metadata": {},
   "source": [
    "Al contrario que en R, en Python no se dispone de una función para instalar módulos directamente desde el intérprete y se debe hacer desde la consola. La herramienta básica para la gestión de paquetes es *pip*."
   ]
  },
  {
   "cell_type": "markdown",
   "metadata": {},
   "source": [
    "#### Herramienta: pip install package"
   ]
  },
  {
   "cell_type": "markdown",
   "metadata": {},
   "source": [
    "pip instala paquetes disponibles en el repositorio PyPI (índice de paquetes de Python). Los comandos más comunes son:<br/>\n",
    "<ul>\n",
    "<li>list: Listado de paquetes actualmente instalados en el entorno.</li>\n",
    "<li>search &lt;search_string&gt;: Búsqueda de paquetes en el repositorio.</li>\n",
    "<li>install &lt;package&gt;: Instalación de paquetes no disponibles.</li>\n",
    "<li>update &lt;package&gt;: Actualización del paquete a la última versión disponible.</li>\n",
    "</ul>"
   ]
  },
  {
   "cell_type": "markdown",
   "metadata": {},
   "source": [
    "### Importación de funciones personales\n",
    "\n",
    "- **Crear un fichero .py** con nuestro código.\n",
    "\n",
    "- Usar **import** para importarlo a un notebook\n",
    "\n",
    "- Si tanto el fichero .py como el notebook en el que estamos trabajando están **en el mismo directorio:\n",
    "\n",
    "    - from mymodulo import * \n",
    "    - **Usa tus funciones**\n",
    "\n",
    "- Si el fichero .py está en **otro directorio:\n",
    "\n",
    "    - **import sys**\n",
    "\n",
    "    - **sys.path.append**(\"C:\\\\Users\\\\juanh\\\\Dropbox\\\\EMPRESA\\\\SW repository\\\\B Santander training\")\n",
    "\n",
    "    - from mymodulo import * \n",
    "    \n",
    "    - Ya se pueden usar tus funciones."
   ]
  },
  {
   "cell_type": "markdown",
   "metadata": {},
   "source": [
    "### Clases\n",
    "\n",
    " - Son **objetos que pueden tener atributos (dan un valor) y métodos(ejecutan una acción)**.\n",
    " \n",
    " - Por ejemplo los **modelos de Machine Learning son objetos:\n",
    "     "
   ]
  },
  {
   "cell_type": "code",
   "execution_count": 44,
   "metadata": {},
   "outputs": [
    {
     "name": "stdout",
     "output_type": "stream",
     "text": [
      "           a         b    y\n",
      "0   0.605106  0.738671  1.0\n",
      "1   0.532124  0.135221  1.0\n",
      "2   0.601984  0.616437  1.0\n",
      "3   0.100220  0.023849  0.0\n",
      "4   0.457333  0.772489  1.0\n",
      "5   0.274439  0.594477  1.0\n",
      "6   0.829863  0.482541  2.0\n",
      "7   0.476718  0.678338  1.0\n",
      "8   0.403172  0.938901  1.0\n",
      "9   0.693237  0.960264  2.0\n",
      "10  0.498291  0.176279  1.0\n",
      "11  0.744774  0.500422  1.0\n",
      "12  0.187504  0.547259  0.0\n",
      "13  0.310707  0.194516  0.0\n",
      "14  0.365628  0.225283  0.0\n",
      "15  0.372459  0.416079  1.0\n",
      "16  0.345445  0.568102  1.0\n",
      "17  0.239441  0.245814  0.0\n",
      "18  0.873548  0.221385  1.0\n",
      "19  0.401739  0.275322  1.0\n",
      "\n",
      "           a         b  y\n",
      "0   0.442165  0.378990  0\n",
      "1   0.354626  0.574253  0\n",
      "2   0.979495  0.977941  0\n",
      "3   0.650762  0.879000  0\n",
      "4   0.238220  0.985359  0\n",
      "5   0.127255  0.341038  0\n",
      "6   0.361155  0.668097  0\n",
      "7   0.338499  0.871412  0\n",
      "8   0.525856  0.327444  0\n",
      "9   0.849723  0.735314  0\n",
      "10  0.123138  0.122776  0\n",
      "11  0.556853  0.068277  0\n",
      "12  0.602356  0.410962  0\n",
      "13  0.309528  0.339171  0\n",
      "14  0.702456  0.081257  0\n",
      "15  0.993817  0.134134  0\n",
      "16  0.730234  0.579207  0\n",
      "17  0.145620  0.955281  0\n",
      "18  0.722804  0.659992  0\n",
      "19  0.969228  0.113345  0\n",
      "\n",
      "           a         b    y\n",
      "0   0.442165  0.378990  1.0\n",
      "1   0.354626  0.574253  1.0\n",
      "2   0.979495  0.977941  2.0\n",
      "3   0.650762  0.879000  2.0\n",
      "4   0.238220  0.985359  1.0\n",
      "5   0.127255  0.341038  0.0\n",
      "6   0.361155  0.668097  1.0\n",
      "7   0.338499  0.871412  1.0\n",
      "8   0.525856  0.327444  1.0\n",
      "9   0.849723  0.735314  2.0\n",
      "10  0.123138  0.122776  0.0\n",
      "11  0.556853  0.068277  1.0\n",
      "12  0.602356  0.410962  1.0\n",
      "13  0.309528  0.339171  0.0\n",
      "14  0.702456  0.081257  1.0\n",
      "15  0.993817  0.134134  2.0\n",
      "16  0.730234  0.579207  2.0\n",
      "17  0.145620  0.955281  1.0\n",
      "18  0.722804  0.659992  2.0\n",
      "19  0.969228  0.113345  2.0\n",
      "\n",
      "Ahora printamos los coeficientes del modelo entrenado\n",
      "[[-9.327033   -4.59547638]\n",
      " [-0.19309669  0.07653814]\n",
      " [ 8.06442025  3.83261066]]\n"
     ]
    },
    {
     "name": "stderr",
     "output_type": "stream",
     "text": [
      "C:\\Users\\juanh\\Anaconda3\\lib\\site-packages\\sklearn\\linear_model\\logistic.py:432: FutureWarning: Default solver will be changed to 'lbfgs' in 0.22. Specify a solver to silence this warning.\n",
      "  FutureWarning)\n",
      "C:\\Users\\juanh\\Anaconda3\\lib\\site-packages\\sklearn\\linear_model\\logistic.py:469: FutureWarning: Default multi_class will be changed to 'auto' in 0.22. Specify the multi_class option to silence this warning.\n",
      "  \"this warning.\", FutureWarning)\n"
     ]
    }
   ],
   "source": [
    "from sklearn.linear_model import LogisticRegression as log #Importamos una clase logistic regression\n",
    "import pandas as pd\n",
    "import random as rand\n",
    "\n",
    "mymodel=log() #Creamos una instancia del objeto modelo random forest\n",
    "\n",
    "#Ahora creamos un dataframe pandas con dos columnas de números aleatorios entre 0 y 1.\n",
    "a=[]\n",
    "b=[]\n",
    "for cont in range(0,1000):\n",
    "    a.append(rand.random())\n",
    "    b.append(rand.random())\n",
    "\n",
    "df=pd.DataFrame(a,columns=['a'])\n",
    "df['b']=b\n",
    "\n",
    "#Definimos las variables de entrada que va a tener el modelo\n",
    "feats=['a','b']\n",
    "x=df[feats] #x es el input al modelo (tiene dos variables: a y b)\n",
    "\n",
    "\n",
    "y=np.trunc(2*df['a']+df['b'])#generamos una salida. Es una función sencilla y=2*a+b pero que es truncada para tener salidas discretas.\n",
    "\n",
    "df['y']=y #Incluimos la salida de la función dentro del dataframe\n",
    "\n",
    "print(df.head(20)) #PRintamos parte del dataframe con el que vamos a entrenar el modelo.Tiene entrada (dos primeras columnas) y salida (la tercera)\n",
    "\n",
    "mymodel.fit(x,y) #Entrenamos el modelo enseñándole la entrada (a,b) y la salida y\n",
    "\n",
    "'''\n",
    "El modelo debe encontrar la correlación entre (a,b) e y.\n",
    "Ahora el objeto mymodel está entrenado.\n",
    "fit ES UN MÉTODO.\n",
    "\n",
    "'''\n",
    "\n",
    "# Ahora modificamos la entrada (a,b) de forma aleatoria.También ponemos a cero la salida\n",
    "a=[]\n",
    "b=[]\n",
    "for cont in range(0,1000):\n",
    "    a.append(rand.random())\n",
    "    b.append(rand.random())\n",
    "\n",
    "df['a']=a\n",
    "df['b']=b\n",
    "df['y']=0\n",
    "print()\n",
    "print(df.head(20))# Printamos parte del dataframe actualizado\n",
    "x=df[feats] #Capturamos el input nuevo para que el modelo haga la predicción.\n",
    "\n",
    "predictions=mymodel.predict(x) #Almacenamos en la variable predictions la predicción para el nuevo input\n",
    "\n",
    "# .PREDICT ES OTRO MÉTODO.\n",
    "\n",
    "df['y']=predictions #Introducimos en el dataframe la predicción y mostramos en nuevo input con su predicción\n",
    "print()\n",
    "print(df.head(20))\n",
    "\n",
    "# AHORA PRINTAMOS UNO DE LOS ATIBUTOS DEL MODELO\n",
    "print()\n",
    "print('Ahora printamos los coeficientes del modelo entrenado')\n",
    "print(mymodel.coef_)\n"
   ]
  },
  {
   "cell_type": "markdown",
   "metadata": {},
   "source": [
    "#### Creando una clase"
   ]
  },
  {
   "cell_type": "code",
   "execution_count": 25,
   "metadata": {},
   "outputs": [],
   "source": [
    "class MyClass(object):\n",
    "    def __init__(self,nombre,apellidos): #El parámetro self es obligatorio. Además se necesita al menos otro parámetro más (nombre en este caso).\n",
    "        '''\n",
    "        Definimos los atributos\n",
    "        '''\n",
    "        self.name=nombre #Definimos el atributo 'name'\n",
    "        self.family=apellidos #Definimos el atributo 'family'\n",
    "    def say_name_completo(self):\n",
    "        print('my name is',self.name+' '+self.family)\n",
    "        \n",
    "    def say_name(self):\n",
    "        print('my name is',self.name)\n",
    "        \n",
    "    def say_family(self):\n",
    "        print('my family is',self.family)"
   ]
  },
  {
   "cell_type": "code",
   "execution_count": 21,
   "metadata": {},
   "outputs": [],
   "source": [
    "yo=MyClass('fede','lopez')"
   ]
  },
  {
   "cell_type": "code",
   "execution_count": 22,
   "metadata": {},
   "outputs": [
    {
     "name": "stdout",
     "output_type": "stream",
     "text": [
      "my name is fede lopez\n"
     ]
    }
   ],
   "source": [
    "yo.say_name_completo() #El método llama a la función say_name_completo"
   ]
  },
  {
   "cell_type": "code",
   "execution_count": 23,
   "metadata": {},
   "outputs": [
    {
     "data": {
      "text/plain": [
       "'fede'"
      ]
     },
     "execution_count": 23,
     "metadata": {},
     "output_type": "execute_result"
    }
   ],
   "source": [
    "yo.name #Atributo"
   ]
  },
  {
   "cell_type": "code",
   "execution_count": 24,
   "metadata": {},
   "outputs": [
    {
     "name": "stdout",
     "output_type": "stream",
     "text": [
      "my family is lopez\n"
     ]
    }
   ],
   "source": [
    "yo.say_family()"
   ]
  }
 ],
 "metadata": {
  "kernelspec": {
   "display_name": "Python 3",
   "language": "python",
   "name": "python3"
  },
  "language_info": {
   "codemirror_mode": {
    "name": "ipython",
    "version": 3
   },
   "file_extension": ".py",
   "mimetype": "text/x-python",
   "name": "python",
   "nbconvert_exporter": "python",
   "pygments_lexer": "ipython3",
   "version": "3.7.3"
  }
 },
 "nbformat": 4,
 "nbformat_minor": 1
}
