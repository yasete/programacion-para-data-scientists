{
 "cells": [
  {
   "cell_type": "markdown",
   "metadata": {
    "colab_type": "text",
    "id": "dusjvPoyt56Q"
   },
   "source": [
    "# Práctica Series temporales\n",
    "\n",
    "Se usarán **dos series de bolsa: IAG y Banco de Santander**\n",
    "\n",
    "1.- **Elegir entre los ficheros** 'iag_2021.csv' y 'santander_2021.csv' y **cargar** uno de ellos\n",
    "\n",
    "2.- **Detectar la columna que lleva la fecha y cargar el fichero de nuevo indicando la columna que contiene la información temporal**.\n",
    "\n",
    "3.- **Definir el time series y comprobar si la serie es estacionaria o cómo de lejos está de serlo.**\n",
    "\n",
    "4.- **Modelizar la tendencia de la serie**\n",
    "\n",
    "5.- **Extraer las componentes tendencia, estacionalidad y residuo**.\n",
    "\n",
    "6.- **Modelizar la componente estacionaria (calcula su performance rmse).**\n",
    "\n",
    "7.- **Repetir el proceso con la otra serie y discutir resultados**"
   ]
  },
  {
   "cell_type": "markdown",
   "metadata": {},
   "source": [
    "# Guia:\n",
    "\n",
    "    - El sampling está hecho en el fichero a veces a dos segundos y otras veces a uno. Consideremos que el intervalo medio es de alrededor de 1.7 segundos.\n",
    "\n",
    "    - Una jornada de cotización empieza a las 9:00 y cierra a las 17:30, que son 8:30 horas, que con un sampling promedio de 1.7 segundos tendrá del orden de 8.5 horas * 60 minutos * 35 samples por minuto=**17850 valores por día**\n",
    "    \n",
    "    - La serie es muy larga y los módulos seasonal_decompose y ARIMA tardan mucho tiempo en procesar. Sugiero hacer un bucle detectando cada día (división de todo el dataset en porciones de 17850) y realizar la extracción de señales, modelización etc. por cada día."
   ]
  },
  {
   "cell_type": "code",
   "execution_count": null,
   "metadata": {},
   "outputs": [],
   "source": []
  }
 ],
 "metadata": {
  "colab": {
   "collapsed_sections": [],
   "default_view": {},
   "name": "Time_Series_Exploration.ipynb",
   "provenance": [],
   "version": "0.3.2",
   "views": {}
  },
  "kernelspec": {
   "display_name": "Python 3",
   "language": "python",
   "name": "python3"
  },
  "language_info": {
   "codemirror_mode": {
    "name": "ipython",
    "version": 3
   },
   "file_extension": ".py",
   "mimetype": "text/x-python",
   "name": "python",
   "nbconvert_exporter": "python",
   "pygments_lexer": "ipython3",
   "version": "3.7.3"
  }
 },
 "nbformat": 4,
 "nbformat_minor": 1
}
